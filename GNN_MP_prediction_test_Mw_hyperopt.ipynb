{
  "nbformat": 4,
  "nbformat_minor": 0,
  "metadata": {
    "colab": {
      "provenance": [],
      "machine_shape": "hm",
      "gpuType": "V100",
      "authorship_tag": "ABX9TyPy2wJERDN7yR2X7tPLDRk5",
      "include_colab_link": true
    },
    "kernelspec": {
      "name": "python3",
      "display_name": "Python 3"
    },
    "language_info": {
      "name": "python"
    },
    "accelerator": "GPU"
  },
  "cells": [
    {
      "cell_type": "markdown",
      "metadata": {
        "id": "view-in-github",
        "colab_type": "text"
      },
      "source": [
        "<a href=\"https://colab.research.google.com/github/dongddaoist/APPRET/blob/main/GNN_MP_prediction_test_Mw_hyperopt.ipynb\" target=\"_parent\"><img src=\"https://colab.research.google.com/assets/colab-badge.svg\" alt=\"Open In Colab\"/></a>"
      ]
    },
    {
      "cell_type": "code",
      "execution_count": null,
      "metadata": {
        "id": "srs6Bq846dDo"
      },
      "outputs": [],
      "source": [
        "\n",
        "!conda install -c conda-forge rdkit\n",
        "!pip install torch torch-geometric\n",
        "\n",
        "# Install rdkit (should only be installed via conda)\n",
        "\n",
        "!pip install --quiet rdkit-pypi > /dev/null\n",
        "!pip install optuna"
      ]
    },
    {
      "cell_type": "code",
      "source": [
        "import pandas as pd\n",
        "from google.colab import drive\n",
        "drive.mount('/content/drive/')\n",
        "ifile= '/content/drive/My Drive/machine-learning/Data/pubchem/mp_std_500.csv'\n",
        "# Load your CSV file\n",
        "df = pd.read_csv(ifile)\n"
      ],
      "metadata": {
        "id": "AUx9_8zL_b5h",
        "colab": {
          "base_uri": "https://localhost:8080/"
        },
        "outputId": "6dadbdb5-e008-4b45-81a3-6c828c856f67"
      },
      "execution_count": null,
      "outputs": [
        {
          "output_type": "stream",
          "name": "stdout",
          "text": [
            "Drive already mounted at /content/drive/; to attempt to forcibly remount, call drive.mount(\"/content/drive/\", force_remount=True).\n"
          ]
        }
      ]
    },
    {
      "cell_type": "code",
      "source": [
        "df"
      ],
      "metadata": {
        "colab": {
          "base_uri": "https://localhost:8080/",
          "height": 423
        },
        "id": "LUHdLaOK3YyA",
        "outputId": "ca21df70-7f96-45a7-af8c-fbbc55656101"
      },
      "execution_count": null,
      "outputs": [
        {
          "output_type": "execute_result",
          "data": {
            "text/plain": [
              "                                                 SMILES        MP\n",
              "0                                               CC(CN)O  274.5389\n",
              "1             C1=CC(=C(C=C1[N+](=O)[O-])[N+](=O)[O-])Cl  326.1500\n",
              "2                                              C(CCl)Cl  237.8722\n",
              "3                                 C1=CC(=C(C=C1Cl)Cl)Cl  290.3722\n",
              "4                                              C(C=O)Cl  257.0389\n",
              "...                                                 ...       ...\n",
              "7867  CC1CC=CC2C3C(O3)(C(C4C2(C(=O)NC4CC5=CC=CC=C5)O...  480.1500\n",
              "7868  CC=C1CC(C(C(=O)OCC2=CC[N+]3(C2C(CC3)OC1=O)[O-]...  411.1500\n",
              "7869      C(C1(C2C3C(N=C(NC34C(C1OC(C4O)(O2)O)O)N)O)O)O  498.1500\n",
              "7870  CCCCCCC(C1C(C2=C(CC(CC3=C1C(=O)OC3=O)C(C4CC=CC...  442.1500\n",
              "7871  CC(=O)N1CCN(CC1)C2=CC=C(C=C2)OCC3COC(O3)(CN4C=...  419.1500\n",
              "\n",
              "[7872 rows x 2 columns]"
            ],
            "text/html": [
              "\n",
              "  <div id=\"df-6f501cd0-ef64-480b-8b45-e0b09b6da300\" class=\"colab-df-container\">\n",
              "    <div>\n",
              "<style scoped>\n",
              "    .dataframe tbody tr th:only-of-type {\n",
              "        vertical-align: middle;\n",
              "    }\n",
              "\n",
              "    .dataframe tbody tr th {\n",
              "        vertical-align: top;\n",
              "    }\n",
              "\n",
              "    .dataframe thead th {\n",
              "        text-align: right;\n",
              "    }\n",
              "</style>\n",
              "<table border=\"1\" class=\"dataframe\">\n",
              "  <thead>\n",
              "    <tr style=\"text-align: right;\">\n",
              "      <th></th>\n",
              "      <th>SMILES</th>\n",
              "      <th>MP</th>\n",
              "    </tr>\n",
              "  </thead>\n",
              "  <tbody>\n",
              "    <tr>\n",
              "      <th>0</th>\n",
              "      <td>CC(CN)O</td>\n",
              "      <td>274.5389</td>\n",
              "    </tr>\n",
              "    <tr>\n",
              "      <th>1</th>\n",
              "      <td>C1=CC(=C(C=C1[N+](=O)[O-])[N+](=O)[O-])Cl</td>\n",
              "      <td>326.1500</td>\n",
              "    </tr>\n",
              "    <tr>\n",
              "      <th>2</th>\n",
              "      <td>C(CCl)Cl</td>\n",
              "      <td>237.8722</td>\n",
              "    </tr>\n",
              "    <tr>\n",
              "      <th>3</th>\n",
              "      <td>C1=CC(=C(C=C1Cl)Cl)Cl</td>\n",
              "      <td>290.3722</td>\n",
              "    </tr>\n",
              "    <tr>\n",
              "      <th>4</th>\n",
              "      <td>C(C=O)Cl</td>\n",
              "      <td>257.0389</td>\n",
              "    </tr>\n",
              "    <tr>\n",
              "      <th>...</th>\n",
              "      <td>...</td>\n",
              "      <td>...</td>\n",
              "    </tr>\n",
              "    <tr>\n",
              "      <th>7867</th>\n",
              "      <td>CC1CC=CC2C3C(O3)(C(C4C2(C(=O)NC4CC5=CC=CC=C5)O...</td>\n",
              "      <td>480.1500</td>\n",
              "    </tr>\n",
              "    <tr>\n",
              "      <th>7868</th>\n",
              "      <td>CC=C1CC(C(C(=O)OCC2=CC[N+]3(C2C(CC3)OC1=O)[O-]...</td>\n",
              "      <td>411.1500</td>\n",
              "    </tr>\n",
              "    <tr>\n",
              "      <th>7869</th>\n",
              "      <td>C(C1(C2C3C(N=C(NC34C(C1OC(C4O)(O2)O)O)N)O)O)O</td>\n",
              "      <td>498.1500</td>\n",
              "    </tr>\n",
              "    <tr>\n",
              "      <th>7870</th>\n",
              "      <td>CCCCCCC(C1C(C2=C(CC(CC3=C1C(=O)OC3=O)C(C4CC=CC...</td>\n",
              "      <td>442.1500</td>\n",
              "    </tr>\n",
              "    <tr>\n",
              "      <th>7871</th>\n",
              "      <td>CC(=O)N1CCN(CC1)C2=CC=C(C=C2)OCC3COC(O3)(CN4C=...</td>\n",
              "      <td>419.1500</td>\n",
              "    </tr>\n",
              "  </tbody>\n",
              "</table>\n",
              "<p>7872 rows × 2 columns</p>\n",
              "</div>\n",
              "    <div class=\"colab-df-buttons\">\n",
              "\n",
              "  <div class=\"colab-df-container\">\n",
              "    <button class=\"colab-df-convert\" onclick=\"convertToInteractive('df-6f501cd0-ef64-480b-8b45-e0b09b6da300')\"\n",
              "            title=\"Convert this dataframe to an interactive table.\"\n",
              "            style=\"display:none;\">\n",
              "\n",
              "  <svg xmlns=\"http://www.w3.org/2000/svg\" height=\"24px\" viewBox=\"0 -960 960 960\">\n",
              "    <path d=\"M120-120v-720h720v720H120Zm60-500h600v-160H180v160Zm220 220h160v-160H400v160Zm0 220h160v-160H400v160ZM180-400h160v-160H180v160Zm440 0h160v-160H620v160ZM180-180h160v-160H180v160Zm440 0h160v-160H620v160Z\"/>\n",
              "  </svg>\n",
              "    </button>\n",
              "\n",
              "  <style>\n",
              "    .colab-df-container {\n",
              "      display:flex;\n",
              "      gap: 12px;\n",
              "    }\n",
              "\n",
              "    .colab-df-convert {\n",
              "      background-color: #E8F0FE;\n",
              "      border: none;\n",
              "      border-radius: 50%;\n",
              "      cursor: pointer;\n",
              "      display: none;\n",
              "      fill: #1967D2;\n",
              "      height: 32px;\n",
              "      padding: 0 0 0 0;\n",
              "      width: 32px;\n",
              "    }\n",
              "\n",
              "    .colab-df-convert:hover {\n",
              "      background-color: #E2EBFA;\n",
              "      box-shadow: 0px 1px 2px rgba(60, 64, 67, 0.3), 0px 1px 3px 1px rgba(60, 64, 67, 0.15);\n",
              "      fill: #174EA6;\n",
              "    }\n",
              "\n",
              "    .colab-df-buttons div {\n",
              "      margin-bottom: 4px;\n",
              "    }\n",
              "\n",
              "    [theme=dark] .colab-df-convert {\n",
              "      background-color: #3B4455;\n",
              "      fill: #D2E3FC;\n",
              "    }\n",
              "\n",
              "    [theme=dark] .colab-df-convert:hover {\n",
              "      background-color: #434B5C;\n",
              "      box-shadow: 0px 1px 3px 1px rgba(0, 0, 0, 0.15);\n",
              "      filter: drop-shadow(0px 1px 2px rgba(0, 0, 0, 0.3));\n",
              "      fill: #FFFFFF;\n",
              "    }\n",
              "  </style>\n",
              "\n",
              "    <script>\n",
              "      const buttonEl =\n",
              "        document.querySelector('#df-6f501cd0-ef64-480b-8b45-e0b09b6da300 button.colab-df-convert');\n",
              "      buttonEl.style.display =\n",
              "        google.colab.kernel.accessAllowed ? 'block' : 'none';\n",
              "\n",
              "      async function convertToInteractive(key) {\n",
              "        const element = document.querySelector('#df-6f501cd0-ef64-480b-8b45-e0b09b6da300');\n",
              "        const dataTable =\n",
              "          await google.colab.kernel.invokeFunction('convertToInteractive',\n",
              "                                                    [key], {});\n",
              "        if (!dataTable) return;\n",
              "\n",
              "        const docLinkHtml = 'Like what you see? Visit the ' +\n",
              "          '<a target=\"_blank\" href=https://colab.research.google.com/notebooks/data_table.ipynb>data table notebook</a>'\n",
              "          + ' to learn more about interactive tables.';\n",
              "        element.innerHTML = '';\n",
              "        dataTable['output_type'] = 'display_data';\n",
              "        await google.colab.output.renderOutput(dataTable, element);\n",
              "        const docLink = document.createElement('div');\n",
              "        docLink.innerHTML = docLinkHtml;\n",
              "        element.appendChild(docLink);\n",
              "      }\n",
              "    </script>\n",
              "  </div>\n",
              "\n",
              "\n",
              "<div id=\"df-928e88a6-13d1-466a-93d5-927b3ba8efc3\">\n",
              "  <button class=\"colab-df-quickchart\" onclick=\"quickchart('df-928e88a6-13d1-466a-93d5-927b3ba8efc3')\"\n",
              "            title=\"Suggest charts\"\n",
              "            style=\"display:none;\">\n",
              "\n",
              "<svg xmlns=\"http://www.w3.org/2000/svg\" height=\"24px\"viewBox=\"0 0 24 24\"\n",
              "     width=\"24px\">\n",
              "    <g>\n",
              "        <path d=\"M19 3H5c-1.1 0-2 .9-2 2v14c0 1.1.9 2 2 2h14c1.1 0 2-.9 2-2V5c0-1.1-.9-2-2-2zM9 17H7v-7h2v7zm4 0h-2V7h2v10zm4 0h-2v-4h2v4z\"/>\n",
              "    </g>\n",
              "</svg>\n",
              "  </button>\n",
              "\n",
              "<style>\n",
              "  .colab-df-quickchart {\n",
              "      --bg-color: #E8F0FE;\n",
              "      --fill-color: #1967D2;\n",
              "      --hover-bg-color: #E2EBFA;\n",
              "      --hover-fill-color: #174EA6;\n",
              "      --disabled-fill-color: #AAA;\n",
              "      --disabled-bg-color: #DDD;\n",
              "  }\n",
              "\n",
              "  [theme=dark] .colab-df-quickchart {\n",
              "      --bg-color: #3B4455;\n",
              "      --fill-color: #D2E3FC;\n",
              "      --hover-bg-color: #434B5C;\n",
              "      --hover-fill-color: #FFFFFF;\n",
              "      --disabled-bg-color: #3B4455;\n",
              "      --disabled-fill-color: #666;\n",
              "  }\n",
              "\n",
              "  .colab-df-quickchart {\n",
              "    background-color: var(--bg-color);\n",
              "    border: none;\n",
              "    border-radius: 50%;\n",
              "    cursor: pointer;\n",
              "    display: none;\n",
              "    fill: var(--fill-color);\n",
              "    height: 32px;\n",
              "    padding: 0;\n",
              "    width: 32px;\n",
              "  }\n",
              "\n",
              "  .colab-df-quickchart:hover {\n",
              "    background-color: var(--hover-bg-color);\n",
              "    box-shadow: 0 1px 2px rgba(60, 64, 67, 0.3), 0 1px 3px 1px rgba(60, 64, 67, 0.15);\n",
              "    fill: var(--button-hover-fill-color);\n",
              "  }\n",
              "\n",
              "  .colab-df-quickchart-complete:disabled,\n",
              "  .colab-df-quickchart-complete:disabled:hover {\n",
              "    background-color: var(--disabled-bg-color);\n",
              "    fill: var(--disabled-fill-color);\n",
              "    box-shadow: none;\n",
              "  }\n",
              "\n",
              "  .colab-df-spinner {\n",
              "    border: 2px solid var(--fill-color);\n",
              "    border-color: transparent;\n",
              "    border-bottom-color: var(--fill-color);\n",
              "    animation:\n",
              "      spin 1s steps(1) infinite;\n",
              "  }\n",
              "\n",
              "  @keyframes spin {\n",
              "    0% {\n",
              "      border-color: transparent;\n",
              "      border-bottom-color: var(--fill-color);\n",
              "      border-left-color: var(--fill-color);\n",
              "    }\n",
              "    20% {\n",
              "      border-color: transparent;\n",
              "      border-left-color: var(--fill-color);\n",
              "      border-top-color: var(--fill-color);\n",
              "    }\n",
              "    30% {\n",
              "      border-color: transparent;\n",
              "      border-left-color: var(--fill-color);\n",
              "      border-top-color: var(--fill-color);\n",
              "      border-right-color: var(--fill-color);\n",
              "    }\n",
              "    40% {\n",
              "      border-color: transparent;\n",
              "      border-right-color: var(--fill-color);\n",
              "      border-top-color: var(--fill-color);\n",
              "    }\n",
              "    60% {\n",
              "      border-color: transparent;\n",
              "      border-right-color: var(--fill-color);\n",
              "    }\n",
              "    80% {\n",
              "      border-color: transparent;\n",
              "      border-right-color: var(--fill-color);\n",
              "      border-bottom-color: var(--fill-color);\n",
              "    }\n",
              "    90% {\n",
              "      border-color: transparent;\n",
              "      border-bottom-color: var(--fill-color);\n",
              "    }\n",
              "  }\n",
              "</style>\n",
              "\n",
              "  <script>\n",
              "    async function quickchart(key) {\n",
              "      const quickchartButtonEl =\n",
              "        document.querySelector('#' + key + ' button');\n",
              "      quickchartButtonEl.disabled = true;  // To prevent multiple clicks.\n",
              "      quickchartButtonEl.classList.add('colab-df-spinner');\n",
              "      try {\n",
              "        const charts = await google.colab.kernel.invokeFunction(\n",
              "            'suggestCharts', [key], {});\n",
              "      } catch (error) {\n",
              "        console.error('Error during call to suggestCharts:', error);\n",
              "      }\n",
              "      quickchartButtonEl.classList.remove('colab-df-spinner');\n",
              "      quickchartButtonEl.classList.add('colab-df-quickchart-complete');\n",
              "    }\n",
              "    (() => {\n",
              "      let quickchartButtonEl =\n",
              "        document.querySelector('#df-928e88a6-13d1-466a-93d5-927b3ba8efc3 button');\n",
              "      quickchartButtonEl.style.display =\n",
              "        google.colab.kernel.accessAllowed ? 'block' : 'none';\n",
              "    })();\n",
              "  </script>\n",
              "</div>\n",
              "\n",
              "  <div id=\"id_bc9a63f9-26ff-46db-833d-71e785de135e\">\n",
              "    <style>\n",
              "      .colab-df-generate {\n",
              "        background-color: #E8F0FE;\n",
              "        border: none;\n",
              "        border-radius: 50%;\n",
              "        cursor: pointer;\n",
              "        display: none;\n",
              "        fill: #1967D2;\n",
              "        height: 32px;\n",
              "        padding: 0 0 0 0;\n",
              "        width: 32px;\n",
              "      }\n",
              "\n",
              "      .colab-df-generate:hover {\n",
              "        background-color: #E2EBFA;\n",
              "        box-shadow: 0px 1px 2px rgba(60, 64, 67, 0.3), 0px 1px 3px 1px rgba(60, 64, 67, 0.15);\n",
              "        fill: #174EA6;\n",
              "      }\n",
              "\n",
              "      [theme=dark] .colab-df-generate {\n",
              "        background-color: #3B4455;\n",
              "        fill: #D2E3FC;\n",
              "      }\n",
              "\n",
              "      [theme=dark] .colab-df-generate:hover {\n",
              "        background-color: #434B5C;\n",
              "        box-shadow: 0px 1px 3px 1px rgba(0, 0, 0, 0.15);\n",
              "        filter: drop-shadow(0px 1px 2px rgba(0, 0, 0, 0.3));\n",
              "        fill: #FFFFFF;\n",
              "      }\n",
              "    </style>\n",
              "    <button class=\"colab-df-generate\" onclick=\"generateWithVariable('df')\"\n",
              "            title=\"Generate code using this dataframe.\"\n",
              "            style=\"display:none;\">\n",
              "\n",
              "  <svg xmlns=\"http://www.w3.org/2000/svg\" height=\"24px\"viewBox=\"0 0 24 24\"\n",
              "       width=\"24px\">\n",
              "    <path d=\"M7,19H8.4L18.45,9,17,7.55,7,17.6ZM5,21V16.75L18.45,3.32a2,2,0,0,1,2.83,0l1.4,1.43a1.91,1.91,0,0,1,.58,1.4,1.91,1.91,0,0,1-.58,1.4L9.25,21ZM18.45,9,17,7.55Zm-12,3A5.31,5.31,0,0,0,4.9,8.1,5.31,5.31,0,0,0,1,6.5,5.31,5.31,0,0,0,4.9,4.9,5.31,5.31,0,0,0,6.5,1,5.31,5.31,0,0,0,8.1,4.9,5.31,5.31,0,0,0,12,6.5,5.46,5.46,0,0,0,6.5,12Z\"/>\n",
              "  </svg>\n",
              "    </button>\n",
              "    <script>\n",
              "      (() => {\n",
              "      const buttonEl =\n",
              "        document.querySelector('#id_bc9a63f9-26ff-46db-833d-71e785de135e button.colab-df-generate');\n",
              "      buttonEl.style.display =\n",
              "        google.colab.kernel.accessAllowed ? 'block' : 'none';\n",
              "\n",
              "      buttonEl.onclick = () => {\n",
              "        google.colab.notebook.generateWithVariable('df');\n",
              "      }\n",
              "      })();\n",
              "    </script>\n",
              "  </div>\n",
              "\n",
              "    </div>\n",
              "  </div>\n"
            ],
            "application/vnd.google.colaboratory.intrinsic+json": {
              "type": "dataframe",
              "variable_name": "df",
              "summary": "{\n  \"name\": \"df\",\n  \"rows\": 7872,\n  \"fields\": [\n    {\n      \"column\": \"SMILES\",\n      \"properties\": {\n        \"dtype\": \"string\",\n        \"num_unique_values\": 7201,\n        \"samples\": [\n          \"CCNC1=CC(=CC=C1)O\",\n          \"COC1=CC=C(C=C1)C2=CN=C(O2)C3=CN=CC=C3\",\n          \"C1=CC2=C(C=C1[N+](=O)[O-])C(=O)NC2=O\"\n        ],\n        \"semantic_type\": \"\",\n        \"description\": \"\"\n      }\n    },\n    {\n      \"column\": \"MP\",\n      \"properties\": {\n        \"dtype\": \"number\",\n        \"std\": 88.09229766164928,\n        \"min\": 17.8722,\n        \"max\": 499.65,\n        \"num_unique_values\": 1850,\n        \"samples\": [\n          274.65,\n          132.0389,\n          198.15\n        ],\n        \"semantic_type\": \"\",\n        \"description\": \"\"\n      }\n    }\n  ]\n}"
            }
          },
          "metadata": {},
          "execution_count": 4
        }
      ]
    },
    {
      "cell_type": "code",
      "source": [
        "df['MP']"
      ],
      "metadata": {
        "colab": {
          "base_uri": "https://localhost:8080/"
        },
        "id": "8tWa-32eZeSa",
        "outputId": "3b57d0c0-09fa-40b5-fc7e-4bc5f9caf90b"
      },
      "execution_count": null,
      "outputs": [
        {
          "output_type": "execute_result",
          "data": {
            "text/plain": [
              "0       274.5389\n",
              "1       326.1500\n",
              "2       237.8722\n",
              "3       290.3722\n",
              "4       257.0389\n",
              "          ...   \n",
              "7867    480.1500\n",
              "7868    411.1500\n",
              "7869    498.1500\n",
              "7870    442.1500\n",
              "7871    419.1500\n",
              "Name: MP, Length: 7872, dtype: float64"
            ]
          },
          "metadata": {},
          "execution_count": 5
        }
      ]
    },
    {
      "cell_type": "code",
      "source": [
        "#!conda install -c conda-forge rdkit\n",
        "#!pip install torch torch-geometric\n",
        "\n",
        "# Install rdkit (should only be installed via conda)\n",
        "#conda install -y --quiet -c conda-forge rdki > /dev/null\n",
        "#!conda install conda-forge::rdkit > /dev/null\n",
        "#!pip install --quiet rdkit-pypi > /dev/null\n",
        "\n",
        "import torch\n",
        "import pandas as pd\n",
        "import numpy as np\n",
        "\n",
        "#from google.colab import drive\n",
        "from rdkit import Chem\n",
        "from rdkit.Chem import Descriptors\n",
        "\n",
        "from torch_geometric.data import Data\n",
        "from torch_geometric.data import InMemoryDataset, DataLoader, Batch\n",
        "from torch.utils.data import random_split\n",
        "from torch.nn import Linear\n",
        "import torch.nn.functional as F\n",
        "from torch_geometric.nn import GCNConv, global_mean_pool as gap, global_max_pool as gmp\n",
        "\n",
        "from torch.optim import Adam\n",
        "from torch.optim.lr_scheduler import StepLR\n",
        "\n",
        "import matplotlib.pyplot as plt\n",
        "\n",
        "import optuna  # Import Optuna\n",
        "# Check if GPU is available and set the device accordingly\n",
        "device = torch.device(\"cuda\" if torch.cuda.is_available() else \"cpu\")\n",
        "print(f'Using device: {device}')\n",
        "\n",
        "\n",
        "\n",
        "\n",
        "\n"
      ],
      "metadata": {
        "id": "fUHLBajQ-UVM",
        "colab": {
          "base_uri": "https://localhost:8080/"
        },
        "outputId": "2f0706ff-10c9-4505-f087-615c6aec5d40"
      },
      "execution_count": null,
      "outputs": [
        {
          "output_type": "stream",
          "name": "stdout",
          "text": [
            "Using device: cuda\n"
          ]
        }
      ]
    },
    {
      "cell_type": "code",
      "source": [
        "def get_atom_features(atom):\n",
        "    \"\"\" Return a list of atom features. \"\"\"\n",
        "    return [\n",
        "        atom.GetAtomicNum(),         # Atomic number\n",
        "        atom.GetDegree(),            # Degree, number of neighbors\n",
        "        atom.GetTotalDegree(),       # Total connections including Hydrogens\n",
        "        atom.GetImplicitValence(),   # Implicit valence\n",
        "        atom.GetFormalCharge(),      # Formal charge\n",
        "        atom.IsInRing(),             # 1 if the atom is in a ring, else 0\n",
        "        atom.GetHybridization().real # Hybridization state as an integer\n",
        "    ]\n",
        "\n",
        "def get_bond_features(bond):\n",
        "    \"\"\" Return a list of bond features. \"\"\"\n",
        "    return [\n",
        "        bond.GetBondTypeAsDouble(),  # Single=1, Double=2, Triple=3, Aromatic=1.5\n",
        "        bond.IsInRing(),             # 1 if the bond is in a ring, else 0\n",
        "        bond.GetIsConjugated()       # 1 if the bond is conjugated, else 0\n",
        "    ]\n",
        "\n",
        "\n",
        "def molecule_to_graph(smiles, label):\n",
        "    try:\n",
        "        mol = Chem.MolFromSmiles(smiles)\n",
        "        if mol is None:\n",
        "            print(\"Failed to parse SMILES:\", smiles)\n",
        "            return None  # Make sure to exit the function if mol is None\n",
        "        else:\n",
        "            print(\"SMILES parsed successfully:\", smiles)\n",
        "    except Exception as e:\n",
        "        print(\"Error processing SMILES:\", smiles, e)\n",
        "        return None  # Exit the function on exception\n",
        "\n",
        "    x = torch.tensor([get_atom_features(atom) for atom in mol.GetAtoms()], dtype=torch.float)\n",
        "    edge_index = []\n",
        "    edge_attr = []\n",
        "\n",
        "    for bond in mol.GetBonds():\n",
        "        start, end = bond.GetBeginAtomIdx(), bond.GetEndAtomIdx()\n",
        "        features = get_bond_features(bond)\n",
        "        edge_index.extend([[start, end], [end, start]])\n",
        "        edge_attr.extend([features, features])\n",
        "\n",
        "    edge_index = torch.tensor(edge_index, dtype=torch.long).t().contiguous()\n",
        "    edge_attr = torch.tensor(edge_attr, dtype=torch.float)\n",
        "    y = torch.tensor([label], dtype=torch.float)\n",
        "    molecular_weight = torch.tensor([Descriptors.MolWt(mol)], dtype=torch.float).view(1, -1)\n",
        "\n",
        "    data = Data(x=x, edge_index=edge_index, edge_attr=edge_attr, y=y)\n",
        "    data.molecular_weight = molecular_weight\n",
        "    print(\"Molecular weight assigned:\", data.molecular_weight)\n",
        "    return data\n",
        "\n",
        "def custom_collate(batch):\n",
        "    batch_with_mw = [item for item in batch if hasattr(item, 'molecular_weight') and item.molecular_weight is not None]\n",
        "    if not batch_with_mw:\n",
        "        print(\"No valid entries with molecular weight found in the batch.\")\n",
        "        return Batch()  # Return an empty batch object or handle appropriately\n",
        "\n",
        "    batch_data = Batch.from_data_list(batch_with_mw)\n",
        "    molecular_weights = torch.cat([item.molecular_weight for item in batch_with_mw], dim=0)\n",
        "    batch_data.molecular_weight = molecular_weights\n",
        "    return batch_data\n",
        "\n",
        "\n",
        "class CustomMoleculeDataset(InMemoryDataset):\n",
        "    def __init__(self, root, filename, transform=None, pre_transform=None):\n",
        "        self.filename = filename  # Store the filename\n",
        "        super(CustomMoleculeDataset, self).__init__(root, transform, pre_transform)\n",
        "        self.data, self.slices = torch.load(self.processed_paths[0])\n",
        "\n",
        "    @property\n",
        "    def raw_file_names(self):\n",
        "        # This should return the list of raw file names expected in the raw directory.\n",
        "        # Ensure these files actually exist in the raw directory.\n",
        "        return [self.filename]\n",
        "\n",
        "    @property\n",
        "    def processed_file_names(self):\n",
        "        # This should return the list of files that result from processing the raw data.\n",
        "        return ['data.pt']\n",
        "\n",
        "    def download(self):\n",
        "        # Implement download logic if your files are to be downloaded.\n",
        "        # Otherwise, ensure files are manually placed in the correct directory.\n",
        "        pass\n",
        "\n",
        "    def process(self):\n",
        "        print(\"Processing data...\")\n",
        "        df = pd.read_csv(self.raw_paths[0])\n",
        "        data_list = []\n",
        "        for index, row in df.iterrows():\n",
        "            graph = molecule_to_graph(row['SMILES'], row['MP'])\n",
        "            if graph is not None and hasattr(graph, 'molecular_weight'):\n",
        "                data_list.append(graph)\n",
        "            else:\n",
        "                print(f\"Skipping entry at index {index} due to missing molecular weight.\")\n",
        "        if not data_list:\n",
        "            raise ValueError(\"No valid data could be processed.\")\n",
        "        print(f\"Processed {len(data_list)} graphs with molecular weight.\")\n",
        "        data, slices = self.collate(data_list)\n",
        "        torch.save((data, slices), self.processed_paths[0])\n",
        "\n",
        "\n",
        "\n",
        "# Initialize dataset\n",
        "dataset_root = 'pubchem-mp'\n",
        "dataset = CustomMoleculeDataset(root=dataset_root, filename=ifile)\n",
        "# Setup DataLoader\n",
        "train_size = int(len(dataset) * 0.8)\n",
        "test_size = len(dataset) - train_size\n",
        "train_dataset, test_dataset = random_split(dataset, [train_size, test_size])\n",
        "\n",
        "# Assuming train_dataset and test_dataset are subsets created from random_split\n",
        "train_loader = DataLoader(train_dataset, batch_size=32, shuffle=True, collate_fn=custom_collate)\n",
        "test_loader = DataLoader(test_dataset, batch_size=32, shuffle=False, collate_fn=custom_collate)\n",
        "\n",
        "# Example to check if molecular_weight is being passed correctly:\n",
        "for batch in train_loader:\n",
        "    if hasattr(batch, 'molecular_weight'):\n",
        "        print(\"Molecular weight is present in the batch.\")\n",
        "        print(batch.molecular_weight.shape)\n",
        "    else:\n",
        "        print(\"Molecular weight is missing from the batch.\")\n",
        "    break  # Checking only the first batch for demonstration\n",
        "# Initialize the model and move it to the device (GPU or CPU)\n",
        "#model = GCN(dataset.num_node_features).to(device)\n"
      ],
      "metadata": {
        "id": "5xXuRPuhzAJ0"
      },
      "execution_count": null,
      "outputs": []
    },
    {
      "cell_type": "code",
      "source": [
        "\n",
        "# Initialize dataset\n",
        "dataset_root = 'pubchem-mp'\n",
        "dataset = CustomMoleculeDataset(root=dataset_root, filename=ifile)\n",
        "# Setup DataLoader\n",
        "train_size = int(len(dataset) * 0.8)\n",
        "test_size = len(dataset) - train_size\n",
        "train_dataset, test_dataset = random_split(dataset, [train_size, test_size])\n",
        "\n",
        "# Assuming train_dataset and test_dataset are subsets created from random_split\n",
        "train_loader = DataLoader(train_dataset, batch_size=32, shuffle=True, collate_fn=custom_collate)\n",
        "test_loader = DataLoader(test_dataset, batch_size=32, shuffle=False, collate_fn=custom_collate)\n",
        "\n",
        "# Example to check if molecular_weight is being passed correctly:\n",
        "for batch in train_loader:\n",
        "    if hasattr(batch, 'molecular_weight'):\n",
        "        print(\"Molecular weight is present in the batch.\")\n",
        "        print(batch.molecular_weight.shape)\n",
        "    else:\n",
        "        print(\"Molecular weight is missing from the batch.\")\n",
        "    break  # Checking only the first batch for demonstration\n",
        "# Initialize the model and move it to the device (GPU or CPU)\n",
        "#model = GCN(dataset.num_node_features).to(device)\n"
      ],
      "metadata": {
        "id": "7lWyzqhUcvhz",
        "colab": {
          "base_uri": "https://localhost:8080/"
        },
        "outputId": "f411e70b-2543-47d1-efe8-57240bdc1d0a"
      },
      "execution_count": null,
      "outputs": [
        {
          "output_type": "stream",
          "name": "stdout",
          "text": [
            "Molecular weight is present in the batch.\n",
            "torch.Size([32, 1])\n"
          ]
        }
      ]
    },
    {
      "cell_type": "code",
      "source": [
        "dataset[0].molecular_weight"
      ],
      "metadata": {
        "colab": {
          "base_uri": "https://localhost:8080/"
        },
        "id": "0q-VQD5Mm3dx",
        "outputId": "0a69dc9d-92b6-4b89-dff6-2dcf780e97d4"
      },
      "execution_count": null,
      "outputs": [
        {
          "output_type": "execute_result",
          "data": {
            "text/plain": [
              "tensor([[75.1110]])"
            ]
          },
          "metadata": {},
          "execution_count": 8
        }
      ]
    },
    {
      "cell_type": "code",
      "source": [
        "# Initialize dataset\n",
        "dataset_root = 'pubchem-mp'\n",
        "dataset = CustomMoleculeDataset(root=dataset_root, filename=ifile)\n",
        "# Setup DataLoader\n",
        "train_size = int(len(dataset) * 0.8)\n",
        "test_size = len(dataset) - train_size\n",
        "train_dataset, test_dataset = random_split(dataset, [train_size, test_size])\n",
        "\n",
        "# Assuming train_dataset and test_dataset are subsets created from random_split\n",
        "train_loader = DataLoader(train_dataset, batch_size=32, shuffle=True, collate_fn=custom_collate)\n",
        "test_loader = DataLoader(test_dataset, batch_size=32, shuffle=False, collate_fn=custom_collate)"
      ],
      "metadata": {
        "id": "PFRTZhokx5B6"
      },
      "execution_count": null,
      "outputs": []
    },
    {
      "cell_type": "code",
      "source": [
        "dataset.num_node_features"
      ],
      "metadata": {
        "colab": {
          "base_uri": "https://localhost:8080/"
        },
        "id": "AJKZX0rlgwX7",
        "outputId": "6c484e53-e035-4640-d9dc-6deb1cd4e1af"
      },
      "execution_count": null,
      "outputs": [
        {
          "output_type": "execute_result",
          "data": {
            "text/plain": [
              "7"
            ]
          },
          "metadata": {},
          "execution_count": 10
        }
      ]
    },
    {
      "cell_type": "code",
      "source": [
        "for batch in train_loader:\n",
        "    if hasattr(batch, 'molecular_weight'):\n",
        "        print(\"Molecular weight is present in the batch.\")\n",
        "        print(batch.molecular_weight.shape)\n",
        "    else:\n",
        "        print(\"Molecular weight is missing from the batch.\")\n",
        "    break  # Checking only the first batch for demonstration"
      ],
      "metadata": {
        "colab": {
          "base_uri": "https://localhost:8080/"
        },
        "id": "fnv0ZnTpxzmY",
        "outputId": "10c3311e-9934-432d-98b6-37ae559f3682"
      },
      "execution_count": null,
      "outputs": [
        {
          "output_type": "stream",
          "name": "stdout",
          "text": [
            "Molecular weight is present in the batch.\n",
            "torch.Size([32, 1])\n"
          ]
        }
      ]
    },
    {
      "cell_type": "code",
      "source": [
        "#building GNN\n",
        "class GCN(torch.nn.Module):\n",
        "    def __init__(self, num_features, hidden_channels, num_layers, dropout_rate):\n",
        "        super(GCN, self).__init__()\n",
        "        torch.manual_seed(123)\n",
        "\n",
        "        # Adjust layers sizes based on input parameters\n",
        "        sizes = [num_features] + [hidden_channels * 2 ** i for i in range(num_layers)]\n",
        "\n",
        "        self.layers = torch.nn.ModuleList()\n",
        "        self.bns = torch.nn.ModuleList()\n",
        "\n",
        "        # Creating the GCN layers based on the sizes list\n",
        "        for i in range(len(sizes) - 1):\n",
        "            self.layers.append(GCNConv(sizes[i], sizes[i+1]))\n",
        "            if i < len(sizes) - 2:  # No batch norm after last GCN layer before output\n",
        "                self.bns.append(torch.nn.BatchNorm1d(sizes[i+1]))\n",
        "\n",
        "        self.dropout = torch.nn.Dropout(dropout_rate)\n",
        "\n",
        "        # Assuming the last layer's output is adjusted as required\n",
        "        final_embedding_size = sizes[-1]  # This would be the size of the last GCN layer's output\n",
        "        self.out = Linear(final_embedding_size * 2 + 1, 1)  # Adjusting for concatenated pooling features\n",
        "\n",
        "    def forward(self, data):\n",
        "        x, edge_index, batch = data.x, data.edge_index, data.batch\n",
        "        molecular_weight = data.molecular_weight  # Assumes it's already included and correctly formatted\n",
        "\n",
        "        for i, layer in enumerate(self.layers):\n",
        "            x = layer(x, edge_index)\n",
        "            if i < len(self.bns):\n",
        "                x = self.bns[i](x)\n",
        "                x = F.relu(x)\n",
        "                x = self.dropout(x)\n",
        "\n",
        "        # Pooling (example with both global max and mean pooling)\n",
        "        x = torch.cat([gmp(x, batch), gap(x, batch)], dim=1)\n",
        "\n",
        "        # Concatenate molecular weight\n",
        "        x = torch.cat([x, molecular_weight], dim=1)  # Ensure correct concatenation\n",
        "\n",
        "        # Output layer\n",
        "        x = self.out(x)\n",
        "        return x.squeeze(-1)\n",
        "\n"
      ],
      "metadata": {
        "id": "ZyP4E7FUzRnF"
      },
      "execution_count": null,
      "outputs": []
    },
    {
      "cell_type": "code",
      "source": [
        "# Initialize dataset\n",
        "dataset_root = 'pubchem-mp'\n",
        "dataset = CustomMoleculeDataset(root=dataset_root, filename=ifile)\n",
        "\n",
        "# Setup DataLoader\n",
        "train_size = int(len(dataset) * 0.8)\n",
        "test_size = len(dataset) - train_size\n",
        "train_dataset, test_dataset = random_split(dataset, [train_size, test_size])\n",
        "\n",
        "\n",
        "train_loader = DataLoader(train_dataset, batch_size=32, shuffle=True, collate_fn=custom_collate)\n",
        "test_loader = DataLoader(test_dataset, batch_size=32, shuffle=False, collate_fn=custom_collate)\n",
        "model = GCN(dataset.num_node_features).to(device)\n",
        "for data in train_loader:\n",
        "    if hasattr(data, 'molecular_weight'):\n",
        "        output = model(data.to(device))\n",
        "    else:\n",
        "        print(\"Molecular weight missing from the batch data\")\n",
        "        continue  # Skip this batch or handle it according to your requirements\n",
        "\n",
        "\n",
        "# Initialize the model and move it to the device (GPU or CPU)\n",
        "\n",
        "\n",
        "\n",
        "optimizer = Adam(model.parameters(), lr=0.01)\n",
        "scheduler = StepLR(optimizer, step_size=10, gamma=0.1)\n",
        "loss_function = torch.nn.MSELoss()\n",
        "\n",
        "# Test data loading and model forward pass\n",
        "\n",
        "for batch in train_loader:\n",
        "    batch.to(device)\n",
        "    out = model(batch)\n",
        "    print(\"Output from the model:\", out.shape)\n",
        "\n",
        "\n",
        "print(model)\n",
        "print(\"Number of parameters: \", sum(p.numel() for p in model.parameters()))"
      ],
      "metadata": {
        "id": "7ZySv_EVzYMQ"
      },
      "execution_count": null,
      "outputs": []
    },
    {
      "cell_type": "code",
      "source": [
        "def train(model, loader, device, optimizer, loss_function):\n",
        "    model.train()\n",
        "    total_loss = 0\n",
        "    total_mae = 0\n",
        "    total_mse = 0\n",
        "    predictions = []\n",
        "    labels = []\n",
        "    for data in loader:\n",
        "        data = data.to(device)\n",
        "        optimizer.zero_grad()\n",
        "        output = model(data)\n",
        "        loss = loss_function(output, data.y.to(device))\n",
        "        loss.backward()\n",
        "        optimizer.step()\n",
        "        total_loss += loss.item()\n",
        "\n",
        "        # Calculate errors\n",
        "        mae = F.l1_loss(output, data.y.to(device), reduction='mean')\n",
        "        mse = F.mse_loss(output, data.y.to(device), reduction='mean')\n",
        "        total_mae += mae.item()\n",
        "        total_mse += mse.item()\n",
        "\n",
        "        # Move data to CPU for numpy conversion\n",
        "        predictions.extend(output.detach().cpu().numpy())\n",
        "        labels.extend(data.y.cpu().numpy())\n",
        "\n",
        "    num_samples = len(loader.dataset)\n",
        "    average_loss = total_loss / len(loader)\n",
        "    average_mae = total_mae / num_samples\n",
        "    average_mse = total_mse / num_samples\n",
        "    return average_loss, average_mae, average_mse, predictions, labels\n",
        "\n",
        "def test(model, loader, device, loss_function):\n",
        "    model.eval()\n",
        "    total_loss = 0\n",
        "    total_mae = 0\n",
        "    total_mse = 0\n",
        "    predictions = []\n",
        "    labels = []\n",
        "    with torch.no_grad():\n",
        "        for data in loader:\n",
        "            data = data.to(device)\n",
        "            output = model(data)\n",
        "            loss = loss_function(output, data.y.to(device))\n",
        "            total_loss += loss.item()\n",
        "\n",
        "            # Calculate errors\n",
        "            mae = F.l1_loss(output, data.y.to(device), reduction='mean')\n",
        "            mse = F.mse_loss(output, data.y.to(device), reduction='mean')\n",
        "            total_mae += mae.item()\n",
        "            total_mse += mse.item()\n",
        "\n",
        "            # Move data to CPU for numpy conversion\n",
        "            predictions.extend(output.cpu().numpy())\n",
        "            labels.extend(data.y.cpu().numpy())\n",
        "\n",
        "    num_samples = len(loader.dataset)\n",
        "    average_loss = total_loss / len(loader)\n",
        "    average_mae = total_mae / num_samples\n",
        "    average_mse = total_mse / num_samples\n",
        "    return average_loss, average_mae, average_mse, predictions, labels"
      ],
      "metadata": {
        "id": "-u1ErHnAzp7C"
      },
      "execution_count": null,
      "outputs": []
    },
    {
      "cell_type": "code",
      "source": [
        "# save loss function\n",
        "import optuna\n",
        "\n",
        "def objective(trial):\n",
        "    # Hyperparameters to tune\n",
        "    lr = trial.suggest_float(\"lr\", 1e-5, 1e-1, log=True)\n",
        "    hidden_channels = trial.suggest_categorical(\"hidden_channels\", [16, 32, 64, 128])\n",
        "    num_layers = trial.suggest_int(\"num_layers\", 1, 4)\n",
        "    dropout_rate = trial.suggest_float(\"dropout_rate\", 0.0, 0.5)\n",
        "\n",
        "    # Model setup\n",
        "    model = GCN(dataset.num_node_features, hidden_channels, num_layers, dropout_rate).to(device)\n",
        "    optimizer = torch.optim.Adam(model.parameters(), lr=lr)\n",
        "    scheduler = StepLR(optimizer, step_size=10, gamma=0.1)\n",
        "\n",
        "    # Training loop\n",
        "    for epoch in range(50):  # Reduced number of epochs for faster trials\n",
        "        model.train()\n",
        "        for batch in train_loader:\n",
        "            batch.to(device)\n",
        "            optimizer.zero_grad()\n",
        "            out = model(batch)\n",
        "            loss = torch.nn.MSELoss()(out, batch.y.to(device))\n",
        "            loss.backward()\n",
        "            optimizer.step()\n",
        "        scheduler.step()\n",
        "\n",
        "    # Evaluation\n",
        "    model.eval()\n",
        "    total_loss = 0\n",
        "    with torch.no_grad():\n",
        "        for batch in test_loader:\n",
        "            batch.to(device)\n",
        "            preds = model(batch)\n",
        "            loss = torch.nn.MSELoss()(preds, batch.y.to(device))\n",
        "            total_loss += loss.item()\n",
        "\n",
        "    average_loss = total_loss / len(test_loader)\n",
        "    return average_loss\n"
      ],
      "metadata": {
        "id": "DefrnKTvzslR",
        "colab": {
          "base_uri": "https://localhost:8080/"
        },
        "outputId": "b17065b5-8497-4eeb-9841-787da621868b"
      },
      "execution_count": null,
      "outputs": [
        {
          "output_type": "stream",
          "name": "stderr",
          "text": [
            "/usr/local/lib/python3.10/dist-packages/torch_geometric/warnings.py:11: UserWarning: The usage of `scatter(reduce='max')` can be accelerated via the 'torch-scatter' package, but it was not found\n",
            "  warnings.warn(message)\n"
          ]
        }
      ]
    },
    {
      "cell_type": "code",
      "source": [
        "study = optuna.create_study(direction=\"minimize\")\n",
        "study.optimize(objective, n_trials=100)\n",
        "\n",
        "print(\"Best hyperparameters: \", study.best_trial.params)\n"
      ],
      "metadata": {
        "colab": {
          "base_uri": "https://localhost:8080/"
        },
        "id": "QONO7d_CYnEo",
        "outputId": "cb5867e6-4c2e-4e55-a01e-3f2e28823259"
      },
      "execution_count": null,
      "outputs": [
        {
          "output_type": "stream",
          "name": "stdout",
          "text": [
            "45.31686943054199\n",
            "3297.054553222656\n"
          ]
        }
      ]
    },
    {
      "cell_type": "code",
      "source": [
        "!pip install optuna matplotlib plotly\n",
        "from optuna.visualization import plot_optimization_history, plot_parallel_coordinate, plot_param_importances, plot_contour, plot_slice\n"
      ],
      "metadata": {
        "id": "ynqzouzWzwI6"
      },
      "execution_count": null,
      "outputs": []
    },
    {
      "cell_type": "code",
      "source": [
        "# Optimization History: Shows the scores of all trials across each trial.\n",
        "fig1 = plot_optimization_history(study)\n",
        "fig1.write_image(\"optimization_history.png\")"
      ],
      "metadata": {
        "id": "4lA2DrxTQTis"
      },
      "execution_count": null,
      "outputs": []
    },
    {
      "cell_type": "code",
      "source": [
        "# Parameter Relationships: Visualizes the relationships between parameters.\n",
        "fig2 = plot_parallel_coordinate(study)\n",
        "fig2.write_image(\"optimization_P_relation.png\")"
      ],
      "metadata": {
        "id": "-cXkpKgVQUJ6"
      },
      "execution_count": null,
      "outputs": []
    },
    {
      "cell_type": "code",
      "source": [
        "# Parameter Importance: Shows which parameters were most influential in achieving the best scores.\n",
        "fig3 = plot_param_importances(study)\n",
        "fig3.write_image(\"optimization_params_imp.png\")"
      ],
      "metadata": {
        "id": "89hA5nK1QEjR"
      },
      "execution_count": null,
      "outputs": []
    },
    {
      "cell_type": "code",
      "source": [
        "# Slice Plot: Allows  to explore the impact of specific parameters across the range of values they took in the trials.\n",
        "fig4 = plot_slice(study)\n",
        "fig4.write_image(\"optimization_slice.png\")"
      ],
      "metadata": {
        "id": "JAP8VfO8QWqr"
      },
      "execution_count": null,
      "outputs": []
    },
    {
      "cell_type": "code",
      "source": [
        "# Contour Plot: Visualizes the interaction between two parameters and how their values relate to the trial scores.\n",
        "fig5 = plot_contour(study, params=['lr', 'hidden_channels'])\n",
        "fig5.write_image(\"optimization_contour.png\")"
      ],
      "metadata": {
        "id": "q3C3noa7QZIw"
      },
      "execution_count": null,
      "outputs": []
    }
  ]
}