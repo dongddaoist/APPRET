{
  "nbformat": 4,
  "nbformat_minor": 0,
  "metadata": {
    "colab": {
      "provenance": [],
      "machine_shape": "hm",
      "gpuType": "T4",
      "authorship_tag": "ABX9TyOajJmj9XI1f6nJtIzVXsUq",
      "include_colab_link": true
    },
    "kernelspec": {
      "name": "python3",
      "display_name": "Python 3"
    },
    "language_info": {
      "name": "python"
    },
    "accelerator": "GPU"
  },
  "cells": [
    {
      "cell_type": "markdown",
      "metadata": {
        "id": "view-in-github",
        "colab_type": "text"
      },
      "source": [
        "<a href=\"https://colab.research.google.com/github/dongddaoist/APPRET/blob/main/GraphVAE.ipynb\" target=\"_parent\"><img src=\"https://colab.research.google.com/assets/colab-badge.svg\" alt=\"Open In Colab\"/></a>"
      ]
    },
    {
      "cell_type": "code",
      "execution_count": null,
      "metadata": {
        "colab": {
          "base_uri": "https://localhost:8080/"
        },
        "id": "eKx3_NJiGSa8",
        "outputId": "68977ed4-ec47-43fe-e92b-05a529d4e3a3"
      },
      "outputs": [
        {
          "output_type": "stream",
          "name": "stdout",
          "text": [
            "/bin/bash: line 1: conda: command not found\n",
            "Requirement already satisfied: torch in /usr/local/lib/python3.10/dist-packages (2.3.1+cu121)\n",
            "Collecting torch-geometric\n",
            "  Downloading torch_geometric-2.5.3-py3-none-any.whl.metadata (64 kB)\n",
            "\u001b[2K     \u001b[90m━━━━━━━━━━━━━━━━━━━━━━━━━━━━━━━━━━━━━━━━\u001b[0m \u001b[32m64.2/64.2 kB\u001b[0m \u001b[31m3.8 MB/s\u001b[0m eta \u001b[36m0:00:00\u001b[0m\n",
            "\u001b[?25hRequirement already satisfied: filelock in /usr/local/lib/python3.10/dist-packages (from torch) (3.15.4)\n",
            "Requirement already satisfied: typing-extensions>=4.8.0 in /usr/local/lib/python3.10/dist-packages (from torch) (4.12.2)\n",
            "Requirement already satisfied: sympy in /usr/local/lib/python3.10/dist-packages (from torch) (1.13.1)\n",
            "Requirement already satisfied: networkx in /usr/local/lib/python3.10/dist-packages (from torch) (3.3)\n",
            "Requirement already satisfied: jinja2 in /usr/local/lib/python3.10/dist-packages (from torch) (3.1.4)\n",
            "Requirement already satisfied: fsspec in /usr/local/lib/python3.10/dist-packages (from torch) (2024.6.1)\n",
            "Collecting nvidia-cuda-nvrtc-cu12==12.1.105 (from torch)\n",
            "  Using cached nvidia_cuda_nvrtc_cu12-12.1.105-py3-none-manylinux1_x86_64.whl.metadata (1.5 kB)\n",
            "Collecting nvidia-cuda-runtime-cu12==12.1.105 (from torch)\n",
            "  Using cached nvidia_cuda_runtime_cu12-12.1.105-py3-none-manylinux1_x86_64.whl.metadata (1.5 kB)\n",
            "Collecting nvidia-cuda-cupti-cu12==12.1.105 (from torch)\n",
            "  Using cached nvidia_cuda_cupti_cu12-12.1.105-py3-none-manylinux1_x86_64.whl.metadata (1.6 kB)\n",
            "Collecting nvidia-cudnn-cu12==8.9.2.26 (from torch)\n",
            "  Using cached nvidia_cudnn_cu12-8.9.2.26-py3-none-manylinux1_x86_64.whl.metadata (1.6 kB)\n",
            "Collecting nvidia-cublas-cu12==12.1.3.1 (from torch)\n",
            "  Using cached nvidia_cublas_cu12-12.1.3.1-py3-none-manylinux1_x86_64.whl.metadata (1.5 kB)\n",
            "Collecting nvidia-cufft-cu12==11.0.2.54 (from torch)\n",
            "  Using cached nvidia_cufft_cu12-11.0.2.54-py3-none-manylinux1_x86_64.whl.metadata (1.5 kB)\n",
            "Collecting nvidia-curand-cu12==10.3.2.106 (from torch)\n",
            "  Using cached nvidia_curand_cu12-10.3.2.106-py3-none-manylinux1_x86_64.whl.metadata (1.5 kB)\n",
            "Collecting nvidia-cusolver-cu12==11.4.5.107 (from torch)\n",
            "  Using cached nvidia_cusolver_cu12-11.4.5.107-py3-none-manylinux1_x86_64.whl.metadata (1.6 kB)\n",
            "Collecting nvidia-cusparse-cu12==12.1.0.106 (from torch)\n",
            "  Using cached nvidia_cusparse_cu12-12.1.0.106-py3-none-manylinux1_x86_64.whl.metadata (1.6 kB)\n",
            "Collecting nvidia-nccl-cu12==2.20.5 (from torch)\n",
            "  Using cached nvidia_nccl_cu12-2.20.5-py3-none-manylinux2014_x86_64.whl.metadata (1.8 kB)\n",
            "Collecting nvidia-nvtx-cu12==12.1.105 (from torch)\n",
            "  Using cached nvidia_nvtx_cu12-12.1.105-py3-none-manylinux1_x86_64.whl.metadata (1.7 kB)\n",
            "Requirement already satisfied: triton==2.3.1 in /usr/local/lib/python3.10/dist-packages (from torch) (2.3.1)\n",
            "Collecting nvidia-nvjitlink-cu12 (from nvidia-cusolver-cu12==11.4.5.107->torch)\n",
            "  Using cached nvidia_nvjitlink_cu12-12.6.20-py3-none-manylinux2014_x86_64.whl.metadata (1.5 kB)\n",
            "Requirement already satisfied: tqdm in /usr/local/lib/python3.10/dist-packages (from torch-geometric) (4.66.5)\n",
            "Requirement already satisfied: numpy in /usr/local/lib/python3.10/dist-packages (from torch-geometric) (1.26.4)\n",
            "Requirement already satisfied: scipy in /usr/local/lib/python3.10/dist-packages (from torch-geometric) (1.13.1)\n",
            "Requirement already satisfied: aiohttp in /usr/local/lib/python3.10/dist-packages (from torch-geometric) (3.10.1)\n",
            "Requirement already satisfied: requests in /usr/local/lib/python3.10/dist-packages (from torch-geometric) (2.32.3)\n",
            "Requirement already satisfied: pyparsing in /usr/local/lib/python3.10/dist-packages (from torch-geometric) (3.1.2)\n",
            "Requirement already satisfied: scikit-learn in /usr/local/lib/python3.10/dist-packages (from torch-geometric) (1.3.2)\n",
            "Requirement already satisfied: psutil>=5.8.0 in /usr/local/lib/python3.10/dist-packages (from torch-geometric) (5.9.5)\n",
            "Requirement already satisfied: aiohappyeyeballs>=2.3.0 in /usr/local/lib/python3.10/dist-packages (from aiohttp->torch-geometric) (2.3.4)\n",
            "Requirement already satisfied: aiosignal>=1.1.2 in /usr/local/lib/python3.10/dist-packages (from aiohttp->torch-geometric) (1.3.1)\n",
            "Requirement already satisfied: attrs>=17.3.0 in /usr/local/lib/python3.10/dist-packages (from aiohttp->torch-geometric) (24.1.0)\n",
            "Requirement already satisfied: frozenlist>=1.1.1 in /usr/local/lib/python3.10/dist-packages (from aiohttp->torch-geometric) (1.4.1)\n",
            "Requirement already satisfied: multidict<7.0,>=4.5 in /usr/local/lib/python3.10/dist-packages (from aiohttp->torch-geometric) (6.0.5)\n",
            "Requirement already satisfied: yarl<2.0,>=1.0 in /usr/local/lib/python3.10/dist-packages (from aiohttp->torch-geometric) (1.9.4)\n",
            "Requirement already satisfied: async-timeout<5.0,>=4.0 in /usr/local/lib/python3.10/dist-packages (from aiohttp->torch-geometric) (4.0.3)\n",
            "Requirement already satisfied: MarkupSafe>=2.0 in /usr/local/lib/python3.10/dist-packages (from jinja2->torch) (2.1.5)\n",
            "Requirement already satisfied: charset-normalizer<4,>=2 in /usr/local/lib/python3.10/dist-packages (from requests->torch-geometric) (3.3.2)\n",
            "Requirement already satisfied: idna<4,>=2.5 in /usr/local/lib/python3.10/dist-packages (from requests->torch-geometric) (3.7)\n",
            "Requirement already satisfied: urllib3<3,>=1.21.1 in /usr/local/lib/python3.10/dist-packages (from requests->torch-geometric) (2.0.7)\n",
            "Requirement already satisfied: certifi>=2017.4.17 in /usr/local/lib/python3.10/dist-packages (from requests->torch-geometric) (2024.7.4)\n",
            "Requirement already satisfied: joblib>=1.1.1 in /usr/local/lib/python3.10/dist-packages (from scikit-learn->torch-geometric) (1.4.2)\n",
            "Requirement already satisfied: threadpoolctl>=2.0.0 in /usr/local/lib/python3.10/dist-packages (from scikit-learn->torch-geometric) (3.5.0)\n",
            "Requirement already satisfied: mpmath<1.4,>=1.1.0 in /usr/local/lib/python3.10/dist-packages (from sympy->torch) (1.3.0)\n",
            "Using cached nvidia_cublas_cu12-12.1.3.1-py3-none-manylinux1_x86_64.whl (410.6 MB)\n",
            "Using cached nvidia_cuda_cupti_cu12-12.1.105-py3-none-manylinux1_x86_64.whl (14.1 MB)\n",
            "Using cached nvidia_cuda_nvrtc_cu12-12.1.105-py3-none-manylinux1_x86_64.whl (23.7 MB)\n",
            "Using cached nvidia_cuda_runtime_cu12-12.1.105-py3-none-manylinux1_x86_64.whl (823 kB)\n",
            "Using cached nvidia_cudnn_cu12-8.9.2.26-py3-none-manylinux1_x86_64.whl (731.7 MB)\n",
            "Using cached nvidia_cufft_cu12-11.0.2.54-py3-none-manylinux1_x86_64.whl (121.6 MB)\n",
            "Using cached nvidia_curand_cu12-10.3.2.106-py3-none-manylinux1_x86_64.whl (56.5 MB)\n",
            "Using cached nvidia_cusolver_cu12-11.4.5.107-py3-none-manylinux1_x86_64.whl (124.2 MB)\n",
            "Using cached nvidia_cusparse_cu12-12.1.0.106-py3-none-manylinux1_x86_64.whl (196.0 MB)\n",
            "Using cached nvidia_nccl_cu12-2.20.5-py3-none-manylinux2014_x86_64.whl (176.2 MB)\n",
            "Using cached nvidia_nvtx_cu12-12.1.105-py3-none-manylinux1_x86_64.whl (99 kB)\n",
            "Downloading torch_geometric-2.5.3-py3-none-any.whl (1.1 MB)\n",
            "\u001b[2K   \u001b[90m━━━━━━━━━━━━━━━━━━━━━━━━━━━━━━━━━━━━━━━━\u001b[0m \u001b[32m1.1/1.1 MB\u001b[0m \u001b[31m654.6 kB/s\u001b[0m eta \u001b[36m0:00:00\u001b[0m\n",
            "\u001b[?25hUsing cached nvidia_nvjitlink_cu12-12.6.20-py3-none-manylinux2014_x86_64.whl (19.7 MB)\n",
            "Installing collected packages: nvidia-nvtx-cu12, nvidia-nvjitlink-cu12, nvidia-nccl-cu12, nvidia-curand-cu12, nvidia-cufft-cu12, nvidia-cuda-runtime-cu12, nvidia-cuda-nvrtc-cu12, nvidia-cuda-cupti-cu12, nvidia-cublas-cu12, nvidia-cusparse-cu12, nvidia-cudnn-cu12, torch-geometric, nvidia-cusolver-cu12\n",
            "Successfully installed nvidia-cublas-cu12-12.1.3.1 nvidia-cuda-cupti-cu12-12.1.105 nvidia-cuda-nvrtc-cu12-12.1.105 nvidia-cuda-runtime-cu12-12.1.105 nvidia-cudnn-cu12-8.9.2.26 nvidia-cufft-cu12-11.0.2.54 nvidia-curand-cu12-10.3.2.106 nvidia-cusolver-cu12-11.4.5.107 nvidia-cusparse-cu12-12.1.0.106 nvidia-nccl-cu12-2.20.5 nvidia-nvjitlink-cu12-12.6.20 nvidia-nvtx-cu12-12.1.105 torch-geometric-2.5.3\n",
            "Collecting optuna\n",
            "  Downloading optuna-3.6.1-py3-none-any.whl.metadata (17 kB)\n",
            "Collecting alembic>=1.5.0 (from optuna)\n",
            "  Downloading alembic-1.13.2-py3-none-any.whl.metadata (7.4 kB)\n",
            "Collecting colorlog (from optuna)\n",
            "  Downloading colorlog-6.8.2-py3-none-any.whl.metadata (10 kB)\n",
            "Requirement already satisfied: numpy in /usr/local/lib/python3.10/dist-packages (from optuna) (1.26.4)\n",
            "Requirement already satisfied: packaging>=20.0 in /usr/local/lib/python3.10/dist-packages (from optuna) (24.1)\n",
            "Requirement already satisfied: sqlalchemy>=1.3.0 in /usr/local/lib/python3.10/dist-packages (from optuna) (2.0.31)\n",
            "Requirement already satisfied: tqdm in /usr/local/lib/python3.10/dist-packages (from optuna) (4.66.5)\n",
            "Requirement already satisfied: PyYAML in /usr/local/lib/python3.10/dist-packages (from optuna) (6.0.1)\n",
            "Collecting Mako (from alembic>=1.5.0->optuna)\n",
            "  Downloading Mako-1.3.5-py3-none-any.whl.metadata (2.9 kB)\n",
            "Requirement already satisfied: typing-extensions>=4 in /usr/local/lib/python3.10/dist-packages (from alembic>=1.5.0->optuna) (4.12.2)\n",
            "Requirement already satisfied: greenlet!=0.4.17 in /usr/local/lib/python3.10/dist-packages (from sqlalchemy>=1.3.0->optuna) (3.0.3)\n",
            "Requirement already satisfied: MarkupSafe>=0.9.2 in /usr/local/lib/python3.10/dist-packages (from Mako->alembic>=1.5.0->optuna) (2.1.5)\n",
            "Downloading optuna-3.6.1-py3-none-any.whl (380 kB)\n",
            "\u001b[2K   \u001b[90m━━━━━━━━━━━━━━━━━━━━━━━━━━━━━━━━━━━━━━━━\u001b[0m \u001b[32m380.1/380.1 kB\u001b[0m \u001b[31m25.0 MB/s\u001b[0m eta \u001b[36m0:00:00\u001b[0m\n",
            "\u001b[?25hDownloading alembic-1.13.2-py3-none-any.whl (232 kB)\n",
            "\u001b[2K   \u001b[90m━━━━━━━━━━━━━━━━━━━━━━━━━━━━━━━━━━━━━━━━\u001b[0m \u001b[32m233.0/233.0 kB\u001b[0m \u001b[31m19.7 MB/s\u001b[0m eta \u001b[36m0:00:00\u001b[0m\n",
            "\u001b[?25hDownloading colorlog-6.8.2-py3-none-any.whl (11 kB)\n",
            "Downloading Mako-1.3.5-py3-none-any.whl (78 kB)\n",
            "\u001b[2K   \u001b[90m━━━━━━━━━━━━━━━━━━━━━━━━━━━━━━━━━━━━━━━━\u001b[0m \u001b[32m78.6/78.6 kB\u001b[0m \u001b[31m6.7 MB/s\u001b[0m eta \u001b[36m0:00:00\u001b[0m\n",
            "\u001b[?25hInstalling collected packages: Mako, colorlog, alembic, optuna\n",
            "Successfully installed Mako-1.3.5 alembic-1.13.2 colorlog-6.8.2 optuna-3.6.1\n",
            "\u001b[2K   \u001b[90m━━━━━━━━━━━━━━━━━━━━━━━━━━━━━━━━━━━━━━━━\u001b[0m \u001b[32m85.7/85.7 kB\u001b[0m \u001b[31m7.3 MB/s\u001b[0m eta \u001b[36m0:00:00\u001b[0m\n",
            "\u001b[2K   \u001b[90m━━━━━━━━━━━━━━━━━━━━━━━━━━━━━━━━━━━━━━━━\u001b[0m \u001b[32m4.2/4.2 MB\u001b[0m \u001b[31m77.6 MB/s\u001b[0m eta \u001b[36m0:00:00\u001b[0m\n",
            "\u001b[2K   \u001b[90m━━━━━━━━━━━━━━━━━━━━━━━━━━━━━━━━━━━━━━━━\u001b[0m \u001b[32m56.9/56.9 kB\u001b[0m \u001b[31m4.7 MB/s\u001b[0m eta \u001b[36m0:00:00\u001b[0m\n",
            "\u001b[?25hRequirement already satisfied: pandas in /usr/local/lib/python3.10/dist-packages (2.1.4)\n",
            "Requirement already satisfied: numpy in /usr/local/lib/python3.10/dist-packages (1.26.4)\n",
            "Requirement already satisfied: scikit-learn in /usr/local/lib/python3.10/dist-packages (1.3.2)\n",
            "Requirement already satisfied: python-dateutil>=2.8.2 in /usr/local/lib/python3.10/dist-packages (from pandas) (2.8.2)\n",
            "Requirement already satisfied: pytz>=2020.1 in /usr/local/lib/python3.10/dist-packages (from pandas) (2024.1)\n",
            "Requirement already satisfied: tzdata>=2022.1 in /usr/local/lib/python3.10/dist-packages (from pandas) (2024.1)\n",
            "Requirement already satisfied: scipy>=1.5.0 in /usr/local/lib/python3.10/dist-packages (from scikit-learn) (1.13.1)\n",
            "Requirement already satisfied: joblib>=1.1.1 in /usr/local/lib/python3.10/dist-packages (from scikit-learn) (1.4.2)\n",
            "Requirement already satisfied: threadpoolctl>=2.0.0 in /usr/local/lib/python3.10/dist-packages (from scikit-learn) (3.5.0)\n",
            "Requirement already satisfied: six>=1.5 in /usr/local/lib/python3.10/dist-packages (from python-dateutil>=2.8.2->pandas) (1.16.0)\n"
          ]
        }
      ],
      "source": [
        "\n",
        "!conda install -c conda-forge rdkit\n",
        "!pip install torch torch-geometric\n",
        "\n",
        "# Install rdkit (should only be installed via conda)\n",
        "\n",
        "!pip install --quiet rdkit-pypi > /dev/null\n",
        "!pip install optuna\n",
        "# Inshttps://drive.google.com/drive/search?q=owner%3Ame%20(type%3Aapplication%2Fvnd.google.colaboratory%20%7C%7C%20type%3Aapplication%2Fvnd.google.colab)&authuser=0tall UMAP/hdbscan (recommend to do this before miniconda)\n",
        "!pip install --quiet umap-learn hdbscan\n",
        "\n",
        "!pip install pandas numpy scikit-learn\n"
      ]
    },
    {
      "cell_type": "code",
      "source": [
        "import pandas as pd\n",
        "from google.colab import drive\n",
        "drive.mount('/content/drive/')\n"
      ],
      "metadata": {
        "colab": {
          "base_uri": "https://localhost:8080/"
        },
        "id": "dzG3KM-kpe4h",
        "outputId": "1a8ec621-82c1-4039-dba6-b733fef8cc87"
      },
      "execution_count": null,
      "outputs": [
        {
          "output_type": "stream",
          "name": "stdout",
          "text": [
            "Mounted at /content/drive/\n"
          ]
        }
      ]
    },
    {
      "cell_type": "code",
      "source": [
        "import torch\n",
        "import torch.nn as nn\n",
        "import torch.optim as optim\n",
        "from rdkit import Chem\n",
        "from rdkit.Chem import AllChem\n",
        "import pandas as pd\n",
        "import numpy as np\n",
        "from torch_geometric.data import Data, DataLoader\n",
        "from torch_geometric.nn import GCNConv, global_mean_pool, global_max_pool\n",
        "from torch_geometric.utils import from_smiles, to_smiles\n",
        "\n",
        "# Function to convert SMILES to graph data\n",
        "def smiles_to_graph(smiles):\n",
        "    mol = Chem.MolFromSmiles(smiles)\n",
        "    if mol is None:\n",
        "        return None\n",
        "    atom_features = []\n",
        "    for atom in mol.GetAtoms():\n",
        "        atom_features.append([atom.GetAtomicNum()])\n",
        "    edge_index = []\n",
        "    for bond in mol.GetBonds():\n",
        "        i = bond.GetBeginAtomIdx()\n",
        "        j = bond.GetEndAtomIdx()\n",
        "        edge_index.append([i, j])\n",
        "        edge_index.append([j, i])\n",
        "    edge_index = torch.tensor(edge_index, dtype=torch.long).t().contiguous()\n",
        "    x = torch.tensor(atom_features, dtype=torch.float)\n",
        "    data = Data(x=x, edge_index=edge_index)\n",
        "    return data\n",
        "\n",
        "ifile = '/content/drive/My Drive/machine-learning/Data/fluoroether.csv'\n",
        "\n",
        "# Load your CSV file\n",
        "df = pd.read_csv(ifile)\n",
        "smiles_list = df[\"SMILES\"]\n",
        "\n",
        "graph_data = [smiles_to_graph(smiles) for smiles in smiles_list]\n",
        "graph_data = [data for data in graph_data if data is not None]\n",
        "\n",
        "class GraphVAE(nn.Module):\n",
        "    def __init__(self, node_feature_dim, hidden_dim, latent_dim):\n",
        "        super(GraphVAE, self).__init__()\n",
        "        self.encoder_conv1 = GCNConv(node_feature_dim, hidden_dim)\n",
        "        self.encoder_conv2 = GCNConv(hidden_dim, hidden_dim)\n",
        "        self.fc_mu = nn.Linear(hidden_dim * 2, latent_dim)\n",
        "        self.fc_logvar = nn.Linear(hidden_dim * 2, latent_dim)\n",
        "        self.decoder_fc1 = nn.Linear(latent_dim, hidden_dim)\n",
        "        self.decoder_conv1 = GCNConv(hidden_dim, hidden_dim)\n",
        "        self.decoder_conv2 = GCNConv(hidden_dim, node_feature_dim)\n",
        "\n",
        "    def encode(self, x, edge_index):\n",
        "        h = self.encoder_conv1(x, edge_index)\n",
        "        h = torch.relu(h)\n",
        "        h = self.encoder_conv2(h, edge_index)\n",
        "        h_mean = global_mean_pool(h, torch.zeros(h.size(0), dtype=torch.long).to(h.device))\n",
        "        h_max = global_max_pool(h, torch.zeros(h.size(0), dtype=torch.long).to(h.device))\n",
        "        h_combined = torch.cat([h_mean, h_max], dim=1)\n",
        "        return self.fc_mu(h_combined), self.fc_logvar(h_combined)\n",
        "\n",
        "    def reparameterize(self, mu, logvar):\n",
        "        std = torch.exp(logvar * 0.5)\n",
        "        eps = torch.randn_like(std)\n",
        "        return mu + eps * std\n",
        "\n",
        "    def decode(self, z, num_nodes):\n",
        "        h = self.decoder_fc1(z)\n",
        "        h = torch.relu(h)\n",
        "        h = h.unsqueeze(1).repeat(1, num_nodes, 1).view(-1, h.size(-1))\n",
        "        return h\n",
        "\n",
        "    def forward(self, x, edge_index):\n",
        "        mu, logvar = self.encode(x, edge_index)\n",
        "        z = self.reparameterize(mu, logvar)\n",
        "        num_nodes = x.size(0)\n",
        "        return self.decode(z, num_nodes), mu, logvar\n",
        "\n",
        "def train_graphvae(model, data_loader, epochs=100, learning_rate=1e-2):\n",
        "    optimizer = optim.Adam(model.parameters(), lr=learning_rate)\n",
        "    criterion = nn.MSELoss()\n",
        "\n",
        "    for epoch in range(epochs):\n",
        "        model.train()\n",
        "        epoch_loss = 0.0\n",
        "        for data in data_loader:\n",
        "            data = data.to(device)\n",
        "            optimizer.zero_grad()\n",
        "            x_recon, mu, logvar = model(data.x, data.edge_index)\n",
        "\n",
        "            recon_loss = criterion(x_recon, data.x)\n",
        "            kl_divergence = -0.5 * torch.sum(1 + logvar - mu.pow(2) - logvar.exp())\n",
        "            loss = recon_loss + kl_divergence\n",
        "            loss.backward()\n",
        "            optimizer.step()\n",
        "\n",
        "            epoch_loss += loss.item()\n",
        "\n",
        "        avg_loss = epoch_loss / len(data_loader)\n",
        "        print(f\"Epoch {epoch + 1}, Loss: {avg_loss}\")\n",
        "\n",
        "device = torch.device('cuda' if torch.cuda.is_available() else 'cpu')\n",
        "\n",
        "# Example usage\n",
        "node_feature_dim = 1  # Single feature: atomic number\n",
        "hidden_dim = 128\n",
        "latent_dim = 64\n",
        "\n",
        "graphvae = GraphVAE(node_feature_dim, hidden_dim, latent_dim).to(device)\n",
        "data_loader = DataLoader(graph_data, batch_size=32, shuffle=True)\n",
        "\n",
        "train_graphvae(graphvae, data_loader)\n"
      ],
      "metadata": {
        "id": "B9ZSRZJ1LB17"
      },
      "execution_count": null,
      "outputs": []
    },
    {
      "cell_type": "markdown",
      "source": [
        "# Hyper-parameter Optimization"
      ],
      "metadata": {
        "id": "fGiTHCtG2Vek"
      }
    },
    {
      "cell_type": "code",
      "source": [
        "import torch\n",
        "import torch.nn as nn\n",
        "import torch.optim as optim\n",
        "import optuna\n",
        "from optuna.visualization import plot_optimization_history, plot_param_importances, plot_parallel_coordinate\n",
        "from rdkit import Chem\n",
        "from rdkit.Chem import AllChem\n",
        "import pandas as pd\n",
        "import numpy as np\n",
        "from torch_geometric.data import Data, DataLoader\n",
        "from torch_geometric.nn import GCNConv, global_mean_pool, global_max_pool\n",
        "from torch_geometric.utils import from_smiles, to_smiles\n",
        "\n",
        "# Function to convert SMILES to graph data\n",
        "def smiles_to_graph(smiles):\n",
        "    mol = Chem.MolFromSmiles(smiles)\n",
        "    if mol is None:\n",
        "        return None\n",
        "    atom_features = []\n",
        "    for atom in mol.GetAtoms():\n",
        "        atom_features.append([atom.GetAtomicNum()])\n",
        "    edge_index = []\n",
        "    for bond in mol.GetBonds():\n",
        "        i = bond.GetBeginAtomIdx()\n",
        "        j = bond.GetEndAtomIdx()\n",
        "        edge_index.append([i, j])\n",
        "        edge_index.append([j, i])\n",
        "    edge_index = torch.tensor(edge_index, dtype=torch.long).t().contiguous()\n",
        "    x = torch.tensor(atom_features, dtype=torch.float)\n",
        "    data = Data(x=x, edge_index=edge_index)\n",
        "    return data\n",
        "\n",
        "ifile = '/content/drive/My Drive/machine-learning/Data/fluoroether.csv'\n",
        "\n",
        "# Load your CSV file\n",
        "df = pd.read_csv(ifile)\n",
        "smiles_list = df[\"SMILES\"]\n",
        "\n",
        "graph_data = [smiles_to_graph(smiles) for smiles in smiles_list]\n",
        "graph_data = [data for data in graph_data if data is not None]\n",
        "\n",
        "class GraphVAE(nn.Module):\n",
        "    def __init__(self, node_feature_dim, hidden_dim, latent_dim, num_hidden_layers):\n",
        "        super(GraphVAE, self).__init__()\n",
        "        self.encoder_convs = nn.ModuleList([GCNConv(node_feature_dim if i == 0 else hidden_dim, hidden_dim) for i in range(num_hidden_layers)])\n",
        "        self.fc_mu = nn.Linear(hidden_dim * 2, latent_dim)\n",
        "        self.fc_logvar = nn.Linear(hidden_dim * 2, latent_dim)\n",
        "        self.decoder_fc1 = nn.Linear(latent_dim, hidden_dim)\n",
        "        self.decoder_conv1 = GCNConv(hidden_dim, hidden_dim)\n",
        "        self.decoder_conv2 = GCNConv(hidden_dim, node_feature_dim)\n",
        "\n",
        "    def encode(self, x, edge_index):\n",
        "        h = x\n",
        "        for conv in self.encoder_convs:\n",
        "            h = conv(h, edge_index)\n",
        "            h = torch.relu(h)\n",
        "        h_mean = global_mean_pool(h, torch.zeros(h.size(0), dtype=torch.long).to(h.device))\n",
        "        h_max = global_max_pool(h, torch.zeros(h.size(0), dtype=torch.long).to(h.device))\n",
        "        h_combined = torch.cat([h_mean, h_max], dim=1)\n",
        "        return self.fc_mu(h_combined), self.fc_logvar(h_combined)\n",
        "\n",
        "    def reparameterize(self, mu, logvar):\n",
        "        std = torch.exp(logvar * 0.5)\n",
        "        eps = torch.randn_like(std)\n",
        "        return mu + eps * std\n",
        "\n",
        "    def decode(self, z, num_nodes):\n",
        "        h = self.decoder_fc1(z)\n",
        "        h = torch.relu(h)\n",
        "        h = h.unsqueeze(1).repeat(1, num_nodes, 1).view(-1, h.size(-1))\n",
        "        return h\n",
        "\n",
        "    def forward(self, x, edge_index):\n",
        "        mu, logvar = self.encode(x, edge_index)\n",
        "        z = self.reparameterize(mu, logvar)\n",
        "        num_nodes = x.size(0)\n",
        "        return self.decode(z, num_nodes), mu, logvar\n",
        "\n",
        "def train_graphvae(model, data_loader, epochs, learning_rate):\n",
        "    optimizer = optim.Adam(model.parameters(), lr=learning_rate)\n",
        "    criterion = nn.MSELoss()\n",
        "    model.train()\n",
        "\n",
        "    for epoch in range(epochs):\n",
        "        epoch_loss = 0.0\n",
        "        for data in data_loader:\n",
        "            data = data.to(device)\n",
        "            optimizer.zero_grad()\n",
        "            x_recon, mu, logvar = model(data.x, data.edge_index)\n",
        "\n",
        "            recon_loss = criterion(x_recon, data.x)\n",
        "            kl_divergence = -0.5 * torch.sum(1 + logvar - mu.pow(2) - logvar.exp())\n",
        "            loss = recon_loss + kl_divergence\n",
        "            loss.backward()\n",
        "            optimizer.step()\n",
        "\n",
        "            epoch_loss += loss.item()\n",
        "\n",
        "        avg_loss = epoch_loss / len(data_loader)\n",
        "    print(f\"Epoch {epoch + 1}, Loss: {avg_loss}\")\n",
        "\n",
        "    return avg_loss\n",
        "\n",
        "def objective(trial):\n",
        "    # Define the hyperparameters to be optimized\n",
        "    learning_rate = trial.suggest_float('learning_rate', 1e-4, 3e-2)\n",
        "    hidden_dim = trial.suggest_categorical('hidden_dim', [64, 128, 192, 256])\n",
        "    latent_dim = trial.suggest_categorical('latent_dim', [32, 64, 128])\n",
        "    batch_size = trial.suggest_categorical('batch_size', [16, 32, 64])\n",
        "    epochs = 100 #trial.suggest_int('epochs', 50, 100)\n",
        "    num_hidden_layers = trial.suggest_int('num_hidden_layers', 2, 6)\n",
        "\n",
        "    # Create the model and data loader\n",
        "    graphvae = GraphVAE(node_feature_dim=1, hidden_dim=hidden_dim, latent_dim=latent_dim, num_hidden_layers=num_hidden_layers).to(device)\n",
        "    data_loader = DataLoader(graph_data, batch_size=batch_size, shuffle=True)\n",
        "\n",
        "    # Train the model\n",
        "    avg_loss = train_graphvae(graphvae, data_loader, epochs=epochs, learning_rate=learning_rate)\n",
        "\n",
        "    return avg_loss\n",
        "\n",
        "def save_intermediate_results(study, trial):\n",
        "    with open('/content/drive/My Drive/machine-learning/generative/GraphVAE/optimization.txt', 'a') as f:\n",
        "        f.write(f'Trial {trial.number}: Loss={trial.value}, Params={trial.params}\\n')\n",
        "\n",
        "# Create an Optuna study and optimize the objective function\n",
        "study = optuna.create_study(direction='minimize')\n",
        "study.optimize(objective, n_trials=100, callbacks=[save_intermediate_results])\n",
        "\n",
        "# Print the best hyperparameters\n",
        "print('Best hyperparameters: ', study.best_params)\n",
        "\n",
        "# Save the best hyperparameters to a file\n",
        "with open('/content/drive/My Drive/machine-learning/generative/GraphVAE/optimization.txt', 'a') as f:\n",
        "    f.write(f'Best hyperparameters: {study.best_params}\\n')\n",
        "    f.write(f'Best loss: {study.best_value}\\n')\n",
        "\n",
        "\n",
        "# Plot optimization history\n",
        "optuna.visualization.plot_optimization_history(study).show()\n",
        "\n",
        "# Plot hyperparameter importance\n",
        "optuna.visualization.plot_param_importances(study).show()\n",
        "\n",
        "# Plot parallel coordinate plot\n",
        "optuna.visualization.plot_parallel_coordinate(study).show()\n"
      ],
      "metadata": {
        "id": "plwMcbrVR2X1",
        "colab": {
          "base_uri": "https://localhost:8080/",
          "height": 1000
        },
        "outputId": "cef7bb79-05cd-4943-9f87-c11f3a73a90b"
      },
      "execution_count": null,
      "outputs": [
        {
          "output_type": "stream",
          "name": "stderr",
          "text": [
            "[I 2024-08-09 13:49:35,194] A new study created in memory with name: no-name-01a96f19-eaad-49b0-b0fa-ff3f0bc6e25d\n",
            "/usr/local/lib/python3.10/dist-packages/torch_geometric/deprecation.py:26: UserWarning:\n",
            "\n",
            "'data.DataLoader' is deprecated, use 'loader.DataLoader' instead\n",
            "\n",
            "/usr/local/lib/python3.10/dist-packages/torch_geometric/warnings.py:11: UserWarning:\n",
            "\n",
            "The usage of `scatter(reduce='max')` can be accelerated via the 'torch-scatter' package, but it was not found\n",
            "\n",
            "/usr/local/lib/python3.10/dist-packages/torch/nn/modules/loss.py:535: UserWarning:\n",
            "\n",
            "Using a target size (torch.Size([443, 1])) that is different to the input size (torch.Size([443, 128])). This will likely lead to incorrect results due to broadcasting. Please ensure they have the same size.\n",
            "\n",
            "/usr/local/lib/python3.10/dist-packages/torch/nn/modules/loss.py:535: UserWarning:\n",
            "\n",
            "Using a target size (torch.Size([34, 1])) that is different to the input size (torch.Size([34, 128])). This will likely lead to incorrect results due to broadcasting. Please ensure they have the same size.\n",
            "\n",
            "/usr/local/lib/python3.10/dist-packages/torch/nn/modules/loss.py:535: UserWarning:\n",
            "\n",
            "Using a target size (torch.Size([446, 1])) that is different to the input size (torch.Size([446, 128])). This will likely lead to incorrect results due to broadcasting. Please ensure they have the same size.\n",
            "\n",
            "/usr/local/lib/python3.10/dist-packages/torch/nn/modules/loss.py:535: UserWarning:\n",
            "\n",
            "Using a target size (torch.Size([31, 1])) that is different to the input size (torch.Size([31, 128])). This will likely lead to incorrect results due to broadcasting. Please ensure they have the same size.\n",
            "\n",
            "/usr/local/lib/python3.10/dist-packages/torch/nn/modules/loss.py:535: UserWarning:\n",
            "\n",
            "Using a target size (torch.Size([458, 1])) that is different to the input size (torch.Size([458, 128])). This will likely lead to incorrect results due to broadcasting. Please ensure they have the same size.\n",
            "\n",
            "/usr/local/lib/python3.10/dist-packages/torch/nn/modules/loss.py:535: UserWarning:\n",
            "\n",
            "Using a target size (torch.Size([19, 1])) that is different to the input size (torch.Size([19, 128])). This will likely lead to incorrect results due to broadcasting. Please ensure they have the same size.\n",
            "\n",
            "/usr/local/lib/python3.10/dist-packages/torch/nn/modules/loss.py:535: UserWarning:\n",
            "\n",
            "Using a target size (torch.Size([456, 1])) that is different to the input size (torch.Size([456, 128])). This will likely lead to incorrect results due to broadcasting. Please ensure they have the same size.\n",
            "\n",
            "/usr/local/lib/python3.10/dist-packages/torch/nn/modules/loss.py:535: UserWarning:\n",
            "\n",
            "Using a target size (torch.Size([21, 1])) that is different to the input size (torch.Size([21, 128])). This will likely lead to incorrect results due to broadcasting. Please ensure they have the same size.\n",
            "\n",
            "/usr/local/lib/python3.10/dist-packages/torch/nn/modules/loss.py:535: UserWarning:\n",
            "\n",
            "Using a target size (torch.Size([448, 1])) that is different to the input size (torch.Size([448, 128])). This will likely lead to incorrect results due to broadcasting. Please ensure they have the same size.\n",
            "\n",
            "/usr/local/lib/python3.10/dist-packages/torch/nn/modules/loss.py:535: UserWarning:\n",
            "\n",
            "Using a target size (torch.Size([29, 1])) that is different to the input size (torch.Size([29, 128])). This will likely lead to incorrect results due to broadcasting. Please ensure they have the same size.\n",
            "\n",
            "/usr/local/lib/python3.10/dist-packages/torch/nn/modules/loss.py:535: UserWarning:\n",
            "\n",
            "Using a target size (torch.Size([433, 1])) that is different to the input size (torch.Size([433, 128])). This will likely lead to incorrect results due to broadcasting. Please ensure they have the same size.\n",
            "\n",
            "/usr/local/lib/python3.10/dist-packages/torch/nn/modules/loss.py:535: UserWarning:\n",
            "\n",
            "Using a target size (torch.Size([44, 1])) that is different to the input size (torch.Size([44, 128])). This will likely lead to incorrect results due to broadcasting. Please ensure they have the same size.\n",
            "\n",
            "/usr/local/lib/python3.10/dist-packages/torch/nn/modules/loss.py:535: UserWarning:\n",
            "\n",
            "Using a target size (torch.Size([445, 1])) that is different to the input size (torch.Size([445, 128])). This will likely lead to incorrect results due to broadcasting. Please ensure they have the same size.\n",
            "\n",
            "/usr/local/lib/python3.10/dist-packages/torch/nn/modules/loss.py:535: UserWarning:\n",
            "\n",
            "Using a target size (torch.Size([32, 1])) that is different to the input size (torch.Size([32, 128])). This will likely lead to incorrect results due to broadcasting. Please ensure they have the same size.\n",
            "\n",
            "/usr/local/lib/python3.10/dist-packages/torch/nn/modules/loss.py:535: UserWarning:\n",
            "\n",
            "Using a target size (torch.Size([437, 1])) that is different to the input size (torch.Size([437, 128])). This will likely lead to incorrect results due to broadcasting. Please ensure they have the same size.\n",
            "\n",
            "/usr/local/lib/python3.10/dist-packages/torch/nn/modules/loss.py:535: UserWarning:\n",
            "\n",
            "Using a target size (torch.Size([40, 1])) that is different to the input size (torch.Size([40, 128])). This will likely lead to incorrect results due to broadcasting. Please ensure they have the same size.\n",
            "\n",
            "/usr/local/lib/python3.10/dist-packages/torch/nn/modules/loss.py:535: UserWarning:\n",
            "\n",
            "Using a target size (torch.Size([453, 1])) that is different to the input size (torch.Size([453, 128])). This will likely lead to incorrect results due to broadcasting. Please ensure they have the same size.\n",
            "\n",
            "/usr/local/lib/python3.10/dist-packages/torch/nn/modules/loss.py:535: UserWarning:\n",
            "\n",
            "Using a target size (torch.Size([24, 1])) that is different to the input size (torch.Size([24, 128])). This will likely lead to incorrect results due to broadcasting. Please ensure they have the same size.\n",
            "\n",
            "/usr/local/lib/python3.10/dist-packages/torch/nn/modules/loss.py:535: UserWarning:\n",
            "\n",
            "Using a target size (torch.Size([461, 1])) that is different to the input size (torch.Size([461, 128])). This will likely lead to incorrect results due to broadcasting. Please ensure they have the same size.\n",
            "\n",
            "/usr/local/lib/python3.10/dist-packages/torch/nn/modules/loss.py:535: UserWarning:\n",
            "\n",
            "Using a target size (torch.Size([16, 1])) that is different to the input size (torch.Size([16, 128])). This will likely lead to incorrect results due to broadcasting. Please ensure they have the same size.\n",
            "\n",
            "/usr/local/lib/python3.10/dist-packages/torch/nn/modules/loss.py:535: UserWarning:\n",
            "\n",
            "Using a target size (torch.Size([447, 1])) that is different to the input size (torch.Size([447, 128])). This will likely lead to incorrect results due to broadcasting. Please ensure they have the same size.\n",
            "\n",
            "/usr/local/lib/python3.10/dist-packages/torch/nn/modules/loss.py:535: UserWarning:\n",
            "\n",
            "Using a target size (torch.Size([30, 1])) that is different to the input size (torch.Size([30, 128])). This will likely lead to incorrect results due to broadcasting. Please ensure they have the same size.\n",
            "\n",
            "/usr/local/lib/python3.10/dist-packages/torch/nn/modules/loss.py:535: UserWarning:\n",
            "\n",
            "Using a target size (torch.Size([459, 1])) that is different to the input size (torch.Size([459, 128])). This will likely lead to incorrect results due to broadcasting. Please ensure they have the same size.\n",
            "\n",
            "/usr/local/lib/python3.10/dist-packages/torch/nn/modules/loss.py:535: UserWarning:\n",
            "\n",
            "Using a target size (torch.Size([18, 1])) that is different to the input size (torch.Size([18, 128])). This will likely lead to incorrect results due to broadcasting. Please ensure they have the same size.\n",
            "\n",
            "/usr/local/lib/python3.10/dist-packages/torch/nn/modules/loss.py:535: UserWarning:\n",
            "\n",
            "Using a target size (torch.Size([451, 1])) that is different to the input size (torch.Size([451, 128])). This will likely lead to incorrect results due to broadcasting. Please ensure they have the same size.\n",
            "\n",
            "/usr/local/lib/python3.10/dist-packages/torch/nn/modules/loss.py:535: UserWarning:\n",
            "\n",
            "Using a target size (torch.Size([26, 1])) that is different to the input size (torch.Size([26, 128])). This will likely lead to incorrect results due to broadcasting. Please ensure they have the same size.\n",
            "\n",
            "/usr/local/lib/python3.10/dist-packages/torch/nn/modules/loss.py:535: UserWarning:\n",
            "\n",
            "Using a target size (torch.Size([457, 1])) that is different to the input size (torch.Size([457, 128])). This will likely lead to incorrect results due to broadcasting. Please ensure they have the same size.\n",
            "\n",
            "/usr/local/lib/python3.10/dist-packages/torch/nn/modules/loss.py:535: UserWarning:\n",
            "\n",
            "Using a target size (torch.Size([20, 1])) that is different to the input size (torch.Size([20, 128])). This will likely lead to incorrect results due to broadcasting. Please ensure they have the same size.\n",
            "\n",
            "/usr/local/lib/python3.10/dist-packages/torch/nn/modules/loss.py:535: UserWarning:\n",
            "\n",
            "Using a target size (torch.Size([454, 1])) that is different to the input size (torch.Size([454, 128])). This will likely lead to incorrect results due to broadcasting. Please ensure they have the same size.\n",
            "\n",
            "/usr/local/lib/python3.10/dist-packages/torch/nn/modules/loss.py:535: UserWarning:\n",
            "\n",
            "Using a target size (torch.Size([23, 1])) that is different to the input size (torch.Size([23, 128])). This will likely lead to incorrect results due to broadcasting. Please ensure they have the same size.\n",
            "\n",
            "/usr/local/lib/python3.10/dist-packages/torch/nn/modules/loss.py:535: UserWarning:\n",
            "\n",
            "Using a target size (torch.Size([435, 1])) that is different to the input size (torch.Size([435, 128])). This will likely lead to incorrect results due to broadcasting. Please ensure they have the same size.\n",
            "\n",
            "/usr/local/lib/python3.10/dist-packages/torch/nn/modules/loss.py:535: UserWarning:\n",
            "\n",
            "Using a target size (torch.Size([42, 1])) that is different to the input size (torch.Size([42, 128])). This will likely lead to incorrect results due to broadcasting. Please ensure they have the same size.\n",
            "\n",
            "/usr/local/lib/python3.10/dist-packages/torch/nn/modules/loss.py:535: UserWarning:\n",
            "\n",
            "Using a target size (torch.Size([432, 1])) that is different to the input size (torch.Size([432, 128])). This will likely lead to incorrect results due to broadcasting. Please ensure they have the same size.\n",
            "\n",
            "/usr/local/lib/python3.10/dist-packages/torch/nn/modules/loss.py:535: UserWarning:\n",
            "\n",
            "Using a target size (torch.Size([45, 1])) that is different to the input size (torch.Size([45, 128])). This will likely lead to incorrect results due to broadcasting. Please ensure they have the same size.\n",
            "\n",
            "/usr/local/lib/python3.10/dist-packages/torch/nn/modules/loss.py:535: UserWarning:\n",
            "\n",
            "Using a target size (torch.Size([455, 1])) that is different to the input size (torch.Size([455, 128])). This will likely lead to incorrect results due to broadcasting. Please ensure they have the same size.\n",
            "\n",
            "/usr/local/lib/python3.10/dist-packages/torch/nn/modules/loss.py:535: UserWarning:\n",
            "\n",
            "Using a target size (torch.Size([22, 1])) that is different to the input size (torch.Size([22, 128])). This will likely lead to incorrect results due to broadcasting. Please ensure they have the same size.\n",
            "\n",
            "/usr/local/lib/python3.10/dist-packages/torch/nn/modules/loss.py:535: UserWarning:\n",
            "\n",
            "Using a target size (torch.Size([450, 1])) that is different to the input size (torch.Size([450, 128])). This will likely lead to incorrect results due to broadcasting. Please ensure they have the same size.\n",
            "\n",
            "/usr/local/lib/python3.10/dist-packages/torch/nn/modules/loss.py:535: UserWarning:\n",
            "\n",
            "Using a target size (torch.Size([27, 1])) that is different to the input size (torch.Size([27, 128])). This will likely lead to incorrect results due to broadcasting. Please ensure they have the same size.\n",
            "\n",
            "/usr/local/lib/python3.10/dist-packages/torch/nn/modules/loss.py:535: UserWarning:\n",
            "\n",
            "Using a target size (torch.Size([434, 1])) that is different to the input size (torch.Size([434, 128])). This will likely lead to incorrect results due to broadcasting. Please ensure they have the same size.\n",
            "\n",
            "/usr/local/lib/python3.10/dist-packages/torch/nn/modules/loss.py:535: UserWarning:\n",
            "\n",
            "Using a target size (torch.Size([43, 1])) that is different to the input size (torch.Size([43, 128])). This will likely lead to incorrect results due to broadcasting. Please ensure they have the same size.\n",
            "\n",
            "/usr/local/lib/python3.10/dist-packages/torch/nn/modules/loss.py:535: UserWarning:\n",
            "\n",
            "Using a target size (torch.Size([442, 1])) that is different to the input size (torch.Size([442, 128])). This will likely lead to incorrect results due to broadcasting. Please ensure they have the same size.\n",
            "\n",
            "/usr/local/lib/python3.10/dist-packages/torch/nn/modules/loss.py:535: UserWarning:\n",
            "\n",
            "Using a target size (torch.Size([35, 1])) that is different to the input size (torch.Size([35, 128])). This will likely lead to incorrect results due to broadcasting. Please ensure they have the same size.\n",
            "\n",
            "/usr/local/lib/python3.10/dist-packages/torch/nn/modules/loss.py:535: UserWarning:\n",
            "\n",
            "Using a target size (torch.Size([449, 1])) that is different to the input size (torch.Size([449, 128])). This will likely lead to incorrect results due to broadcasting. Please ensure they have the same size.\n",
            "\n",
            "/usr/local/lib/python3.10/dist-packages/torch/nn/modules/loss.py:535: UserWarning:\n",
            "\n",
            "Using a target size (torch.Size([28, 1])) that is different to the input size (torch.Size([28, 128])). This will likely lead to incorrect results due to broadcasting. Please ensure they have the same size.\n",
            "\n",
            "/usr/local/lib/python3.10/dist-packages/torch/nn/modules/loss.py:535: UserWarning:\n",
            "\n",
            "Using a target size (torch.Size([452, 1])) that is different to the input size (torch.Size([452, 128])). This will likely lead to incorrect results due to broadcasting. Please ensure they have the same size.\n",
            "\n",
            "/usr/local/lib/python3.10/dist-packages/torch/nn/modules/loss.py:535: UserWarning:\n",
            "\n",
            "Using a target size (torch.Size([25, 1])) that is different to the input size (torch.Size([25, 128])). This will likely lead to incorrect results due to broadcasting. Please ensure they have the same size.\n",
            "\n",
            "/usr/local/lib/python3.10/dist-packages/torch/nn/modules/loss.py:535: UserWarning:\n",
            "\n",
            "Using a target size (torch.Size([438, 1])) that is different to the input size (torch.Size([438, 128])). This will likely lead to incorrect results due to broadcasting. Please ensure they have the same size.\n",
            "\n",
            "/usr/local/lib/python3.10/dist-packages/torch/nn/modules/loss.py:535: UserWarning:\n",
            "\n",
            "Using a target size (torch.Size([39, 1])) that is different to the input size (torch.Size([39, 128])). This will likely lead to incorrect results due to broadcasting. Please ensure they have the same size.\n",
            "\n",
            "/usr/local/lib/python3.10/dist-packages/torch/nn/modules/loss.py:535: UserWarning:\n",
            "\n",
            "Using a target size (torch.Size([436, 1])) that is different to the input size (torch.Size([436, 128])). This will likely lead to incorrect results due to broadcasting. Please ensure they have the same size.\n",
            "\n",
            "/usr/local/lib/python3.10/dist-packages/torch/nn/modules/loss.py:535: UserWarning:\n",
            "\n",
            "Using a target size (torch.Size([41, 1])) that is different to the input size (torch.Size([41, 128])). This will likely lead to incorrect results due to broadcasting. Please ensure they have the same size.\n",
            "\n",
            "[I 2024-08-09 13:49:37,022] Trial 0 finished with value: 11.024536609649658 and parameters: {'learning_rate': 0.02855853648429391, 'hidden_dim': 128, 'latent_dim': 32, 'batch_size': 32, 'num_hidden_layers': 5}. Best is trial 0 with value: 11.024536609649658.\n"
          ]
        },
        {
          "output_type": "stream",
          "name": "stdout",
          "text": [
            "Epoch 100, Loss: 11.024536609649658\n"
          ]
        },
        {
          "output_type": "stream",
          "name": "stderr",
          "text": [
            "/usr/local/lib/python3.10/dist-packages/torch/nn/modules/loss.py:535: UserWarning:\n",
            "\n",
            "Using a target size (torch.Size([456, 1])) that is different to the input size (torch.Size([456, 256])). This will likely lead to incorrect results due to broadcasting. Please ensure they have the same size.\n",
            "\n",
            "/usr/local/lib/python3.10/dist-packages/torch/nn/modules/loss.py:535: UserWarning:\n",
            "\n",
            "Using a target size (torch.Size([21, 1])) that is different to the input size (torch.Size([21, 256])). This will likely lead to incorrect results due to broadcasting. Please ensure they have the same size.\n",
            "\n",
            "/usr/local/lib/python3.10/dist-packages/torch/nn/modules/loss.py:535: UserWarning:\n",
            "\n",
            "Using a target size (torch.Size([453, 1])) that is different to the input size (torch.Size([453, 256])). This will likely lead to incorrect results due to broadcasting. Please ensure they have the same size.\n",
            "\n",
            "/usr/local/lib/python3.10/dist-packages/torch/nn/modules/loss.py:535: UserWarning:\n",
            "\n",
            "Using a target size (torch.Size([24, 1])) that is different to the input size (torch.Size([24, 256])). This will likely lead to incorrect results due to broadcasting. Please ensure they have the same size.\n",
            "\n",
            "/usr/local/lib/python3.10/dist-packages/torch/nn/modules/loss.py:535: UserWarning:\n",
            "\n",
            "Using a target size (torch.Size([454, 1])) that is different to the input size (torch.Size([454, 256])). This will likely lead to incorrect results due to broadcasting. Please ensure they have the same size.\n",
            "\n",
            "/usr/local/lib/python3.10/dist-packages/torch/nn/modules/loss.py:535: UserWarning:\n",
            "\n",
            "Using a target size (torch.Size([23, 1])) that is different to the input size (torch.Size([23, 256])). This will likely lead to incorrect results due to broadcasting. Please ensure they have the same size.\n",
            "\n",
            "/usr/local/lib/python3.10/dist-packages/torch/nn/modules/loss.py:535: UserWarning:\n",
            "\n",
            "Using a target size (torch.Size([449, 1])) that is different to the input size (torch.Size([449, 256])). This will likely lead to incorrect results due to broadcasting. Please ensure they have the same size.\n",
            "\n",
            "/usr/local/lib/python3.10/dist-packages/torch/nn/modules/loss.py:535: UserWarning:\n",
            "\n",
            "Using a target size (torch.Size([28, 1])) that is different to the input size (torch.Size([28, 256])). This will likely lead to incorrect results due to broadcasting. Please ensure they have the same size.\n",
            "\n",
            "/usr/local/lib/python3.10/dist-packages/torch/nn/modules/loss.py:535: UserWarning:\n",
            "\n",
            "Using a target size (torch.Size([447, 1])) that is different to the input size (torch.Size([447, 256])). This will likely lead to incorrect results due to broadcasting. Please ensure they have the same size.\n",
            "\n",
            "/usr/local/lib/python3.10/dist-packages/torch/nn/modules/loss.py:535: UserWarning:\n",
            "\n",
            "Using a target size (torch.Size([30, 1])) that is different to the input size (torch.Size([30, 256])). This will likely lead to incorrect results due to broadcasting. Please ensure they have the same size.\n",
            "\n",
            "/usr/local/lib/python3.10/dist-packages/torch/nn/modules/loss.py:535: UserWarning:\n",
            "\n",
            "Using a target size (torch.Size([422, 1])) that is different to the input size (torch.Size([422, 256])). This will likely lead to incorrect results due to broadcasting. Please ensure they have the same size.\n",
            "\n",
            "/usr/local/lib/python3.10/dist-packages/torch/nn/modules/loss.py:535: UserWarning:\n",
            "\n",
            "Using a target size (torch.Size([55, 1])) that is different to the input size (torch.Size([55, 256])). This will likely lead to incorrect results due to broadcasting. Please ensure they have the same size.\n",
            "\n",
            "/usr/local/lib/python3.10/dist-packages/torch/nn/modules/loss.py:535: UserWarning:\n",
            "\n",
            "Using a target size (torch.Size([448, 1])) that is different to the input size (torch.Size([448, 256])). This will likely lead to incorrect results due to broadcasting. Please ensure they have the same size.\n",
            "\n",
            "/usr/local/lib/python3.10/dist-packages/torch/nn/modules/loss.py:535: UserWarning:\n",
            "\n",
            "Using a target size (torch.Size([29, 1])) that is different to the input size (torch.Size([29, 256])). This will likely lead to incorrect results due to broadcasting. Please ensure they have the same size.\n",
            "\n",
            "/usr/local/lib/python3.10/dist-packages/torch/nn/modules/loss.py:535: UserWarning:\n",
            "\n",
            "Using a target size (torch.Size([432, 1])) that is different to the input size (torch.Size([432, 256])). This will likely lead to incorrect results due to broadcasting. Please ensure they have the same size.\n",
            "\n",
            "/usr/local/lib/python3.10/dist-packages/torch/nn/modules/loss.py:535: UserWarning:\n",
            "\n",
            "Using a target size (torch.Size([45, 1])) that is different to the input size (torch.Size([45, 256])). This will likely lead to incorrect results due to broadcasting. Please ensure they have the same size.\n",
            "\n",
            "/usr/local/lib/python3.10/dist-packages/torch/nn/modules/loss.py:535: UserWarning:\n",
            "\n",
            "Using a target size (torch.Size([459, 1])) that is different to the input size (torch.Size([459, 256])). This will likely lead to incorrect results due to broadcasting. Please ensure they have the same size.\n",
            "\n",
            "/usr/local/lib/python3.10/dist-packages/torch/nn/modules/loss.py:535: UserWarning:\n",
            "\n",
            "Using a target size (torch.Size([18, 1])) that is different to the input size (torch.Size([18, 256])). This will likely lead to incorrect results due to broadcasting. Please ensure they have the same size.\n",
            "\n",
            "/usr/local/lib/python3.10/dist-packages/torch/nn/modules/loss.py:535: UserWarning:\n",
            "\n",
            "Using a target size (torch.Size([426, 1])) that is different to the input size (torch.Size([426, 256])). This will likely lead to incorrect results due to broadcasting. Please ensure they have the same size.\n",
            "\n",
            "/usr/local/lib/python3.10/dist-packages/torch/nn/modules/loss.py:535: UserWarning:\n",
            "\n",
            "Using a target size (torch.Size([51, 1])) that is different to the input size (torch.Size([51, 256])). This will likely lead to incorrect results due to broadcasting. Please ensure they have the same size.\n",
            "\n",
            "/usr/local/lib/python3.10/dist-packages/torch/nn/modules/loss.py:535: UserWarning:\n",
            "\n",
            "Using a target size (torch.Size([458, 1])) that is different to the input size (torch.Size([458, 256])). This will likely lead to incorrect results due to broadcasting. Please ensure they have the same size.\n",
            "\n",
            "/usr/local/lib/python3.10/dist-packages/torch/nn/modules/loss.py:535: UserWarning:\n",
            "\n",
            "Using a target size (torch.Size([19, 1])) that is different to the input size (torch.Size([19, 256])). This will likely lead to incorrect results due to broadcasting. Please ensure they have the same size.\n",
            "\n",
            "/usr/local/lib/python3.10/dist-packages/torch/nn/modules/loss.py:535: UserWarning:\n",
            "\n",
            "Using a target size (torch.Size([442, 1])) that is different to the input size (torch.Size([442, 256])). This will likely lead to incorrect results due to broadcasting. Please ensure they have the same size.\n",
            "\n",
            "/usr/local/lib/python3.10/dist-packages/torch/nn/modules/loss.py:535: UserWarning:\n",
            "\n",
            "Using a target size (torch.Size([35, 1])) that is different to the input size (torch.Size([35, 256])). This will likely lead to incorrect results due to broadcasting. Please ensure they have the same size.\n",
            "\n",
            "/usr/local/lib/python3.10/dist-packages/torch/nn/modules/loss.py:535: UserWarning:\n",
            "\n",
            "Using a target size (torch.Size([443, 1])) that is different to the input size (torch.Size([443, 256])). This will likely lead to incorrect results due to broadcasting. Please ensure they have the same size.\n",
            "\n",
            "/usr/local/lib/python3.10/dist-packages/torch/nn/modules/loss.py:535: UserWarning:\n",
            "\n",
            "Using a target size (torch.Size([34, 1])) that is different to the input size (torch.Size([34, 256])). This will likely lead to incorrect results due to broadcasting. Please ensure they have the same size.\n",
            "\n",
            "/usr/local/lib/python3.10/dist-packages/torch/nn/modules/loss.py:535: UserWarning:\n",
            "\n",
            "Using a target size (torch.Size([438, 1])) that is different to the input size (torch.Size([438, 256])). This will likely lead to incorrect results due to broadcasting. Please ensure they have the same size.\n",
            "\n",
            "/usr/local/lib/python3.10/dist-packages/torch/nn/modules/loss.py:535: UserWarning:\n",
            "\n",
            "Using a target size (torch.Size([39, 1])) that is different to the input size (torch.Size([39, 256])). This will likely lead to incorrect results due to broadcasting. Please ensure they have the same size.\n",
            "\n",
            "/usr/local/lib/python3.10/dist-packages/torch/nn/modules/loss.py:535: UserWarning:\n",
            "\n",
            "Using a target size (torch.Size([445, 1])) that is different to the input size (torch.Size([445, 256])). This will likely lead to incorrect results due to broadcasting. Please ensure they have the same size.\n",
            "\n",
            "/usr/local/lib/python3.10/dist-packages/torch/nn/modules/loss.py:535: UserWarning:\n",
            "\n",
            "Using a target size (torch.Size([32, 1])) that is different to the input size (torch.Size([32, 256])). This will likely lead to incorrect results due to broadcasting. Please ensure they have the same size.\n",
            "\n",
            "/usr/local/lib/python3.10/dist-packages/torch/nn/modules/loss.py:535: UserWarning:\n",
            "\n",
            "Using a target size (torch.Size([452, 1])) that is different to the input size (torch.Size([452, 256])). This will likely lead to incorrect results due to broadcasting. Please ensure they have the same size.\n",
            "\n",
            "/usr/local/lib/python3.10/dist-packages/torch/nn/modules/loss.py:535: UserWarning:\n",
            "\n",
            "Using a target size (torch.Size([25, 1])) that is different to the input size (torch.Size([25, 256])). This will likely lead to incorrect results due to broadcasting. Please ensure they have the same size.\n",
            "\n",
            "/usr/local/lib/python3.10/dist-packages/torch/nn/modules/loss.py:535: UserWarning:\n",
            "\n",
            "Using a target size (torch.Size([450, 1])) that is different to the input size (torch.Size([450, 256])). This will likely lead to incorrect results due to broadcasting. Please ensure they have the same size.\n",
            "\n",
            "/usr/local/lib/python3.10/dist-packages/torch/nn/modules/loss.py:535: UserWarning:\n",
            "\n",
            "Using a target size (torch.Size([27, 1])) that is different to the input size (torch.Size([27, 256])). This will likely lead to incorrect results due to broadcasting. Please ensure they have the same size.\n",
            "\n",
            "/usr/local/lib/python3.10/dist-packages/torch/nn/modules/loss.py:535: UserWarning:\n",
            "\n",
            "Using a target size (torch.Size([446, 1])) that is different to the input size (torch.Size([446, 256])). This will likely lead to incorrect results due to broadcasting. Please ensure they have the same size.\n",
            "\n",
            "/usr/local/lib/python3.10/dist-packages/torch/nn/modules/loss.py:535: UserWarning:\n",
            "\n",
            "Using a target size (torch.Size([31, 1])) that is different to the input size (torch.Size([31, 256])). This will likely lead to incorrect results due to broadcasting. Please ensure they have the same size.\n",
            "\n",
            "/usr/local/lib/python3.10/dist-packages/torch/nn/modules/loss.py:535: UserWarning:\n",
            "\n",
            "Using a target size (torch.Size([444, 1])) that is different to the input size (torch.Size([444, 256])). This will likely lead to incorrect results due to broadcasting. Please ensure they have the same size.\n",
            "\n",
            "/usr/local/lib/python3.10/dist-packages/torch/nn/modules/loss.py:535: UserWarning:\n",
            "\n",
            "Using a target size (torch.Size([33, 1])) that is different to the input size (torch.Size([33, 256])). This will likely lead to incorrect results due to broadcasting. Please ensure they have the same size.\n",
            "\n",
            "/usr/local/lib/python3.10/dist-packages/torch/nn/modules/loss.py:535: UserWarning:\n",
            "\n",
            "Using a target size (torch.Size([440, 1])) that is different to the input size (torch.Size([440, 256])). This will likely lead to incorrect results due to broadcasting. Please ensure they have the same size.\n",
            "\n",
            "/usr/local/lib/python3.10/dist-packages/torch/nn/modules/loss.py:535: UserWarning:\n",
            "\n",
            "Using a target size (torch.Size([37, 1])) that is different to the input size (torch.Size([37, 256])). This will likely lead to incorrect results due to broadcasting. Please ensure they have the same size.\n",
            "\n",
            "/usr/local/lib/python3.10/dist-packages/torch/nn/modules/loss.py:535: UserWarning:\n",
            "\n",
            "Using a target size (torch.Size([451, 1])) that is different to the input size (torch.Size([451, 256])). This will likely lead to incorrect results due to broadcasting. Please ensure they have the same size.\n",
            "\n",
            "/usr/local/lib/python3.10/dist-packages/torch/nn/modules/loss.py:535: UserWarning:\n",
            "\n",
            "Using a target size (torch.Size([26, 1])) that is different to the input size (torch.Size([26, 256])). This will likely lead to incorrect results due to broadcasting. Please ensure they have the same size.\n",
            "\n",
            "/usr/local/lib/python3.10/dist-packages/torch/nn/modules/loss.py:535: UserWarning:\n",
            "\n",
            "Using a target size (torch.Size([455, 1])) that is different to the input size (torch.Size([455, 256])). This will likely lead to incorrect results due to broadcasting. Please ensure they have the same size.\n",
            "\n",
            "/usr/local/lib/python3.10/dist-packages/torch/nn/modules/loss.py:535: UserWarning:\n",
            "\n",
            "Using a target size (torch.Size([22, 1])) that is different to the input size (torch.Size([22, 256])). This will likely lead to incorrect results due to broadcasting. Please ensure they have the same size.\n",
            "\n",
            "/usr/local/lib/python3.10/dist-packages/torch/nn/modules/loss.py:535: UserWarning:\n",
            "\n",
            "Using a target size (torch.Size([436, 1])) that is different to the input size (torch.Size([436, 256])). This will likely lead to incorrect results due to broadcasting. Please ensure they have the same size.\n",
            "\n",
            "/usr/local/lib/python3.10/dist-packages/torch/nn/modules/loss.py:535: UserWarning:\n",
            "\n",
            "Using a target size (torch.Size([41, 1])) that is different to the input size (torch.Size([41, 256])). This will likely lead to incorrect results due to broadcasting. Please ensure they have the same size.\n",
            "\n",
            "/usr/local/lib/python3.10/dist-packages/torch/nn/modules/loss.py:535: UserWarning:\n",
            "\n",
            "Using a target size (torch.Size([427, 1])) that is different to the input size (torch.Size([427, 256])). This will likely lead to incorrect results due to broadcasting. Please ensure they have the same size.\n",
            "\n",
            "/usr/local/lib/python3.10/dist-packages/torch/nn/modules/loss.py:535: UserWarning:\n",
            "\n",
            "Using a target size (torch.Size([50, 1])) that is different to the input size (torch.Size([50, 256])). This will likely lead to incorrect results due to broadcasting. Please ensure they have the same size.\n",
            "\n",
            "/usr/local/lib/python3.10/dist-packages/torch/nn/modules/loss.py:535: UserWarning:\n",
            "\n",
            "Using a target size (torch.Size([433, 1])) that is different to the input size (torch.Size([433, 256])). This will likely lead to incorrect results due to broadcasting. Please ensure they have the same size.\n",
            "\n",
            "/usr/local/lib/python3.10/dist-packages/torch/nn/modules/loss.py:535: UserWarning:\n",
            "\n",
            "Using a target size (torch.Size([44, 1])) that is different to the input size (torch.Size([44, 256])). This will likely lead to incorrect results due to broadcasting. Please ensure they have the same size.\n",
            "\n",
            "/usr/local/lib/python3.10/dist-packages/torch/nn/modules/loss.py:535: UserWarning:\n",
            "\n",
            "Using a target size (torch.Size([457, 1])) that is different to the input size (torch.Size([457, 256])). This will likely lead to incorrect results due to broadcasting. Please ensure they have the same size.\n",
            "\n",
            "/usr/local/lib/python3.10/dist-packages/torch/nn/modules/loss.py:535: UserWarning:\n",
            "\n",
            "Using a target size (torch.Size([20, 1])) that is different to the input size (torch.Size([20, 256])). This will likely lead to incorrect results due to broadcasting. Please ensure they have the same size.\n",
            "\n",
            "/usr/local/lib/python3.10/dist-packages/torch/nn/modules/loss.py:535: UserWarning:\n",
            "\n",
            "Using a target size (torch.Size([437, 1])) that is different to the input size (torch.Size([437, 256])). This will likely lead to incorrect results due to broadcasting. Please ensure they have the same size.\n",
            "\n",
            "/usr/local/lib/python3.10/dist-packages/torch/nn/modules/loss.py:535: UserWarning:\n",
            "\n",
            "Using a target size (torch.Size([40, 1])) that is different to the input size (torch.Size([40, 256])). This will likely lead to incorrect results due to broadcasting. Please ensure they have the same size.\n",
            "\n",
            "/usr/local/lib/python3.10/dist-packages/torch/nn/modules/loss.py:535: UserWarning:\n",
            "\n",
            "Using a target size (torch.Size([429, 1])) that is different to the input size (torch.Size([429, 256])). This will likely lead to incorrect results due to broadcasting. Please ensure they have the same size.\n",
            "\n",
            "/usr/local/lib/python3.10/dist-packages/torch/nn/modules/loss.py:535: UserWarning:\n",
            "\n",
            "Using a target size (torch.Size([48, 1])) that is different to the input size (torch.Size([48, 256])). This will likely lead to incorrect results due to broadcasting. Please ensure they have the same size.\n",
            "\n",
            "[I 2024-08-09 13:49:38,430] Trial 1 finished with value: 9.784942150115967 and parameters: {'learning_rate': 0.026834336030833923, 'hidden_dim': 256, 'latent_dim': 32, 'batch_size': 32, 'num_hidden_layers': 3}. Best is trial 1 with value: 9.784942150115967.\n",
            "/usr/local/lib/python3.10/dist-packages/torch/nn/modules/loss.py:535: UserWarning:\n",
            "\n",
            "Using a target size (torch.Size([477, 1])) that is different to the input size (torch.Size([477, 256])). This will likely lead to incorrect results due to broadcasting. Please ensure they have the same size.\n",
            "\n"
          ]
        },
        {
          "output_type": "stream",
          "name": "stdout",
          "text": [
            "Epoch 100, Loss: 9.784942150115967\n"
          ]
        },
        {
          "output_type": "stream",
          "name": "stderr",
          "text": [
            "[I 2024-08-09 13:49:39,357] Trial 2 finished with value: 55.31134033203125 and parameters: {'learning_rate': 0.002446855819168861, 'hidden_dim': 256, 'latent_dim': 32, 'batch_size': 64, 'num_hidden_layers': 5}. Best is trial 1 with value: 9.784942150115967.\n"
          ]
        },
        {
          "output_type": "stream",
          "name": "stdout",
          "text": [
            "Epoch 100, Loss: 55.31134033203125\n"
          ]
        },
        {
          "output_type": "stream",
          "name": "stderr",
          "text": [
            "/usr/local/lib/python3.10/dist-packages/torch/nn/modules/loss.py:535: UserWarning:\n",
            "\n",
            "Using a target size (torch.Size([461, 1])) that is different to the input size (torch.Size([461, 256])). This will likely lead to incorrect results due to broadcasting. Please ensure they have the same size.\n",
            "\n",
            "/usr/local/lib/python3.10/dist-packages/torch/nn/modules/loss.py:535: UserWarning:\n",
            "\n",
            "Using a target size (torch.Size([16, 1])) that is different to the input size (torch.Size([16, 256])). This will likely lead to incorrect results due to broadcasting. Please ensure they have the same size.\n",
            "\n",
            "/usr/local/lib/python3.10/dist-packages/torch/nn/modules/loss.py:535: UserWarning:\n",
            "\n",
            "Using a target size (torch.Size([435, 1])) that is different to the input size (torch.Size([435, 256])). This will likely lead to incorrect results due to broadcasting. Please ensure they have the same size.\n",
            "\n",
            "/usr/local/lib/python3.10/dist-packages/torch/nn/modules/loss.py:535: UserWarning:\n",
            "\n",
            "Using a target size (torch.Size([42, 1])) that is different to the input size (torch.Size([42, 256])). This will likely lead to incorrect results due to broadcasting. Please ensure they have the same size.\n",
            "\n",
            "/usr/local/lib/python3.10/dist-packages/torch/nn/modules/loss.py:535: UserWarning:\n",
            "\n",
            "Using a target size (torch.Size([441, 1])) that is different to the input size (torch.Size([441, 256])). This will likely lead to incorrect results due to broadcasting. Please ensure they have the same size.\n",
            "\n",
            "/usr/local/lib/python3.10/dist-packages/torch/nn/modules/loss.py:535: UserWarning:\n",
            "\n",
            "Using a target size (torch.Size([36, 1])) that is different to the input size (torch.Size([36, 256])). This will likely lead to incorrect results due to broadcasting. Please ensure they have the same size.\n",
            "\n",
            "/usr/local/lib/python3.10/dist-packages/torch/nn/modules/loss.py:535: UserWarning:\n",
            "\n",
            "Using a target size (torch.Size([431, 1])) that is different to the input size (torch.Size([431, 256])). This will likely lead to incorrect results due to broadcasting. Please ensure they have the same size.\n",
            "\n",
            "/usr/local/lib/python3.10/dist-packages/torch/nn/modules/loss.py:535: UserWarning:\n",
            "\n",
            "Using a target size (torch.Size([46, 1])) that is different to the input size (torch.Size([46, 256])). This will likely lead to incorrect results due to broadcasting. Please ensure they have the same size.\n",
            "\n",
            "/usr/local/lib/python3.10/dist-packages/torch/nn/modules/loss.py:535: UserWarning:\n",
            "\n",
            "Using a target size (torch.Size([424, 1])) that is different to the input size (torch.Size([424, 256])). This will likely lead to incorrect results due to broadcasting. Please ensure they have the same size.\n",
            "\n",
            "/usr/local/lib/python3.10/dist-packages/torch/nn/modules/loss.py:535: UserWarning:\n",
            "\n",
            "Using a target size (torch.Size([53, 1])) that is different to the input size (torch.Size([53, 256])). This will likely lead to incorrect results due to broadcasting. Please ensure they have the same size.\n",
            "\n",
            "[I 2024-08-09 13:49:41,119] Trial 3 finished with value: 10.854411125183105 and parameters: {'learning_rate': 0.015216090353972386, 'hidden_dim': 256, 'latent_dim': 32, 'batch_size': 32, 'num_hidden_layers': 5}. Best is trial 1 with value: 9.784942150115967.\n"
          ]
        },
        {
          "output_type": "stream",
          "name": "stdout",
          "text": [
            "Epoch 100, Loss: 10.854411125183105\n"
          ]
        },
        {
          "output_type": "stream",
          "name": "stderr",
          "text": [
            "[I 2024-08-09 13:49:42,144] Trial 4 finished with value: 51.119850158691406 and parameters: {'learning_rate': 0.002834704157157985, 'hidden_dim': 256, 'latent_dim': 32, 'batch_size': 64, 'num_hidden_layers': 6}. Best is trial 1 with value: 9.784942150115967.\n"
          ]
        },
        {
          "output_type": "stream",
          "name": "stdout",
          "text": [
            "Epoch 100, Loss: 51.119850158691406\n"
          ]
        },
        {
          "output_type": "stream",
          "name": "stderr",
          "text": [
            "/usr/local/lib/python3.10/dist-packages/torch/nn/modules/loss.py:535: UserWarning:\n",
            "\n",
            "Using a target size (torch.Size([454, 1])) that is different to the input size (torch.Size([454, 192])). This will likely lead to incorrect results due to broadcasting. Please ensure they have the same size.\n",
            "\n",
            "/usr/local/lib/python3.10/dist-packages/torch/nn/modules/loss.py:535: UserWarning:\n",
            "\n",
            "Using a target size (torch.Size([23, 1])) that is different to the input size (torch.Size([23, 192])). This will likely lead to incorrect results due to broadcasting. Please ensure they have the same size.\n",
            "\n",
            "/usr/local/lib/python3.10/dist-packages/torch/nn/modules/loss.py:535: UserWarning:\n",
            "\n",
            "Using a target size (torch.Size([456, 1])) that is different to the input size (torch.Size([456, 192])). This will likely lead to incorrect results due to broadcasting. Please ensure they have the same size.\n",
            "\n",
            "/usr/local/lib/python3.10/dist-packages/torch/nn/modules/loss.py:535: UserWarning:\n",
            "\n",
            "Using a target size (torch.Size([21, 1])) that is different to the input size (torch.Size([21, 192])). This will likely lead to incorrect results due to broadcasting. Please ensure they have the same size.\n",
            "\n",
            "/usr/local/lib/python3.10/dist-packages/torch/nn/modules/loss.py:535: UserWarning:\n",
            "\n",
            "Using a target size (torch.Size([451, 1])) that is different to the input size (torch.Size([451, 192])). This will likely lead to incorrect results due to broadcasting. Please ensure they have the same size.\n",
            "\n",
            "/usr/local/lib/python3.10/dist-packages/torch/nn/modules/loss.py:535: UserWarning:\n",
            "\n",
            "Using a target size (torch.Size([26, 1])) that is different to the input size (torch.Size([26, 192])). This will likely lead to incorrect results due to broadcasting. Please ensure they have the same size.\n",
            "\n",
            "/usr/local/lib/python3.10/dist-packages/torch/nn/modules/loss.py:535: UserWarning:\n",
            "\n",
            "Using a target size (torch.Size([445, 1])) that is different to the input size (torch.Size([445, 192])). This will likely lead to incorrect results due to broadcasting. Please ensure they have the same size.\n",
            "\n",
            "/usr/local/lib/python3.10/dist-packages/torch/nn/modules/loss.py:535: UserWarning:\n",
            "\n",
            "Using a target size (torch.Size([32, 1])) that is different to the input size (torch.Size([32, 192])). This will likely lead to incorrect results due to broadcasting. Please ensure they have the same size.\n",
            "\n",
            "/usr/local/lib/python3.10/dist-packages/torch/nn/modules/loss.py:535: UserWarning:\n",
            "\n",
            "Using a target size (torch.Size([461, 1])) that is different to the input size (torch.Size([461, 192])). This will likely lead to incorrect results due to broadcasting. Please ensure they have the same size.\n",
            "\n",
            "/usr/local/lib/python3.10/dist-packages/torch/nn/modules/loss.py:535: UserWarning:\n",
            "\n",
            "Using a target size (torch.Size([16, 1])) that is different to the input size (torch.Size([16, 192])). This will likely lead to incorrect results due to broadcasting. Please ensure they have the same size.\n",
            "\n",
            "/usr/local/lib/python3.10/dist-packages/torch/nn/modules/loss.py:535: UserWarning:\n",
            "\n",
            "Using a target size (torch.Size([447, 1])) that is different to the input size (torch.Size([447, 192])). This will likely lead to incorrect results due to broadcasting. Please ensure they have the same size.\n",
            "\n",
            "/usr/local/lib/python3.10/dist-packages/torch/nn/modules/loss.py:535: UserWarning:\n",
            "\n",
            "Using a target size (torch.Size([30, 1])) that is different to the input size (torch.Size([30, 192])). This will likely lead to incorrect results due to broadcasting. Please ensure they have the same size.\n",
            "\n",
            "/usr/local/lib/python3.10/dist-packages/torch/nn/modules/loss.py:535: UserWarning:\n",
            "\n",
            "Using a target size (torch.Size([453, 1])) that is different to the input size (torch.Size([453, 192])). This will likely lead to incorrect results due to broadcasting. Please ensure they have the same size.\n",
            "\n",
            "/usr/local/lib/python3.10/dist-packages/torch/nn/modules/loss.py:535: UserWarning:\n",
            "\n",
            "Using a target size (torch.Size([24, 1])) that is different to the input size (torch.Size([24, 192])). This will likely lead to incorrect results due to broadcasting. Please ensure they have the same size.\n",
            "\n",
            "/usr/local/lib/python3.10/dist-packages/torch/nn/modules/loss.py:535: UserWarning:\n",
            "\n",
            "Using a target size (torch.Size([450, 1])) that is different to the input size (torch.Size([450, 192])). This will likely lead to incorrect results due to broadcasting. Please ensure they have the same size.\n",
            "\n",
            "/usr/local/lib/python3.10/dist-packages/torch/nn/modules/loss.py:535: UserWarning:\n",
            "\n",
            "Using a target size (torch.Size([27, 1])) that is different to the input size (torch.Size([27, 192])). This will likely lead to incorrect results due to broadcasting. Please ensure they have the same size.\n",
            "\n",
            "/usr/local/lib/python3.10/dist-packages/torch/nn/modules/loss.py:535: UserWarning:\n",
            "\n",
            "Using a target size (torch.Size([448, 1])) that is different to the input size (torch.Size([448, 192])). This will likely lead to incorrect results due to broadcasting. Please ensure they have the same size.\n",
            "\n",
            "/usr/local/lib/python3.10/dist-packages/torch/nn/modules/loss.py:535: UserWarning:\n",
            "\n",
            "Using a target size (torch.Size([29, 1])) that is different to the input size (torch.Size([29, 192])). This will likely lead to incorrect results due to broadcasting. Please ensure they have the same size.\n",
            "\n",
            "/usr/local/lib/python3.10/dist-packages/torch/nn/modules/loss.py:535: UserWarning:\n",
            "\n",
            "Using a target size (torch.Size([439, 1])) that is different to the input size (torch.Size([439, 192])). This will likely lead to incorrect results due to broadcasting. Please ensure they have the same size.\n",
            "\n",
            "/usr/local/lib/python3.10/dist-packages/torch/nn/modules/loss.py:535: UserWarning:\n",
            "\n",
            "Using a target size (torch.Size([38, 1])) that is different to the input size (torch.Size([38, 192])). This will likely lead to incorrect results due to broadcasting. Please ensure they have the same size.\n",
            "\n",
            "/usr/local/lib/python3.10/dist-packages/torch/nn/modules/loss.py:535: UserWarning:\n",
            "\n",
            "Using a target size (torch.Size([455, 1])) that is different to the input size (torch.Size([455, 192])). This will likely lead to incorrect results due to broadcasting. Please ensure they have the same size.\n",
            "\n",
            "/usr/local/lib/python3.10/dist-packages/torch/nn/modules/loss.py:535: UserWarning:\n",
            "\n",
            "Using a target size (torch.Size([22, 1])) that is different to the input size (torch.Size([22, 192])). This will likely lead to incorrect results due to broadcasting. Please ensure they have the same size.\n",
            "\n",
            "/usr/local/lib/python3.10/dist-packages/torch/nn/modules/loss.py:535: UserWarning:\n",
            "\n",
            "Using a target size (torch.Size([458, 1])) that is different to the input size (torch.Size([458, 192])). This will likely lead to incorrect results due to broadcasting. Please ensure they have the same size.\n",
            "\n",
            "/usr/local/lib/python3.10/dist-packages/torch/nn/modules/loss.py:535: UserWarning:\n",
            "\n",
            "Using a target size (torch.Size([19, 1])) that is different to the input size (torch.Size([19, 192])). This will likely lead to incorrect results due to broadcasting. Please ensure they have the same size.\n",
            "\n",
            "/usr/local/lib/python3.10/dist-packages/torch/nn/modules/loss.py:535: UserWarning:\n",
            "\n",
            "Using a target size (torch.Size([443, 1])) that is different to the input size (torch.Size([443, 192])). This will likely lead to incorrect results due to broadcasting. Please ensure they have the same size.\n",
            "\n",
            "/usr/local/lib/python3.10/dist-packages/torch/nn/modules/loss.py:535: UserWarning:\n",
            "\n",
            "Using a target size (torch.Size([34, 1])) that is different to the input size (torch.Size([34, 192])). This will likely lead to incorrect results due to broadcasting. Please ensure they have the same size.\n",
            "\n",
            "/usr/local/lib/python3.10/dist-packages/torch/nn/modules/loss.py:535: UserWarning:\n",
            "\n",
            "Using a target size (torch.Size([440, 1])) that is different to the input size (torch.Size([440, 192])). This will likely lead to incorrect results due to broadcasting. Please ensure they have the same size.\n",
            "\n",
            "/usr/local/lib/python3.10/dist-packages/torch/nn/modules/loss.py:535: UserWarning:\n",
            "\n",
            "Using a target size (torch.Size([37, 1])) that is different to the input size (torch.Size([37, 192])). This will likely lead to incorrect results due to broadcasting. Please ensure they have the same size.\n",
            "\n",
            "/usr/local/lib/python3.10/dist-packages/torch/nn/modules/loss.py:535: UserWarning:\n",
            "\n",
            "Using a target size (torch.Size([459, 1])) that is different to the input size (torch.Size([459, 192])). This will likely lead to incorrect results due to broadcasting. Please ensure they have the same size.\n",
            "\n",
            "/usr/local/lib/python3.10/dist-packages/torch/nn/modules/loss.py:535: UserWarning:\n",
            "\n",
            "Using a target size (torch.Size([18, 1])) that is different to the input size (torch.Size([18, 192])). This will likely lead to incorrect results due to broadcasting. Please ensure they have the same size.\n",
            "\n",
            "/usr/local/lib/python3.10/dist-packages/torch/nn/modules/loss.py:535: UserWarning:\n",
            "\n",
            "Using a target size (torch.Size([457, 1])) that is different to the input size (torch.Size([457, 192])). This will likely lead to incorrect results due to broadcasting. Please ensure they have the same size.\n",
            "\n",
            "/usr/local/lib/python3.10/dist-packages/torch/nn/modules/loss.py:535: UserWarning:\n",
            "\n",
            "Using a target size (torch.Size([20, 1])) that is different to the input size (torch.Size([20, 192])). This will likely lead to incorrect results due to broadcasting. Please ensure they have the same size.\n",
            "\n",
            "/usr/local/lib/python3.10/dist-packages/torch/nn/modules/loss.py:535: UserWarning:\n",
            "\n",
            "Using a target size (torch.Size([429, 1])) that is different to the input size (torch.Size([429, 192])). This will likely lead to incorrect results due to broadcasting. Please ensure they have the same size.\n",
            "\n",
            "/usr/local/lib/python3.10/dist-packages/torch/nn/modules/loss.py:535: UserWarning:\n",
            "\n",
            "Using a target size (torch.Size([48, 1])) that is different to the input size (torch.Size([48, 192])). This will likely lead to incorrect results due to broadcasting. Please ensure they have the same size.\n",
            "\n",
            "/usr/local/lib/python3.10/dist-packages/torch/nn/modules/loss.py:535: UserWarning:\n",
            "\n",
            "Using a target size (torch.Size([449, 1])) that is different to the input size (torch.Size([449, 192])). This will likely lead to incorrect results due to broadcasting. Please ensure they have the same size.\n",
            "\n",
            "/usr/local/lib/python3.10/dist-packages/torch/nn/modules/loss.py:535: UserWarning:\n",
            "\n",
            "Using a target size (torch.Size([28, 1])) that is different to the input size (torch.Size([28, 192])). This will likely lead to incorrect results due to broadcasting. Please ensure they have the same size.\n",
            "\n",
            "/usr/local/lib/python3.10/dist-packages/torch/nn/modules/loss.py:535: UserWarning:\n",
            "\n",
            "Using a target size (torch.Size([436, 1])) that is different to the input size (torch.Size([436, 192])). This will likely lead to incorrect results due to broadcasting. Please ensure they have the same size.\n",
            "\n",
            "/usr/local/lib/python3.10/dist-packages/torch/nn/modules/loss.py:535: UserWarning:\n",
            "\n",
            "Using a target size (torch.Size([41, 1])) that is different to the input size (torch.Size([41, 192])). This will likely lead to incorrect results due to broadcasting. Please ensure they have the same size.\n",
            "\n",
            "/usr/local/lib/python3.10/dist-packages/torch/nn/modules/loss.py:535: UserWarning:\n",
            "\n",
            "Using a target size (torch.Size([435, 1])) that is different to the input size (torch.Size([435, 192])). This will likely lead to incorrect results due to broadcasting. Please ensure they have the same size.\n",
            "\n",
            "/usr/local/lib/python3.10/dist-packages/torch/nn/modules/loss.py:535: UserWarning:\n",
            "\n",
            "Using a target size (torch.Size([42, 1])) that is different to the input size (torch.Size([42, 192])). This will likely lead to incorrect results due to broadcasting. Please ensure they have the same size.\n",
            "\n",
            "/usr/local/lib/python3.10/dist-packages/torch/nn/modules/loss.py:535: UserWarning:\n",
            "\n",
            "Using a target size (torch.Size([432, 1])) that is different to the input size (torch.Size([432, 192])). This will likely lead to incorrect results due to broadcasting. Please ensure they have the same size.\n",
            "\n",
            "/usr/local/lib/python3.10/dist-packages/torch/nn/modules/loss.py:535: UserWarning:\n",
            "\n",
            "Using a target size (torch.Size([45, 1])) that is different to the input size (torch.Size([45, 192])). This will likely lead to incorrect results due to broadcasting. Please ensure they have the same size.\n",
            "\n",
            "/usr/local/lib/python3.10/dist-packages/torch/nn/modules/loss.py:535: UserWarning:\n",
            "\n",
            "Using a target size (torch.Size([446, 1])) that is different to the input size (torch.Size([446, 192])). This will likely lead to incorrect results due to broadcasting. Please ensure they have the same size.\n",
            "\n",
            "/usr/local/lib/python3.10/dist-packages/torch/nn/modules/loss.py:535: UserWarning:\n",
            "\n",
            "Using a target size (torch.Size([31, 1])) that is different to the input size (torch.Size([31, 192])). This will likely lead to incorrect results due to broadcasting. Please ensure they have the same size.\n",
            "\n",
            "/usr/local/lib/python3.10/dist-packages/torch/nn/modules/loss.py:535: UserWarning:\n",
            "\n",
            "Using a target size (torch.Size([431, 1])) that is different to the input size (torch.Size([431, 192])). This will likely lead to incorrect results due to broadcasting. Please ensure they have the same size.\n",
            "\n",
            "/usr/local/lib/python3.10/dist-packages/torch/nn/modules/loss.py:535: UserWarning:\n",
            "\n",
            "Using a target size (torch.Size([46, 1])) that is different to the input size (torch.Size([46, 192])). This will likely lead to incorrect results due to broadcasting. Please ensure they have the same size.\n",
            "\n",
            "/usr/local/lib/python3.10/dist-packages/torch/nn/modules/loss.py:535: UserWarning:\n",
            "\n",
            "Using a target size (torch.Size([452, 1])) that is different to the input size (torch.Size([452, 192])). This will likely lead to incorrect results due to broadcasting. Please ensure they have the same size.\n",
            "\n",
            "/usr/local/lib/python3.10/dist-packages/torch/nn/modules/loss.py:535: UserWarning:\n",
            "\n",
            "Using a target size (torch.Size([25, 1])) that is different to the input size (torch.Size([25, 192])). This will likely lead to incorrect results due to broadcasting. Please ensure they have the same size.\n",
            "\n",
            "/usr/local/lib/python3.10/dist-packages/torch/nn/modules/loss.py:535: UserWarning:\n",
            "\n",
            "Using a target size (torch.Size([438, 1])) that is different to the input size (torch.Size([438, 192])). This will likely lead to incorrect results due to broadcasting. Please ensure they have the same size.\n",
            "\n",
            "/usr/local/lib/python3.10/dist-packages/torch/nn/modules/loss.py:535: UserWarning:\n",
            "\n",
            "Using a target size (torch.Size([39, 1])) that is different to the input size (torch.Size([39, 192])). This will likely lead to incorrect results due to broadcasting. Please ensure they have the same size.\n",
            "\n",
            "/usr/local/lib/python3.10/dist-packages/torch/nn/modules/loss.py:535: UserWarning:\n",
            "\n",
            "Using a target size (torch.Size([441, 1])) that is different to the input size (torch.Size([441, 192])). This will likely lead to incorrect results due to broadcasting. Please ensure they have the same size.\n",
            "\n",
            "/usr/local/lib/python3.10/dist-packages/torch/nn/modules/loss.py:535: UserWarning:\n",
            "\n",
            "Using a target size (torch.Size([36, 1])) that is different to the input size (torch.Size([36, 192])). This will likely lead to incorrect results due to broadcasting. Please ensure they have the same size.\n",
            "\n",
            "/usr/local/lib/python3.10/dist-packages/torch/nn/modules/loss.py:535: UserWarning:\n",
            "\n",
            "Using a target size (torch.Size([444, 1])) that is different to the input size (torch.Size([444, 192])). This will likely lead to incorrect results due to broadcasting. Please ensure they have the same size.\n",
            "\n",
            "/usr/local/lib/python3.10/dist-packages/torch/nn/modules/loss.py:535: UserWarning:\n",
            "\n",
            "Using a target size (torch.Size([33, 1])) that is different to the input size (torch.Size([33, 192])). This will likely lead to incorrect results due to broadcasting. Please ensure they have the same size.\n",
            "\n",
            "/usr/local/lib/python3.10/dist-packages/torch/nn/modules/loss.py:535: UserWarning:\n",
            "\n",
            "Using a target size (torch.Size([433, 1])) that is different to the input size (torch.Size([433, 192])). This will likely lead to incorrect results due to broadcasting. Please ensure they have the same size.\n",
            "\n",
            "/usr/local/lib/python3.10/dist-packages/torch/nn/modules/loss.py:535: UserWarning:\n",
            "\n",
            "Using a target size (torch.Size([44, 1])) that is different to the input size (torch.Size([44, 192])). This will likely lead to incorrect results due to broadcasting. Please ensure they have the same size.\n",
            "\n",
            "/usr/local/lib/python3.10/dist-packages/torch/nn/modules/loss.py:535: UserWarning:\n",
            "\n",
            "Using a target size (torch.Size([442, 1])) that is different to the input size (torch.Size([442, 192])). This will likely lead to incorrect results due to broadcasting. Please ensure they have the same size.\n",
            "\n",
            "/usr/local/lib/python3.10/dist-packages/torch/nn/modules/loss.py:535: UserWarning:\n",
            "\n",
            "Using a target size (torch.Size([35, 1])) that is different to the input size (torch.Size([35, 192])). This will likely lead to incorrect results due to broadcasting. Please ensure they have the same size.\n",
            "\n",
            "/usr/local/lib/python3.10/dist-packages/torch/nn/modules/loss.py:535: UserWarning:\n",
            "\n",
            "Using a target size (torch.Size([428, 1])) that is different to the input size (torch.Size([428, 192])). This will likely lead to incorrect results due to broadcasting. Please ensure they have the same size.\n",
            "\n",
            "/usr/local/lib/python3.10/dist-packages/torch/nn/modules/loss.py:535: UserWarning:\n",
            "\n",
            "Using a target size (torch.Size([49, 1])) that is different to the input size (torch.Size([49, 192])). This will likely lead to incorrect results due to broadcasting. Please ensure they have the same size.\n",
            "\n",
            "[I 2024-08-09 13:49:43,724] Trial 5 finished with value: 12.081540584564209 and parameters: {'learning_rate': 0.0040599197586244605, 'hidden_dim': 192, 'latent_dim': 64, 'batch_size': 32, 'num_hidden_layers': 4}. Best is trial 1 with value: 9.784942150115967.\n",
            "/usr/local/lib/python3.10/dist-packages/torch/nn/modules/loss.py:535: UserWarning:\n",
            "\n",
            "Using a target size (torch.Size([255, 1])) that is different to the input size (torch.Size([255, 256])). This will likely lead to incorrect results due to broadcasting. Please ensure they have the same size.\n",
            "\n",
            "/usr/local/lib/python3.10/dist-packages/torch/nn/modules/loss.py:535: UserWarning:\n",
            "\n",
            "Using a target size (torch.Size([191, 1])) that is different to the input size (torch.Size([191, 256])). This will likely lead to incorrect results due to broadcasting. Please ensure they have the same size.\n",
            "\n",
            "/usr/local/lib/python3.10/dist-packages/torch/nn/modules/loss.py:535: UserWarning:\n",
            "\n",
            "Using a target size (torch.Size([238, 1])) that is different to the input size (torch.Size([238, 256])). This will likely lead to incorrect results due to broadcasting. Please ensure they have the same size.\n",
            "\n",
            "/usr/local/lib/python3.10/dist-packages/torch/nn/modules/loss.py:535: UserWarning:\n",
            "\n",
            "Using a target size (torch.Size([220, 1])) that is different to the input size (torch.Size([220, 256])). This will likely lead to incorrect results due to broadcasting. Please ensure they have the same size.\n",
            "\n",
            "/usr/local/lib/python3.10/dist-packages/torch/nn/modules/loss.py:535: UserWarning:\n",
            "\n",
            "Using a target size (torch.Size([229, 1])) that is different to the input size (torch.Size([229, 256])). This will likely lead to incorrect results due to broadcasting. Please ensure they have the same size.\n",
            "\n",
            "/usr/local/lib/python3.10/dist-packages/torch/nn/modules/loss.py:535: UserWarning:\n",
            "\n",
            "Using a target size (torch.Size([221, 1])) that is different to the input size (torch.Size([221, 256])). This will likely lead to incorrect results due to broadcasting. Please ensure they have the same size.\n",
            "\n"
          ]
        },
        {
          "output_type": "stream",
          "name": "stdout",
          "text": [
            "Epoch 100, Loss: 12.081540584564209\n"
          ]
        },
        {
          "output_type": "stream",
          "name": "stderr",
          "text": [
            "/usr/local/lib/python3.10/dist-packages/torch/nn/modules/loss.py:535: UserWarning:\n",
            "\n",
            "Using a target size (torch.Size([218, 1])) that is different to the input size (torch.Size([218, 256])). This will likely lead to incorrect results due to broadcasting. Please ensure they have the same size.\n",
            "\n",
            "/usr/local/lib/python3.10/dist-packages/torch/nn/modules/loss.py:535: UserWarning:\n",
            "\n",
            "Using a target size (torch.Size([225, 1])) that is different to the input size (torch.Size([225, 256])). This will likely lead to incorrect results due to broadcasting. Please ensure they have the same size.\n",
            "\n",
            "/usr/local/lib/python3.10/dist-packages/torch/nn/modules/loss.py:535: UserWarning:\n",
            "\n",
            "Using a target size (torch.Size([227, 1])) that is different to the input size (torch.Size([227, 256])). This will likely lead to incorrect results due to broadcasting. Please ensure they have the same size.\n",
            "\n",
            "/usr/local/lib/python3.10/dist-packages/torch/nn/modules/loss.py:535: UserWarning:\n",
            "\n",
            "Using a target size (torch.Size([230, 1])) that is different to the input size (torch.Size([230, 256])). This will likely lead to incorrect results due to broadcasting. Please ensure they have the same size.\n",
            "\n",
            "/usr/local/lib/python3.10/dist-packages/torch/nn/modules/loss.py:535: UserWarning:\n",
            "\n",
            "Using a target size (torch.Size([223, 1])) that is different to the input size (torch.Size([223, 256])). This will likely lead to incorrect results due to broadcasting. Please ensure they have the same size.\n",
            "\n",
            "/usr/local/lib/python3.10/dist-packages/torch/nn/modules/loss.py:535: UserWarning:\n",
            "\n",
            "Using a target size (torch.Size([232, 1])) that is different to the input size (torch.Size([232, 256])). This will likely lead to incorrect results due to broadcasting. Please ensure they have the same size.\n",
            "\n",
            "/usr/local/lib/python3.10/dist-packages/torch/nn/modules/loss.py:535: UserWarning:\n",
            "\n",
            "Using a target size (torch.Size([224, 1])) that is different to the input size (torch.Size([224, 256])). This will likely lead to incorrect results due to broadcasting. Please ensure they have the same size.\n",
            "\n",
            "/usr/local/lib/python3.10/dist-packages/torch/nn/modules/loss.py:535: UserWarning:\n",
            "\n",
            "Using a target size (torch.Size([211, 1])) that is different to the input size (torch.Size([211, 256])). This will likely lead to incorrect results due to broadcasting. Please ensure they have the same size.\n",
            "\n",
            "/usr/local/lib/python3.10/dist-packages/torch/nn/modules/loss.py:535: UserWarning:\n",
            "\n",
            "Using a target size (torch.Size([244, 1])) that is different to the input size (torch.Size([244, 256])). This will likely lead to incorrect results due to broadcasting. Please ensure they have the same size.\n",
            "\n",
            "/usr/local/lib/python3.10/dist-packages/torch/nn/modules/loss.py:535: UserWarning:\n",
            "\n",
            "Using a target size (torch.Size([215, 1])) that is different to the input size (torch.Size([215, 256])). This will likely lead to incorrect results due to broadcasting. Please ensure they have the same size.\n",
            "\n",
            "/usr/local/lib/python3.10/dist-packages/torch/nn/modules/loss.py:535: UserWarning:\n",
            "\n",
            "Using a target size (torch.Size([212, 1])) that is different to the input size (torch.Size([212, 256])). This will likely lead to incorrect results due to broadcasting. Please ensure they have the same size.\n",
            "\n",
            "/usr/local/lib/python3.10/dist-packages/torch/nn/modules/loss.py:535: UserWarning:\n",
            "\n",
            "Using a target size (torch.Size([231, 1])) that is different to the input size (torch.Size([231, 256])). This will likely lead to incorrect results due to broadcasting. Please ensure they have the same size.\n",
            "\n",
            "/usr/local/lib/python3.10/dist-packages/torch/nn/modules/loss.py:535: UserWarning:\n",
            "\n",
            "Using a target size (torch.Size([236, 1])) that is different to the input size (torch.Size([236, 256])). This will likely lead to incorrect results due to broadcasting. Please ensure they have the same size.\n",
            "\n",
            "/usr/local/lib/python3.10/dist-packages/torch/nn/modules/loss.py:535: UserWarning:\n",
            "\n",
            "Using a target size (torch.Size([239, 1])) that is different to the input size (torch.Size([239, 256])). This will likely lead to incorrect results due to broadcasting. Please ensure they have the same size.\n",
            "\n",
            "/usr/local/lib/python3.10/dist-packages/torch/nn/modules/loss.py:535: UserWarning:\n",
            "\n",
            "Using a target size (torch.Size([217, 1])) that is different to the input size (torch.Size([217, 256])). This will likely lead to incorrect results due to broadcasting. Please ensure they have the same size.\n",
            "\n",
            "/usr/local/lib/python3.10/dist-packages/torch/nn/modules/loss.py:535: UserWarning:\n",
            "\n",
            "Using a target size (torch.Size([203, 1])) that is different to the input size (torch.Size([203, 256])). This will likely lead to incorrect results due to broadcasting. Please ensure they have the same size.\n",
            "\n",
            "/usr/local/lib/python3.10/dist-packages/torch/nn/modules/loss.py:535: UserWarning:\n",
            "\n",
            "Using a target size (torch.Size([256, 1])) that is different to the input size (torch.Size([256, 256])). This will likely lead to incorrect results due to broadcasting. Please ensure they have the same size.\n",
            "\n",
            "/usr/local/lib/python3.10/dist-packages/torch/nn/modules/loss.py:535: UserWarning:\n",
            "\n",
            "Using a target size (torch.Size([183, 1])) that is different to the input size (torch.Size([183, 256])). This will likely lead to incorrect results due to broadcasting. Please ensure they have the same size.\n",
            "\n",
            "/usr/local/lib/python3.10/dist-packages/torch/nn/modules/loss.py:535: UserWarning:\n",
            "\n",
            "Using a target size (torch.Size([38, 1])) that is different to the input size (torch.Size([38, 256])). This will likely lead to incorrect results due to broadcasting. Please ensure they have the same size.\n",
            "\n",
            "/usr/local/lib/python3.10/dist-packages/torch/nn/modules/loss.py:535: UserWarning:\n",
            "\n",
            "Using a target size (torch.Size([242, 1])) that is different to the input size (torch.Size([242, 256])). This will likely lead to incorrect results due to broadcasting. Please ensure they have the same size.\n",
            "\n",
            "/usr/local/lib/python3.10/dist-packages/torch/nn/modules/loss.py:535: UserWarning:\n",
            "\n",
            "Using a target size (torch.Size([210, 1])) that is different to the input size (torch.Size([210, 256])). This will likely lead to incorrect results due to broadcasting. Please ensure they have the same size.\n",
            "\n",
            "/usr/local/lib/python3.10/dist-packages/torch/nn/modules/loss.py:535: UserWarning:\n",
            "\n",
            "Using a target size (torch.Size([184, 1])) that is different to the input size (torch.Size([184, 256])). This will likely lead to incorrect results due to broadcasting. Please ensure they have the same size.\n",
            "\n",
            "/usr/local/lib/python3.10/dist-packages/torch/nn/modules/loss.py:535: UserWarning:\n",
            "\n",
            "Using a target size (torch.Size([274, 1])) that is different to the input size (torch.Size([274, 256])). This will likely lead to incorrect results due to broadcasting. Please ensure they have the same size.\n",
            "\n",
            "/usr/local/lib/python3.10/dist-packages/torch/nn/modules/loss.py:535: UserWarning:\n",
            "\n",
            "Using a target size (torch.Size([195, 1])) that is different to the input size (torch.Size([195, 256])). This will likely lead to incorrect results due to broadcasting. Please ensure they have the same size.\n",
            "\n",
            "/usr/local/lib/python3.10/dist-packages/torch/nn/modules/loss.py:535: UserWarning:\n",
            "\n",
            "Using a target size (torch.Size([226, 1])) that is different to the input size (torch.Size([226, 256])). This will likely lead to incorrect results due to broadcasting. Please ensure they have the same size.\n",
            "\n",
            "/usr/local/lib/python3.10/dist-packages/torch/nn/modules/loss.py:535: UserWarning:\n",
            "\n",
            "Using a target size (torch.Size([216, 1])) that is different to the input size (torch.Size([216, 256])). This will likely lead to incorrect results due to broadcasting. Please ensure they have the same size.\n",
            "\n",
            "/usr/local/lib/python3.10/dist-packages/torch/nn/modules/loss.py:535: UserWarning:\n",
            "\n",
            "Using a target size (torch.Size([234, 1])) that is different to the input size (torch.Size([234, 256])). This will likely lead to incorrect results due to broadcasting. Please ensure they have the same size.\n",
            "\n",
            "/usr/local/lib/python3.10/dist-packages/torch/nn/modules/loss.py:535: UserWarning:\n",
            "\n",
            "Using a target size (torch.Size([196, 1])) that is different to the input size (torch.Size([196, 256])). This will likely lead to incorrect results due to broadcasting. Please ensure they have the same size.\n",
            "\n",
            "/usr/local/lib/python3.10/dist-packages/torch/nn/modules/loss.py:535: UserWarning:\n",
            "\n",
            "Using a target size (torch.Size([259, 1])) that is different to the input size (torch.Size([259, 256])). This will likely lead to incorrect results due to broadcasting. Please ensure they have the same size.\n",
            "\n",
            "/usr/local/lib/python3.10/dist-packages/torch/nn/modules/loss.py:535: UserWarning:\n",
            "\n",
            "Using a target size (torch.Size([235, 1])) that is different to the input size (torch.Size([235, 256])). This will likely lead to incorrect results due to broadcasting. Please ensure they have the same size.\n",
            "\n",
            "/usr/local/lib/python3.10/dist-packages/torch/nn/modules/loss.py:535: UserWarning:\n",
            "\n",
            "Using a target size (torch.Size([228, 1])) that is different to the input size (torch.Size([228, 256])). This will likely lead to incorrect results due to broadcasting. Please ensure they have the same size.\n",
            "\n",
            "/usr/local/lib/python3.10/dist-packages/torch/nn/modules/loss.py:535: UserWarning:\n",
            "\n",
            "Using a target size (torch.Size([209, 1])) that is different to the input size (torch.Size([209, 256])). This will likely lead to incorrect results due to broadcasting. Please ensure they have the same size.\n",
            "\n",
            "/usr/local/lib/python3.10/dist-packages/torch/nn/modules/loss.py:535: UserWarning:\n",
            "\n",
            "Using a target size (torch.Size([192, 1])) that is different to the input size (torch.Size([192, 256])). This will likely lead to incorrect results due to broadcasting. Please ensure they have the same size.\n",
            "\n",
            "/usr/local/lib/python3.10/dist-packages/torch/nn/modules/loss.py:535: UserWarning:\n",
            "\n",
            "Using a target size (torch.Size([264, 1])) that is different to the input size (torch.Size([264, 256])). This will likely lead to incorrect results due to broadcasting. Please ensure they have the same size.\n",
            "\n",
            "/usr/local/lib/python3.10/dist-packages/torch/nn/modules/loss.py:535: UserWarning:\n",
            "\n",
            "Using a target size (torch.Size([198, 1])) that is different to the input size (torch.Size([198, 256])). This will likely lead to incorrect results due to broadcasting. Please ensure they have the same size.\n",
            "\n",
            "/usr/local/lib/python3.10/dist-packages/torch/nn/modules/loss.py:535: UserWarning:\n",
            "\n",
            "Using a target size (torch.Size([214, 1])) that is different to the input size (torch.Size([214, 256])). This will likely lead to incorrect results due to broadcasting. Please ensure they have the same size.\n",
            "\n",
            "/usr/local/lib/python3.10/dist-packages/torch/nn/modules/loss.py:535: UserWarning:\n",
            "\n",
            "Using a target size (torch.Size([237, 1])) that is different to the input size (torch.Size([237, 256])). This will likely lead to incorrect results due to broadcasting. Please ensure they have the same size.\n",
            "\n",
            "/usr/local/lib/python3.10/dist-packages/torch/nn/modules/loss.py:535: UserWarning:\n",
            "\n",
            "Using a target size (torch.Size([222, 1])) that is different to the input size (torch.Size([222, 256])). This will likely lead to incorrect results due to broadcasting. Please ensure they have the same size.\n",
            "\n",
            "/usr/local/lib/python3.10/dist-packages/torch/nn/modules/loss.py:535: UserWarning:\n",
            "\n",
            "Using a target size (torch.Size([262, 1])) that is different to the input size (torch.Size([262, 256])). This will likely lead to incorrect results due to broadcasting. Please ensure they have the same size.\n",
            "\n",
            "/usr/local/lib/python3.10/dist-packages/torch/nn/modules/loss.py:535: UserWarning:\n",
            "\n",
            "Using a target size (torch.Size([233, 1])) that is different to the input size (torch.Size([233, 256])). This will likely lead to incorrect results due to broadcasting. Please ensure they have the same size.\n",
            "\n",
            "/usr/local/lib/python3.10/dist-packages/torch/nn/modules/loss.py:535: UserWarning:\n",
            "\n",
            "Using a target size (torch.Size([213, 1])) that is different to the input size (torch.Size([213, 256])). This will likely lead to incorrect results due to broadcasting. Please ensure they have the same size.\n",
            "\n",
            "/usr/local/lib/python3.10/dist-packages/torch/nn/modules/loss.py:535: UserWarning:\n",
            "\n",
            "Using a target size (torch.Size([204, 1])) that is different to the input size (torch.Size([204, 256])). This will likely lead to incorrect results due to broadcasting. Please ensure they have the same size.\n",
            "\n",
            "/usr/local/lib/python3.10/dist-packages/torch/nn/modules/loss.py:535: UserWarning:\n",
            "\n",
            "Using a target size (torch.Size([240, 1])) that is different to the input size (torch.Size([240, 256])). This will likely lead to incorrect results due to broadcasting. Please ensure they have the same size.\n",
            "\n",
            "/usr/local/lib/python3.10/dist-packages/torch/nn/modules/loss.py:535: UserWarning:\n",
            "\n",
            "Using a target size (torch.Size([257, 1])) that is different to the input size (torch.Size([257, 256])). This will likely lead to incorrect results due to broadcasting. Please ensure they have the same size.\n",
            "\n",
            "/usr/local/lib/python3.10/dist-packages/torch/nn/modules/loss.py:535: UserWarning:\n",
            "\n",
            "Using a target size (torch.Size([197, 1])) that is different to the input size (torch.Size([197, 256])). This will likely lead to incorrect results due to broadcasting. Please ensure they have the same size.\n",
            "\n",
            "/usr/local/lib/python3.10/dist-packages/torch/nn/modules/loss.py:535: UserWarning:\n",
            "\n",
            "Using a target size (torch.Size([219, 1])) that is different to the input size (torch.Size([219, 256])). This will likely lead to incorrect results due to broadcasting. Please ensure they have the same size.\n",
            "\n",
            "/usr/local/lib/python3.10/dist-packages/torch/nn/modules/loss.py:535: UserWarning:\n",
            "\n",
            "Using a target size (torch.Size([205, 1])) that is different to the input size (torch.Size([205, 256])). This will likely lead to incorrect results due to broadcasting. Please ensure they have the same size.\n",
            "\n",
            "/usr/local/lib/python3.10/dist-packages/torch/nn/modules/loss.py:535: UserWarning:\n",
            "\n",
            "Using a target size (torch.Size([253, 1])) that is different to the input size (torch.Size([253, 256])). This will likely lead to incorrect results due to broadcasting. Please ensure they have the same size.\n",
            "\n",
            "/usr/local/lib/python3.10/dist-packages/torch/nn/modules/loss.py:535: UserWarning:\n",
            "\n",
            "Using a target size (torch.Size([202, 1])) that is different to the input size (torch.Size([202, 256])). This will likely lead to incorrect results due to broadcasting. Please ensure they have the same size.\n",
            "\n",
            "/usr/local/lib/python3.10/dist-packages/torch/nn/modules/loss.py:535: UserWarning:\n",
            "\n",
            "Using a target size (torch.Size([241, 1])) that is different to the input size (torch.Size([241, 256])). This will likely lead to incorrect results due to broadcasting. Please ensure they have the same size.\n",
            "\n",
            "/usr/local/lib/python3.10/dist-packages/torch/nn/modules/loss.py:535: UserWarning:\n",
            "\n",
            "Using a target size (torch.Size([268, 1])) that is different to the input size (torch.Size([268, 256])). This will likely lead to incorrect results due to broadcasting. Please ensure they have the same size.\n",
            "\n",
            "/usr/local/lib/python3.10/dist-packages/torch/nn/modules/loss.py:535: UserWarning:\n",
            "\n",
            "Using a target size (torch.Size([189, 1])) that is different to the input size (torch.Size([189, 256])). This will likely lead to incorrect results due to broadcasting. Please ensure they have the same size.\n",
            "\n",
            "/usr/local/lib/python3.10/dist-packages/torch/nn/modules/loss.py:535: UserWarning:\n",
            "\n",
            "Using a target size (torch.Size([250, 1])) that is different to the input size (torch.Size([250, 256])). This will likely lead to incorrect results due to broadcasting. Please ensure they have the same size.\n",
            "\n",
            "/usr/local/lib/python3.10/dist-packages/torch/nn/modules/loss.py:535: UserWarning:\n",
            "\n",
            "Using a target size (torch.Size([200, 1])) that is different to the input size (torch.Size([200, 256])). This will likely lead to incorrect results due to broadcasting. Please ensure they have the same size.\n",
            "\n",
            "/usr/local/lib/python3.10/dist-packages/torch/nn/modules/loss.py:535: UserWarning:\n",
            "\n",
            "Using a target size (torch.Size([247, 1])) that is different to the input size (torch.Size([247, 256])). This will likely lead to incorrect results due to broadcasting. Please ensure they have the same size.\n",
            "\n",
            "/usr/local/lib/python3.10/dist-packages/torch/nn/modules/loss.py:535: UserWarning:\n",
            "\n",
            "Using a target size (torch.Size([201, 1])) that is different to the input size (torch.Size([201, 256])). This will likely lead to incorrect results due to broadcasting. Please ensure they have the same size.\n",
            "\n",
            "/usr/local/lib/python3.10/dist-packages/torch/nn/modules/loss.py:535: UserWarning:\n",
            "\n",
            "Using a target size (torch.Size([243, 1])) that is different to the input size (torch.Size([243, 256])). This will likely lead to incorrect results due to broadcasting. Please ensure they have the same size.\n",
            "\n",
            "/usr/local/lib/python3.10/dist-packages/torch/nn/modules/loss.py:535: UserWarning:\n",
            "\n",
            "Using a target size (torch.Size([178, 1])) that is different to the input size (torch.Size([178, 256])). This will likely lead to incorrect results due to broadcasting. Please ensure they have the same size.\n",
            "\n",
            "/usr/local/lib/python3.10/dist-packages/torch/nn/modules/loss.py:535: UserWarning:\n",
            "\n",
            "Using a target size (torch.Size([270, 1])) that is different to the input size (torch.Size([270, 256])). This will likely lead to incorrect results due to broadcasting. Please ensure they have the same size.\n",
            "\n",
            "/usr/local/lib/python3.10/dist-packages/torch/nn/modules/loss.py:535: UserWarning:\n",
            "\n",
            "Using a target size (torch.Size([252, 1])) that is different to the input size (torch.Size([252, 256])). This will likely lead to incorrect results due to broadcasting. Please ensure they have the same size.\n",
            "\n",
            "/usr/local/lib/python3.10/dist-packages/torch/nn/modules/loss.py:535: UserWarning:\n",
            "\n",
            "Using a target size (torch.Size([260, 1])) that is different to the input size (torch.Size([260, 256])). This will likely lead to incorrect results due to broadcasting. Please ensure they have the same size.\n",
            "\n",
            "/usr/local/lib/python3.10/dist-packages/torch/nn/modules/loss.py:535: UserWarning:\n",
            "\n",
            "Using a target size (torch.Size([206, 1])) that is different to the input size (torch.Size([206, 256])). This will likely lead to incorrect results due to broadcasting. Please ensure they have the same size.\n",
            "\n",
            "[I 2024-08-09 13:49:46,628] Trial 6 finished with value: 9.048728624979654 and parameters: {'learning_rate': 0.014857368634090033, 'hidden_dim': 256, 'latent_dim': 32, 'batch_size': 16, 'num_hidden_layers': 6}. Best is trial 6 with value: 9.048728624979654.\n"
          ]
        },
        {
          "output_type": "stream",
          "name": "stdout",
          "text": [
            "Epoch 100, Loss: 9.048728624979654\n"
          ]
        },
        {
          "output_type": "stream",
          "name": "stderr",
          "text": [
            "/usr/local/lib/python3.10/dist-packages/torch/nn/modules/loss.py:535: UserWarning:\n",
            "\n",
            "Using a target size (torch.Size([199, 1])) that is different to the input size (torch.Size([199, 256])). This will likely lead to incorrect results due to broadcasting. Please ensure they have the same size.\n",
            "\n",
            "/usr/local/lib/python3.10/dist-packages/torch/nn/modules/loss.py:535: UserWarning:\n",
            "\n",
            "Using a target size (torch.Size([208, 1])) that is different to the input size (torch.Size([208, 256])). This will likely lead to incorrect results due to broadcasting. Please ensure they have the same size.\n",
            "\n",
            "/usr/local/lib/python3.10/dist-packages/torch/nn/modules/loss.py:535: UserWarning:\n",
            "\n",
            "Using a target size (torch.Size([207, 1])) that is different to the input size (torch.Size([207, 256])). This will likely lead to incorrect results due to broadcasting. Please ensure they have the same size.\n",
            "\n",
            "/usr/local/lib/python3.10/dist-packages/torch/nn/modules/loss.py:535: UserWarning:\n",
            "\n",
            "Using a target size (torch.Size([254, 1])) that is different to the input size (torch.Size([254, 256])). This will likely lead to incorrect results due to broadcasting. Please ensure they have the same size.\n",
            "\n",
            "/usr/local/lib/python3.10/dist-packages/torch/nn/modules/loss.py:535: UserWarning:\n",
            "\n",
            "Using a target size (torch.Size([194, 1])) that is different to the input size (torch.Size([194, 256])). This will likely lead to incorrect results due to broadcasting. Please ensure they have the same size.\n",
            "\n",
            "/usr/local/lib/python3.10/dist-packages/torch/nn/modules/loss.py:535: UserWarning:\n",
            "\n",
            "Using a target size (torch.Size([248, 1])) that is different to the input size (torch.Size([248, 256])). This will likely lead to incorrect results due to broadcasting. Please ensure they have the same size.\n",
            "\n",
            "/usr/local/lib/python3.10/dist-packages/torch/nn/modules/loss.py:535: UserWarning:\n",
            "\n",
            "Using a target size (torch.Size([249, 1])) that is different to the input size (torch.Size([249, 256])). This will likely lead to incorrect results due to broadcasting. Please ensure they have the same size.\n",
            "\n",
            "/usr/local/lib/python3.10/dist-packages/torch/nn/modules/loss.py:535: UserWarning:\n",
            "\n",
            "Using a target size (torch.Size([246, 1])) that is different to the input size (torch.Size([246, 256])). This will likely lead to incorrect results due to broadcasting. Please ensure they have the same size.\n",
            "\n",
            "/usr/local/lib/python3.10/dist-packages/torch/nn/modules/loss.py:535: UserWarning:\n",
            "\n",
            "Using a target size (torch.Size([245, 1])) that is different to the input size (torch.Size([245, 256])). This will likely lead to incorrect results due to broadcasting. Please ensure they have the same size.\n",
            "\n",
            "/usr/local/lib/python3.10/dist-packages/torch/nn/modules/loss.py:535: UserWarning:\n",
            "\n",
            "Using a target size (torch.Size([193, 1])) that is different to the input size (torch.Size([193, 256])). This will likely lead to incorrect results due to broadcasting. Please ensure they have the same size.\n",
            "\n",
            "/usr/local/lib/python3.10/dist-packages/torch/nn/modules/loss.py:535: UserWarning:\n",
            "\n",
            "Using a target size (torch.Size([261, 1])) that is different to the input size (torch.Size([261, 256])). This will likely lead to incorrect results due to broadcasting. Please ensure they have the same size.\n",
            "\n",
            "/usr/local/lib/python3.10/dist-packages/torch/nn/modules/loss.py:535: UserWarning:\n",
            "\n",
            "Using a target size (torch.Size([187, 1])) that is different to the input size (torch.Size([187, 256])). This will likely lead to incorrect results due to broadcasting. Please ensure they have the same size.\n",
            "\n",
            "[I 2024-08-09 13:49:49,272] Trial 7 finished with value: 6.930437723795573 and parameters: {'learning_rate': 0.01160013367544872, 'hidden_dim': 256, 'latent_dim': 128, 'batch_size': 16, 'num_hidden_layers': 5}. Best is trial 7 with value: 6.930437723795573.\n",
            "/usr/local/lib/python3.10/dist-packages/torch/nn/modules/loss.py:535: UserWarning:\n",
            "\n",
            "Using a target size (torch.Size([477, 1])) that is different to the input size (torch.Size([477, 64])). This will likely lead to incorrect results due to broadcasting. Please ensure they have the same size.\n",
            "\n"
          ]
        },
        {
          "output_type": "stream",
          "name": "stdout",
          "text": [
            "Epoch 100, Loss: 6.930437723795573\n"
          ]
        },
        {
          "output_type": "stream",
          "name": "stderr",
          "text": [
            "[I 2024-08-09 13:49:50,238] Trial 8 finished with value: 10.2444429397583 and parameters: {'learning_rate': 0.011636352573691916, 'hidden_dim': 64, 'latent_dim': 128, 'batch_size': 64, 'num_hidden_layers': 5}. Best is trial 7 with value: 6.930437723795573.\n"
          ]
        },
        {
          "output_type": "stream",
          "name": "stdout",
          "text": [
            "Epoch 100, Loss: 10.2444429397583\n"
          ]
        },
        {
          "output_type": "stream",
          "name": "stderr",
          "text": [
            "[I 2024-08-09 13:49:51,443] Trial 9 finished with value: 7.991757392883301 and parameters: {'learning_rate': 0.021606159148382487, 'hidden_dim': 256, 'latent_dim': 32, 'batch_size': 32, 'num_hidden_layers': 2}. Best is trial 7 with value: 6.930437723795573.\n"
          ]
        },
        {
          "output_type": "stream",
          "name": "stdout",
          "text": [
            "Epoch 100, Loss: 7.991757392883301\n"
          ]
        },
        {
          "output_type": "stream",
          "name": "stderr",
          "text": [
            "/usr/local/lib/python3.10/dist-packages/torch/nn/modules/loss.py:535: UserWarning:\n",
            "\n",
            "Using a target size (torch.Size([231, 1])) that is different to the input size (torch.Size([231, 128])). This will likely lead to incorrect results due to broadcasting. Please ensure they have the same size.\n",
            "\n",
            "/usr/local/lib/python3.10/dist-packages/torch/nn/modules/loss.py:535: UserWarning:\n",
            "\n",
            "Using a target size (torch.Size([220, 1])) that is different to the input size (torch.Size([220, 128])). This will likely lead to incorrect results due to broadcasting. Please ensure they have the same size.\n",
            "\n",
            "/usr/local/lib/python3.10/dist-packages/torch/nn/modules/loss.py:535: UserWarning:\n",
            "\n",
            "Using a target size (torch.Size([212, 1])) that is different to the input size (torch.Size([212, 128])). This will likely lead to incorrect results due to broadcasting. Please ensure they have the same size.\n",
            "\n",
            "/usr/local/lib/python3.10/dist-packages/torch/nn/modules/loss.py:535: UserWarning:\n",
            "\n",
            "Using a target size (torch.Size([225, 1])) that is different to the input size (torch.Size([225, 128])). This will likely lead to incorrect results due to broadcasting. Please ensure they have the same size.\n",
            "\n",
            "/usr/local/lib/python3.10/dist-packages/torch/nn/modules/loss.py:535: UserWarning:\n",
            "\n",
            "Using a target size (torch.Size([235, 1])) that is different to the input size (torch.Size([235, 128])). This will likely lead to incorrect results due to broadcasting. Please ensure they have the same size.\n",
            "\n",
            "/usr/local/lib/python3.10/dist-packages/torch/nn/modules/loss.py:535: UserWarning:\n",
            "\n",
            "Using a target size (torch.Size([216, 1])) that is different to the input size (torch.Size([216, 128])). This will likely lead to incorrect results due to broadcasting. Please ensure they have the same size.\n",
            "\n",
            "/usr/local/lib/python3.10/dist-packages/torch/nn/modules/loss.py:535: UserWarning:\n",
            "\n",
            "Using a target size (torch.Size([230, 1])) that is different to the input size (torch.Size([230, 128])). This will likely lead to incorrect results due to broadcasting. Please ensure they have the same size.\n",
            "\n",
            "/usr/local/lib/python3.10/dist-packages/torch/nn/modules/loss.py:535: UserWarning:\n",
            "\n",
            "Using a target size (torch.Size([226, 1])) that is different to the input size (torch.Size([226, 128])). This will likely lead to incorrect results due to broadcasting. Please ensure they have the same size.\n",
            "\n",
            "/usr/local/lib/python3.10/dist-packages/torch/nn/modules/loss.py:535: UserWarning:\n",
            "\n",
            "Using a target size (torch.Size([208, 1])) that is different to the input size (torch.Size([208, 128])). This will likely lead to incorrect results due to broadcasting. Please ensure they have the same size.\n",
            "\n",
            "/usr/local/lib/python3.10/dist-packages/torch/nn/modules/loss.py:535: UserWarning:\n",
            "\n",
            "Using a target size (torch.Size([219, 1])) that is different to the input size (torch.Size([219, 128])). This will likely lead to incorrect results due to broadcasting. Please ensure they have the same size.\n",
            "\n",
            "/usr/local/lib/python3.10/dist-packages/torch/nn/modules/loss.py:535: UserWarning:\n",
            "\n",
            "Using a target size (torch.Size([50, 1])) that is different to the input size (torch.Size([50, 128])). This will likely lead to incorrect results due to broadcasting. Please ensure they have the same size.\n",
            "\n",
            "/usr/local/lib/python3.10/dist-packages/torch/nn/modules/loss.py:535: UserWarning:\n",
            "\n",
            "Using a target size (torch.Size([193, 1])) that is different to the input size (torch.Size([193, 128])). This will likely lead to incorrect results due to broadcasting. Please ensure they have the same size.\n",
            "\n",
            "/usr/local/lib/python3.10/dist-packages/torch/nn/modules/loss.py:535: UserWarning:\n",
            "\n",
            "Using a target size (torch.Size([240, 1])) that is different to the input size (torch.Size([240, 128])). This will likely lead to incorrect results due to broadcasting. Please ensure they have the same size.\n",
            "\n",
            "/usr/local/lib/python3.10/dist-packages/torch/nn/modules/loss.py:535: UserWarning:\n",
            "\n",
            "Using a target size (torch.Size([215, 1])) that is different to the input size (torch.Size([215, 128])). This will likely lead to incorrect results due to broadcasting. Please ensure they have the same size.\n",
            "\n",
            "/usr/local/lib/python3.10/dist-packages/torch/nn/modules/loss.py:535: UserWarning:\n",
            "\n",
            "Using a target size (torch.Size([238, 1])) that is different to the input size (torch.Size([238, 128])). This will likely lead to incorrect results due to broadcasting. Please ensure they have the same size.\n",
            "\n",
            "/usr/local/lib/python3.10/dist-packages/torch/nn/modules/loss.py:535: UserWarning:\n",
            "\n",
            "Using a target size (torch.Size([191, 1])) that is different to the input size (torch.Size([191, 128])). This will likely lead to incorrect results due to broadcasting. Please ensure they have the same size.\n",
            "\n",
            "/usr/local/lib/python3.10/dist-packages/torch/nn/modules/loss.py:535: UserWarning:\n",
            "\n",
            "Using a target size (torch.Size([254, 1])) that is different to the input size (torch.Size([254, 128])). This will likely lead to incorrect results due to broadcasting. Please ensure they have the same size.\n",
            "\n",
            "/usr/local/lib/python3.10/dist-packages/torch/nn/modules/loss.py:535: UserWarning:\n",
            "\n",
            "Using a target size (torch.Size([241, 1])) that is different to the input size (torch.Size([241, 128])). This will likely lead to incorrect results due to broadcasting. Please ensure they have the same size.\n",
            "\n",
            "/usr/local/lib/python3.10/dist-packages/torch/nn/modules/loss.py:535: UserWarning:\n",
            "\n",
            "Using a target size (torch.Size([236, 1])) that is different to the input size (torch.Size([236, 128])). This will likely lead to incorrect results due to broadcasting. Please ensure they have the same size.\n",
            "\n",
            "/usr/local/lib/python3.10/dist-packages/torch/nn/modules/loss.py:535: UserWarning:\n",
            "\n",
            "Using a target size (torch.Size([206, 1])) that is different to the input size (torch.Size([206, 128])). This will likely lead to incorrect results due to broadcasting. Please ensure they have the same size.\n",
            "\n",
            "/usr/local/lib/python3.10/dist-packages/torch/nn/modules/loss.py:535: UserWarning:\n",
            "\n",
            "Using a target size (torch.Size([253, 1])) that is different to the input size (torch.Size([253, 128])). This will likely lead to incorrect results due to broadcasting. Please ensure they have the same size.\n",
            "\n",
            "/usr/local/lib/python3.10/dist-packages/torch/nn/modules/loss.py:535: UserWarning:\n",
            "\n",
            "Using a target size (torch.Size([227, 1])) that is different to the input size (torch.Size([227, 128])). This will likely lead to incorrect results due to broadcasting. Please ensure they have the same size.\n",
            "\n",
            "/usr/local/lib/python3.10/dist-packages/torch/nn/modules/loss.py:535: UserWarning:\n",
            "\n",
            "Using a target size (torch.Size([218, 1])) that is different to the input size (torch.Size([218, 128])). This will likely lead to incorrect results due to broadcasting. Please ensure they have the same size.\n",
            "\n",
            "/usr/local/lib/python3.10/dist-packages/torch/nn/modules/loss.py:535: UserWarning:\n",
            "\n",
            "Using a target size (torch.Size([224, 1])) that is different to the input size (torch.Size([224, 128])). This will likely lead to incorrect results due to broadcasting. Please ensure they have the same size.\n",
            "\n",
            "/usr/local/lib/python3.10/dist-packages/torch/nn/modules/loss.py:535: UserWarning:\n",
            "\n",
            "Using a target size (torch.Size([233, 1])) that is different to the input size (torch.Size([233, 128])). This will likely lead to incorrect results due to broadcasting. Please ensure they have the same size.\n",
            "\n",
            "/usr/local/lib/python3.10/dist-packages/torch/nn/modules/loss.py:535: UserWarning:\n",
            "\n",
            "Using a target size (torch.Size([223, 1])) that is different to the input size (torch.Size([223, 128])). This will likely lead to incorrect results due to broadcasting. Please ensure they have the same size.\n",
            "\n",
            "/usr/local/lib/python3.10/dist-packages/torch/nn/modules/loss.py:535: UserWarning:\n",
            "\n",
            "Using a target size (torch.Size([217, 1])) that is different to the input size (torch.Size([217, 128])). This will likely lead to incorrect results due to broadcasting. Please ensure they have the same size.\n",
            "\n",
            "/usr/local/lib/python3.10/dist-packages/torch/nn/modules/loss.py:535: UserWarning:\n",
            "\n",
            "Using a target size (torch.Size([207, 1])) that is different to the input size (torch.Size([207, 128])). This will likely lead to incorrect results due to broadcasting. Please ensure they have the same size.\n",
            "\n",
            "/usr/local/lib/python3.10/dist-packages/torch/nn/modules/loss.py:535: UserWarning:\n",
            "\n",
            "Using a target size (torch.Size([260, 1])) that is different to the input size (torch.Size([260, 128])). This will likely lead to incorrect results due to broadcasting. Please ensure they have the same size.\n",
            "\n",
            "/usr/local/lib/python3.10/dist-packages/torch/nn/modules/loss.py:535: UserWarning:\n",
            "\n",
            "Using a target size (torch.Size([222, 1])) that is different to the input size (torch.Size([222, 128])). This will likely lead to incorrect results due to broadcasting. Please ensure they have the same size.\n",
            "\n",
            "/usr/local/lib/python3.10/dist-packages/torch/nn/modules/loss.py:535: UserWarning:\n",
            "\n",
            "Using a target size (torch.Size([33, 1])) that is different to the input size (torch.Size([33, 128])). This will likely lead to incorrect results due to broadcasting. Please ensure they have the same size.\n",
            "\n",
            "/usr/local/lib/python3.10/dist-packages/torch/nn/modules/loss.py:535: UserWarning:\n",
            "\n",
            "Using a target size (torch.Size([214, 1])) that is different to the input size (torch.Size([214, 128])). This will likely lead to incorrect results due to broadcasting. Please ensure they have the same size.\n",
            "\n",
            "/usr/local/lib/python3.10/dist-packages/torch/nn/modules/loss.py:535: UserWarning:\n",
            "\n",
            "Using a target size (torch.Size([228, 1])) that is different to the input size (torch.Size([228, 128])). This will likely lead to incorrect results due to broadcasting. Please ensure they have the same size.\n",
            "\n",
            "/usr/local/lib/python3.10/dist-packages/torch/nn/modules/loss.py:535: UserWarning:\n",
            "\n",
            "Using a target size (torch.Size([210, 1])) that is different to the input size (torch.Size([210, 128])). This will likely lead to incorrect results due to broadcasting. Please ensure they have the same size.\n",
            "\n",
            "/usr/local/lib/python3.10/dist-packages/torch/nn/modules/loss.py:535: UserWarning:\n",
            "\n",
            "Using a target size (torch.Size([229, 1])) that is different to the input size (torch.Size([229, 128])). This will likely lead to incorrect results due to broadcasting. Please ensure they have the same size.\n",
            "\n",
            "/usr/local/lib/python3.10/dist-packages/torch/nn/modules/loss.py:535: UserWarning:\n",
            "\n",
            "Using a target size (torch.Size([38, 1])) that is different to the input size (torch.Size([38, 128])). This will likely lead to incorrect results due to broadcasting. Please ensure they have the same size.\n",
            "\n",
            "/usr/local/lib/python3.10/dist-packages/torch/nn/modules/loss.py:535: UserWarning:\n",
            "\n",
            "Using a target size (torch.Size([192, 1])) that is different to the input size (torch.Size([192, 128])). This will likely lead to incorrect results due to broadcasting. Please ensure they have the same size.\n",
            "\n",
            "/usr/local/lib/python3.10/dist-packages/torch/nn/modules/loss.py:535: UserWarning:\n",
            "\n",
            "Using a target size (torch.Size([251, 1])) that is different to the input size (torch.Size([251, 128])). This will likely lead to incorrect results due to broadcasting. Please ensure they have the same size.\n",
            "\n",
            "/usr/local/lib/python3.10/dist-packages/torch/nn/modules/loss.py:535: UserWarning:\n",
            "\n",
            "Using a target size (torch.Size([262, 1])) that is different to the input size (torch.Size([262, 128])). This will likely lead to incorrect results due to broadcasting. Please ensure they have the same size.\n",
            "\n",
            "/usr/local/lib/python3.10/dist-packages/torch/nn/modules/loss.py:535: UserWarning:\n",
            "\n",
            "Using a target size (torch.Size([237, 1])) that is different to the input size (torch.Size([237, 128])). This will likely lead to incorrect results due to broadcasting. Please ensure they have the same size.\n",
            "\n",
            "/usr/local/lib/python3.10/dist-packages/torch/nn/modules/loss.py:535: UserWarning:\n",
            "\n",
            "Using a target size (torch.Size([203, 1])) that is different to the input size (torch.Size([203, 128])). This will likely lead to incorrect results due to broadcasting. Please ensure they have the same size.\n",
            "\n",
            "/usr/local/lib/python3.10/dist-packages/torch/nn/modules/loss.py:535: UserWarning:\n",
            "\n",
            "Using a target size (torch.Size([221, 1])) that is different to the input size (torch.Size([221, 128])). This will likely lead to incorrect results due to broadcasting. Please ensure they have the same size.\n",
            "\n",
            "/usr/local/lib/python3.10/dist-packages/torch/nn/modules/loss.py:535: UserWarning:\n",
            "\n",
            "Using a target size (torch.Size([209, 1])) that is different to the input size (torch.Size([209, 128])). This will likely lead to incorrect results due to broadcasting. Please ensure they have the same size.\n",
            "\n",
            "/usr/local/lib/python3.10/dist-packages/torch/nn/modules/loss.py:535: UserWarning:\n",
            "\n",
            "Using a target size (torch.Size([244, 1])) that is different to the input size (torch.Size([244, 128])). This will likely lead to incorrect results due to broadcasting. Please ensure they have the same size.\n",
            "\n",
            "/usr/local/lib/python3.10/dist-packages/torch/nn/modules/loss.py:535: UserWarning:\n",
            "\n",
            "Using a target size (torch.Size([205, 1])) that is different to the input size (torch.Size([205, 128])). This will likely lead to incorrect results due to broadcasting. Please ensure they have the same size.\n",
            "\n",
            "/usr/local/lib/python3.10/dist-packages/torch/nn/modules/loss.py:535: UserWarning:\n",
            "\n",
            "Using a target size (torch.Size([246, 1])) that is different to the input size (torch.Size([246, 128])). This will likely lead to incorrect results due to broadcasting. Please ensure they have the same size.\n",
            "\n",
            "/usr/local/lib/python3.10/dist-packages/torch/nn/modules/loss.py:535: UserWarning:\n",
            "\n",
            "Using a target size (torch.Size([232, 1])) that is different to the input size (torch.Size([232, 128])). This will likely lead to incorrect results due to broadcasting. Please ensure they have the same size.\n",
            "\n",
            "/usr/local/lib/python3.10/dist-packages/torch/nn/modules/loss.py:535: UserWarning:\n",
            "\n",
            "Using a target size (torch.Size([213, 1])) that is different to the input size (torch.Size([213, 128])). This will likely lead to incorrect results due to broadcasting. Please ensure they have the same size.\n",
            "\n",
            "/usr/local/lib/python3.10/dist-packages/torch/nn/modules/loss.py:535: UserWarning:\n",
            "\n",
            "Using a target size (torch.Size([234, 1])) that is different to the input size (torch.Size([234, 128])). This will likely lead to incorrect results due to broadcasting. Please ensure they have the same size.\n",
            "\n",
            "/usr/local/lib/python3.10/dist-packages/torch/nn/modules/loss.py:535: UserWarning:\n",
            "\n",
            "Using a target size (torch.Size([249, 1])) that is different to the input size (torch.Size([249, 128])). This will likely lead to incorrect results due to broadcasting. Please ensure they have the same size.\n",
            "\n",
            "/usr/local/lib/python3.10/dist-packages/torch/nn/modules/loss.py:535: UserWarning:\n",
            "\n",
            "Using a target size (torch.Size([201, 1])) that is different to the input size (torch.Size([201, 128])). This will likely lead to incorrect results due to broadcasting. Please ensure they have the same size.\n",
            "\n",
            "/usr/local/lib/python3.10/dist-packages/torch/nn/modules/loss.py:535: UserWarning:\n",
            "\n",
            "Using a target size (torch.Size([256, 1])) that is different to the input size (torch.Size([256, 128])). This will likely lead to incorrect results due to broadcasting. Please ensure they have the same size.\n",
            "\n",
            "/usr/local/lib/python3.10/dist-packages/torch/nn/modules/loss.py:535: UserWarning:\n",
            "\n",
            "Using a target size (torch.Size([239, 1])) that is different to the input size (torch.Size([239, 128])). This will likely lead to incorrect results due to broadcasting. Please ensure they have the same size.\n",
            "\n",
            "/usr/local/lib/python3.10/dist-packages/torch/nn/modules/loss.py:535: UserWarning:\n",
            "\n",
            "Using a target size (torch.Size([200, 1])) that is different to the input size (torch.Size([200, 128])). This will likely lead to incorrect results due to broadcasting. Please ensure they have the same size.\n",
            "\n",
            "/usr/local/lib/python3.10/dist-packages/torch/nn/modules/loss.py:535: UserWarning:\n",
            "\n",
            "Using a target size (torch.Size([257, 1])) that is different to the input size (torch.Size([257, 128])). This will likely lead to incorrect results due to broadcasting. Please ensure they have the same size.\n",
            "\n",
            "/usr/local/lib/python3.10/dist-packages/torch/nn/modules/loss.py:535: UserWarning:\n",
            "\n",
            "Using a target size (torch.Size([265, 1])) that is different to the input size (torch.Size([265, 128])). This will likely lead to incorrect results due to broadcasting. Please ensure they have the same size.\n",
            "\n",
            "/usr/local/lib/python3.10/dist-packages/torch/nn/modules/loss.py:535: UserWarning:\n",
            "\n",
            "Using a target size (torch.Size([190, 1])) that is different to the input size (torch.Size([190, 128])). This will likely lead to incorrect results due to broadcasting. Please ensure they have the same size.\n",
            "\n",
            "/usr/local/lib/python3.10/dist-packages/torch/nn/modules/loss.py:535: UserWarning:\n",
            "\n",
            "Using a target size (torch.Size([196, 1])) that is different to the input size (torch.Size([196, 128])). This will likely lead to incorrect results due to broadcasting. Please ensure they have the same size.\n",
            "\n",
            "/usr/local/lib/python3.10/dist-packages/torch/nn/modules/loss.py:535: UserWarning:\n",
            "\n",
            "Using a target size (torch.Size([245, 1])) that is different to the input size (torch.Size([245, 128])). This will likely lead to incorrect results due to broadcasting. Please ensure they have the same size.\n",
            "\n",
            "/usr/local/lib/python3.10/dist-packages/torch/nn/modules/loss.py:535: UserWarning:\n",
            "\n",
            "Using a target size (torch.Size([46, 1])) that is different to the input size (torch.Size([46, 128])). This will likely lead to incorrect results due to broadcasting. Please ensure they have the same size.\n",
            "\n",
            "/usr/local/lib/python3.10/dist-packages/torch/nn/modules/loss.py:535: UserWarning:\n",
            "\n",
            "Using a target size (torch.Size([242, 1])) that is different to the input size (torch.Size([242, 128])). This will likely lead to incorrect results due to broadcasting. Please ensure they have the same size.\n",
            "\n",
            "/usr/local/lib/python3.10/dist-packages/torch/nn/modules/loss.py:535: UserWarning:\n",
            "\n",
            "Using a target size (torch.Size([197, 1])) that is different to the input size (torch.Size([197, 128])). This will likely lead to incorrect results due to broadcasting. Please ensure they have the same size.\n",
            "\n",
            "/usr/local/lib/python3.10/dist-packages/torch/nn/modules/loss.py:535: UserWarning:\n",
            "\n",
            "Using a target size (torch.Size([211, 1])) that is different to the input size (torch.Size([211, 128])). This will likely lead to incorrect results due to broadcasting. Please ensure they have the same size.\n",
            "\n",
            "/usr/local/lib/python3.10/dist-packages/torch/nn/modules/loss.py:535: UserWarning:\n",
            "\n",
            "Using a target size (torch.Size([37, 1])) that is different to the input size (torch.Size([37, 128])). This will likely lead to incorrect results due to broadcasting. Please ensure they have the same size.\n",
            "\n",
            "[I 2024-08-09 13:49:53,469] Trial 10 finished with value: 7.926737467447917 and parameters: {'learning_rate': 0.009219805757145033, 'hidden_dim': 128, 'latent_dim': 128, 'batch_size': 16, 'num_hidden_layers': 3}. Best is trial 7 with value: 6.930437723795573.\n"
          ]
        },
        {
          "output_type": "stream",
          "name": "stdout",
          "text": [
            "Epoch 100, Loss: 7.926737467447917\n"
          ]
        },
        {
          "output_type": "stream",
          "name": "stderr",
          "text": [
            "/usr/local/lib/python3.10/dist-packages/torch/nn/modules/loss.py:535: UserWarning:\n",
            "\n",
            "Using a target size (torch.Size([271, 1])) that is different to the input size (torch.Size([271, 128])). This will likely lead to incorrect results due to broadcasting. Please ensure they have the same size.\n",
            "\n",
            "/usr/local/lib/python3.10/dist-packages/torch/nn/modules/loss.py:535: UserWarning:\n",
            "\n",
            "Using a target size (torch.Size([184, 1])) that is different to the input size (torch.Size([184, 128])). This will likely lead to incorrect results due to broadcasting. Please ensure they have the same size.\n",
            "\n",
            "/usr/local/lib/python3.10/dist-packages/torch/nn/modules/loss.py:535: UserWarning:\n",
            "\n",
            "Using a target size (torch.Size([189, 1])) that is different to the input size (torch.Size([189, 128])). This will likely lead to incorrect results due to broadcasting. Please ensure they have the same size.\n",
            "\n",
            "/usr/local/lib/python3.10/dist-packages/torch/nn/modules/loss.py:535: UserWarning:\n",
            "\n",
            "Using a target size (torch.Size([248, 1])) that is different to the input size (torch.Size([248, 128])). This will likely lead to incorrect results due to broadcasting. Please ensure they have the same size.\n",
            "\n",
            "/usr/local/lib/python3.10/dist-packages/torch/nn/modules/loss.py:535: UserWarning:\n",
            "\n",
            "Using a target size (torch.Size([49, 1])) that is different to the input size (torch.Size([49, 128])). This will likely lead to incorrect results due to broadcasting. Please ensure they have the same size.\n",
            "\n",
            "/usr/local/lib/python3.10/dist-packages/torch/nn/modules/loss.py:535: UserWarning:\n",
            "\n",
            "Using a target size (torch.Size([255, 1])) that is different to the input size (torch.Size([255, 128])). This will likely lead to incorrect results due to broadcasting. Please ensure they have the same size.\n",
            "\n",
            "/usr/local/lib/python3.10/dist-packages/torch/nn/modules/loss.py:535: UserWarning:\n",
            "\n",
            "Using a target size (torch.Size([261, 1])) that is different to the input size (torch.Size([261, 128])). This will likely lead to incorrect results due to broadcasting. Please ensure they have the same size.\n",
            "\n",
            "/usr/local/lib/python3.10/dist-packages/torch/nn/modules/loss.py:535: UserWarning:\n",
            "\n",
            "Using a target size (torch.Size([36, 1])) that is different to the input size (torch.Size([36, 128])). This will likely lead to incorrect results due to broadcasting. Please ensure they have the same size.\n",
            "\n",
            "/usr/local/lib/python3.10/dist-packages/torch/nn/modules/loss.py:535: UserWarning:\n",
            "\n",
            "Using a target size (torch.Size([198, 1])) that is different to the input size (torch.Size([198, 128])). This will likely lead to incorrect results due to broadcasting. Please ensure they have the same size.\n",
            "\n",
            "/usr/local/lib/python3.10/dist-packages/torch/nn/modules/loss.py:535: UserWarning:\n",
            "\n",
            "Using a target size (torch.Size([202, 1])) that is different to the input size (torch.Size([202, 128])). This will likely lead to incorrect results due to broadcasting. Please ensure they have the same size.\n",
            "\n",
            "/usr/local/lib/python3.10/dist-packages/torch/nn/modules/loss.py:535: UserWarning:\n",
            "\n",
            "Using a target size (torch.Size([243, 1])) that is different to the input size (torch.Size([243, 128])). This will likely lead to incorrect results due to broadcasting. Please ensure they have the same size.\n",
            "\n",
            "/usr/local/lib/python3.10/dist-packages/torch/nn/modules/loss.py:535: UserWarning:\n",
            "\n",
            "Using a target size (torch.Size([204, 1])) that is different to the input size (torch.Size([204, 128])). This will likely lead to incorrect results due to broadcasting. Please ensure they have the same size.\n",
            "\n",
            "/usr/local/lib/python3.10/dist-packages/torch/nn/modules/loss.py:535: UserWarning:\n",
            "\n",
            "Using a target size (torch.Size([194, 1])) that is different to the input size (torch.Size([194, 128])). This will likely lead to incorrect results due to broadcasting. Please ensure they have the same size.\n",
            "\n",
            "/usr/local/lib/python3.10/dist-packages/torch/nn/modules/loss.py:535: UserWarning:\n",
            "\n",
            "Using a target size (torch.Size([247, 1])) that is different to the input size (torch.Size([247, 128])). This will likely lead to incorrect results due to broadcasting. Please ensure they have the same size.\n",
            "\n",
            "/usr/local/lib/python3.10/dist-packages/torch/nn/modules/loss.py:535: UserWarning:\n",
            "\n",
            "Using a target size (torch.Size([180, 1])) that is different to the input size (torch.Size([180, 128])). This will likely lead to incorrect results due to broadcasting. Please ensure they have the same size.\n",
            "\n",
            "/usr/local/lib/python3.10/dist-packages/torch/nn/modules/loss.py:535: UserWarning:\n",
            "\n",
            "Using a target size (torch.Size([272, 1])) that is different to the input size (torch.Size([272, 128])). This will likely lead to incorrect results due to broadcasting. Please ensure they have the same size.\n",
            "\n",
            "/usr/local/lib/python3.10/dist-packages/torch/nn/modules/loss.py:535: UserWarning:\n",
            "\n",
            "Using a target size (torch.Size([250, 1])) that is different to the input size (torch.Size([250, 128])). This will likely lead to incorrect results due to broadcasting. Please ensure they have the same size.\n",
            "\n",
            "/usr/local/lib/python3.10/dist-packages/torch/nn/modules/loss.py:535: UserWarning:\n",
            "\n",
            "Using a target size (torch.Size([263, 1])) that is different to the input size (torch.Size([263, 128])). This will likely lead to incorrect results due to broadcasting. Please ensure they have the same size.\n",
            "\n",
            "[I 2024-08-09 13:49:55,475] Trial 11 finished with value: 11.230964660644531 and parameters: {'learning_rate': 0.009428940946681248, 'hidden_dim': 128, 'latent_dim': 128, 'batch_size': 16, 'num_hidden_layers': 3}. Best is trial 7 with value: 6.930437723795573.\n"
          ]
        },
        {
          "output_type": "stream",
          "name": "stdout",
          "text": [
            "Epoch 100, Loss: 11.230964660644531\n"
          ]
        },
        {
          "output_type": "stream",
          "name": "stderr",
          "text": [
            "/usr/local/lib/python3.10/dist-packages/torch/nn/modules/loss.py:535: UserWarning:\n",
            "\n",
            "Using a target size (torch.Size([199, 1])) that is different to the input size (torch.Size([199, 128])). This will likely lead to incorrect results due to broadcasting. Please ensure they have the same size.\n",
            "\n",
            "/usr/local/lib/python3.10/dist-packages/torch/nn/modules/loss.py:535: UserWarning:\n",
            "\n",
            "Using a target size (torch.Size([48, 1])) that is different to the input size (torch.Size([48, 128])). This will likely lead to incorrect results due to broadcasting. Please ensure they have the same size.\n",
            "\n",
            "/usr/local/lib/python3.10/dist-packages/torch/nn/modules/loss.py:535: UserWarning:\n",
            "\n",
            "Using a target size (torch.Size([183, 1])) that is different to the input size (torch.Size([183, 128])). This will likely lead to incorrect results due to broadcasting. Please ensure they have the same size.\n",
            "\n",
            "[I 2024-08-09 13:49:57,424] Trial 12 finished with value: 6.883205413818359 and parameters: {'learning_rate': 0.009227328873539163, 'hidden_dim': 128, 'latent_dim': 128, 'batch_size': 16, 'num_hidden_layers': 3}. Best is trial 12 with value: 6.883205413818359.\n"
          ]
        },
        {
          "output_type": "stream",
          "name": "stdout",
          "text": [
            "Epoch 100, Loss: 6.883205413818359\n"
          ]
        },
        {
          "output_type": "stream",
          "name": "stderr",
          "text": [
            "/usr/local/lib/python3.10/dist-packages/torch/nn/modules/loss.py:535: UserWarning:\n",
            "\n",
            "Using a target size (torch.Size([216, 1])) that is different to the input size (torch.Size([216, 64])). This will likely lead to incorrect results due to broadcasting. Please ensure they have the same size.\n",
            "\n",
            "/usr/local/lib/python3.10/dist-packages/torch/nn/modules/loss.py:535: UserWarning:\n",
            "\n",
            "Using a target size (torch.Size([243, 1])) that is different to the input size (torch.Size([243, 64])). This will likely lead to incorrect results due to broadcasting. Please ensure they have the same size.\n",
            "\n",
            "/usr/local/lib/python3.10/dist-packages/torch/nn/modules/loss.py:535: UserWarning:\n",
            "\n",
            "Using a target size (torch.Size([18, 1])) that is different to the input size (torch.Size([18, 64])). This will likely lead to incorrect results due to broadcasting. Please ensure they have the same size.\n",
            "\n",
            "/usr/local/lib/python3.10/dist-packages/torch/nn/modules/loss.py:535: UserWarning:\n",
            "\n",
            "Using a target size (torch.Size([220, 1])) that is different to the input size (torch.Size([220, 64])). This will likely lead to incorrect results due to broadcasting. Please ensure they have the same size.\n",
            "\n",
            "/usr/local/lib/python3.10/dist-packages/torch/nn/modules/loss.py:535: UserWarning:\n",
            "\n",
            "Using a target size (torch.Size([223, 1])) that is different to the input size (torch.Size([223, 64])). This will likely lead to incorrect results due to broadcasting. Please ensure they have the same size.\n",
            "\n",
            "/usr/local/lib/python3.10/dist-packages/torch/nn/modules/loss.py:535: UserWarning:\n",
            "\n",
            "Using a target size (torch.Size([34, 1])) that is different to the input size (torch.Size([34, 64])). This will likely lead to incorrect results due to broadcasting. Please ensure they have the same size.\n",
            "\n",
            "/usr/local/lib/python3.10/dist-packages/torch/nn/modules/loss.py:535: UserWarning:\n",
            "\n",
            "Using a target size (torch.Size([200, 1])) that is different to the input size (torch.Size([200, 64])). This will likely lead to incorrect results due to broadcasting. Please ensure they have the same size.\n",
            "\n",
            "/usr/local/lib/python3.10/dist-packages/torch/nn/modules/loss.py:535: UserWarning:\n",
            "\n",
            "Using a target size (torch.Size([256, 1])) that is different to the input size (torch.Size([256, 64])). This will likely lead to incorrect results due to broadcasting. Please ensure they have the same size.\n",
            "\n",
            "/usr/local/lib/python3.10/dist-packages/torch/nn/modules/loss.py:535: UserWarning:\n",
            "\n",
            "Using a target size (torch.Size([21, 1])) that is different to the input size (torch.Size([21, 64])). This will likely lead to incorrect results due to broadcasting. Please ensure they have the same size.\n",
            "\n",
            "/usr/local/lib/python3.10/dist-packages/torch/nn/modules/loss.py:535: UserWarning:\n",
            "\n",
            "Using a target size (torch.Size([221, 1])) that is different to the input size (torch.Size([221, 64])). This will likely lead to incorrect results due to broadcasting. Please ensure they have the same size.\n",
            "\n",
            "/usr/local/lib/python3.10/dist-packages/torch/nn/modules/loss.py:535: UserWarning:\n",
            "\n",
            "Using a target size (torch.Size([35, 1])) that is different to the input size (torch.Size([35, 64])). This will likely lead to incorrect results due to broadcasting. Please ensure they have the same size.\n",
            "\n",
            "/usr/local/lib/python3.10/dist-packages/torch/nn/modules/loss.py:535: UserWarning:\n",
            "\n",
            "Using a target size (torch.Size([194, 1])) that is different to the input size (torch.Size([194, 64])). This will likely lead to incorrect results due to broadcasting. Please ensure they have the same size.\n",
            "\n",
            "/usr/local/lib/python3.10/dist-packages/torch/nn/modules/loss.py:535: UserWarning:\n",
            "\n",
            "Using a target size (torch.Size([261, 1])) that is different to the input size (torch.Size([261, 64])). This will likely lead to incorrect results due to broadcasting. Please ensure they have the same size.\n",
            "\n",
            "/usr/local/lib/python3.10/dist-packages/torch/nn/modules/loss.py:535: UserWarning:\n",
            "\n",
            "Using a target size (torch.Size([22, 1])) that is different to the input size (torch.Size([22, 64])). This will likely lead to incorrect results due to broadcasting. Please ensure they have the same size.\n",
            "\n",
            "/usr/local/lib/python3.10/dist-packages/torch/nn/modules/loss.py:535: UserWarning:\n",
            "\n",
            "Using a target size (torch.Size([224, 1])) that is different to the input size (torch.Size([224, 64])). This will likely lead to incorrect results due to broadcasting. Please ensure they have the same size.\n",
            "\n",
            "/usr/local/lib/python3.10/dist-packages/torch/nn/modules/loss.py:535: UserWarning:\n",
            "\n",
            "Using a target size (torch.Size([210, 1])) that is different to the input size (torch.Size([210, 64])). This will likely lead to incorrect results due to broadcasting. Please ensure they have the same size.\n",
            "\n",
            "/usr/local/lib/python3.10/dist-packages/torch/nn/modules/loss.py:535: UserWarning:\n",
            "\n",
            "Using a target size (torch.Size([43, 1])) that is different to the input size (torch.Size([43, 64])). This will likely lead to incorrect results due to broadcasting. Please ensure they have the same size.\n",
            "\n",
            "/usr/local/lib/python3.10/dist-packages/torch/nn/modules/loss.py:535: UserWarning:\n",
            "\n",
            "Using a target size (torch.Size([226, 1])) that is different to the input size (torch.Size([226, 64])). This will likely lead to incorrect results due to broadcasting. Please ensure they have the same size.\n",
            "\n",
            "/usr/local/lib/python3.10/dist-packages/torch/nn/modules/loss.py:535: UserWarning:\n",
            "\n",
            "Using a target size (torch.Size([233, 1])) that is different to the input size (torch.Size([233, 64])). This will likely lead to incorrect results due to broadcasting. Please ensure they have the same size.\n",
            "\n",
            "/usr/local/lib/python3.10/dist-packages/torch/nn/modules/loss.py:535: UserWarning:\n",
            "\n",
            "Using a target size (torch.Size([217, 1])) that is different to the input size (torch.Size([217, 64])). This will likely lead to incorrect results due to broadcasting. Please ensure they have the same size.\n",
            "\n",
            "/usr/local/lib/python3.10/dist-packages/torch/nn/modules/loss.py:535: UserWarning:\n",
            "\n",
            "Using a target size (torch.Size([237, 1])) that is different to the input size (torch.Size([237, 64])). This will likely lead to incorrect results due to broadcasting. Please ensure they have the same size.\n",
            "\n",
            "/usr/local/lib/python3.10/dist-packages/torch/nn/modules/loss.py:535: UserWarning:\n",
            "\n",
            "Using a target size (torch.Size([214, 1])) that is different to the input size (torch.Size([214, 64])). This will likely lead to incorrect results due to broadcasting. Please ensure they have the same size.\n",
            "\n",
            "/usr/local/lib/python3.10/dist-packages/torch/nn/modules/loss.py:535: UserWarning:\n",
            "\n",
            "Using a target size (torch.Size([26, 1])) that is different to the input size (torch.Size([26, 64])). This will likely lead to incorrect results due to broadcasting. Please ensure they have the same size.\n",
            "\n",
            "/usr/local/lib/python3.10/dist-packages/torch/nn/modules/loss.py:535: UserWarning:\n",
            "\n",
            "Using a target size (torch.Size([205, 1])) that is different to the input size (torch.Size([205, 64])). This will likely lead to incorrect results due to broadcasting. Please ensure they have the same size.\n",
            "\n",
            "/usr/local/lib/python3.10/dist-packages/torch/nn/modules/loss.py:535: UserWarning:\n",
            "\n",
            "Using a target size (torch.Size([241, 1])) that is different to the input size (torch.Size([241, 64])). This will likely lead to incorrect results due to broadcasting. Please ensure they have the same size.\n",
            "\n",
            "/usr/local/lib/python3.10/dist-packages/torch/nn/modules/loss.py:535: UserWarning:\n",
            "\n",
            "Using a target size (torch.Size([31, 1])) that is different to the input size (torch.Size([31, 64])). This will likely lead to incorrect results due to broadcasting. Please ensure they have the same size.\n",
            "\n",
            "/usr/local/lib/python3.10/dist-packages/torch/nn/modules/loss.py:535: UserWarning:\n",
            "\n",
            "Using a target size (torch.Size([201, 1])) that is different to the input size (torch.Size([201, 64])). This will likely lead to incorrect results due to broadcasting. Please ensure they have the same size.\n",
            "\n",
            "/usr/local/lib/python3.10/dist-packages/torch/nn/modules/loss.py:535: UserWarning:\n",
            "\n",
            "Using a target size (torch.Size([203, 1])) that is different to the input size (torch.Size([203, 64])). This will likely lead to incorrect results due to broadcasting. Please ensure they have the same size.\n",
            "\n",
            "/usr/local/lib/python3.10/dist-packages/torch/nn/modules/loss.py:535: UserWarning:\n",
            "\n",
            "Using a target size (torch.Size([252, 1])) that is different to the input size (torch.Size([252, 64])). This will likely lead to incorrect results due to broadcasting. Please ensure they have the same size.\n",
            "\n",
            "/usr/local/lib/python3.10/dist-packages/torch/nn/modules/loss.py:535: UserWarning:\n",
            "\n",
            "Using a target size (torch.Size([229, 1])) that is different to the input size (torch.Size([229, 64])). This will likely lead to incorrect results due to broadcasting. Please ensure they have the same size.\n",
            "\n",
            "/usr/local/lib/python3.10/dist-packages/torch/nn/modules/loss.py:535: UserWarning:\n",
            "\n",
            "Using a target size (torch.Size([27, 1])) that is different to the input size (torch.Size([27, 64])). This will likely lead to incorrect results due to broadcasting. Please ensure they have the same size.\n",
            "\n",
            "/usr/local/lib/python3.10/dist-packages/torch/nn/modules/loss.py:535: UserWarning:\n",
            "\n",
            "Using a target size (torch.Size([222, 1])) that is different to the input size (torch.Size([222, 64])). This will likely lead to incorrect results due to broadcasting. Please ensure they have the same size.\n",
            "\n",
            "/usr/local/lib/python3.10/dist-packages/torch/nn/modules/loss.py:535: UserWarning:\n",
            "\n",
            "Using a target size (torch.Size([29, 1])) that is different to the input size (torch.Size([29, 64])). This will likely lead to incorrect results due to broadcasting. Please ensure they have the same size.\n",
            "\n",
            "/usr/local/lib/python3.10/dist-packages/torch/nn/modules/loss.py:535: UserWarning:\n",
            "\n",
            "Using a target size (torch.Size([207, 1])) that is different to the input size (torch.Size([207, 64])). This will likely lead to incorrect results due to broadcasting. Please ensure they have the same size.\n",
            "\n",
            "/usr/local/lib/python3.10/dist-packages/torch/nn/modules/loss.py:535: UserWarning:\n",
            "\n",
            "Using a target size (torch.Size([44, 1])) that is different to the input size (torch.Size([44, 64])). This will likely lead to incorrect results due to broadcasting. Please ensure they have the same size.\n",
            "\n",
            "/usr/local/lib/python3.10/dist-packages/torch/nn/modules/loss.py:535: UserWarning:\n",
            "\n",
            "Using a target size (torch.Size([190, 1])) that is different to the input size (torch.Size([190, 64])). This will likely lead to incorrect results due to broadcasting. Please ensure they have the same size.\n",
            "\n",
            "/usr/local/lib/python3.10/dist-packages/torch/nn/modules/loss.py:535: UserWarning:\n",
            "\n",
            "Using a target size (torch.Size([231, 1])) that is different to the input size (torch.Size([231, 64])). This will likely lead to incorrect results due to broadcasting. Please ensure they have the same size.\n",
            "\n",
            "/usr/local/lib/python3.10/dist-packages/torch/nn/modules/loss.py:535: UserWarning:\n",
            "\n",
            "Using a target size (torch.Size([239, 1])) that is different to the input size (torch.Size([239, 64])). This will likely lead to incorrect results due to broadcasting. Please ensure they have the same size.\n",
            "\n",
            "/usr/local/lib/python3.10/dist-packages/torch/nn/modules/loss.py:535: UserWarning:\n",
            "\n",
            "Using a target size (torch.Size([197, 1])) that is different to the input size (torch.Size([197, 64])). This will likely lead to incorrect results due to broadcasting. Please ensure they have the same size.\n",
            "\n",
            "/usr/local/lib/python3.10/dist-packages/torch/nn/modules/loss.py:535: UserWarning:\n",
            "\n",
            "Using a target size (torch.Size([249, 1])) that is different to the input size (torch.Size([249, 64])). This will likely lead to incorrect results due to broadcasting. Please ensure they have the same size.\n",
            "\n",
            "/usr/local/lib/python3.10/dist-packages/torch/nn/modules/loss.py:535: UserWarning:\n",
            "\n",
            "Using a target size (torch.Size([215, 1])) that is different to the input size (torch.Size([215, 64])). This will likely lead to incorrect results due to broadcasting. Please ensure they have the same size.\n",
            "\n",
            "/usr/local/lib/python3.10/dist-packages/torch/nn/modules/loss.py:535: UserWarning:\n",
            "\n",
            "Using a target size (torch.Size([40, 1])) that is different to the input size (torch.Size([40, 64])). This will likely lead to incorrect results due to broadcasting. Please ensure they have the same size.\n",
            "\n",
            "/usr/local/lib/python3.10/dist-packages/torch/nn/modules/loss.py:535: UserWarning:\n",
            "\n",
            "Using a target size (torch.Size([236, 1])) that is different to the input size (torch.Size([236, 64])). This will likely lead to incorrect results due to broadcasting. Please ensure they have the same size.\n",
            "\n",
            "/usr/local/lib/python3.10/dist-packages/torch/nn/modules/loss.py:535: UserWarning:\n",
            "\n",
            "Using a target size (torch.Size([225, 1])) that is different to the input size (torch.Size([225, 64])). This will likely lead to incorrect results due to broadcasting. Please ensure they have the same size.\n",
            "\n",
            "/usr/local/lib/python3.10/dist-packages/torch/nn/modules/loss.py:535: UserWarning:\n",
            "\n",
            "Using a target size (torch.Size([232, 1])) that is different to the input size (torch.Size([232, 64])). This will likely lead to incorrect results due to broadcasting. Please ensure they have the same size.\n",
            "\n",
            "/usr/local/lib/python3.10/dist-packages/torch/nn/modules/loss.py:535: UserWarning:\n",
            "\n",
            "Using a target size (torch.Size([213, 1])) that is different to the input size (torch.Size([213, 64])). This will likely lead to incorrect results due to broadcasting. Please ensure they have the same size.\n",
            "\n",
            "/usr/local/lib/python3.10/dist-packages/torch/nn/modules/loss.py:535: UserWarning:\n",
            "\n",
            "Using a target size (torch.Size([32, 1])) that is different to the input size (torch.Size([32, 64])). This will likely lead to incorrect results due to broadcasting. Please ensure they have the same size.\n",
            "\n",
            "/usr/local/lib/python3.10/dist-packages/torch/nn/modules/loss.py:535: UserWarning:\n",
            "\n",
            "Using a target size (torch.Size([219, 1])) that is different to the input size (torch.Size([219, 64])). This will likely lead to incorrect results due to broadcasting. Please ensure they have the same size.\n",
            "\n",
            "/usr/local/lib/python3.10/dist-packages/torch/nn/modules/loss.py:535: UserWarning:\n",
            "\n",
            "Using a target size (torch.Size([17, 1])) that is different to the input size (torch.Size([17, 64])). This will likely lead to incorrect results due to broadcasting. Please ensure they have the same size.\n",
            "\n",
            "/usr/local/lib/python3.10/dist-packages/torch/nn/modules/loss.py:535: UserWarning:\n",
            "\n",
            "Using a target size (torch.Size([230, 1])) that is different to the input size (torch.Size([230, 64])). This will likely lead to incorrect results due to broadcasting. Please ensure they have the same size.\n",
            "\n",
            "/usr/local/lib/python3.10/dist-packages/torch/nn/modules/loss.py:535: UserWarning:\n",
            "\n",
            "Using a target size (torch.Size([211, 1])) that is different to the input size (torch.Size([211, 64])). This will likely lead to incorrect results due to broadcasting. Please ensure they have the same size.\n",
            "\n",
            "/usr/local/lib/python3.10/dist-packages/torch/nn/modules/loss.py:535: UserWarning:\n",
            "\n",
            "Using a target size (torch.Size([30, 1])) that is different to the input size (torch.Size([30, 64])). This will likely lead to incorrect results due to broadcasting. Please ensure they have the same size.\n",
            "\n",
            "/usr/local/lib/python3.10/dist-packages/torch/nn/modules/loss.py:535: UserWarning:\n",
            "\n",
            "Using a target size (torch.Size([199, 1])) that is different to the input size (torch.Size([199, 64])). This will likely lead to incorrect results due to broadcasting. Please ensure they have the same size.\n",
            "\n",
            "/usr/local/lib/python3.10/dist-packages/torch/nn/modules/loss.py:535: UserWarning:\n",
            "\n",
            "Using a target size (torch.Size([41, 1])) that is different to the input size (torch.Size([41, 64])). This will likely lead to incorrect results due to broadcasting. Please ensure they have the same size.\n",
            "\n",
            "/usr/local/lib/python3.10/dist-packages/torch/nn/modules/loss.py:535: UserWarning:\n",
            "\n",
            "Using a target size (torch.Size([240, 1])) that is different to the input size (torch.Size([240, 64])). This will likely lead to incorrect results due to broadcasting. Please ensure they have the same size.\n",
            "\n",
            "/usr/local/lib/python3.10/dist-packages/torch/nn/modules/loss.py:535: UserWarning:\n",
            "\n",
            "Using a target size (torch.Size([42, 1])) that is different to the input size (torch.Size([42, 64])). This will likely lead to incorrect results due to broadcasting. Please ensure they have the same size.\n",
            "\n",
            "/usr/local/lib/python3.10/dist-packages/torch/nn/modules/loss.py:535: UserWarning:\n",
            "\n",
            "Using a target size (torch.Size([212, 1])) that is different to the input size (torch.Size([212, 64])). This will likely lead to incorrect results due to broadcasting. Please ensure they have the same size.\n",
            "\n",
            "/usr/local/lib/python3.10/dist-packages/torch/nn/modules/loss.py:535: UserWarning:\n",
            "\n",
            "Using a target size (torch.Size([24, 1])) that is different to the input size (torch.Size([24, 64])). This will likely lead to incorrect results due to broadcasting. Please ensure they have the same size.\n",
            "\n",
            "/usr/local/lib/python3.10/dist-packages/torch/nn/modules/loss.py:535: UserWarning:\n",
            "\n",
            "Using a target size (torch.Size([38, 1])) that is different to the input size (torch.Size([38, 64])). This will likely lead to incorrect results due to broadcasting. Please ensure they have the same size.\n",
            "\n",
            "/usr/local/lib/python3.10/dist-packages/torch/nn/modules/loss.py:535: UserWarning:\n",
            "\n",
            "Using a target size (torch.Size([20, 1])) that is different to the input size (torch.Size([20, 64])). This will likely lead to incorrect results due to broadcasting. Please ensure they have the same size.\n",
            "\n",
            "/usr/local/lib/python3.10/dist-packages/torch/nn/modules/loss.py:535: UserWarning:\n",
            "\n",
            "Using a target size (torch.Size([202, 1])) that is different to the input size (torch.Size([202, 64])). This will likely lead to incorrect results due to broadcasting. Please ensure they have the same size.\n",
            "\n",
            "/usr/local/lib/python3.10/dist-packages/torch/nn/modules/loss.py:535: UserWarning:\n",
            "\n",
            "Using a target size (torch.Size([51, 1])) that is different to the input size (torch.Size([51, 64])). This will likely lead to incorrect results due to broadcasting. Please ensure they have the same size.\n",
            "\n",
            "/usr/local/lib/python3.10/dist-packages/torch/nn/modules/loss.py:535: UserWarning:\n",
            "\n",
            "Using a target size (torch.Size([244, 1])) that is different to the input size (torch.Size([244, 64])). This will likely lead to incorrect results due to broadcasting. Please ensure they have the same size.\n",
            "\n",
            "/usr/local/lib/python3.10/dist-packages/torch/nn/modules/loss.py:535: UserWarning:\n",
            "\n",
            "Using a target size (torch.Size([227, 1])) that is different to the input size (torch.Size([227, 64])). This will likely lead to incorrect results due to broadcasting. Please ensure they have the same size.\n",
            "\n",
            "/usr/local/lib/python3.10/dist-packages/torch/nn/modules/loss.py:535: UserWarning:\n",
            "\n",
            "Using a target size (torch.Size([218, 1])) that is different to the input size (torch.Size([218, 64])). This will likely lead to incorrect results due to broadcasting. Please ensure they have the same size.\n",
            "\n",
            "/usr/local/lib/python3.10/dist-packages/torch/nn/modules/loss.py:535: UserWarning:\n",
            "\n",
            "Using a target size (torch.Size([259, 1])) that is different to the input size (torch.Size([259, 64])). This will likely lead to incorrect results due to broadcasting. Please ensure they have the same size.\n",
            "\n",
            "/usr/local/lib/python3.10/dist-packages/torch/nn/modules/loss.py:535: UserWarning:\n",
            "\n",
            "Using a target size (torch.Size([246, 1])) that is different to the input size (torch.Size([246, 64])). This will likely lead to incorrect results due to broadcasting. Please ensure they have the same size.\n",
            "\n",
            "/usr/local/lib/python3.10/dist-packages/torch/nn/modules/loss.py:535: UserWarning:\n",
            "\n",
            "Using a target size (torch.Size([208, 1])) that is different to the input size (torch.Size([208, 64])). This will likely lead to incorrect results due to broadcasting. Please ensure they have the same size.\n",
            "\n",
            "/usr/local/lib/python3.10/dist-packages/torch/nn/modules/loss.py:535: UserWarning:\n",
            "\n",
            "Using a target size (torch.Size([234, 1])) that is different to the input size (torch.Size([234, 64])). This will likely lead to incorrect results due to broadcasting. Please ensure they have the same size.\n",
            "\n",
            "/usr/local/lib/python3.10/dist-packages/torch/nn/modules/loss.py:535: UserWarning:\n",
            "\n",
            "Using a target size (torch.Size([23, 1])) that is different to the input size (torch.Size([23, 64])). This will likely lead to incorrect results due to broadcasting. Please ensure they have the same size.\n",
            "\n",
            "/usr/local/lib/python3.10/dist-packages/torch/nn/modules/loss.py:535: UserWarning:\n",
            "\n",
            "Using a target size (torch.Size([28, 1])) that is different to the input size (torch.Size([28, 64])). This will likely lead to incorrect results due to broadcasting. Please ensure they have the same size.\n",
            "\n",
            "/usr/local/lib/python3.10/dist-packages/torch/nn/modules/loss.py:535: UserWarning:\n",
            "\n",
            "Using a target size (torch.Size([242, 1])) that is different to the input size (torch.Size([242, 64])). This will likely lead to incorrect results due to broadcasting. Please ensure they have the same size.\n",
            "\n",
            "/usr/local/lib/python3.10/dist-packages/torch/nn/modules/loss.py:535: UserWarning:\n",
            "\n",
            "Using a target size (torch.Size([209, 1])) that is different to the input size (torch.Size([209, 64])). This will likely lead to incorrect results due to broadcasting. Please ensure they have the same size.\n",
            "\n",
            "/usr/local/lib/python3.10/dist-packages/torch/nn/modules/loss.py:535: UserWarning:\n",
            "\n",
            "Using a target size (torch.Size([37, 1])) that is different to the input size (torch.Size([37, 64])). This will likely lead to incorrect results due to broadcasting. Please ensure they have the same size.\n",
            "\n",
            "/usr/local/lib/python3.10/dist-packages/torch/nn/modules/loss.py:535: UserWarning:\n",
            "\n",
            "Using a target size (torch.Size([251, 1])) that is different to the input size (torch.Size([251, 64])). This will likely lead to incorrect results due to broadcasting. Please ensure they have the same size.\n",
            "\n",
            "/usr/local/lib/python3.10/dist-packages/torch/nn/modules/loss.py:535: UserWarning:\n",
            "\n",
            "Using a target size (torch.Size([25, 1])) that is different to the input size (torch.Size([25, 64])). This will likely lead to incorrect results due to broadcasting. Please ensure they have the same size.\n",
            "\n",
            "/usr/local/lib/python3.10/dist-packages/torch/nn/modules/loss.py:535: UserWarning:\n",
            "\n",
            "Using a target size (torch.Size([238, 1])) that is different to the input size (torch.Size([238, 64])). This will likely lead to incorrect results due to broadcasting. Please ensure they have the same size.\n",
            "\n",
            "/usr/local/lib/python3.10/dist-packages/torch/nn/modules/loss.py:535: UserWarning:\n",
            "\n",
            "Using a target size (torch.Size([187, 1])) that is different to the input size (torch.Size([187, 64])). This will likely lead to incorrect results due to broadcasting. Please ensure they have the same size.\n",
            "\n",
            "/usr/local/lib/python3.10/dist-packages/torch/nn/modules/loss.py:535: UserWarning:\n",
            "\n",
            "Using a target size (torch.Size([267, 1])) that is different to the input size (torch.Size([267, 64])). This will likely lead to incorrect results due to broadcasting. Please ensure they have the same size.\n",
            "\n",
            "/usr/local/lib/python3.10/dist-packages/torch/nn/modules/loss.py:535: UserWarning:\n",
            "\n",
            "Using a target size (torch.Size([184, 1])) that is different to the input size (torch.Size([184, 64])). This will likely lead to incorrect results due to broadcasting. Please ensure they have the same size.\n",
            "\n",
            "/usr/local/lib/python3.10/dist-packages/torch/nn/modules/loss.py:535: UserWarning:\n",
            "\n",
            "Using a target size (torch.Size([250, 1])) that is different to the input size (torch.Size([250, 64])). This will likely lead to incorrect results due to broadcasting. Please ensure they have the same size.\n",
            "\n",
            "/usr/local/lib/python3.10/dist-packages/torch/nn/modules/loss.py:535: UserWarning:\n",
            "\n",
            "Using a target size (torch.Size([235, 1])) that is different to the input size (torch.Size([235, 64])). This will likely lead to incorrect results due to broadcasting. Please ensure they have the same size.\n",
            "\n",
            "/usr/local/lib/python3.10/dist-packages/torch/nn/modules/loss.py:535: UserWarning:\n",
            "\n",
            "Using a target size (torch.Size([228, 1])) that is different to the input size (torch.Size([228, 64])). This will likely lead to incorrect results due to broadcasting. Please ensure they have the same size.\n",
            "\n",
            "/usr/local/lib/python3.10/dist-packages/torch/nn/modules/loss.py:535: UserWarning:\n",
            "\n",
            "Using a target size (torch.Size([206, 1])) that is different to the input size (torch.Size([206, 64])). This will likely lead to incorrect results due to broadcasting. Please ensure they have the same size.\n",
            "\n",
            "/usr/local/lib/python3.10/dist-packages/torch/nn/modules/loss.py:535: UserWarning:\n",
            "\n",
            "Using a target size (torch.Size([198, 1])) that is different to the input size (torch.Size([198, 64])). This will likely lead to incorrect results due to broadcasting. Please ensure they have the same size.\n",
            "\n",
            "/usr/local/lib/python3.10/dist-packages/torch/nn/modules/loss.py:535: UserWarning:\n",
            "\n",
            "Using a target size (torch.Size([19, 1])) that is different to the input size (torch.Size([19, 64])). This will likely lead to incorrect results due to broadcasting. Please ensure they have the same size.\n",
            "\n",
            "[I 2024-08-09 13:49:59,726] Trial 13 finished with value: 9.009133656819662 and parameters: {'learning_rate': 0.018586670863973982, 'hidden_dim': 64, 'latent_dim': 128, 'batch_size': 16, 'num_hidden_layers': 4}. Best is trial 12 with value: 6.883205413818359.\n"
          ]
        },
        {
          "output_type": "stream",
          "name": "stdout",
          "text": [
            "Epoch 100, Loss: 9.009133656819662\n"
          ]
        },
        {
          "output_type": "stream",
          "name": "stderr",
          "text": [
            "/usr/local/lib/python3.10/dist-packages/torch/nn/modules/loss.py:535: UserWarning:\n",
            "\n",
            "Using a target size (torch.Size([232, 1])) that is different to the input size (torch.Size([232, 192])). This will likely lead to incorrect results due to broadcasting. Please ensure they have the same size.\n",
            "\n",
            "/usr/local/lib/python3.10/dist-packages/torch/nn/modules/loss.py:535: UserWarning:\n",
            "\n",
            "Using a target size (torch.Size([211, 1])) that is different to the input size (torch.Size([211, 192])). This will likely lead to incorrect results due to broadcasting. Please ensure they have the same size.\n",
            "\n",
            "/usr/local/lib/python3.10/dist-packages/torch/nn/modules/loss.py:535: UserWarning:\n",
            "\n",
            "Using a target size (torch.Size([233, 1])) that is different to the input size (torch.Size([233, 192])). This will likely lead to incorrect results due to broadcasting. Please ensure they have the same size.\n",
            "\n",
            "/usr/local/lib/python3.10/dist-packages/torch/nn/modules/loss.py:535: UserWarning:\n",
            "\n",
            "Using a target size (torch.Size([222, 1])) that is different to the input size (torch.Size([222, 192])). This will likely lead to incorrect results due to broadcasting. Please ensure they have the same size.\n",
            "\n",
            "/usr/local/lib/python3.10/dist-packages/torch/nn/modules/loss.py:535: UserWarning:\n",
            "\n",
            "Using a target size (torch.Size([216, 1])) that is different to the input size (torch.Size([216, 192])). This will likely lead to incorrect results due to broadcasting. Please ensure they have the same size.\n",
            "\n",
            "/usr/local/lib/python3.10/dist-packages/torch/nn/modules/loss.py:535: UserWarning:\n",
            "\n",
            "Using a target size (torch.Size([234, 1])) that is different to the input size (torch.Size([234, 192])). This will likely lead to incorrect results due to broadcasting. Please ensure they have the same size.\n",
            "\n",
            "/usr/local/lib/python3.10/dist-packages/torch/nn/modules/loss.py:535: UserWarning:\n",
            "\n",
            "Using a target size (torch.Size([220, 1])) that is different to the input size (torch.Size([220, 192])). This will likely lead to incorrect results due to broadcasting. Please ensure they have the same size.\n",
            "\n",
            "/usr/local/lib/python3.10/dist-packages/torch/nn/modules/loss.py:535: UserWarning:\n",
            "\n",
            "Using a target size (torch.Size([213, 1])) that is different to the input size (torch.Size([213, 192])). This will likely lead to incorrect results due to broadcasting. Please ensure they have the same size.\n",
            "\n",
            "/usr/local/lib/python3.10/dist-packages/torch/nn/modules/loss.py:535: UserWarning:\n",
            "\n",
            "Using a target size (torch.Size([239, 1])) that is different to the input size (torch.Size([239, 192])). This will likely lead to incorrect results due to broadcasting. Please ensure they have the same size.\n",
            "\n",
            "/usr/local/lib/python3.10/dist-packages/torch/nn/modules/loss.py:535: UserWarning:\n",
            "\n",
            "Using a target size (torch.Size([224, 1])) that is different to the input size (torch.Size([224, 192])). This will likely lead to incorrect results due to broadcasting. Please ensure they have the same size.\n",
            "\n",
            "/usr/local/lib/python3.10/dist-packages/torch/nn/modules/loss.py:535: UserWarning:\n",
            "\n",
            "Using a target size (torch.Size([230, 1])) that is different to the input size (torch.Size([230, 192])). This will likely lead to incorrect results due to broadcasting. Please ensure they have the same size.\n",
            "\n",
            "/usr/local/lib/python3.10/dist-packages/torch/nn/modules/loss.py:535: UserWarning:\n",
            "\n",
            "Using a target size (torch.Size([242, 1])) that is different to the input size (torch.Size([242, 192])). This will likely lead to incorrect results due to broadcasting. Please ensure they have the same size.\n",
            "\n",
            "/usr/local/lib/python3.10/dist-packages/torch/nn/modules/loss.py:535: UserWarning:\n",
            "\n",
            "Using a target size (torch.Size([217, 1])) that is different to the input size (torch.Size([217, 192])). This will likely lead to incorrect results due to broadcasting. Please ensure they have the same size.\n",
            "\n",
            "/usr/local/lib/python3.10/dist-packages/torch/nn/modules/loss.py:535: UserWarning:\n",
            "\n",
            "Using a target size (torch.Size([205, 1])) that is different to the input size (torch.Size([205, 192])). This will likely lead to incorrect results due to broadcasting. Please ensure they have the same size.\n",
            "\n",
            "/usr/local/lib/python3.10/dist-packages/torch/nn/modules/loss.py:535: UserWarning:\n",
            "\n",
            "Using a target size (torch.Size([55, 1])) that is different to the input size (torch.Size([55, 192])). This will likely lead to incorrect results due to broadcasting. Please ensure they have the same size.\n",
            "\n",
            "/usr/local/lib/python3.10/dist-packages/torch/nn/modules/loss.py:535: UserWarning:\n",
            "\n",
            "Using a target size (torch.Size([238, 1])) that is different to the input size (torch.Size([238, 192])). This will likely lead to incorrect results due to broadcasting. Please ensure they have the same size.\n",
            "\n",
            "/usr/local/lib/python3.10/dist-packages/torch/nn/modules/loss.py:535: UserWarning:\n",
            "\n",
            "Using a target size (torch.Size([223, 1])) that is different to the input size (torch.Size([223, 192])). This will likely lead to incorrect results due to broadcasting. Please ensure they have the same size.\n",
            "\n",
            "/usr/local/lib/python3.10/dist-packages/torch/nn/modules/loss.py:535: UserWarning:\n",
            "\n",
            "Using a target size (torch.Size([215, 1])) that is different to the input size (torch.Size([215, 192])). This will likely lead to incorrect results due to broadcasting. Please ensure they have the same size.\n",
            "\n",
            "/usr/local/lib/python3.10/dist-packages/torch/nn/modules/loss.py:535: UserWarning:\n",
            "\n",
            "Using a target size (torch.Size([229, 1])) that is different to the input size (torch.Size([229, 192])). This will likely lead to incorrect results due to broadcasting. Please ensure they have the same size.\n",
            "\n",
            "/usr/local/lib/python3.10/dist-packages/torch/nn/modules/loss.py:535: UserWarning:\n",
            "\n",
            "Using a target size (torch.Size([236, 1])) that is different to the input size (torch.Size([236, 192])). This will likely lead to incorrect results due to broadcasting. Please ensure they have the same size.\n",
            "\n",
            "/usr/local/lib/python3.10/dist-packages/torch/nn/modules/loss.py:535: UserWarning:\n",
            "\n",
            "Using a target size (torch.Size([206, 1])) that is different to the input size (torch.Size([206, 192])). This will likely lead to incorrect results due to broadcasting. Please ensure they have the same size.\n",
            "\n",
            "/usr/local/lib/python3.10/dist-packages/torch/nn/modules/loss.py:535: UserWarning:\n",
            "\n",
            "Using a target size (torch.Size([221, 1])) that is different to the input size (torch.Size([221, 192])). This will likely lead to incorrect results due to broadcasting. Please ensure they have the same size.\n",
            "\n",
            "/usr/local/lib/python3.10/dist-packages/torch/nn/modules/loss.py:535: UserWarning:\n",
            "\n",
            "Using a target size (torch.Size([248, 1])) that is different to the input size (torch.Size([248, 192])). This will likely lead to incorrect results due to broadcasting. Please ensure they have the same size.\n",
            "\n",
            "/usr/local/lib/python3.10/dist-packages/torch/nn/modules/loss.py:535: UserWarning:\n",
            "\n",
            "Using a target size (torch.Size([244, 1])) that is different to the input size (torch.Size([244, 192])). This will likely lead to incorrect results due to broadcasting. Please ensure they have the same size.\n",
            "\n",
            "/usr/local/lib/python3.10/dist-packages/torch/nn/modules/loss.py:535: UserWarning:\n",
            "\n",
            "Using a target size (torch.Size([40, 1])) that is different to the input size (torch.Size([40, 192])). This will likely lead to incorrect results due to broadcasting. Please ensure they have the same size.\n",
            "\n",
            "/usr/local/lib/python3.10/dist-packages/torch/nn/modules/loss.py:535: UserWarning:\n",
            "\n",
            "Using a target size (torch.Size([260, 1])) that is different to the input size (torch.Size([260, 192])). This will likely lead to incorrect results due to broadcasting. Please ensure they have the same size.\n",
            "\n",
            "/usr/local/lib/python3.10/dist-packages/torch/nn/modules/loss.py:535: UserWarning:\n",
            "\n",
            "Using a target size (torch.Size([190, 1])) that is different to the input size (torch.Size([190, 192])). This will likely lead to incorrect results due to broadcasting. Please ensure they have the same size.\n",
            "\n",
            "/usr/local/lib/python3.10/dist-packages/torch/nn/modules/loss.py:535: UserWarning:\n",
            "\n",
            "Using a target size (torch.Size([227, 1])) that is different to the input size (torch.Size([227, 192])). This will likely lead to incorrect results due to broadcasting. Please ensure they have the same size.\n",
            "\n",
            "/usr/local/lib/python3.10/dist-packages/torch/nn/modules/loss.py:535: UserWarning:\n",
            "\n",
            "Using a target size (torch.Size([237, 1])) that is different to the input size (torch.Size([237, 192])). This will likely lead to incorrect results due to broadcasting. Please ensure they have the same size.\n",
            "\n",
            "/usr/local/lib/python3.10/dist-packages/torch/nn/modules/loss.py:535: UserWarning:\n",
            "\n",
            "Using a target size (torch.Size([228, 1])) that is different to the input size (torch.Size([228, 192])). This will likely lead to incorrect results due to broadcasting. Please ensure they have the same size.\n",
            "\n",
            "/usr/local/lib/python3.10/dist-packages/torch/nn/modules/loss.py:535: UserWarning:\n",
            "\n",
            "Using a target size (torch.Size([247, 1])) that is different to the input size (torch.Size([247, 192])). This will likely lead to incorrect results due to broadcasting. Please ensure they have the same size.\n",
            "\n",
            "/usr/local/lib/python3.10/dist-packages/torch/nn/modules/loss.py:535: UserWarning:\n",
            "\n",
            "Using a target size (torch.Size([209, 1])) that is different to the input size (torch.Size([209, 192])). This will likely lead to incorrect results due to broadcasting. Please ensure they have the same size.\n",
            "\n",
            "/usr/local/lib/python3.10/dist-packages/torch/nn/modules/loss.py:535: UserWarning:\n",
            "\n",
            "Using a target size (torch.Size([208, 1])) that is different to the input size (torch.Size([208, 192])). This will likely lead to incorrect results due to broadcasting. Please ensure they have the same size.\n",
            "\n",
            "/usr/local/lib/python3.10/dist-packages/torch/nn/modules/loss.py:535: UserWarning:\n",
            "\n",
            "Using a target size (torch.Size([226, 1])) that is different to the input size (torch.Size([226, 192])). This will likely lead to incorrect results due to broadcasting. Please ensure they have the same size.\n",
            "\n",
            "/usr/local/lib/python3.10/dist-packages/torch/nn/modules/loss.py:535: UserWarning:\n",
            "\n",
            "Using a target size (torch.Size([43, 1])) that is different to the input size (torch.Size([43, 192])). This will likely lead to incorrect results due to broadcasting. Please ensure they have the same size.\n",
            "\n",
            "/usr/local/lib/python3.10/dist-packages/torch/nn/modules/loss.py:535: UserWarning:\n",
            "\n",
            "Using a target size (torch.Size([203, 1])) that is different to the input size (torch.Size([203, 192])). This will likely lead to incorrect results due to broadcasting. Please ensure they have the same size.\n",
            "\n",
            "/usr/local/lib/python3.10/dist-packages/torch/nn/modules/loss.py:535: UserWarning:\n",
            "\n",
            "Using a target size (torch.Size([231, 1])) that is different to the input size (torch.Size([231, 192])). This will likely lead to incorrect results due to broadcasting. Please ensure they have the same size.\n",
            "\n",
            "/usr/local/lib/python3.10/dist-packages/torch/nn/modules/loss.py:535: UserWarning:\n",
            "\n",
            "Using a target size (torch.Size([214, 1])) that is different to the input size (torch.Size([214, 192])). This will likely lead to incorrect results due to broadcasting. Please ensure they have the same size.\n",
            "\n",
            "/usr/local/lib/python3.10/dist-packages/torch/nn/modules/loss.py:535: UserWarning:\n",
            "\n",
            "Using a target size (torch.Size([218, 1])) that is different to the input size (torch.Size([218, 192])). This will likely lead to incorrect results due to broadcasting. Please ensure they have the same size.\n",
            "\n",
            "/usr/local/lib/python3.10/dist-packages/torch/nn/modules/loss.py:535: UserWarning:\n",
            "\n",
            "Using a target size (torch.Size([219, 1])) that is different to the input size (torch.Size([219, 192])). This will likely lead to incorrect results due to broadcasting. Please ensure they have the same size.\n",
            "\n",
            "/usr/local/lib/python3.10/dist-packages/torch/nn/modules/loss.py:535: UserWarning:\n",
            "\n",
            "Using a target size (torch.Size([251, 1])) that is different to the input size (torch.Size([251, 192])). This will likely lead to incorrect results due to broadcasting. Please ensure they have the same size.\n",
            "\n",
            "/usr/local/lib/python3.10/dist-packages/torch/nn/modules/loss.py:535: UserWarning:\n",
            "\n",
            "Using a target size (torch.Size([207, 1])) that is different to the input size (torch.Size([207, 192])). This will likely lead to incorrect results due to broadcasting. Please ensure they have the same size.\n",
            "\n",
            "/usr/local/lib/python3.10/dist-packages/torch/nn/modules/loss.py:535: UserWarning:\n",
            "\n",
            "Using a target size (torch.Size([193, 1])) that is different to the input size (torch.Size([193, 192])). This will likely lead to incorrect results due to broadcasting. Please ensure they have the same size.\n",
            "\n",
            "/usr/local/lib/python3.10/dist-packages/torch/nn/modules/loss.py:535: UserWarning:\n",
            "\n",
            "Using a target size (torch.Size([258, 1])) that is different to the input size (torch.Size([258, 192])). This will likely lead to incorrect results due to broadcasting. Please ensure they have the same size.\n",
            "\n",
            "/usr/local/lib/python3.10/dist-packages/torch/nn/modules/loss.py:535: UserWarning:\n",
            "\n",
            "Using a target size (torch.Size([196, 1])) that is different to the input size (torch.Size([196, 192])). This will likely lead to incorrect results due to broadcasting. Please ensure they have the same size.\n",
            "\n",
            "/usr/local/lib/python3.10/dist-packages/torch/nn/modules/loss.py:535: UserWarning:\n",
            "\n",
            "Using a target size (torch.Size([225, 1])) that is different to the input size (torch.Size([225, 192])). This will likely lead to incorrect results due to broadcasting. Please ensure they have the same size.\n",
            "\n",
            "/usr/local/lib/python3.10/dist-packages/torch/nn/modules/loss.py:535: UserWarning:\n",
            "\n",
            "Using a target size (torch.Size([243, 1])) that is different to the input size (torch.Size([243, 192])). This will likely lead to incorrect results due to broadcasting. Please ensure they have the same size.\n",
            "\n",
            "/usr/local/lib/python3.10/dist-packages/torch/nn/modules/loss.py:535: UserWarning:\n",
            "\n",
            "Using a target size (torch.Size([245, 1])) that is different to the input size (torch.Size([245, 192])). This will likely lead to incorrect results due to broadcasting. Please ensure they have the same size.\n",
            "\n",
            "/usr/local/lib/python3.10/dist-packages/torch/nn/modules/loss.py:535: UserWarning:\n",
            "\n",
            "Using a target size (torch.Size([259, 1])) that is different to the input size (torch.Size([259, 192])). This will likely lead to incorrect results due to broadcasting. Please ensure they have the same size.\n",
            "\n",
            "/usr/local/lib/python3.10/dist-packages/torch/nn/modules/loss.py:535: UserWarning:\n",
            "\n",
            "Using a target size (torch.Size([194, 1])) that is different to the input size (torch.Size([194, 192])). This will likely lead to incorrect results due to broadcasting. Please ensure they have the same size.\n",
            "\n",
            "/usr/local/lib/python3.10/dist-packages/torch/nn/modules/loss.py:535: UserWarning:\n",
            "\n",
            "Using a target size (torch.Size([240, 1])) that is different to the input size (torch.Size([240, 192])). This will likely lead to incorrect results due to broadcasting. Please ensure they have the same size.\n",
            "\n",
            "/usr/local/lib/python3.10/dist-packages/torch/nn/modules/loss.py:535: UserWarning:\n",
            "\n",
            "Using a target size (torch.Size([202, 1])) that is different to the input size (torch.Size([202, 192])). This will likely lead to incorrect results due to broadcasting. Please ensure they have the same size.\n",
            "\n",
            "/usr/local/lib/python3.10/dist-packages/torch/nn/modules/loss.py:535: UserWarning:\n",
            "\n",
            "Using a target size (torch.Size([212, 1])) that is different to the input size (torch.Size([212, 192])). This will likely lead to incorrect results due to broadcasting. Please ensure they have the same size.\n",
            "\n",
            "/usr/local/lib/python3.10/dist-packages/torch/nn/modules/loss.py:535: UserWarning:\n",
            "\n",
            "Using a target size (torch.Size([254, 1])) that is different to the input size (torch.Size([254, 192])). This will likely lead to incorrect results due to broadcasting. Please ensure they have the same size.\n",
            "\n",
            "/usr/local/lib/python3.10/dist-packages/torch/nn/modules/loss.py:535: UserWarning:\n",
            "\n",
            "Using a target size (torch.Size([191, 1])) that is different to the input size (torch.Size([191, 192])). This will likely lead to incorrect results due to broadcasting. Please ensure they have the same size.\n",
            "\n",
            "/usr/local/lib/python3.10/dist-packages/torch/nn/modules/loss.py:535: UserWarning:\n",
            "\n",
            "Using a target size (torch.Size([198, 1])) that is different to the input size (torch.Size([198, 192])). This will likely lead to incorrect results due to broadcasting. Please ensure they have the same size.\n",
            "\n",
            "/usr/local/lib/python3.10/dist-packages/torch/nn/modules/loss.py:535: UserWarning:\n",
            "\n",
            "Using a target size (torch.Size([241, 1])) that is different to the input size (torch.Size([241, 192])). This will likely lead to incorrect results due to broadcasting. Please ensure they have the same size.\n",
            "\n",
            "/usr/local/lib/python3.10/dist-packages/torch/nn/modules/loss.py:535: UserWarning:\n",
            "\n",
            "Using a target size (torch.Size([246, 1])) that is different to the input size (torch.Size([246, 192])). This will likely lead to incorrect results due to broadcasting. Please ensure they have the same size.\n",
            "\n",
            "/usr/local/lib/python3.10/dist-packages/torch/nn/modules/loss.py:535: UserWarning:\n",
            "\n",
            "Using a target size (torch.Size([210, 1])) that is different to the input size (torch.Size([210, 192])). This will likely lead to incorrect results due to broadcasting. Please ensure they have the same size.\n",
            "\n",
            "/usr/local/lib/python3.10/dist-packages/torch/nn/modules/loss.py:535: UserWarning:\n",
            "\n",
            "Using a target size (torch.Size([201, 1])) that is different to the input size (torch.Size([201, 192])). This will likely lead to incorrect results due to broadcasting. Please ensure they have the same size.\n",
            "\n",
            "/usr/local/lib/python3.10/dist-packages/torch/nn/modules/loss.py:535: UserWarning:\n",
            "\n",
            "Using a target size (torch.Size([268, 1])) that is different to the input size (torch.Size([268, 192])). This will likely lead to incorrect results due to broadcasting. Please ensure they have the same size.\n",
            "\n",
            "/usr/local/lib/python3.10/dist-packages/torch/nn/modules/loss.py:535: UserWarning:\n",
            "\n",
            "Using a target size (torch.Size([189, 1])) that is different to the input size (torch.Size([189, 192])). This will likely lead to incorrect results due to broadcasting. Please ensure they have the same size.\n",
            "\n",
            "/usr/local/lib/python3.10/dist-packages/torch/nn/modules/loss.py:535: UserWarning:\n",
            "\n",
            "Using a target size (torch.Size([204, 1])) that is different to the input size (torch.Size([204, 192])). This will likely lead to incorrect results due to broadcasting. Please ensure they have the same size.\n",
            "\n",
            "/usr/local/lib/python3.10/dist-packages/torch/nn/modules/loss.py:535: UserWarning:\n",
            "\n",
            "Using a target size (torch.Size([235, 1])) that is different to the input size (torch.Size([235, 192])). This will likely lead to incorrect results due to broadcasting. Please ensure they have the same size.\n",
            "\n",
            "/usr/local/lib/python3.10/dist-packages/torch/nn/modules/loss.py:535: UserWarning:\n",
            "\n",
            "Using a target size (torch.Size([181, 1])) that is different to the input size (torch.Size([181, 192])). This will likely lead to incorrect results due to broadcasting. Please ensure they have the same size.\n",
            "\n",
            "/usr/local/lib/python3.10/dist-packages/torch/nn/modules/loss.py:535: UserWarning:\n",
            "\n",
            "Using a target size (torch.Size([266, 1])) that is different to the input size (torch.Size([266, 192])). This will likely lead to incorrect results due to broadcasting. Please ensure they have the same size.\n",
            "\n",
            "[I 2024-08-09 13:50:01,525] Trial 14 finished with value: 7.754074573516846 and parameters: {'learning_rate': 0.007038022438618605, 'hidden_dim': 192, 'latent_dim': 128, 'batch_size': 16, 'num_hidden_layers': 2}. Best is trial 12 with value: 6.883205413818359.\n"
          ]
        },
        {
          "output_type": "stream",
          "name": "stdout",
          "text": [
            "Epoch 100, Loss: 7.754074573516846\n"
          ]
        },
        {
          "output_type": "stream",
          "name": "stderr",
          "text": [
            "/usr/local/lib/python3.10/dist-packages/torch/nn/modules/loss.py:535: UserWarning:\n",
            "\n",
            "Using a target size (torch.Size([252, 1])) that is different to the input size (torch.Size([252, 128])). This will likely lead to incorrect results due to broadcasting. Please ensure they have the same size.\n",
            "\n",
            "[I 2024-08-09 13:50:03,756] Trial 15 finished with value: 11.088329156239828 and parameters: {'learning_rate': 0.014182361623735588, 'hidden_dim': 128, 'latent_dim': 64, 'batch_size': 16, 'num_hidden_layers': 4}. Best is trial 12 with value: 6.883205413818359.\n"
          ]
        },
        {
          "output_type": "stream",
          "name": "stdout",
          "text": [
            "Epoch 100, Loss: 11.088329156239828\n"
          ]
        },
        {
          "output_type": "stream",
          "name": "stderr",
          "text": [
            "/usr/local/lib/python3.10/dist-packages/torch/nn/modules/loss.py:535: UserWarning:\n",
            "\n",
            "Using a target size (torch.Size([53, 1])) that is different to the input size (torch.Size([53, 128])). This will likely lead to incorrect results due to broadcasting. Please ensure they have the same size.\n",
            "\n",
            "/usr/local/lib/python3.10/dist-packages/torch/nn/modules/loss.py:535: UserWarning:\n",
            "\n",
            "Using a target size (torch.Size([186, 1])) that is different to the input size (torch.Size([186, 128])). This will likely lead to incorrect results due to broadcasting. Please ensure they have the same size.\n",
            "\n",
            "[I 2024-08-09 13:50:05,724] Trial 16 finished with value: 11.21431271235148 and parameters: {'learning_rate': 0.020061709966803024, 'hidden_dim': 128, 'latent_dim': 128, 'batch_size': 16, 'num_hidden_layers': 3}. Best is trial 12 with value: 6.883205413818359.\n"
          ]
        },
        {
          "output_type": "stream",
          "name": "stdout",
          "text": [
            "Epoch 100, Loss: 11.21431271235148\n"
          ]
        },
        {
          "output_type": "stream",
          "name": "stderr",
          "text": [
            "/usr/local/lib/python3.10/dist-packages/torch/nn/modules/loss.py:535: UserWarning:\n",
            "\n",
            "Using a target size (torch.Size([197, 1])) that is different to the input size (torch.Size([197, 192])). This will likely lead to incorrect results due to broadcasting. Please ensure they have the same size.\n",
            "\n",
            "/usr/local/lib/python3.10/dist-packages/torch/nn/modules/loss.py:535: UserWarning:\n",
            "\n",
            "Using a target size (torch.Size([256, 1])) that is different to the input size (torch.Size([256, 192])). This will likely lead to incorrect results due to broadcasting. Please ensure they have the same size.\n",
            "\n",
            "/usr/local/lib/python3.10/dist-packages/torch/nn/modules/loss.py:535: UserWarning:\n",
            "\n",
            "Using a target size (torch.Size([249, 1])) that is different to the input size (torch.Size([249, 192])). This will likely lead to incorrect results due to broadcasting. Please ensure they have the same size.\n",
            "\n",
            "/usr/local/lib/python3.10/dist-packages/torch/nn/modules/loss.py:535: UserWarning:\n",
            "\n",
            "Using a target size (torch.Size([262, 1])) that is different to the input size (torch.Size([262, 192])). This will likely lead to incorrect results due to broadcasting. Please ensure they have the same size.\n",
            "\n",
            "/usr/local/lib/python3.10/dist-packages/torch/nn/modules/loss.py:535: UserWarning:\n",
            "\n",
            "Using a target size (torch.Size([200, 1])) that is different to the input size (torch.Size([200, 192])). This will likely lead to incorrect results due to broadcasting. Please ensure they have the same size.\n",
            "\n",
            "/usr/local/lib/python3.10/dist-packages/torch/nn/modules/loss.py:535: UserWarning:\n",
            "\n",
            "Using a target size (torch.Size([252, 1])) that is different to the input size (torch.Size([252, 192])). This will likely lead to incorrect results due to broadcasting. Please ensure they have the same size.\n",
            "\n",
            "/usr/local/lib/python3.10/dist-packages/torch/nn/modules/loss.py:535: UserWarning:\n",
            "\n",
            "Using a target size (torch.Size([253, 1])) that is different to the input size (torch.Size([253, 192])). This will likely lead to incorrect results due to broadcasting. Please ensure they have the same size.\n",
            "\n",
            "/usr/local/lib/python3.10/dist-packages/torch/nn/modules/loss.py:535: UserWarning:\n",
            "\n",
            "Using a target size (torch.Size([261, 1])) that is different to the input size (torch.Size([261, 192])). This will likely lead to incorrect results due to broadcasting. Please ensure they have the same size.\n",
            "\n",
            "/usr/local/lib/python3.10/dist-packages/torch/nn/modules/loss.py:535: UserWarning:\n",
            "\n",
            "Using a target size (torch.Size([188, 1])) that is different to the input size (torch.Size([188, 192])). This will likely lead to incorrect results due to broadcasting. Please ensure they have the same size.\n",
            "\n",
            "/usr/local/lib/python3.10/dist-packages/torch/nn/modules/loss.py:535: UserWarning:\n",
            "\n",
            "Using a target size (torch.Size([257, 1])) that is different to the input size (torch.Size([257, 192])). This will likely lead to incorrect results due to broadcasting. Please ensure they have the same size.\n",
            "\n",
            "/usr/local/lib/python3.10/dist-packages/torch/nn/modules/loss.py:535: UserWarning:\n",
            "\n",
            "Using a target size (torch.Size([199, 1])) that is different to the input size (torch.Size([199, 192])). This will likely lead to incorrect results due to broadcasting. Please ensure they have the same size.\n",
            "\n",
            "/usr/local/lib/python3.10/dist-packages/torch/nn/modules/loss.py:535: UserWarning:\n",
            "\n",
            "Using a target size (torch.Size([17, 1])) that is different to the input size (torch.Size([17, 192])). This will likely lead to incorrect results due to broadcasting. Please ensure they have the same size.\n",
            "\n",
            "[I 2024-08-09 13:50:08,624] Trial 17 finished with value: 11.26298999786377 and parameters: {'learning_rate': 0.006533728070326942, 'hidden_dim': 192, 'latent_dim': 128, 'batch_size': 16, 'num_hidden_layers': 6}. Best is trial 12 with value: 6.883205413818359.\n"
          ]
        },
        {
          "output_type": "stream",
          "name": "stdout",
          "text": [
            "Epoch 100, Loss: 11.26298999786377\n"
          ]
        },
        {
          "output_type": "stream",
          "name": "stderr",
          "text": [
            "/usr/local/lib/python3.10/dist-packages/torch/nn/modules/loss.py:535: UserWarning:\n",
            "\n",
            "Using a target size (torch.Size([16, 1])) that is different to the input size (torch.Size([16, 64])). This will likely lead to incorrect results due to broadcasting. Please ensure they have the same size.\n",
            "\n",
            "/usr/local/lib/python3.10/dist-packages/torch/nn/modules/loss.py:535: UserWarning:\n",
            "\n",
            "Using a target size (torch.Size([195, 1])) that is different to the input size (torch.Size([195, 64])). This will likely lead to incorrect results due to broadcasting. Please ensure they have the same size.\n",
            "\n",
            "/usr/local/lib/python3.10/dist-packages/torch/nn/modules/loss.py:535: UserWarning:\n",
            "\n",
            "Using a target size (torch.Size([39, 1])) that is different to the input size (torch.Size([39, 64])). This will likely lead to incorrect results due to broadcasting. Please ensure they have the same size.\n",
            "\n",
            "/usr/local/lib/python3.10/dist-packages/torch/nn/modules/loss.py:535: UserWarning:\n",
            "\n",
            "Using a target size (torch.Size([204, 1])) that is different to the input size (torch.Size([204, 64])). This will likely lead to incorrect results due to broadcasting. Please ensure they have the same size.\n",
            "\n",
            "/usr/local/lib/python3.10/dist-packages/torch/nn/modules/loss.py:535: UserWarning:\n",
            "\n",
            "Using a target size (torch.Size([248, 1])) that is different to the input size (torch.Size([248, 64])). This will likely lead to incorrect results due to broadcasting. Please ensure they have the same size.\n",
            "\n",
            "/usr/local/lib/python3.10/dist-packages/torch/nn/modules/loss.py:535: UserWarning:\n",
            "\n",
            "Using a target size (torch.Size([33, 1])) that is different to the input size (torch.Size([33, 64])). This will likely lead to incorrect results due to broadcasting. Please ensure they have the same size.\n",
            "\n",
            "/usr/local/lib/python3.10/dist-packages/torch/nn/modules/loss.py:535: UserWarning:\n",
            "\n",
            "Using a target size (torch.Size([36, 1])) that is different to the input size (torch.Size([36, 64])). This will likely lead to incorrect results due to broadcasting. Please ensure they have the same size.\n",
            "\n",
            "/usr/local/lib/python3.10/dist-packages/torch/nn/modules/loss.py:535: UserWarning:\n",
            "\n",
            "Using a target size (torch.Size([245, 1])) that is different to the input size (torch.Size([245, 64])). This will likely lead to incorrect results due to broadcasting. Please ensure they have the same size.\n",
            "\n",
            "/usr/local/lib/python3.10/dist-packages/torch/nn/modules/loss.py:535: UserWarning:\n",
            "\n",
            "Using a target size (torch.Size([258, 1])) that is different to the input size (torch.Size([258, 64])). This will likely lead to incorrect results due to broadcasting. Please ensure they have the same size.\n",
            "\n",
            "/usr/local/lib/python3.10/dist-packages/torch/nn/modules/loss.py:535: UserWarning:\n",
            "\n",
            "Using a target size (torch.Size([50, 1])) that is different to the input size (torch.Size([50, 64])). This will likely lead to incorrect results due to broadcasting. Please ensure they have the same size.\n",
            "\n",
            "/usr/local/lib/python3.10/dist-packages/torch/nn/modules/loss.py:535: UserWarning:\n",
            "\n",
            "Using a target size (torch.Size([196, 1])) that is different to the input size (torch.Size([196, 64])). This will likely lead to incorrect results due to broadcasting. Please ensure they have the same size.\n",
            "\n",
            "/usr/local/lib/python3.10/dist-packages/torch/nn/modules/loss.py:535: UserWarning:\n",
            "\n",
            "Using a target size (torch.Size([45, 1])) that is different to the input size (torch.Size([45, 64])). This will likely lead to incorrect results due to broadcasting. Please ensure they have the same size.\n",
            "\n",
            "/usr/local/lib/python3.10/dist-packages/torch/nn/modules/loss.py:535: UserWarning:\n",
            "\n",
            "Using a target size (torch.Size([46, 1])) that is different to the input size (torch.Size([46, 64])). This will likely lead to incorrect results due to broadcasting. Please ensure they have the same size.\n",
            "\n",
            "/usr/local/lib/python3.10/dist-packages/torch/nn/modules/loss.py:535: UserWarning:\n",
            "\n",
            "Using a target size (torch.Size([193, 1])) that is different to the input size (torch.Size([193, 64])). This will likely lead to incorrect results due to broadcasting. Please ensure they have the same size.\n",
            "\n",
            "/usr/local/lib/python3.10/dist-packages/torch/nn/modules/loss.py:535: UserWarning:\n",
            "\n",
            "Using a target size (torch.Size([255, 1])) that is different to the input size (torch.Size([255, 64])). This will likely lead to incorrect results due to broadcasting. Please ensure they have the same size.\n",
            "\n",
            "/usr/local/lib/python3.10/dist-packages/torch/nn/modules/loss.py:535: UserWarning:\n",
            "\n",
            "Using a target size (torch.Size([247, 1])) that is different to the input size (torch.Size([247, 64])). This will likely lead to incorrect results due to broadcasting. Please ensure they have the same size.\n",
            "\n",
            "/usr/local/lib/python3.10/dist-packages/torch/nn/modules/loss.py:535: UserWarning:\n",
            "\n",
            "Using a target size (torch.Size([253, 1])) that is different to the input size (torch.Size([253, 64])). This will likely lead to incorrect results due to broadcasting. Please ensure they have the same size.\n",
            "\n",
            "[I 2024-08-09 13:50:10,340] Trial 18 finished with value: 10.353330294291178 and parameters: {'learning_rate': 0.013009053391725063, 'hidden_dim': 64, 'latent_dim': 128, 'batch_size': 16, 'num_hidden_layers': 2}. Best is trial 12 with value: 6.883205413818359.\n"
          ]
        },
        {
          "output_type": "stream",
          "name": "stdout",
          "text": [
            "Epoch 100, Loss: 10.353330294291178\n"
          ]
        },
        {
          "output_type": "stream",
          "name": "stderr",
          "text": [
            "/usr/local/lib/python3.10/dist-packages/torch/nn/modules/loss.py:535: UserWarning:\n",
            "\n",
            "Using a target size (torch.Size([55, 1])) that is different to the input size (torch.Size([55, 128])). This will likely lead to incorrect results due to broadcasting. Please ensure they have the same size.\n",
            "\n",
            "/usr/local/lib/python3.10/dist-packages/torch/nn/modules/loss.py:535: UserWarning:\n",
            "\n",
            "Using a target size (torch.Size([188, 1])) that is different to the input size (torch.Size([188, 128])). This will likely lead to incorrect results due to broadcasting. Please ensure they have the same size.\n",
            "\n",
            "/usr/local/lib/python3.10/dist-packages/torch/nn/modules/loss.py:535: UserWarning:\n",
            "\n",
            "Using a target size (torch.Size([17, 1])) that is different to the input size (torch.Size([17, 128])). This will likely lead to incorrect results due to broadcasting. Please ensure they have the same size.\n",
            "\n",
            "/usr/local/lib/python3.10/dist-packages/torch/nn/modules/loss.py:535: UserWarning:\n",
            "\n",
            "Using a target size (torch.Size([195, 1])) that is different to the input size (torch.Size([195, 128])). This will likely lead to incorrect results due to broadcasting. Please ensure they have the same size.\n",
            "\n",
            "[I 2024-08-09 13:50:12,662] Trial 19 finished with value: 15.856219609578451 and parameters: {'learning_rate': 0.01728993203182338, 'hidden_dim': 128, 'latent_dim': 64, 'batch_size': 16, 'num_hidden_layers': 4}. Best is trial 12 with value: 6.883205413818359.\n"
          ]
        },
        {
          "output_type": "stream",
          "name": "stdout",
          "text": [
            "Epoch 100, Loss: 15.856219609578451\n"
          ]
        },
        {
          "output_type": "stream",
          "name": "stderr",
          "text": [
            "[I 2024-08-09 13:50:13,530] Trial 20 finished with value: 40.6978759765625 and parameters: {'learning_rate': 0.023474321837125393, 'hidden_dim': 256, 'latent_dim': 128, 'batch_size': 64, 'num_hidden_layers': 4}. Best is trial 12 with value: 6.883205413818359.\n"
          ]
        },
        {
          "output_type": "stream",
          "name": "stdout",
          "text": [
            "Epoch 100, Loss: 40.6978759765625\n"
          ]
        },
        {
          "output_type": "stream",
          "name": "stderr",
          "text": [
            "/usr/local/lib/python3.10/dist-packages/torch/nn/modules/loss.py:535: UserWarning:\n",
            "\n",
            "Using a target size (torch.Size([195, 1])) that is different to the input size (torch.Size([195, 192])). This will likely lead to incorrect results due to broadcasting. Please ensure they have the same size.\n",
            "\n",
            "/usr/local/lib/python3.10/dist-packages/torch/nn/modules/loss.py:535: UserWarning:\n",
            "\n",
            "Using a target size (torch.Size([186, 1])) that is different to the input size (torch.Size([186, 192])). This will likely lead to incorrect results due to broadcasting. Please ensure they have the same size.\n",
            "\n",
            "/usr/local/lib/python3.10/dist-packages/torch/nn/modules/loss.py:535: UserWarning:\n",
            "\n",
            "Using a target size (torch.Size([255, 1])) that is different to the input size (torch.Size([255, 192])). This will likely lead to incorrect results due to broadcasting. Please ensure they have the same size.\n",
            "\n",
            "/usr/local/lib/python3.10/dist-packages/torch/nn/modules/loss.py:535: UserWarning:\n",
            "\n",
            "Using a target size (torch.Size([250, 1])) that is different to the input size (torch.Size([250, 192])). This will likely lead to incorrect results due to broadcasting. Please ensure they have the same size.\n",
            "\n",
            "/usr/local/lib/python3.10/dist-packages/torch/nn/modules/loss.py:535: UserWarning:\n",
            "\n",
            "Using a target size (torch.Size([192, 1])) that is different to the input size (torch.Size([192, 192])). This will likely lead to incorrect results due to broadcasting. Please ensure they have the same size.\n",
            "\n",
            "/usr/local/lib/python3.10/dist-packages/torch/nn/modules/loss.py:535: UserWarning:\n",
            "\n",
            "Using a target size (torch.Size([263, 1])) that is different to the input size (torch.Size([263, 192])). This will likely lead to incorrect results due to broadcasting. Please ensure they have the same size.\n",
            "\n",
            "[I 2024-08-09 13:50:15,292] Trial 21 finished with value: 7.480769316355388 and parameters: {'learning_rate': 0.006434754765097648, 'hidden_dim': 192, 'latent_dim': 128, 'batch_size': 16, 'num_hidden_layers': 2}. Best is trial 12 with value: 6.883205413818359.\n"
          ]
        },
        {
          "output_type": "stream",
          "name": "stdout",
          "text": [
            "Epoch 100, Loss: 7.480769316355388\n"
          ]
        },
        {
          "output_type": "stream",
          "name": "stderr",
          "text": [
            "/usr/local/lib/python3.10/dist-packages/torch/nn/modules/loss.py:535: UserWarning:\n",
            "\n",
            "Using a target size (torch.Size([178, 1])) that is different to the input size (torch.Size([178, 192])). This will likely lead to incorrect results due to broadcasting. Please ensure they have the same size.\n",
            "\n",
            "/usr/local/lib/python3.10/dist-packages/torch/nn/modules/loss.py:535: UserWarning:\n",
            "\n",
            "Using a target size (torch.Size([50, 1])) that is different to the input size (torch.Size([50, 192])). This will likely lead to incorrect results due to broadcasting. Please ensure they have the same size.\n",
            "\n",
            "/usr/local/lib/python3.10/dist-packages/torch/nn/modules/loss.py:535: UserWarning:\n",
            "\n",
            "Using a target size (torch.Size([53, 1])) that is different to the input size (torch.Size([53, 192])). This will likely lead to incorrect results due to broadcasting. Please ensure they have the same size.\n",
            "\n",
            "[I 2024-08-09 13:50:17,039] Trial 22 finished with value: 11.264735698699951 and parameters: {'learning_rate': 0.0062642755383567885, 'hidden_dim': 192, 'latent_dim': 128, 'batch_size': 16, 'num_hidden_layers': 2}. Best is trial 12 with value: 6.883205413818359.\n"
          ]
        },
        {
          "output_type": "stream",
          "name": "stdout",
          "text": [
            "Epoch 100, Loss: 11.264735698699951\n"
          ]
        },
        {
          "output_type": "stream",
          "name": "stderr",
          "text": [
            "/usr/local/lib/python3.10/dist-packages/torch/nn/modules/loss.py:535: UserWarning:\n",
            "\n",
            "Using a target size (torch.Size([185, 1])) that is different to the input size (torch.Size([185, 192])). This will likely lead to incorrect results due to broadcasting. Please ensure they have the same size.\n",
            "\n",
            "/usr/local/lib/python3.10/dist-packages/torch/nn/modules/loss.py:535: UserWarning:\n",
            "\n",
            "Using a target size (torch.Size([187, 1])) that is different to the input size (torch.Size([187, 192])). This will likely lead to incorrect results due to broadcasting. Please ensure they have the same size.\n",
            "\n",
            "[I 2024-08-09 13:50:19,051] Trial 23 finished with value: 56.70655186971029 and parameters: {'learning_rate': 0.0002304739589721362, 'hidden_dim': 192, 'latent_dim': 128, 'batch_size': 16, 'num_hidden_layers': 3}. Best is trial 12 with value: 6.883205413818359.\n"
          ]
        },
        {
          "output_type": "stream",
          "name": "stdout",
          "text": [
            "Epoch 100, Loss: 56.70655186971029\n"
          ]
        },
        {
          "output_type": "stream",
          "name": "stderr",
          "text": [
            "[I 2024-08-09 13:50:20,787] Trial 24 finished with value: 10.132109006245932 and parameters: {'learning_rate': 0.01077180186103451, 'hidden_dim': 192, 'latent_dim': 128, 'batch_size': 16, 'num_hidden_layers': 2}. Best is trial 12 with value: 6.883205413818359.\n"
          ]
        },
        {
          "output_type": "stream",
          "name": "stdout",
          "text": [
            "Epoch 100, Loss: 10.132109006245932\n"
          ]
        },
        {
          "output_type": "stream",
          "name": "stderr",
          "text": [
            "/usr/local/lib/python3.10/dist-packages/torch/nn/modules/loss.py:535: UserWarning:\n",
            "\n",
            "Using a target size (torch.Size([276, 1])) that is different to the input size (torch.Size([276, 192])). This will likely lead to incorrect results due to broadcasting. Please ensure they have the same size.\n",
            "\n",
            "/usr/local/lib/python3.10/dist-packages/torch/nn/modules/loss.py:535: UserWarning:\n",
            "\n",
            "Using a target size (torch.Size([177, 1])) that is different to the input size (torch.Size([177, 192])). This will likely lead to incorrect results due to broadcasting. Please ensure they have the same size.\n",
            "\n",
            "[I 2024-08-09 13:50:22,787] Trial 25 finished with value: 14.353103319803873 and parameters: {'learning_rate': 0.00848434196908138, 'hidden_dim': 192, 'latent_dim': 128, 'batch_size': 16, 'num_hidden_layers': 3}. Best is trial 12 with value: 6.883205413818359.\n"
          ]
        },
        {
          "output_type": "stream",
          "name": "stdout",
          "text": [
            "Epoch 100, Loss: 14.353103319803873\n"
          ]
        },
        {
          "output_type": "stream",
          "name": "stderr",
          "text": [
            "/usr/local/lib/python3.10/dist-packages/torch/nn/modules/loss.py:535: UserWarning:\n",
            "\n",
            "Using a target size (torch.Size([269, 1])) that is different to the input size (torch.Size([269, 128])). This will likely lead to incorrect results due to broadcasting. Please ensure they have the same size.\n",
            "\n",
            "/usr/local/lib/python3.10/dist-packages/torch/nn/modules/loss.py:535: UserWarning:\n",
            "\n",
            "Using a target size (torch.Size([259, 1])) that is different to the input size (torch.Size([259, 128])). This will likely lead to incorrect results due to broadcasting. Please ensure they have the same size.\n",
            "\n",
            "[I 2024-08-09 13:50:24,463] Trial 26 finished with value: 11.720328330993652 and parameters: {'learning_rate': 0.005074469839235423, 'hidden_dim': 128, 'latent_dim': 64, 'batch_size': 16, 'num_hidden_layers': 2}. Best is trial 12 with value: 6.883205413818359.\n"
          ]
        },
        {
          "output_type": "stream",
          "name": "stdout",
          "text": [
            "Epoch 100, Loss: 11.720328330993652\n"
          ]
        },
        {
          "output_type": "stream",
          "name": "stderr",
          "text": [
            "/usr/local/lib/python3.10/dist-packages/torch/nn/modules/loss.py:535: UserWarning:\n",
            "\n",
            "Using a target size (torch.Size([257, 1])) that is different to the input size (torch.Size([257, 64])). This will likely lead to incorrect results due to broadcasting. Please ensure they have the same size.\n",
            "\n",
            "/usr/local/lib/python3.10/dist-packages/torch/nn/modules/loss.py:535: UserWarning:\n",
            "\n",
            "Using a target size (torch.Size([53, 1])) that is different to the input size (torch.Size([53, 64])). This will likely lead to incorrect results due to broadcasting. Please ensure they have the same size.\n",
            "\n",
            "/usr/local/lib/python3.10/dist-packages/torch/nn/modules/loss.py:535: UserWarning:\n",
            "\n",
            "Using a target size (torch.Size([254, 1])) that is different to the input size (torch.Size([254, 64])). This will likely lead to incorrect results due to broadcasting. Please ensure they have the same size.\n",
            "\n",
            "/usr/local/lib/python3.10/dist-packages/torch/nn/modules/loss.py:535: UserWarning:\n",
            "\n",
            "Using a target size (torch.Size([192, 1])) that is different to the input size (torch.Size([192, 64])). This will likely lead to incorrect results due to broadcasting. Please ensure they have the same size.\n",
            "\n",
            "/usr/local/lib/python3.10/dist-packages/torch/nn/modules/loss.py:535: UserWarning:\n",
            "\n",
            "Using a target size (torch.Size([188, 1])) that is different to the input size (torch.Size([188, 64])). This will likely lead to incorrect results due to broadcasting. Please ensure they have the same size.\n",
            "\n",
            "/usr/local/lib/python3.10/dist-packages/torch/nn/modules/loss.py:535: UserWarning:\n",
            "\n",
            "Using a target size (torch.Size([48, 1])) that is different to the input size (torch.Size([48, 64])). This will likely lead to incorrect results due to broadcasting. Please ensure they have the same size.\n",
            "\n",
            "[I 2024-08-09 13:50:27,038] Trial 27 finished with value: 8.116846243540445 and parameters: {'learning_rate': 0.011346046167511607, 'hidden_dim': 64, 'latent_dim': 128, 'batch_size': 16, 'num_hidden_layers': 5}. Best is trial 12 with value: 6.883205413818359.\n"
          ]
        },
        {
          "output_type": "stream",
          "name": "stdout",
          "text": [
            "Epoch 100, Loss: 8.116846243540445\n"
          ]
        },
        {
          "output_type": "stream",
          "name": "stderr",
          "text": [
            "/usr/local/lib/python3.10/dist-packages/torch/nn/modules/loss.py:535: UserWarning:\n",
            "\n",
            "Using a target size (torch.Size([477, 1])) that is different to the input size (torch.Size([477, 192])). This will likely lead to incorrect results due to broadcasting. Please ensure they have the same size.\n",
            "\n",
            "[I 2024-08-09 13:50:27,777] Trial 28 finished with value: 56.99637985229492 and parameters: {'learning_rate': 0.0005699717735439284, 'hidden_dim': 192, 'latent_dim': 128, 'batch_size': 64, 'num_hidden_layers': 3}. Best is trial 12 with value: 6.883205413818359.\n"
          ]
        },
        {
          "output_type": "stream",
          "name": "stdout",
          "text": [
            "Epoch 100, Loss: 56.99637985229492\n"
          ]
        },
        {
          "output_type": "stream",
          "name": "stderr",
          "text": [
            "/usr/local/lib/python3.10/dist-packages/torch/nn/modules/loss.py:535: UserWarning:\n",
            "\n",
            "Using a target size (torch.Size([182, 1])) that is different to the input size (torch.Size([182, 128])). This will likely lead to incorrect results due to broadcasting. Please ensure they have the same size.\n",
            "\n",
            "/usr/local/lib/python3.10/dist-packages/torch/nn/modules/loss.py:535: UserWarning:\n",
            "\n",
            "Using a target size (torch.Size([185, 1])) that is different to the input size (torch.Size([185, 128])). This will likely lead to incorrect results due to broadcasting. Please ensure they have the same size.\n",
            "\n",
            "[I 2024-08-09 13:50:30,326] Trial 29 finished with value: 6.647877216339111 and parameters: {'learning_rate': 0.016307516514369763, 'hidden_dim': 128, 'latent_dim': 128, 'batch_size': 16, 'num_hidden_layers': 5}. Best is trial 29 with value: 6.647877216339111.\n"
          ]
        },
        {
          "output_type": "stream",
          "name": "stdout",
          "text": [
            "Epoch 100, Loss: 6.647877216339111\n"
          ]
        },
        {
          "output_type": "stream",
          "name": "stderr",
          "text": [
            "/usr/local/lib/python3.10/dist-packages/torch/nn/modules/loss.py:535: UserWarning:\n",
            "\n",
            "Using a target size (torch.Size([444, 1])) that is different to the input size (torch.Size([444, 128])). This will likely lead to incorrect results due to broadcasting. Please ensure they have the same size.\n",
            "\n",
            "/usr/local/lib/python3.10/dist-packages/torch/nn/modules/loss.py:535: UserWarning:\n",
            "\n",
            "Using a target size (torch.Size([440, 1])) that is different to the input size (torch.Size([440, 128])). This will likely lead to incorrect results due to broadcasting. Please ensure they have the same size.\n",
            "\n",
            "/usr/local/lib/python3.10/dist-packages/torch/nn/modules/loss.py:535: UserWarning:\n",
            "\n",
            "Using a target size (torch.Size([439, 1])) that is different to the input size (torch.Size([439, 128])). This will likely lead to incorrect results due to broadcasting. Please ensure they have the same size.\n",
            "\n",
            "/usr/local/lib/python3.10/dist-packages/torch/nn/modules/loss.py:535: UserWarning:\n",
            "\n",
            "Using a target size (torch.Size([428, 1])) that is different to the input size (torch.Size([428, 128])). This will likely lead to incorrect results due to broadcasting. Please ensure they have the same size.\n",
            "\n",
            "/usr/local/lib/python3.10/dist-packages/torch/nn/modules/loss.py:535: UserWarning:\n",
            "\n",
            "Using a target size (torch.Size([429, 1])) that is different to the input size (torch.Size([429, 128])). This will likely lead to incorrect results due to broadcasting. Please ensure they have the same size.\n",
            "\n",
            "[I 2024-08-09 13:50:32,075] Trial 30 finished with value: 28.253096103668213 and parameters: {'learning_rate': 0.016868860616862123, 'hidden_dim': 128, 'latent_dim': 64, 'batch_size': 32, 'num_hidden_layers': 5}. Best is trial 29 with value: 6.647877216339111.\n"
          ]
        },
        {
          "output_type": "stream",
          "name": "stdout",
          "text": [
            "Epoch 100, Loss: 28.253096103668213\n"
          ]
        },
        {
          "output_type": "stream",
          "name": "stderr",
          "text": [
            "/usr/local/lib/python3.10/dist-packages/torch/nn/modules/loss.py:535: UserWarning:\n",
            "\n",
            "Using a target size (torch.Size([51, 1])) that is different to the input size (torch.Size([51, 128])). This will likely lead to incorrect results due to broadcasting. Please ensure they have the same size.\n",
            "\n",
            "[I 2024-08-09 13:50:34,619] Trial 31 finished with value: 11.442022959391275 and parameters: {'learning_rate': 0.012955274676089028, 'hidden_dim': 128, 'latent_dim': 128, 'batch_size': 16, 'num_hidden_layers': 5}. Best is trial 29 with value: 6.647877216339111.\n"
          ]
        },
        {
          "output_type": "stream",
          "name": "stdout",
          "text": [
            "Epoch 100, Loss: 11.442022959391275\n"
          ]
        },
        {
          "output_type": "stream",
          "name": "stderr",
          "text": [
            "[I 2024-08-09 13:50:36,871] Trial 32 finished with value: 8.772817293802897 and parameters: {'learning_rate': 0.008579020835064729, 'hidden_dim': 128, 'latent_dim': 128, 'batch_size': 16, 'num_hidden_layers': 4}. Best is trial 29 with value: 6.647877216339111.\n"
          ]
        },
        {
          "output_type": "stream",
          "name": "stdout",
          "text": [
            "Epoch 100, Loss: 8.772817293802897\n"
          ]
        },
        {
          "output_type": "stream",
          "name": "stderr",
          "text": [
            "/usr/local/lib/python3.10/dist-packages/torch/nn/modules/loss.py:535: UserWarning:\n",
            "\n",
            "Using a target size (torch.Size([181, 1])) that is different to the input size (torch.Size([181, 128])). This will likely lead to incorrect results due to broadcasting. Please ensure they have the same size.\n",
            "\n",
            "[I 2024-08-09 13:50:39,811] Trial 33 finished with value: 8.20284334818522 and parameters: {'learning_rate': 0.01595230086042655, 'hidden_dim': 128, 'latent_dim': 128, 'batch_size': 16, 'num_hidden_layers': 6}. Best is trial 29 with value: 6.647877216339111.\n"
          ]
        },
        {
          "output_type": "stream",
          "name": "stdout",
          "text": [
            "Epoch 100, Loss: 8.20284334818522\n"
          ]
        },
        {
          "output_type": "stream",
          "name": "stderr",
          "text": [
            "/usr/local/lib/python3.10/dist-packages/torch/nn/modules/loss.py:535: UserWarning:\n",
            "\n",
            "Using a target size (torch.Size([190, 1])) that is different to the input size (torch.Size([190, 256])). This will likely lead to incorrect results due to broadcasting. Please ensure they have the same size.\n",
            "\n",
            "/usr/local/lib/python3.10/dist-packages/torch/nn/modules/loss.py:535: UserWarning:\n",
            "\n",
            "Using a target size (torch.Size([251, 1])) that is different to the input size (torch.Size([251, 256])). This will likely lead to incorrect results due to broadcasting. Please ensure they have the same size.\n",
            "\n",
            "/usr/local/lib/python3.10/dist-packages/torch/nn/modules/loss.py:535: UserWarning:\n",
            "\n",
            "Using a target size (torch.Size([188, 1])) that is different to the input size (torch.Size([188, 256])). This will likely lead to incorrect results due to broadcasting. Please ensure they have the same size.\n",
            "\n",
            "/usr/local/lib/python3.10/dist-packages/torch/nn/modules/loss.py:535: UserWarning:\n",
            "\n",
            "Using a target size (torch.Size([266, 1])) that is different to the input size (torch.Size([266, 256])). This will likely lead to incorrect results due to broadcasting. Please ensure they have the same size.\n",
            "\n",
            "/usr/local/lib/python3.10/dist-packages/torch/nn/modules/loss.py:535: UserWarning:\n",
            "\n",
            "Using a target size (torch.Size([43, 1])) that is different to the input size (torch.Size([43, 256])). This will likely lead to incorrect results due to broadcasting. Please ensure they have the same size.\n",
            "\n",
            "[I 2024-08-09 13:50:42,454] Trial 34 finished with value: 10.433794975280762 and parameters: {'learning_rate': 0.027767731115805036, 'hidden_dim': 256, 'latent_dim': 128, 'batch_size': 16, 'num_hidden_layers': 5}. Best is trial 29 with value: 6.647877216339111.\n"
          ]
        },
        {
          "output_type": "stream",
          "name": "stdout",
          "text": [
            "Epoch 100, Loss: 10.433794975280762\n"
          ]
        },
        {
          "output_type": "stream",
          "name": "stderr",
          "text": [
            "/usr/local/lib/python3.10/dist-packages/torch/nn/modules/loss.py:535: UserWarning:\n",
            "\n",
            "Using a target size (torch.Size([17, 1])) that is different to the input size (torch.Size([17, 256])). This will likely lead to incorrect results due to broadcasting. Please ensure they have the same size.\n",
            "\n",
            "/usr/local/lib/python3.10/dist-packages/torch/nn/modules/loss.py:535: UserWarning:\n",
            "\n",
            "Using a target size (torch.Size([180, 1])) that is different to the input size (torch.Size([180, 256])). This will likely lead to incorrect results due to broadcasting. Please ensure they have the same size.\n",
            "\n",
            "/usr/local/lib/python3.10/dist-packages/torch/nn/modules/loss.py:535: UserWarning:\n",
            "\n",
            "Using a target size (torch.Size([273, 1])) that is different to the input size (torch.Size([273, 256])). This will likely lead to incorrect results due to broadcasting. Please ensure they have the same size.\n",
            "\n",
            "[I 2024-08-09 13:50:44,771] Trial 35 finished with value: 8.480834484100342 and parameters: {'learning_rate': 0.013310358355409297, 'hidden_dim': 256, 'latent_dim': 128, 'batch_size': 16, 'num_hidden_layers': 4}. Best is trial 29 with value: 6.647877216339111.\n"
          ]
        },
        {
          "output_type": "stream",
          "name": "stdout",
          "text": [
            "Epoch 100, Loss: 8.480834484100342\n"
          ]
        },
        {
          "output_type": "stream",
          "name": "stderr",
          "text": [
            "/usr/local/lib/python3.10/dist-packages/torch/nn/modules/loss.py:535: UserWarning:\n",
            "\n",
            "Using a target size (torch.Size([422, 1])) that is different to the input size (torch.Size([422, 128])). This will likely lead to incorrect results due to broadcasting. Please ensure they have the same size.\n",
            "\n",
            "/usr/local/lib/python3.10/dist-packages/torch/nn/modules/loss.py:535: UserWarning:\n",
            "\n",
            "Using a target size (torch.Size([441, 1])) that is different to the input size (torch.Size([441, 128])). This will likely lead to incorrect results due to broadcasting. Please ensure they have the same size.\n",
            "\n",
            "/usr/local/lib/python3.10/dist-packages/torch/nn/modules/loss.py:535: UserWarning:\n",
            "\n",
            "Using a target size (torch.Size([431, 1])) that is different to the input size (torch.Size([431, 128])). This will likely lead to incorrect results due to broadcasting. Please ensure they have the same size.\n",
            "\n",
            "[I 2024-08-09 13:50:46,508] Trial 36 finished with value: 12.482546329498291 and parameters: {'learning_rate': 0.024283407498435237, 'hidden_dim': 128, 'latent_dim': 32, 'batch_size': 32, 'num_hidden_layers': 5}. Best is trial 29 with value: 6.647877216339111.\n"
          ]
        },
        {
          "output_type": "stream",
          "name": "stdout",
          "text": [
            "Epoch 100, Loss: 12.482546329498291\n"
          ]
        },
        {
          "output_type": "stream",
          "name": "stderr",
          "text": [
            "[I 2024-08-09 13:50:47,551] Trial 37 finished with value: 34.17486572265625 and parameters: {'learning_rate': 0.0038891351032645533, 'hidden_dim': 256, 'latent_dim': 128, 'batch_size': 64, 'num_hidden_layers': 6}. Best is trial 29 with value: 6.647877216339111.\n"
          ]
        },
        {
          "output_type": "stream",
          "name": "stdout",
          "text": [
            "Epoch 100, Loss: 34.17486572265625\n"
          ]
        },
        {
          "output_type": "stream",
          "name": "stderr",
          "text": [
            "/usr/local/lib/python3.10/dist-packages/torch/nn/modules/loss.py:535: UserWarning:\n",
            "\n",
            "Using a target size (torch.Size([439, 1])) that is different to the input size (torch.Size([439, 256])). This will likely lead to incorrect results due to broadcasting. Please ensure they have the same size.\n",
            "\n",
            "/usr/local/lib/python3.10/dist-packages/torch/nn/modules/loss.py:535: UserWarning:\n",
            "\n",
            "Using a target size (torch.Size([434, 1])) that is different to the input size (torch.Size([434, 256])). This will likely lead to incorrect results due to broadcasting. Please ensure they have the same size.\n",
            "\n",
            "[I 2024-08-09 13:50:49,361] Trial 38 finished with value: 9.348875045776367 and parameters: {'learning_rate': 0.010491059970508143, 'hidden_dim': 256, 'latent_dim': 32, 'batch_size': 32, 'num_hidden_layers': 5}. Best is trial 29 with value: 6.647877216339111.\n"
          ]
        },
        {
          "output_type": "stream",
          "name": "stdout",
          "text": [
            "Epoch 100, Loss: 9.348875045776367\n"
          ]
        },
        {
          "output_type": "stream",
          "name": "stderr",
          "text": [
            "[I 2024-08-09 13:50:51,082] Trial 39 finished with value: 7.904367764790853 and parameters: {'learning_rate': 0.007100208752580692, 'hidden_dim': 128, 'latent_dim': 128, 'batch_size': 16, 'num_hidden_layers': 2}. Best is trial 29 with value: 6.647877216339111.\n"
          ]
        },
        {
          "output_type": "stream",
          "name": "stdout",
          "text": [
            "Epoch 100, Loss: 7.904367764790853\n"
          ]
        },
        {
          "output_type": "stream",
          "name": "stderr",
          "text": [
            "[I 2024-08-09 13:50:52,160] Trial 40 finished with value: 8.572389602661133 and parameters: {'learning_rate': 0.018436420399270178, 'hidden_dim': 256, 'latent_dim': 128, 'batch_size': 64, 'num_hidden_layers': 6}. Best is trial 29 with value: 6.647877216339111.\n"
          ]
        },
        {
          "output_type": "stream",
          "name": "stdout",
          "text": [
            "Epoch 100, Loss: 8.572389602661133\n"
          ]
        },
        {
          "output_type": "stream",
          "name": "stderr",
          "text": [
            "[I 2024-08-09 13:50:53,910] Trial 41 finished with value: 12.307504971822103 and parameters: {'learning_rate': 0.007517692226449745, 'hidden_dim': 192, 'latent_dim': 128, 'batch_size': 16, 'num_hidden_layers': 2}. Best is trial 29 with value: 6.647877216339111.\n"
          ]
        },
        {
          "output_type": "stream",
          "name": "stdout",
          "text": [
            "Epoch 100, Loss: 12.307504971822103\n"
          ]
        },
        {
          "output_type": "stream",
          "name": "stderr",
          "text": [
            "/usr/local/lib/python3.10/dist-packages/torch/nn/modules/loss.py:535: UserWarning:\n",
            "\n",
            "Using a target size (torch.Size([51, 1])) that is different to the input size (torch.Size([51, 192])). This will likely lead to incorrect results due to broadcasting. Please ensure they have the same size.\n",
            "\n",
            "[I 2024-08-09 13:50:55,664] Trial 42 finished with value: 12.370418548583984 and parameters: {'learning_rate': 0.0019872578812657983, 'hidden_dim': 192, 'latent_dim': 128, 'batch_size': 16, 'num_hidden_layers': 2}. Best is trial 29 with value: 6.647877216339111.\n"
          ]
        },
        {
          "output_type": "stream",
          "name": "stdout",
          "text": [
            "Epoch 100, Loss: 12.370418548583984\n"
          ]
        },
        {
          "output_type": "stream",
          "name": "stderr",
          "text": [
            "/usr/local/lib/python3.10/dist-packages/torch/nn/modules/loss.py:535: UserWarning:\n",
            "\n",
            "Using a target size (torch.Size([269, 1])) that is different to the input size (torch.Size([269, 192])). This will likely lead to incorrect results due to broadcasting. Please ensure they have the same size.\n",
            "\n",
            "[I 2024-08-09 13:50:57,671] Trial 43 finished with value: 12.215590159098307 and parameters: {'learning_rate': 0.0055917539987468245, 'hidden_dim': 192, 'latent_dim': 128, 'batch_size': 16, 'num_hidden_layers': 3}. Best is trial 29 with value: 6.647877216339111.\n"
          ]
        },
        {
          "output_type": "stream",
          "name": "stdout",
          "text": [
            "Epoch 100, Loss: 12.215590159098307\n"
          ]
        },
        {
          "output_type": "stream",
          "name": "stderr",
          "text": [
            "/usr/local/lib/python3.10/dist-packages/torch/nn/modules/loss.py:535: UserWarning:\n",
            "\n",
            "Using a target size (torch.Size([270, 1])) that is different to the input size (torch.Size([270, 192])). This will likely lead to incorrect results due to broadcasting. Please ensure they have the same size.\n",
            "\n",
            "/usr/local/lib/python3.10/dist-packages/torch/nn/modules/loss.py:535: UserWarning:\n",
            "\n",
            "Using a target size (torch.Size([182, 1])) that is different to the input size (torch.Size([182, 192])). This will likely lead to incorrect results due to broadcasting. Please ensure they have the same size.\n",
            "\n",
            "/usr/local/lib/python3.10/dist-packages/torch/nn/modules/loss.py:535: UserWarning:\n",
            "\n",
            "Using a target size (torch.Size([265, 1])) that is different to the input size (torch.Size([265, 192])). This will likely lead to incorrect results due to broadcasting. Please ensure they have the same size.\n",
            "\n",
            "[I 2024-08-09 13:50:59,365] Trial 44 finished with value: 8.458494186401367 and parameters: {'learning_rate': 0.004149283520457979, 'hidden_dim': 192, 'latent_dim': 32, 'batch_size': 16, 'num_hidden_layers': 2}. Best is trial 29 with value: 6.647877216339111.\n"
          ]
        },
        {
          "output_type": "stream",
          "name": "stdout",
          "text": [
            "Epoch 100, Loss: 8.458494186401367\n"
          ]
        },
        {
          "output_type": "stream",
          "name": "stderr",
          "text": [
            "/usr/local/lib/python3.10/dist-packages/torch/nn/modules/loss.py:535: UserWarning:\n",
            "\n",
            "Using a target size (torch.Size([177, 1])) that is different to the input size (torch.Size([177, 64])). This will likely lead to incorrect results due to broadcasting. Please ensure they have the same size.\n",
            "\n",
            "/usr/local/lib/python3.10/dist-packages/torch/nn/modules/loss.py:535: UserWarning:\n",
            "\n",
            "Using a target size (torch.Size([55, 1])) that is different to the input size (torch.Size([55, 64])). This will likely lead to incorrect results due to broadcasting. Please ensure they have the same size.\n",
            "\n",
            "/usr/local/lib/python3.10/dist-packages/torch/nn/modules/loss.py:535: UserWarning:\n",
            "\n",
            "Using a target size (torch.Size([189, 1])) that is different to the input size (torch.Size([189, 64])). This will likely lead to incorrect results due to broadcasting. Please ensure they have the same size.\n",
            "\n",
            "/usr/local/lib/python3.10/dist-packages/torch/nn/modules/loss.py:535: UserWarning:\n",
            "\n",
            "Using a target size (torch.Size([266, 1])) that is different to the input size (torch.Size([266, 64])). This will likely lead to incorrect results due to broadcasting. Please ensure they have the same size.\n",
            "\n",
            "/usr/local/lib/python3.10/dist-packages/torch/nn/modules/loss.py:535: UserWarning:\n",
            "\n",
            "Using a target size (torch.Size([260, 1])) that is different to the input size (torch.Size([260, 64])). This will likely lead to incorrect results due to broadcasting. Please ensure they have the same size.\n",
            "\n",
            "[I 2024-08-09 13:51:01,353] Trial 45 finished with value: 18.08419895172119 and parameters: {'learning_rate': 0.010237237623448716, 'hidden_dim': 64, 'latent_dim': 128, 'batch_size': 16, 'num_hidden_layers': 3}. Best is trial 29 with value: 6.647877216339111.\n"
          ]
        },
        {
          "output_type": "stream",
          "name": "stdout",
          "text": [
            "Epoch 100, Loss: 18.08419895172119\n"
          ]
        },
        {
          "output_type": "stream",
          "name": "stderr",
          "text": [
            "[I 2024-08-09 13:51:03,080] Trial 46 finished with value: 10.876641432444254 and parameters: {'learning_rate': 0.012169535193222595, 'hidden_dim': 192, 'latent_dim': 128, 'batch_size': 16, 'num_hidden_layers': 2}. Best is trial 29 with value: 6.647877216339111.\n"
          ]
        },
        {
          "output_type": "stream",
          "name": "stdout",
          "text": [
            "Epoch 100, Loss: 10.876641432444254\n"
          ]
        },
        {
          "output_type": "stream",
          "name": "stderr",
          "text": [
            "/usr/local/lib/python3.10/dist-packages/torch/nn/modules/loss.py:535: UserWarning:\n",
            "\n",
            "Using a target size (torch.Size([426, 1])) that is different to the input size (torch.Size([426, 128])). This will likely lead to incorrect results due to broadcasting. Please ensure they have the same size.\n",
            "\n",
            "[I 2024-08-09 13:51:04,442] Trial 47 finished with value: 7.971073627471924 and parameters: {'learning_rate': 0.008051912875365407, 'hidden_dim': 128, 'latent_dim': 64, 'batch_size': 32, 'num_hidden_layers': 3}. Best is trial 29 with value: 6.647877216339111.\n"
          ]
        },
        {
          "output_type": "stream",
          "name": "stdout",
          "text": [
            "Epoch 100, Loss: 7.971073627471924\n"
          ]
        },
        {
          "output_type": "stream",
          "name": "stderr",
          "text": [
            "/usr/local/lib/python3.10/dist-packages/torch/nn/modules/loss.py:535: UserWarning:\n",
            "\n",
            "Using a target size (torch.Size([264, 1])) that is different to the input size (torch.Size([264, 192])). This will likely lead to incorrect results due to broadcasting. Please ensure they have the same size.\n",
            "\n",
            "[I 2024-08-09 13:51:07,017] Trial 48 finished with value: 12.060280799865723 and parameters: {'learning_rate': 0.014679929605310189, 'hidden_dim': 192, 'latent_dim': 128, 'batch_size': 16, 'num_hidden_layers': 5}. Best is trial 29 with value: 6.647877216339111.\n"
          ]
        },
        {
          "output_type": "stream",
          "name": "stdout",
          "text": [
            "Epoch 100, Loss: 12.060280799865723\n"
          ]
        },
        {
          "output_type": "stream",
          "name": "stderr",
          "text": [
            "/usr/local/lib/python3.10/dist-packages/torch/nn/modules/loss.py:535: UserWarning:\n",
            "\n",
            "Using a target size (torch.Size([49, 1])) that is different to the input size (torch.Size([49, 256])). This will likely lead to incorrect results due to broadcasting. Please ensure they have the same size.\n",
            "\n",
            "[I 2024-08-09 13:51:09,032] Trial 49 finished with value: 10.182187875111898 and parameters: {'learning_rate': 0.00960694476362188, 'hidden_dim': 256, 'latent_dim': 128, 'batch_size': 16, 'num_hidden_layers': 3}. Best is trial 29 with value: 6.647877216339111.\n"
          ]
        },
        {
          "output_type": "stream",
          "name": "stdout",
          "text": [
            "Epoch 100, Loss: 10.182187875111898\n"
          ]
        },
        {
          "output_type": "stream",
          "name": "stderr",
          "text": [
            "/usr/local/lib/python3.10/dist-packages/torch/nn/modules/loss.py:535: UserWarning:\n",
            "\n",
            "Using a target size (torch.Size([266, 1])) that is different to the input size (torch.Size([266, 128])). This will likely lead to incorrect results due to broadcasting. Please ensure they have the same size.\n",
            "\n",
            "[I 2024-08-09 13:51:11,279] Trial 50 finished with value: 17.20605246225993 and parameters: {'learning_rate': 0.003012884575691094, 'hidden_dim': 128, 'latent_dim': 32, 'batch_size': 16, 'num_hidden_layers': 4}. Best is trial 29 with value: 6.647877216339111.\n"
          ]
        },
        {
          "output_type": "stream",
          "name": "stdout",
          "text": [
            "Epoch 100, Loss: 17.20605246225993\n"
          ]
        },
        {
          "output_type": "stream",
          "name": "stderr",
          "text": [
            "/usr/local/lib/python3.10/dist-packages/torch/nn/modules/loss.py:535: UserWarning:\n",
            "\n",
            "Using a target size (torch.Size([258, 1])) that is different to the input size (torch.Size([258, 128])). This will likely lead to incorrect results due to broadcasting. Please ensure they have the same size.\n",
            "\n",
            "[I 2024-08-09 13:51:13,001] Trial 51 finished with value: 12.10575040181478 and parameters: {'learning_rate': 0.0071093945769723195, 'hidden_dim': 128, 'latent_dim': 128, 'batch_size': 16, 'num_hidden_layers': 2}. Best is trial 29 with value: 6.647877216339111.\n"
          ]
        },
        {
          "output_type": "stream",
          "name": "stdout",
          "text": [
            "Epoch 100, Loss: 12.10575040181478\n"
          ]
        },
        {
          "output_type": "stream",
          "name": "stderr",
          "text": [
            "/usr/local/lib/python3.10/dist-packages/torch/nn/modules/loss.py:535: UserWarning:\n",
            "\n",
            "Using a target size (torch.Size([187, 1])) that is different to the input size (torch.Size([187, 128])). This will likely lead to incorrect results due to broadcasting. Please ensure they have the same size.\n",
            "\n",
            "[I 2024-08-09 13:51:14,768] Trial 52 finished with value: 8.017937024434408 and parameters: {'learning_rate': 0.005847164478061738, 'hidden_dim': 128, 'latent_dim': 128, 'batch_size': 16, 'num_hidden_layers': 2}. Best is trial 29 with value: 6.647877216339111.\n"
          ]
        },
        {
          "output_type": "stream",
          "name": "stdout",
          "text": [
            "Epoch 100, Loss: 8.017937024434408\n"
          ]
        },
        {
          "output_type": "stream",
          "name": "stderr",
          "text": [
            "[I 2024-08-09 13:51:16,469] Trial 53 finished with value: 9.227405865987143 and parameters: {'learning_rate': 0.007501937823581612, 'hidden_dim': 128, 'latent_dim': 128, 'batch_size': 16, 'num_hidden_layers': 2}. Best is trial 29 with value: 6.647877216339111.\n"
          ]
        },
        {
          "output_type": "stream",
          "name": "stdout",
          "text": [
            "Epoch 100, Loss: 9.227405865987143\n"
          ]
        },
        {
          "output_type": "stream",
          "name": "stderr",
          "text": [
            "/usr/local/lib/python3.10/dist-packages/torch/nn/modules/loss.py:535: UserWarning:\n",
            "\n",
            "Using a target size (torch.Size([270, 1])) that is different to the input size (torch.Size([270, 128])). This will likely lead to incorrect results due to broadcasting. Please ensure they have the same size.\n",
            "\n",
            "[I 2024-08-09 13:51:18,160] Trial 54 finished with value: 18.300764083862305 and parameters: {'learning_rate': 0.011646270081417559, 'hidden_dim': 128, 'latent_dim': 128, 'batch_size': 16, 'num_hidden_layers': 2}. Best is trial 29 with value: 6.647877216339111.\n"
          ]
        },
        {
          "output_type": "stream",
          "name": "stdout",
          "text": [
            "Epoch 100, Loss: 18.300764083862305\n"
          ]
        },
        {
          "output_type": "stream",
          "name": "stderr",
          "text": [
            "/usr/local/lib/python3.10/dist-packages/torch/nn/modules/loss.py:535: UserWarning:\n",
            "\n",
            "Using a target size (torch.Size([268, 1])) that is different to the input size (torch.Size([268, 64])). This will likely lead to incorrect results due to broadcasting. Please ensure they have the same size.\n",
            "\n",
            "[I 2024-08-09 13:51:19,852] Trial 55 finished with value: 15.028966585795084 and parameters: {'learning_rate': 0.004778091063621769, 'hidden_dim': 64, 'latent_dim': 128, 'batch_size': 16, 'num_hidden_layers': 2}. Best is trial 29 with value: 6.647877216339111.\n"
          ]
        },
        {
          "output_type": "stream",
          "name": "stdout",
          "text": [
            "Epoch 100, Loss: 15.028966585795084\n"
          ]
        },
        {
          "output_type": "stream",
          "name": "stderr",
          "text": [
            "/usr/local/lib/python3.10/dist-packages/torch/nn/modules/loss.py:535: UserWarning:\n",
            "\n",
            "Using a target size (torch.Size([477, 1])) that is different to the input size (torch.Size([477, 128])). This will likely lead to incorrect results due to broadcasting. Please ensure they have the same size.\n",
            "\n",
            "[I 2024-08-09 13:51:20,498] Trial 56 finished with value: 11.213329315185547 and parameters: {'learning_rate': 0.009181686290689321, 'hidden_dim': 128, 'latent_dim': 128, 'batch_size': 64, 'num_hidden_layers': 2}. Best is trial 29 with value: 6.647877216339111.\n"
          ]
        },
        {
          "output_type": "stream",
          "name": "stdout",
          "text": [
            "Epoch 100, Loss: 11.213329315185547\n"
          ]
        },
        {
          "output_type": "stream",
          "name": "stderr",
          "text": [
            "[I 2024-08-09 13:51:22,791] Trial 57 finished with value: 12.55946413675944 and parameters: {'learning_rate': 0.006594652138105663, 'hidden_dim': 192, 'latent_dim': 64, 'batch_size': 16, 'num_hidden_layers': 4}. Best is trial 29 with value: 6.647877216339111.\n"
          ]
        },
        {
          "output_type": "stream",
          "name": "stdout",
          "text": [
            "Epoch 100, Loss: 12.55946413675944\n"
          ]
        },
        {
          "output_type": "stream",
          "name": "stderr",
          "text": [
            "[I 2024-08-09 13:51:24,768] Trial 58 finished with value: 22.10344950358073 and parameters: {'learning_rate': 0.015791479946871884, 'hidden_dim': 128, 'latent_dim': 128, 'batch_size': 16, 'num_hidden_layers': 3}. Best is trial 29 with value: 6.647877216339111.\n"
          ]
        },
        {
          "output_type": "stream",
          "name": "stdout",
          "text": [
            "Epoch 100, Loss: 22.10344950358073\n"
          ]
        },
        {
          "output_type": "stream",
          "name": "stderr",
          "text": [
            "[I 2024-08-09 13:51:26,619] Trial 59 finished with value: 11.544599056243896 and parameters: {'learning_rate': 0.019718597248867074, 'hidden_dim': 256, 'latent_dim': 128, 'batch_size': 16, 'num_hidden_layers': 2}. Best is trial 29 with value: 6.647877216339111.\n"
          ]
        },
        {
          "output_type": "stream",
          "name": "stdout",
          "text": [
            "Epoch 100, Loss: 11.544599056243896\n"
          ]
        },
        {
          "output_type": "stream",
          "name": "stderr",
          "text": [
            "/usr/local/lib/python3.10/dist-packages/torch/nn/modules/loss.py:535: UserWarning:\n",
            "\n",
            "Using a target size (torch.Size([460, 1])) that is different to the input size (torch.Size([460, 192])). This will likely lead to incorrect results due to broadcasting. Please ensure they have the same size.\n",
            "\n",
            "[I 2024-08-09 13:51:28,394] Trial 60 finished with value: 11.185824871063232 and parameters: {'learning_rate': 0.013454817224307677, 'hidden_dim': 192, 'latent_dim': 128, 'batch_size': 32, 'num_hidden_layers': 5}. Best is trial 29 with value: 6.647877216339111.\n"
          ]
        },
        {
          "output_type": "stream",
          "name": "stdout",
          "text": [
            "Epoch 100, Loss: 11.185824871063232\n"
          ]
        },
        {
          "output_type": "stream",
          "name": "stderr",
          "text": [
            "[I 2024-08-09 13:51:30,387] Trial 61 finished with value: 9.491008281707764 and parameters: {'learning_rate': 0.009082225148692639, 'hidden_dim': 128, 'latent_dim': 128, 'batch_size': 16, 'num_hidden_layers': 3}. Best is trial 29 with value: 6.647877216339111.\n"
          ]
        },
        {
          "output_type": "stream",
          "name": "stdout",
          "text": [
            "Epoch 100, Loss: 9.491008281707764\n"
          ]
        },
        {
          "output_type": "stream",
          "name": "stderr",
          "text": [
            "[I 2024-08-09 13:51:32,354] Trial 62 finished with value: 9.62742805480957 and parameters: {'learning_rate': 0.010180646075224203, 'hidden_dim': 128, 'latent_dim': 128, 'batch_size': 16, 'num_hidden_layers': 3}. Best is trial 29 with value: 6.647877216339111.\n"
          ]
        },
        {
          "output_type": "stream",
          "name": "stdout",
          "text": [
            "Epoch 100, Loss: 9.62742805480957\n"
          ]
        },
        {
          "output_type": "stream",
          "name": "stderr",
          "text": [
            "/usr/local/lib/python3.10/dist-packages/torch/nn/modules/loss.py:535: UserWarning:\n",
            "\n",
            "Using a target size (torch.Size([264, 1])) that is different to the input size (torch.Size([264, 128])). This will likely lead to incorrect results due to broadcasting. Please ensure they have the same size.\n",
            "\n",
            "[I 2024-08-09 13:51:34,083] Trial 63 finished with value: 7.385737260182698 and parameters: {'learning_rate': 0.007970279319673224, 'hidden_dim': 128, 'latent_dim': 128, 'batch_size': 16, 'num_hidden_layers': 2}. Best is trial 29 with value: 6.647877216339111.\n"
          ]
        },
        {
          "output_type": "stream",
          "name": "stdout",
          "text": [
            "Epoch 100, Loss: 7.385737260182698\n"
          ]
        },
        {
          "output_type": "stream",
          "name": "stderr",
          "text": [
            "[I 2024-08-09 13:51:35,788] Trial 64 finished with value: 15.009907404581705 and parameters: {'learning_rate': 0.00825804610296321, 'hidden_dim': 128, 'latent_dim': 128, 'batch_size': 16, 'num_hidden_layers': 2}. Best is trial 29 with value: 6.647877216339111.\n"
          ]
        },
        {
          "output_type": "stream",
          "name": "stdout",
          "text": [
            "Epoch 100, Loss: 15.009907404581705\n"
          ]
        },
        {
          "output_type": "stream",
          "name": "stderr",
          "text": [
            "/usr/local/lib/python3.10/dist-packages/torch/nn/modules/loss.py:535: UserWarning:\n",
            "\n",
            "Using a target size (torch.Size([268, 1])) that is different to the input size (torch.Size([268, 128])). This will likely lead to incorrect results due to broadcasting. Please ensure they have the same size.\n",
            "\n",
            "[I 2024-08-09 13:51:37,531] Trial 65 finished with value: 7.938855171203613 and parameters: {'learning_rate': 0.012083194016935018, 'hidden_dim': 128, 'latent_dim': 128, 'batch_size': 16, 'num_hidden_layers': 2}. Best is trial 29 with value: 6.647877216339111.\n"
          ]
        },
        {
          "output_type": "stream",
          "name": "stdout",
          "text": [
            "Epoch 100, Loss: 7.938855171203613\n"
          ]
        },
        {
          "output_type": "stream",
          "name": "stderr",
          "text": [
            "[I 2024-08-09 13:51:39,290] Trial 66 finished with value: 9.995938936869303 and parameters: {'learning_rate': 0.004986003936664592, 'hidden_dim': 128, 'latent_dim': 128, 'batch_size': 16, 'num_hidden_layers': 2}. Best is trial 29 with value: 6.647877216339111.\n"
          ]
        },
        {
          "output_type": "stream",
          "name": "stdout",
          "text": [
            "Epoch 100, Loss: 9.995938936869303\n"
          ]
        },
        {
          "output_type": "stream",
          "name": "stderr",
          "text": [
            "/usr/local/lib/python3.10/dist-packages/torch/nn/modules/loss.py:535: UserWarning:\n",
            "\n",
            "Using a target size (torch.Size([49, 1])) that is different to the input size (torch.Size([49, 64])). This will likely lead to incorrect results due to broadcasting. Please ensure they have the same size.\n",
            "\n",
            "/usr/local/lib/python3.10/dist-packages/torch/nn/modules/loss.py:535: UserWarning:\n",
            "\n",
            "Using a target size (torch.Size([191, 1])) that is different to the input size (torch.Size([191, 64])). This will likely lead to incorrect results due to broadcasting. Please ensure they have the same size.\n",
            "\n",
            "[I 2024-08-09 13:51:40,961] Trial 67 finished with value: 14.097585678100586 and parameters: {'learning_rate': 0.00659564189050252, 'hidden_dim': 64, 'latent_dim': 64, 'batch_size': 16, 'num_hidden_layers': 2}. Best is trial 29 with value: 6.647877216339111.\n"
          ]
        },
        {
          "output_type": "stream",
          "name": "stdout",
          "text": [
            "Epoch 100, Loss: 14.097585678100586\n"
          ]
        },
        {
          "output_type": "stream",
          "name": "stderr",
          "text": [
            "[I 2024-08-09 13:51:41,623] Trial 68 finished with value: 9.756767272949219 and parameters: {'learning_rate': 0.014164322945227296, 'hidden_dim': 192, 'latent_dim': 128, 'batch_size': 64, 'num_hidden_layers': 2}. Best is trial 29 with value: 6.647877216339111.\n"
          ]
        },
        {
          "output_type": "stream",
          "name": "stdout",
          "text": [
            "Epoch 100, Loss: 9.756767272949219\n"
          ]
        },
        {
          "output_type": "stream",
          "name": "stderr",
          "text": [
            "/usr/local/lib/python3.10/dist-packages/torch/nn/modules/loss.py:535: UserWarning:\n",
            "\n",
            "Using a target size (torch.Size([258, 1])) that is different to the input size (torch.Size([258, 256])). This will likely lead to incorrect results due to broadcasting. Please ensure they have the same size.\n",
            "\n",
            "/usr/local/lib/python3.10/dist-packages/torch/nn/modules/loss.py:535: UserWarning:\n",
            "\n",
            "Using a target size (torch.Size([265, 1])) that is different to the input size (torch.Size([265, 256])). This will likely lead to incorrect results due to broadcasting. Please ensure they have the same size.\n",
            "\n",
            "/usr/local/lib/python3.10/dist-packages/torch/nn/modules/loss.py:535: UserWarning:\n",
            "\n",
            "Using a target size (torch.Size([263, 1])) that is different to the input size (torch.Size([263, 256])). This will likely lead to incorrect results due to broadcasting. Please ensure they have the same size.\n",
            "\n",
            "[I 2024-08-09 13:51:44,227] Trial 69 finished with value: 12.806513468424479 and parameters: {'learning_rate': 0.0031630150280276626, 'hidden_dim': 256, 'latent_dim': 32, 'batch_size': 16, 'num_hidden_layers': 5}. Best is trial 29 with value: 6.647877216339111.\n"
          ]
        },
        {
          "output_type": "stream",
          "name": "stdout",
          "text": [
            "Epoch 100, Loss: 12.806513468424479\n"
          ]
        },
        {
          "output_type": "stream",
          "name": "stderr",
          "text": [
            "[I 2024-08-09 13:51:45,947] Trial 70 finished with value: 6.854349295298259 and parameters: {'learning_rate': 0.029506930891902906, 'hidden_dim': 128, 'latent_dim': 128, 'batch_size': 16, 'num_hidden_layers': 2}. Best is trial 29 with value: 6.647877216339111.\n"
          ]
        },
        {
          "output_type": "stream",
          "name": "stdout",
          "text": [
            "Epoch 100, Loss: 6.854349295298259\n"
          ]
        },
        {
          "output_type": "stream",
          "name": "stderr",
          "text": [
            "/usr/local/lib/python3.10/dist-packages/torch/nn/modules/loss.py:535: UserWarning:\n",
            "\n",
            "Using a target size (torch.Size([275, 1])) that is different to the input size (torch.Size([275, 128])). This will likely lead to incorrect results due to broadcasting. Please ensure they have the same size.\n",
            "\n",
            "[I 2024-08-09 13:51:47,677] Trial 71 finished with value: 12.964147249857584 and parameters: {'learning_rate': 0.025183963892567378, 'hidden_dim': 128, 'latent_dim': 128, 'batch_size': 16, 'num_hidden_layers': 2}. Best is trial 29 with value: 6.647877216339111.\n"
          ]
        },
        {
          "output_type": "stream",
          "name": "stdout",
          "text": [
            "Epoch 100, Loss: 12.964147249857584\n"
          ]
        },
        {
          "output_type": "stream",
          "name": "stderr",
          "text": [
            "[I 2024-08-09 13:51:49,408] Trial 72 finished with value: 7.632643858591716 and parameters: {'learning_rate': 0.02870275700998785, 'hidden_dim': 128, 'latent_dim': 128, 'batch_size': 16, 'num_hidden_layers': 2}. Best is trial 29 with value: 6.647877216339111.\n"
          ]
        },
        {
          "output_type": "stream",
          "name": "stdout",
          "text": [
            "Epoch 100, Loss: 7.632643858591716\n"
          ]
        },
        {
          "output_type": "stream",
          "name": "stderr",
          "text": [
            "[I 2024-08-09 13:51:51,164] Trial 73 finished with value: 12.819050153096518 and parameters: {'learning_rate': 0.027411581622640575, 'hidden_dim': 128, 'latent_dim': 128, 'batch_size': 16, 'num_hidden_layers': 2}. Best is trial 29 with value: 6.647877216339111.\n"
          ]
        },
        {
          "output_type": "stream",
          "name": "stdout",
          "text": [
            "Epoch 100, Loss: 12.819050153096518\n"
          ]
        },
        {
          "output_type": "stream",
          "name": "stderr",
          "text": [
            "/usr/local/lib/python3.10/dist-packages/torch/nn/modules/loss.py:535: UserWarning:\n",
            "\n",
            "Using a target size (torch.Size([267, 1])) that is different to the input size (torch.Size([267, 128])). This will likely lead to incorrect results due to broadcasting. Please ensure they have the same size.\n",
            "\n",
            "[I 2024-08-09 13:51:52,892] Trial 74 finished with value: 8.395188808441162 and parameters: {'learning_rate': 0.02979804163531125, 'hidden_dim': 128, 'latent_dim': 128, 'batch_size': 16, 'num_hidden_layers': 2}. Best is trial 29 with value: 6.647877216339111.\n"
          ]
        },
        {
          "output_type": "stream",
          "name": "stdout",
          "text": [
            "Epoch 100, Loss: 8.395188808441162\n"
          ]
        },
        {
          "output_type": "stream",
          "name": "stderr",
          "text": [
            "[I 2024-08-09 13:51:55,455] Trial 75 finished with value: 13.458696842193604 and parameters: {'learning_rate': 0.029277177331904446, 'hidden_dim': 128, 'latent_dim': 128, 'batch_size': 16, 'num_hidden_layers': 5}. Best is trial 29 with value: 6.647877216339111.\n"
          ]
        },
        {
          "output_type": "stream",
          "name": "stdout",
          "text": [
            "Epoch 100, Loss: 13.458696842193604\n"
          ]
        },
        {
          "output_type": "stream",
          "name": "stderr",
          "text": [
            "[I 2024-08-09 13:51:57,443] Trial 76 finished with value: 21.01322301228841 and parameters: {'learning_rate': 0.02603966564835628, 'hidden_dim': 192, 'latent_dim': 128, 'batch_size': 16, 'num_hidden_layers': 3}. Best is trial 29 with value: 6.647877216339111.\n"
          ]
        },
        {
          "output_type": "stream",
          "name": "stdout",
          "text": [
            "Epoch 100, Loss: 21.01322301228841\n"
          ]
        },
        {
          "output_type": "stream",
          "name": "stderr",
          "text": [
            "[I 2024-08-09 13:51:58,636] Trial 77 finished with value: 15.610752582550049 and parameters: {'learning_rate': 0.028495996026546698, 'hidden_dim': 128, 'latent_dim': 128, 'batch_size': 32, 'num_hidden_layers': 2}. Best is trial 29 with value: 6.647877216339111.\n"
          ]
        },
        {
          "output_type": "stream",
          "name": "stdout",
          "text": [
            "Epoch 100, Loss: 15.610752582550049\n"
          ]
        },
        {
          "output_type": "stream",
          "name": "stderr",
          "text": [
            "[I 2024-08-09 13:52:00,391] Trial 78 finished with value: 19.213193734486897 and parameters: {'learning_rate': 0.02094369597419243, 'hidden_dim': 256, 'latent_dim': 128, 'batch_size': 16, 'num_hidden_layers': 2}. Best is trial 29 with value: 6.647877216339111.\n"
          ]
        },
        {
          "output_type": "stream",
          "name": "stdout",
          "text": [
            "Epoch 100, Loss: 19.213193734486897\n"
          ]
        },
        {
          "output_type": "stream",
          "name": "stderr",
          "text": [
            "[I 2024-08-09 13:52:03,305] Trial 79 finished with value: 8.671470165252686 and parameters: {'learning_rate': 0.02219319536374435, 'hidden_dim': 128, 'latent_dim': 128, 'batch_size': 16, 'num_hidden_layers': 6}. Best is trial 29 with value: 6.647877216339111.\n"
          ]
        },
        {
          "output_type": "stream",
          "name": "stdout",
          "text": [
            "Epoch 100, Loss: 8.671470165252686\n"
          ]
        },
        {
          "output_type": "stream",
          "name": "stderr",
          "text": [
            "[I 2024-08-09 13:52:05,047] Trial 80 finished with value: 17.062920252482098 and parameters: {'learning_rate': 0.011076141455081715, 'hidden_dim': 192, 'latent_dim': 64, 'batch_size': 16, 'num_hidden_layers': 2}. Best is trial 29 with value: 6.647877216339111.\n"
          ]
        },
        {
          "output_type": "stream",
          "name": "stdout",
          "text": [
            "Epoch 100, Loss: 17.062920252482098\n"
          ]
        },
        {
          "output_type": "stream",
          "name": "stderr",
          "text": [
            "[I 2024-08-09 13:52:06,781] Trial 81 finished with value: 9.002481937408447 and parameters: {'learning_rate': 0.026640899239454847, 'hidden_dim': 128, 'latent_dim': 128, 'batch_size': 16, 'num_hidden_layers': 2}. Best is trial 29 with value: 6.647877216339111.\n"
          ]
        },
        {
          "output_type": "stream",
          "name": "stdout",
          "text": [
            "Epoch 100, Loss: 9.002481937408447\n"
          ]
        },
        {
          "output_type": "stream",
          "name": "stderr",
          "text": [
            "[I 2024-08-09 13:52:08,517] Trial 82 finished with value: 10.103988965352377 and parameters: {'learning_rate': 0.007812249629617412, 'hidden_dim': 128, 'latent_dim': 128, 'batch_size': 16, 'num_hidden_layers': 2}. Best is trial 29 with value: 6.647877216339111.\n"
          ]
        },
        {
          "output_type": "stream",
          "name": "stdout",
          "text": [
            "Epoch 100, Loss: 10.103988965352377\n"
          ]
        },
        {
          "output_type": "stream",
          "name": "stderr",
          "text": [
            "[I 2024-08-09 13:52:10,216] Trial 83 finished with value: 12.565591017405191 and parameters: {'learning_rate': 0.006884701106411405, 'hidden_dim': 128, 'latent_dim': 128, 'batch_size': 16, 'num_hidden_layers': 2}. Best is trial 29 with value: 6.647877216339111.\n"
          ]
        },
        {
          "output_type": "stream",
          "name": "stdout",
          "text": [
            "Epoch 100, Loss: 12.565591017405191\n"
          ]
        },
        {
          "output_type": "stream",
          "name": "stderr",
          "text": [
            "/usr/local/lib/python3.10/dist-packages/torch/nn/modules/loss.py:535: UserWarning:\n",
            "\n",
            "Using a target size (torch.Size([179, 1])) that is different to the input size (torch.Size([179, 128])). This will likely lead to incorrect results due to broadcasting. Please ensure they have the same size.\n",
            "\n",
            "[I 2024-08-09 13:52:12,510] Trial 84 finished with value: 14.45872942606608 and parameters: {'learning_rate': 0.0015988743399172247, 'hidden_dim': 128, 'latent_dim': 128, 'batch_size': 16, 'num_hidden_layers': 4}. Best is trial 29 with value: 6.647877216339111.\n"
          ]
        },
        {
          "output_type": "stream",
          "name": "stdout",
          "text": [
            "Epoch 100, Loss: 14.45872942606608\n"
          ]
        },
        {
          "output_type": "stream",
          "name": "stderr",
          "text": [
            "[I 2024-08-09 13:52:14,237] Trial 85 finished with value: 12.271673520406088 and parameters: {'learning_rate': 0.00987824931976604, 'hidden_dim': 128, 'latent_dim': 128, 'batch_size': 16, 'num_hidden_layers': 2}. Best is trial 29 with value: 6.647877216339111.\n"
          ]
        },
        {
          "output_type": "stream",
          "name": "stdout",
          "text": [
            "Epoch 100, Loss: 12.271673520406088\n"
          ]
        },
        {
          "output_type": "stream",
          "name": "stderr",
          "text": [
            "[I 2024-08-09 13:52:15,036] Trial 86 finished with value: 16.319530487060547 and parameters: {'learning_rate': 0.005589253407358913, 'hidden_dim': 256, 'latent_dim': 32, 'batch_size': 64, 'num_hidden_layers': 3}. Best is trial 29 with value: 6.647877216339111.\n"
          ]
        },
        {
          "output_type": "stream",
          "name": "stdout",
          "text": [
            "Epoch 100, Loss: 16.319530487060547\n"
          ]
        },
        {
          "output_type": "stream",
          "name": "stderr",
          "text": [
            "/usr/local/lib/python3.10/dist-packages/torch/nn/modules/loss.py:535: UserWarning:\n",
            "\n",
            "Using a target size (torch.Size([185, 1])) that is different to the input size (torch.Size([185, 64])). This will likely lead to incorrect results due to broadcasting. Please ensure they have the same size.\n",
            "\n",
            "/usr/local/lib/python3.10/dist-packages/torch/nn/modules/loss.py:535: UserWarning:\n",
            "\n",
            "Using a target size (torch.Size([271, 1])) that is different to the input size (torch.Size([271, 64])). This will likely lead to incorrect results due to broadcasting. Please ensure they have the same size.\n",
            "\n",
            "/usr/local/lib/python3.10/dist-packages/torch/nn/modules/loss.py:535: UserWarning:\n",
            "\n",
            "Using a target size (torch.Size([275, 1])) that is different to the input size (torch.Size([275, 64])). This will likely lead to incorrect results due to broadcasting. Please ensure they have the same size.\n",
            "\n",
            "/usr/local/lib/python3.10/dist-packages/torch/nn/modules/loss.py:535: UserWarning:\n",
            "\n",
            "Using a target size (torch.Size([182, 1])) that is different to the input size (torch.Size([182, 64])). This will likely lead to incorrect results due to broadcasting. Please ensure they have the same size.\n",
            "\n",
            "/usr/local/lib/python3.10/dist-packages/torch/nn/modules/loss.py:535: UserWarning:\n",
            "\n",
            "Using a target size (torch.Size([264, 1])) that is different to the input size (torch.Size([264, 64])). This will likely lead to incorrect results due to broadcasting. Please ensure they have the same size.\n",
            "\n",
            "[I 2024-08-09 13:52:16,727] Trial 87 finished with value: 7.393395741780599 and parameters: {'learning_rate': 0.008500304165590934, 'hidden_dim': 64, 'latent_dim': 128, 'batch_size': 16, 'num_hidden_layers': 2}. Best is trial 29 with value: 6.647877216339111.\n"
          ]
        },
        {
          "output_type": "stream",
          "name": "stdout",
          "text": [
            "Epoch 100, Loss: 7.393395741780599\n"
          ]
        },
        {
          "output_type": "stream",
          "name": "stderr",
          "text": [
            "[I 2024-08-09 13:52:18,598] Trial 88 finished with value: 8.406004905700684 and parameters: {'learning_rate': 0.008454327266658585, 'hidden_dim': 64, 'latent_dim': 128, 'batch_size': 16, 'num_hidden_layers': 2}. Best is trial 29 with value: 6.647877216339111.\n"
          ]
        },
        {
          "output_type": "stream",
          "name": "stdout",
          "text": [
            "Epoch 100, Loss: 8.406004905700684\n"
          ]
        },
        {
          "output_type": "stream",
          "name": "stderr",
          "text": [
            "/usr/local/lib/python3.10/dist-packages/torch/nn/modules/loss.py:535: UserWarning:\n",
            "\n",
            "Using a target size (torch.Size([180, 1])) that is different to the input size (torch.Size([180, 64])). This will likely lead to incorrect results due to broadcasting. Please ensure they have the same size.\n",
            "\n",
            "/usr/local/lib/python3.10/dist-packages/torch/nn/modules/loss.py:535: UserWarning:\n",
            "\n",
            "Using a target size (torch.Size([273, 1])) that is different to the input size (torch.Size([273, 64])). This will likely lead to incorrect results due to broadcasting. Please ensure they have the same size.\n",
            "\n",
            "/usr/local/lib/python3.10/dist-packages/torch/nn/modules/loss.py:535: UserWarning:\n",
            "\n",
            "Using a target size (torch.Size([262, 1])) that is different to the input size (torch.Size([262, 64])). This will likely lead to incorrect results due to broadcasting. Please ensure they have the same size.\n",
            "\n",
            "[I 2024-08-09 13:52:20,298] Trial 89 finished with value: 16.45831235249837 and parameters: {'learning_rate': 0.023110276511753913, 'hidden_dim': 64, 'latent_dim': 128, 'batch_size': 16, 'num_hidden_layers': 2}. Best is trial 29 with value: 6.647877216339111.\n"
          ]
        },
        {
          "output_type": "stream",
          "name": "stdout",
          "text": [
            "Epoch 100, Loss: 16.45831235249837\n"
          ]
        },
        {
          "output_type": "stream",
          "name": "stderr",
          "text": [
            "/usr/local/lib/python3.10/dist-packages/torch/nn/modules/loss.py:535: UserWarning:\n",
            "\n",
            "Using a target size (torch.Size([179, 1])) that is different to the input size (torch.Size([179, 64])). This will likely lead to incorrect results due to broadcasting. Please ensure they have the same size.\n",
            "\n",
            "[I 2024-08-09 13:52:22,527] Trial 90 finished with value: 9.440629641215006 and parameters: {'learning_rate': 0.028588529687632175, 'hidden_dim': 64, 'latent_dim': 128, 'batch_size': 16, 'num_hidden_layers': 4}. Best is trial 29 with value: 6.647877216339111.\n"
          ]
        },
        {
          "output_type": "stream",
          "name": "stdout",
          "text": [
            "Epoch 100, Loss: 9.440629641215006\n"
          ]
        },
        {
          "output_type": "stream",
          "name": "stderr",
          "text": [
            "[I 2024-08-09 13:52:24,223] Trial 91 finished with value: 7.786644617716472 and parameters: {'learning_rate': 0.008958437940736289, 'hidden_dim': 64, 'latent_dim': 128, 'batch_size': 16, 'num_hidden_layers': 2}. Best is trial 29 with value: 6.647877216339111.\n"
          ]
        },
        {
          "output_type": "stream",
          "name": "stdout",
          "text": [
            "Epoch 100, Loss: 7.786644617716472\n"
          ]
        },
        {
          "output_type": "stream",
          "name": "stderr",
          "text": [
            "/usr/local/lib/python3.10/dist-packages/torch/nn/modules/loss.py:535: UserWarning:\n",
            "\n",
            "Using a target size (torch.Size([270, 1])) that is different to the input size (torch.Size([270, 64])). This will likely lead to incorrect results due to broadcasting. Please ensure they have the same size.\n",
            "\n",
            "[I 2024-08-09 13:52:25,904] Trial 92 finished with value: 8.288676897684732 and parameters: {'learning_rate': 0.009108635189961222, 'hidden_dim': 64, 'latent_dim': 128, 'batch_size': 16, 'num_hidden_layers': 2}. Best is trial 29 with value: 6.647877216339111.\n"
          ]
        },
        {
          "output_type": "stream",
          "name": "stdout",
          "text": [
            "Epoch 100, Loss: 8.288676897684732\n"
          ]
        },
        {
          "output_type": "stream",
          "name": "stderr",
          "text": [
            "[I 2024-08-09 13:52:27,633] Trial 93 finished with value: 11.715008099873861 and parameters: {'learning_rate': 0.010798584763970515, 'hidden_dim': 64, 'latent_dim': 128, 'batch_size': 16, 'num_hidden_layers': 2}. Best is trial 29 with value: 6.647877216339111.\n"
          ]
        },
        {
          "output_type": "stream",
          "name": "stdout",
          "text": [
            "Epoch 100, Loss: 11.715008099873861\n"
          ]
        },
        {
          "output_type": "stream",
          "name": "stderr",
          "text": [
            "[I 2024-08-09 13:52:30,175] Trial 94 finished with value: 7.471473375956218 and parameters: {'learning_rate': 0.008730513092607231, 'hidden_dim': 64, 'latent_dim': 128, 'batch_size': 16, 'num_hidden_layers': 5}. Best is trial 29 with value: 6.647877216339111.\n"
          ]
        },
        {
          "output_type": "stream",
          "name": "stdout",
          "text": [
            "Epoch 100, Loss: 7.471473375956218\n"
          ]
        },
        {
          "output_type": "stream",
          "name": "stderr",
          "text": [
            "/usr/local/lib/python3.10/dist-packages/torch/nn/modules/loss.py:535: UserWarning:\n",
            "\n",
            "Using a target size (torch.Size([432, 1])) that is different to the input size (torch.Size([432, 64])). This will likely lead to incorrect results due to broadcasting. Please ensure they have the same size.\n",
            "\n",
            "/usr/local/lib/python3.10/dist-packages/torch/nn/modules/loss.py:535: UserWarning:\n",
            "\n",
            "Using a target size (torch.Size([444, 1])) that is different to the input size (torch.Size([444, 64])). This will likely lead to incorrect results due to broadcasting. Please ensure they have the same size.\n",
            "\n",
            "/usr/local/lib/python3.10/dist-packages/torch/nn/modules/loss.py:535: UserWarning:\n",
            "\n",
            "Using a target size (torch.Size([443, 1])) that is different to the input size (torch.Size([443, 64])). This will likely lead to incorrect results due to broadcasting. Please ensure they have the same size.\n",
            "\n",
            "/usr/local/lib/python3.10/dist-packages/torch/nn/modules/loss.py:535: UserWarning:\n",
            "\n",
            "Using a target size (torch.Size([454, 1])) that is different to the input size (torch.Size([454, 64])). This will likely lead to incorrect results due to broadcasting. Please ensure they have the same size.\n",
            "\n",
            "/usr/local/lib/python3.10/dist-packages/torch/nn/modules/loss.py:535: UserWarning:\n",
            "\n",
            "Using a target size (torch.Size([453, 1])) that is different to the input size (torch.Size([453, 64])). This will likely lead to incorrect results due to broadcasting. Please ensure they have the same size.\n",
            "\n",
            "/usr/local/lib/python3.10/dist-packages/torch/nn/modules/loss.py:535: UserWarning:\n",
            "\n",
            "Using a target size (torch.Size([447, 1])) that is different to the input size (torch.Size([447, 64])). This will likely lead to incorrect results due to broadcasting. Please ensure they have the same size.\n",
            "\n",
            "/usr/local/lib/python3.10/dist-packages/torch/nn/modules/loss.py:535: UserWarning:\n",
            "\n",
            "Using a target size (torch.Size([436, 1])) that is different to the input size (torch.Size([436, 64])). This will likely lead to incorrect results due to broadcasting. Please ensure they have the same size.\n",
            "\n",
            "/usr/local/lib/python3.10/dist-packages/torch/nn/modules/loss.py:535: UserWarning:\n",
            "\n",
            "Using a target size (torch.Size([441, 1])) that is different to the input size (torch.Size([441, 64])). This will likely lead to incorrect results due to broadcasting. Please ensure they have the same size.\n",
            "\n",
            "/usr/local/lib/python3.10/dist-packages/torch/nn/modules/loss.py:535: UserWarning:\n",
            "\n",
            "Using a target size (torch.Size([457, 1])) that is different to the input size (torch.Size([457, 64])). This will likely lead to incorrect results due to broadcasting. Please ensure they have the same size.\n",
            "\n",
            "/usr/local/lib/python3.10/dist-packages/torch/nn/modules/loss.py:535: UserWarning:\n",
            "\n",
            "Using a target size (torch.Size([455, 1])) that is different to the input size (torch.Size([455, 64])). This will likely lead to incorrect results due to broadcasting. Please ensure they have the same size.\n",
            "\n",
            "/usr/local/lib/python3.10/dist-packages/torch/nn/modules/loss.py:535: UserWarning:\n",
            "\n",
            "Using a target size (torch.Size([450, 1])) that is different to the input size (torch.Size([450, 64])). This will likely lead to incorrect results due to broadcasting. Please ensure they have the same size.\n",
            "\n",
            "/usr/local/lib/python3.10/dist-packages/torch/nn/modules/loss.py:535: UserWarning:\n",
            "\n",
            "Using a target size (torch.Size([448, 1])) that is different to the input size (torch.Size([448, 64])). This will likely lead to incorrect results due to broadcasting. Please ensure they have the same size.\n",
            "\n",
            "/usr/local/lib/python3.10/dist-packages/torch/nn/modules/loss.py:535: UserWarning:\n",
            "\n",
            "Using a target size (torch.Size([442, 1])) that is different to the input size (torch.Size([442, 64])). This will likely lead to incorrect results due to broadcasting. Please ensure they have the same size.\n",
            "\n",
            "/usr/local/lib/python3.10/dist-packages/torch/nn/modules/loss.py:535: UserWarning:\n",
            "\n",
            "Using a target size (torch.Size([456, 1])) that is different to the input size (torch.Size([456, 64])). This will likely lead to incorrect results due to broadcasting. Please ensure they have the same size.\n",
            "\n",
            "/usr/local/lib/python3.10/dist-packages/torch/nn/modules/loss.py:535: UserWarning:\n",
            "\n",
            "Using a target size (torch.Size([458, 1])) that is different to the input size (torch.Size([458, 64])). This will likely lead to incorrect results due to broadcasting. Please ensure they have the same size.\n",
            "\n",
            "/usr/local/lib/python3.10/dist-packages/torch/nn/modules/loss.py:535: UserWarning:\n",
            "\n",
            "Using a target size (torch.Size([437, 1])) that is different to the input size (torch.Size([437, 64])). This will likely lead to incorrect results due to broadcasting. Please ensure they have the same size.\n",
            "\n",
            "/usr/local/lib/python3.10/dist-packages/torch/nn/modules/loss.py:535: UserWarning:\n",
            "\n",
            "Using a target size (torch.Size([449, 1])) that is different to the input size (torch.Size([449, 64])). This will likely lead to incorrect results due to broadcasting. Please ensure they have the same size.\n",
            "\n",
            "/usr/local/lib/python3.10/dist-packages/torch/nn/modules/loss.py:535: UserWarning:\n",
            "\n",
            "Using a target size (torch.Size([452, 1])) that is different to the input size (torch.Size([452, 64])). This will likely lead to incorrect results due to broadcasting. Please ensure they have the same size.\n",
            "\n",
            "/usr/local/lib/python3.10/dist-packages/torch/nn/modules/loss.py:535: UserWarning:\n",
            "\n",
            "Using a target size (torch.Size([433, 1])) that is different to the input size (torch.Size([433, 64])). This will likely lead to incorrect results due to broadcasting. Please ensure they have the same size.\n",
            "\n",
            "/usr/local/lib/python3.10/dist-packages/torch/nn/modules/loss.py:535: UserWarning:\n",
            "\n",
            "Using a target size (torch.Size([427, 1])) that is different to the input size (torch.Size([427, 64])). This will likely lead to incorrect results due to broadcasting. Please ensure they have the same size.\n",
            "\n",
            "/usr/local/lib/python3.10/dist-packages/torch/nn/modules/loss.py:535: UserWarning:\n",
            "\n",
            "Using a target size (torch.Size([451, 1])) that is different to the input size (torch.Size([451, 64])). This will likely lead to incorrect results due to broadcasting. Please ensure they have the same size.\n",
            "\n",
            "/usr/local/lib/python3.10/dist-packages/torch/nn/modules/loss.py:535: UserWarning:\n",
            "\n",
            "Using a target size (torch.Size([439, 1])) that is different to the input size (torch.Size([439, 64])). This will likely lead to incorrect results due to broadcasting. Please ensure they have the same size.\n",
            "\n",
            "/usr/local/lib/python3.10/dist-packages/torch/nn/modules/loss.py:535: UserWarning:\n",
            "\n",
            "Using a target size (torch.Size([445, 1])) that is different to the input size (torch.Size([445, 64])). This will likely lead to incorrect results due to broadcasting. Please ensure they have the same size.\n",
            "\n",
            "/usr/local/lib/python3.10/dist-packages/torch/nn/modules/loss.py:535: UserWarning:\n",
            "\n",
            "Using a target size (torch.Size([459, 1])) that is different to the input size (torch.Size([459, 64])). This will likely lead to incorrect results due to broadcasting. Please ensure they have the same size.\n",
            "\n",
            "/usr/local/lib/python3.10/dist-packages/torch/nn/modules/loss.py:535: UserWarning:\n",
            "\n",
            "Using a target size (torch.Size([461, 1])) that is different to the input size (torch.Size([461, 64])). This will likely lead to incorrect results due to broadcasting. Please ensure they have the same size.\n",
            "\n",
            "/usr/local/lib/python3.10/dist-packages/torch/nn/modules/loss.py:535: UserWarning:\n",
            "\n",
            "Using a target size (torch.Size([438, 1])) that is different to the input size (torch.Size([438, 64])). This will likely lead to incorrect results due to broadcasting. Please ensure they have the same size.\n",
            "\n",
            "/usr/local/lib/python3.10/dist-packages/torch/nn/modules/loss.py:535: UserWarning:\n",
            "\n",
            "Using a target size (torch.Size([440, 1])) that is different to the input size (torch.Size([440, 64])). This will likely lead to incorrect results due to broadcasting. Please ensure they have the same size.\n",
            "\n",
            "[I 2024-08-09 13:52:31,910] Trial 95 finished with value: 9.252573013305664 and parameters: {'learning_rate': 0.005842963703547461, 'hidden_dim': 64, 'latent_dim': 128, 'batch_size': 32, 'num_hidden_layers': 5}. Best is trial 29 with value: 6.647877216339111.\n"
          ]
        },
        {
          "output_type": "stream",
          "name": "stdout",
          "text": [
            "Epoch 100, Loss: 9.252573013305664\n"
          ]
        },
        {
          "output_type": "stream",
          "name": "stderr",
          "text": [
            "[I 2024-08-09 13:52:34,431] Trial 96 finished with value: 5.63440736134847 and parameters: {'learning_rate': 0.007831007398929793, 'hidden_dim': 64, 'latent_dim': 128, 'batch_size': 16, 'num_hidden_layers': 5}. Best is trial 96 with value: 5.63440736134847.\n"
          ]
        },
        {
          "output_type": "stream",
          "name": "stdout",
          "text": [
            "Epoch 100, Loss: 5.63440736134847\n"
          ]
        },
        {
          "output_type": "stream",
          "name": "stderr",
          "text": [
            "/usr/local/lib/python3.10/dist-packages/torch/nn/modules/loss.py:535: UserWarning:\n",
            "\n",
            "Using a target size (torch.Size([183, 1])) that is different to the input size (torch.Size([183, 64])). This will likely lead to incorrect results due to broadcasting. Please ensure they have the same size.\n",
            "\n",
            "[I 2024-08-09 13:52:36,951] Trial 97 finished with value: 8.206456820170084 and parameters: {'learning_rate': 0.007905069844917326, 'hidden_dim': 64, 'latent_dim': 128, 'batch_size': 16, 'num_hidden_layers': 5}. Best is trial 96 with value: 5.63440736134847.\n"
          ]
        },
        {
          "output_type": "stream",
          "name": "stdout",
          "text": [
            "Epoch 100, Loss: 8.206456820170084\n"
          ]
        },
        {
          "output_type": "stream",
          "name": "stderr",
          "text": [
            "[I 2024-08-09 13:52:39,562] Trial 98 finished with value: 7.004858493804932 and parameters: {'learning_rate': 0.01743791677780444, 'hidden_dim': 64, 'latent_dim': 128, 'batch_size': 16, 'num_hidden_layers': 5}. Best is trial 96 with value: 5.63440736134847.\n"
          ]
        },
        {
          "output_type": "stream",
          "name": "stdout",
          "text": [
            "Epoch 100, Loss: 7.004858493804932\n"
          ]
        },
        {
          "output_type": "stream",
          "name": "stderr",
          "text": [
            "/usr/local/lib/python3.10/dist-packages/torch/nn/modules/loss.py:535: UserWarning:\n",
            "\n",
            "Using a target size (torch.Size([186, 1])) that is different to the input size (torch.Size([186, 64])). This will likely lead to incorrect results due to broadcasting. Please ensure they have the same size.\n",
            "\n",
            "[I 2024-08-09 13:52:42,062] Trial 99 finished with value: 19.068155606587727 and parameters: {'learning_rate': 0.01911554162135102, 'hidden_dim': 64, 'latent_dim': 128, 'batch_size': 16, 'num_hidden_layers': 5}. Best is trial 96 with value: 5.63440736134847.\n"
          ]
        },
        {
          "output_type": "stream",
          "name": "stdout",
          "text": [
            "Epoch 100, Loss: 19.068155606587727\n",
            "Best hyperparameters:  {'learning_rate': 0.007831007398929793, 'hidden_dim': 64, 'latent_dim': 128, 'batch_size': 16, 'num_hidden_layers': 5}\n"
          ]
        },
        {
          "output_type": "display_data",
          "data": {
            "text/html": [
              "<html>\n",
              "<head><meta charset=\"utf-8\" /></head>\n",
              "<body>\n",
              "    <div>            <script src=\"https://cdnjs.cloudflare.com/ajax/libs/mathjax/2.7.5/MathJax.js?config=TeX-AMS-MML_SVG\"></script><script type=\"text/javascript\">if (window.MathJax && window.MathJax.Hub && window.MathJax.Hub.Config) {window.MathJax.Hub.Config({SVG: {font: \"STIX-Web\"}});}</script>                <script type=\"text/javascript\">window.PlotlyConfig = {MathJaxConfig: 'local'};</script>\n",
              "        <script charset=\"utf-8\" src=\"https://cdn.plot.ly/plotly-2.24.1.min.js\"></script>                <div id=\"4cea0b0d-2122-4579-8a27-5a0de5b720e2\" class=\"plotly-graph-div\" style=\"height:525px; width:100%;\"></div>            <script type=\"text/javascript\">                                    window.PLOTLYENV=window.PLOTLYENV || {};                                    if (document.getElementById(\"4cea0b0d-2122-4579-8a27-5a0de5b720e2\")) {                    Plotly.newPlot(                        \"4cea0b0d-2122-4579-8a27-5a0de5b720e2\",                        [{\"mode\":\"markers\",\"name\":\"Objective Value\",\"x\":[0,1,2,3,4,5,6,7,8,9,10,11,12,13,14,15,16,17,18,19,20,21,22,23,24,25,26,27,28,29,30,31,32,33,34,35,36,37,38,39,40,41,42,43,44,45,46,47,48,49,50,51,52,53,54,55,56,57,58,59,60,61,62,63,64,65,66,67,68,69,70,71,72,73,74,75,76,77,78,79,80,81,82,83,84,85,86,87,88,89,90,91,92,93,94,95,96,97,98,99],\"y\":[11.024536609649658,9.784942150115967,55.31134033203125,10.854411125183105,51.119850158691406,12.081540584564209,9.048728624979654,6.930437723795573,10.2444429397583,7.991757392883301,7.926737467447917,11.230964660644531,6.883205413818359,9.009133656819662,7.754074573516846,11.088329156239828,11.21431271235148,11.26298999786377,10.353330294291178,15.856219609578451,40.6978759765625,7.480769316355388,11.264735698699951,56.70655186971029,10.132109006245932,14.353103319803873,11.720328330993652,8.116846243540445,56.99637985229492,6.647877216339111,28.253096103668213,11.442022959391275,8.772817293802897,8.20284334818522,10.433794975280762,8.480834484100342,12.482546329498291,34.17486572265625,9.348875045776367,7.904367764790853,8.572389602661133,12.307504971822103,12.370418548583984,12.215590159098307,8.458494186401367,18.08419895172119,10.876641432444254,7.971073627471924,12.060280799865723,10.182187875111898,17.20605246225993,12.10575040181478,8.017937024434408,9.227405865987143,18.300764083862305,15.028966585795084,11.213329315185547,12.55946413675944,22.10344950358073,11.544599056243896,11.185824871063232,9.491008281707764,9.62742805480957,7.385737260182698,15.009907404581705,7.938855171203613,9.995938936869303,14.097585678100586,9.756767272949219,12.806513468424479,6.854349295298259,12.964147249857584,7.632643858591716,12.819050153096518,8.395188808441162,13.458696842193604,21.01322301228841,15.610752582550049,19.213193734486897,8.671470165252686,17.062920252482098,9.002481937408447,10.103988965352377,12.565591017405191,14.45872942606608,12.271673520406088,16.319530487060547,7.393395741780599,8.406004905700684,16.45831235249837,9.440629641215006,7.786644617716472,8.288676897684732,11.715008099873861,7.471473375956218,9.252573013305664,5.63440736134847,8.206456820170084,7.004858493804932,19.068155606587727],\"type\":\"scatter\"},{\"mode\":\"lines\",\"name\":\"Best Value\",\"x\":[0,1,2,3,4,5,6,7,8,9,10,11,12,13,14,15,16,17,18,19,20,21,22,23,24,25,26,27,28,29,30,31,32,33,34,35,36,37,38,39,40,41,42,43,44,45,46,47,48,49,50,51,52,53,54,55,56,57,58,59,60,61,62,63,64,65,66,67,68,69,70,71,72,73,74,75,76,77,78,79,80,81,82,83,84,85,86,87,88,89,90,91,92,93,94,95,96,97,98,99],\"y\":[11.024536609649658,9.784942150115967,9.784942150115967,9.784942150115967,9.784942150115967,9.784942150115967,9.048728624979654,6.930437723795573,6.930437723795573,6.930437723795573,6.930437723795573,6.930437723795573,6.883205413818359,6.883205413818359,6.883205413818359,6.883205413818359,6.883205413818359,6.883205413818359,6.883205413818359,6.883205413818359,6.883205413818359,6.883205413818359,6.883205413818359,6.883205413818359,6.883205413818359,6.883205413818359,6.883205413818359,6.883205413818359,6.883205413818359,6.647877216339111,6.647877216339111,6.647877216339111,6.647877216339111,6.647877216339111,6.647877216339111,6.647877216339111,6.647877216339111,6.647877216339111,6.647877216339111,6.647877216339111,6.647877216339111,6.647877216339111,6.647877216339111,6.647877216339111,6.647877216339111,6.647877216339111,6.647877216339111,6.647877216339111,6.647877216339111,6.647877216339111,6.647877216339111,6.647877216339111,6.647877216339111,6.647877216339111,6.647877216339111,6.647877216339111,6.647877216339111,6.647877216339111,6.647877216339111,6.647877216339111,6.647877216339111,6.647877216339111,6.647877216339111,6.647877216339111,6.647877216339111,6.647877216339111,6.647877216339111,6.647877216339111,6.647877216339111,6.647877216339111,6.647877216339111,6.647877216339111,6.647877216339111,6.647877216339111,6.647877216339111,6.647877216339111,6.647877216339111,6.647877216339111,6.647877216339111,6.647877216339111,6.647877216339111,6.647877216339111,6.647877216339111,6.647877216339111,6.647877216339111,6.647877216339111,6.647877216339111,6.647877216339111,6.647877216339111,6.647877216339111,6.647877216339111,6.647877216339111,6.647877216339111,6.647877216339111,6.647877216339111,6.647877216339111,5.63440736134847,5.63440736134847,5.63440736134847,5.63440736134847],\"type\":\"scatter\"},{\"marker\":{\"color\":\"#cccccc\"},\"mode\":\"markers\",\"name\":\"Infeasible Trial\",\"showlegend\":false,\"x\":[],\"y\":[],\"type\":\"scatter\"}],                        {\"title\":{\"text\":\"Optimization History Plot\"},\"xaxis\":{\"title\":{\"text\":\"Trial\"}},\"yaxis\":{\"title\":{\"text\":\"Objective Value\"}},\"template\":{\"data\":{\"histogram2dcontour\":[{\"type\":\"histogram2dcontour\",\"colorbar\":{\"outlinewidth\":0,\"ticks\":\"\"},\"colorscale\":[[0.0,\"#0d0887\"],[0.1111111111111111,\"#46039f\"],[0.2222222222222222,\"#7201a8\"],[0.3333333333333333,\"#9c179e\"],[0.4444444444444444,\"#bd3786\"],[0.5555555555555556,\"#d8576b\"],[0.6666666666666666,\"#ed7953\"],[0.7777777777777778,\"#fb9f3a\"],[0.8888888888888888,\"#fdca26\"],[1.0,\"#f0f921\"]]}],\"choropleth\":[{\"type\":\"choropleth\",\"colorbar\":{\"outlinewidth\":0,\"ticks\":\"\"}}],\"histogram2d\":[{\"type\":\"histogram2d\",\"colorbar\":{\"outlinewidth\":0,\"ticks\":\"\"},\"colorscale\":[[0.0,\"#0d0887\"],[0.1111111111111111,\"#46039f\"],[0.2222222222222222,\"#7201a8\"],[0.3333333333333333,\"#9c179e\"],[0.4444444444444444,\"#bd3786\"],[0.5555555555555556,\"#d8576b\"],[0.6666666666666666,\"#ed7953\"],[0.7777777777777778,\"#fb9f3a\"],[0.8888888888888888,\"#fdca26\"],[1.0,\"#f0f921\"]]}],\"heatmap\":[{\"type\":\"heatmap\",\"colorbar\":{\"outlinewidth\":0,\"ticks\":\"\"},\"colorscale\":[[0.0,\"#0d0887\"],[0.1111111111111111,\"#46039f\"],[0.2222222222222222,\"#7201a8\"],[0.3333333333333333,\"#9c179e\"],[0.4444444444444444,\"#bd3786\"],[0.5555555555555556,\"#d8576b\"],[0.6666666666666666,\"#ed7953\"],[0.7777777777777778,\"#fb9f3a\"],[0.8888888888888888,\"#fdca26\"],[1.0,\"#f0f921\"]]}],\"heatmapgl\":[{\"type\":\"heatmapgl\",\"colorbar\":{\"outlinewidth\":0,\"ticks\":\"\"},\"colorscale\":[[0.0,\"#0d0887\"],[0.1111111111111111,\"#46039f\"],[0.2222222222222222,\"#7201a8\"],[0.3333333333333333,\"#9c179e\"],[0.4444444444444444,\"#bd3786\"],[0.5555555555555556,\"#d8576b\"],[0.6666666666666666,\"#ed7953\"],[0.7777777777777778,\"#fb9f3a\"],[0.8888888888888888,\"#fdca26\"],[1.0,\"#f0f921\"]]}],\"contourcarpet\":[{\"type\":\"contourcarpet\",\"colorbar\":{\"outlinewidth\":0,\"ticks\":\"\"}}],\"contour\":[{\"type\":\"contour\",\"colorbar\":{\"outlinewidth\":0,\"ticks\":\"\"},\"colorscale\":[[0.0,\"#0d0887\"],[0.1111111111111111,\"#46039f\"],[0.2222222222222222,\"#7201a8\"],[0.3333333333333333,\"#9c179e\"],[0.4444444444444444,\"#bd3786\"],[0.5555555555555556,\"#d8576b\"],[0.6666666666666666,\"#ed7953\"],[0.7777777777777778,\"#fb9f3a\"],[0.8888888888888888,\"#fdca26\"],[1.0,\"#f0f921\"]]}],\"surface\":[{\"type\":\"surface\",\"colorbar\":{\"outlinewidth\":0,\"ticks\":\"\"},\"colorscale\":[[0.0,\"#0d0887\"],[0.1111111111111111,\"#46039f\"],[0.2222222222222222,\"#7201a8\"],[0.3333333333333333,\"#9c179e\"],[0.4444444444444444,\"#bd3786\"],[0.5555555555555556,\"#d8576b\"],[0.6666666666666666,\"#ed7953\"],[0.7777777777777778,\"#fb9f3a\"],[0.8888888888888888,\"#fdca26\"],[1.0,\"#f0f921\"]]}],\"mesh3d\":[{\"type\":\"mesh3d\",\"colorbar\":{\"outlinewidth\":0,\"ticks\":\"\"}}],\"scatter\":[{\"fillpattern\":{\"fillmode\":\"overlay\",\"size\":10,\"solidity\":0.2},\"type\":\"scatter\"}],\"parcoords\":[{\"type\":\"parcoords\",\"line\":{\"colorbar\":{\"outlinewidth\":0,\"ticks\":\"\"}}}],\"scatterpolargl\":[{\"type\":\"scatterpolargl\",\"marker\":{\"colorbar\":{\"outlinewidth\":0,\"ticks\":\"\"}}}],\"bar\":[{\"error_x\":{\"color\":\"#2a3f5f\"},\"error_y\":{\"color\":\"#2a3f5f\"},\"marker\":{\"line\":{\"color\":\"#E5ECF6\",\"width\":0.5},\"pattern\":{\"fillmode\":\"overlay\",\"size\":10,\"solidity\":0.2}},\"type\":\"bar\"}],\"scattergeo\":[{\"type\":\"scattergeo\",\"marker\":{\"colorbar\":{\"outlinewidth\":0,\"ticks\":\"\"}}}],\"scatterpolar\":[{\"type\":\"scatterpolar\",\"marker\":{\"colorbar\":{\"outlinewidth\":0,\"ticks\":\"\"}}}],\"histogram\":[{\"marker\":{\"pattern\":{\"fillmode\":\"overlay\",\"size\":10,\"solidity\":0.2}},\"type\":\"histogram\"}],\"scattergl\":[{\"type\":\"scattergl\",\"marker\":{\"colorbar\":{\"outlinewidth\":0,\"ticks\":\"\"}}}],\"scatter3d\":[{\"type\":\"scatter3d\",\"line\":{\"colorbar\":{\"outlinewidth\":0,\"ticks\":\"\"}},\"marker\":{\"colorbar\":{\"outlinewidth\":0,\"ticks\":\"\"}}}],\"scattermapbox\":[{\"type\":\"scattermapbox\",\"marker\":{\"colorbar\":{\"outlinewidth\":0,\"ticks\":\"\"}}}],\"scatterternary\":[{\"type\":\"scatterternary\",\"marker\":{\"colorbar\":{\"outlinewidth\":0,\"ticks\":\"\"}}}],\"scattercarpet\":[{\"type\":\"scattercarpet\",\"marker\":{\"colorbar\":{\"outlinewidth\":0,\"ticks\":\"\"}}}],\"carpet\":[{\"aaxis\":{\"endlinecolor\":\"#2a3f5f\",\"gridcolor\":\"white\",\"linecolor\":\"white\",\"minorgridcolor\":\"white\",\"startlinecolor\":\"#2a3f5f\"},\"baxis\":{\"endlinecolor\":\"#2a3f5f\",\"gridcolor\":\"white\",\"linecolor\":\"white\",\"minorgridcolor\":\"white\",\"startlinecolor\":\"#2a3f5f\"},\"type\":\"carpet\"}],\"table\":[{\"cells\":{\"fill\":{\"color\":\"#EBF0F8\"},\"line\":{\"color\":\"white\"}},\"header\":{\"fill\":{\"color\":\"#C8D4E3\"},\"line\":{\"color\":\"white\"}},\"type\":\"table\"}],\"barpolar\":[{\"marker\":{\"line\":{\"color\":\"#E5ECF6\",\"width\":0.5},\"pattern\":{\"fillmode\":\"overlay\",\"size\":10,\"solidity\":0.2}},\"type\":\"barpolar\"}],\"pie\":[{\"automargin\":true,\"type\":\"pie\"}]},\"layout\":{\"autotypenumbers\":\"strict\",\"colorway\":[\"#636efa\",\"#EF553B\",\"#00cc96\",\"#ab63fa\",\"#FFA15A\",\"#19d3f3\",\"#FF6692\",\"#B6E880\",\"#FF97FF\",\"#FECB52\"],\"font\":{\"color\":\"#2a3f5f\"},\"hovermode\":\"closest\",\"hoverlabel\":{\"align\":\"left\"},\"paper_bgcolor\":\"white\",\"plot_bgcolor\":\"#E5ECF6\",\"polar\":{\"bgcolor\":\"#E5ECF6\",\"angularaxis\":{\"gridcolor\":\"white\",\"linecolor\":\"white\",\"ticks\":\"\"},\"radialaxis\":{\"gridcolor\":\"white\",\"linecolor\":\"white\",\"ticks\":\"\"}},\"ternary\":{\"bgcolor\":\"#E5ECF6\",\"aaxis\":{\"gridcolor\":\"white\",\"linecolor\":\"white\",\"ticks\":\"\"},\"baxis\":{\"gridcolor\":\"white\",\"linecolor\":\"white\",\"ticks\":\"\"},\"caxis\":{\"gridcolor\":\"white\",\"linecolor\":\"white\",\"ticks\":\"\"}},\"coloraxis\":{\"colorbar\":{\"outlinewidth\":0,\"ticks\":\"\"}},\"colorscale\":{\"sequential\":[[0.0,\"#0d0887\"],[0.1111111111111111,\"#46039f\"],[0.2222222222222222,\"#7201a8\"],[0.3333333333333333,\"#9c179e\"],[0.4444444444444444,\"#bd3786\"],[0.5555555555555556,\"#d8576b\"],[0.6666666666666666,\"#ed7953\"],[0.7777777777777778,\"#fb9f3a\"],[0.8888888888888888,\"#fdca26\"],[1.0,\"#f0f921\"]],\"sequentialminus\":[[0.0,\"#0d0887\"],[0.1111111111111111,\"#46039f\"],[0.2222222222222222,\"#7201a8\"],[0.3333333333333333,\"#9c179e\"],[0.4444444444444444,\"#bd3786\"],[0.5555555555555556,\"#d8576b\"],[0.6666666666666666,\"#ed7953\"],[0.7777777777777778,\"#fb9f3a\"],[0.8888888888888888,\"#fdca26\"],[1.0,\"#f0f921\"]],\"diverging\":[[0,\"#8e0152\"],[0.1,\"#c51b7d\"],[0.2,\"#de77ae\"],[0.3,\"#f1b6da\"],[0.4,\"#fde0ef\"],[0.5,\"#f7f7f7\"],[0.6,\"#e6f5d0\"],[0.7,\"#b8e186\"],[0.8,\"#7fbc41\"],[0.9,\"#4d9221\"],[1,\"#276419\"]]},\"xaxis\":{\"gridcolor\":\"white\",\"linecolor\":\"white\",\"ticks\":\"\",\"title\":{\"standoff\":15},\"zerolinecolor\":\"white\",\"automargin\":true,\"zerolinewidth\":2},\"yaxis\":{\"gridcolor\":\"white\",\"linecolor\":\"white\",\"ticks\":\"\",\"title\":{\"standoff\":15},\"zerolinecolor\":\"white\",\"automargin\":true,\"zerolinewidth\":2},\"scene\":{\"xaxis\":{\"backgroundcolor\":\"#E5ECF6\",\"gridcolor\":\"white\",\"linecolor\":\"white\",\"showbackground\":true,\"ticks\":\"\",\"zerolinecolor\":\"white\",\"gridwidth\":2},\"yaxis\":{\"backgroundcolor\":\"#E5ECF6\",\"gridcolor\":\"white\",\"linecolor\":\"white\",\"showbackground\":true,\"ticks\":\"\",\"zerolinecolor\":\"white\",\"gridwidth\":2},\"zaxis\":{\"backgroundcolor\":\"#E5ECF6\",\"gridcolor\":\"white\",\"linecolor\":\"white\",\"showbackground\":true,\"ticks\":\"\",\"zerolinecolor\":\"white\",\"gridwidth\":2}},\"shapedefaults\":{\"line\":{\"color\":\"#2a3f5f\"}},\"annotationdefaults\":{\"arrowcolor\":\"#2a3f5f\",\"arrowhead\":0,\"arrowwidth\":1},\"geo\":{\"bgcolor\":\"white\",\"landcolor\":\"#E5ECF6\",\"subunitcolor\":\"white\",\"showland\":true,\"showlakes\":true,\"lakecolor\":\"white\"},\"title\":{\"x\":0.05},\"mapbox\":{\"style\":\"light\"}}}},                        {\"responsive\": true}                    ).then(function(){\n",
              "                            \n",
              "var gd = document.getElementById('4cea0b0d-2122-4579-8a27-5a0de5b720e2');\n",
              "var x = new MutationObserver(function (mutations, observer) {{\n",
              "        var display = window.getComputedStyle(gd).display;\n",
              "        if (!display || display === 'none') {{\n",
              "            console.log([gd, 'removed!']);\n",
              "            Plotly.purge(gd);\n",
              "            observer.disconnect();\n",
              "        }}\n",
              "}});\n",
              "\n",
              "// Listen for the removal of the full notebook cells\n",
              "var notebookContainer = gd.closest('#notebook-container');\n",
              "if (notebookContainer) {{\n",
              "    x.observe(notebookContainer, {childList: true});\n",
              "}}\n",
              "\n",
              "// Listen for the clearing of the current output cell\n",
              "var outputEl = gd.closest('.output');\n",
              "if (outputEl) {{\n",
              "    x.observe(outputEl, {childList: true});\n",
              "}}\n",
              "\n",
              "                        })                };                            </script>        </div>\n",
              "</body>\n",
              "</html>"
            ]
          },
          "metadata": {}
        },
        {
          "output_type": "display_data",
          "data": {
            "text/html": [
              "<html>\n",
              "<head><meta charset=\"utf-8\" /></head>\n",
              "<body>\n",
              "    <div>            <script src=\"https://cdnjs.cloudflare.com/ajax/libs/mathjax/2.7.5/MathJax.js?config=TeX-AMS-MML_SVG\"></script><script type=\"text/javascript\">if (window.MathJax && window.MathJax.Hub && window.MathJax.Hub.Config) {window.MathJax.Hub.Config({SVG: {font: \"STIX-Web\"}});}</script>                <script type=\"text/javascript\">window.PlotlyConfig = {MathJaxConfig: 'local'};</script>\n",
              "        <script charset=\"utf-8\" src=\"https://cdn.plot.ly/plotly-2.24.1.min.js\"></script>                <div id=\"6b363182-96c6-4200-be39-2a972900eac1\" class=\"plotly-graph-div\" style=\"height:525px; width:100%;\"></div>            <script type=\"text/javascript\">                                    window.PLOTLYENV=window.PLOTLYENV || {};                                    if (document.getElementById(\"6b363182-96c6-4200-be39-2a972900eac1\")) {                    Plotly.newPlot(                        \"6b363182-96c6-4200-be39-2a972900eac1\",                        [{\"cliponaxis\":false,\"hovertemplate\":[\"latent_dim (CategoricalDistribution): 0.04209958723988402\\u003cextra\\u003e\\u003c\\u002fextra\\u003e\",\"num_hidden_layers (IntDistribution): 0.04315529897855852\\u003cextra\\u003e\\u003c\\u002fextra\\u003e\",\"hidden_dim (CategoricalDistribution): 0.053752157340703446\\u003cextra\\u003e\\u003c\\u002fextra\\u003e\",\"batch_size (CategoricalDistribution): 0.14592169812003905\\u003cextra\\u003e\\u003c\\u002fextra\\u003e\",\"learning_rate (FloatDistribution): 0.715071258320815\\u003cextra\\u003e\\u003c\\u002fextra\\u003e\"],\"name\":\"Objective Value\",\"orientation\":\"h\",\"text\":[\"0.04\",\"0.04\",\"0.05\",\"0.15\",\"0.72\"],\"textposition\":\"outside\",\"x\":[0.04209958723988402,0.04315529897855852,0.053752157340703446,0.14592169812003905,0.715071258320815],\"y\":[\"latent_dim\",\"num_hidden_layers\",\"hidden_dim\",\"batch_size\",\"learning_rate\"],\"type\":\"bar\"}],                        {\"title\":{\"text\":\"Hyperparameter Importances\"},\"xaxis\":{\"title\":{\"text\":\"Hyperparameter Importance\"}},\"yaxis\":{\"title\":{\"text\":\"Hyperparameter\"}},\"template\":{\"data\":{\"histogram2dcontour\":[{\"type\":\"histogram2dcontour\",\"colorbar\":{\"outlinewidth\":0,\"ticks\":\"\"},\"colorscale\":[[0.0,\"#0d0887\"],[0.1111111111111111,\"#46039f\"],[0.2222222222222222,\"#7201a8\"],[0.3333333333333333,\"#9c179e\"],[0.4444444444444444,\"#bd3786\"],[0.5555555555555556,\"#d8576b\"],[0.6666666666666666,\"#ed7953\"],[0.7777777777777778,\"#fb9f3a\"],[0.8888888888888888,\"#fdca26\"],[1.0,\"#f0f921\"]]}],\"choropleth\":[{\"type\":\"choropleth\",\"colorbar\":{\"outlinewidth\":0,\"ticks\":\"\"}}],\"histogram2d\":[{\"type\":\"histogram2d\",\"colorbar\":{\"outlinewidth\":0,\"ticks\":\"\"},\"colorscale\":[[0.0,\"#0d0887\"],[0.1111111111111111,\"#46039f\"],[0.2222222222222222,\"#7201a8\"],[0.3333333333333333,\"#9c179e\"],[0.4444444444444444,\"#bd3786\"],[0.5555555555555556,\"#d8576b\"],[0.6666666666666666,\"#ed7953\"],[0.7777777777777778,\"#fb9f3a\"],[0.8888888888888888,\"#fdca26\"],[1.0,\"#f0f921\"]]}],\"heatmap\":[{\"type\":\"heatmap\",\"colorbar\":{\"outlinewidth\":0,\"ticks\":\"\"},\"colorscale\":[[0.0,\"#0d0887\"],[0.1111111111111111,\"#46039f\"],[0.2222222222222222,\"#7201a8\"],[0.3333333333333333,\"#9c179e\"],[0.4444444444444444,\"#bd3786\"],[0.5555555555555556,\"#d8576b\"],[0.6666666666666666,\"#ed7953\"],[0.7777777777777778,\"#fb9f3a\"],[0.8888888888888888,\"#fdca26\"],[1.0,\"#f0f921\"]]}],\"heatmapgl\":[{\"type\":\"heatmapgl\",\"colorbar\":{\"outlinewidth\":0,\"ticks\":\"\"},\"colorscale\":[[0.0,\"#0d0887\"],[0.1111111111111111,\"#46039f\"],[0.2222222222222222,\"#7201a8\"],[0.3333333333333333,\"#9c179e\"],[0.4444444444444444,\"#bd3786\"],[0.5555555555555556,\"#d8576b\"],[0.6666666666666666,\"#ed7953\"],[0.7777777777777778,\"#fb9f3a\"],[0.8888888888888888,\"#fdca26\"],[1.0,\"#f0f921\"]]}],\"contourcarpet\":[{\"type\":\"contourcarpet\",\"colorbar\":{\"outlinewidth\":0,\"ticks\":\"\"}}],\"contour\":[{\"type\":\"contour\",\"colorbar\":{\"outlinewidth\":0,\"ticks\":\"\"},\"colorscale\":[[0.0,\"#0d0887\"],[0.1111111111111111,\"#46039f\"],[0.2222222222222222,\"#7201a8\"],[0.3333333333333333,\"#9c179e\"],[0.4444444444444444,\"#bd3786\"],[0.5555555555555556,\"#d8576b\"],[0.6666666666666666,\"#ed7953\"],[0.7777777777777778,\"#fb9f3a\"],[0.8888888888888888,\"#fdca26\"],[1.0,\"#f0f921\"]]}],\"surface\":[{\"type\":\"surface\",\"colorbar\":{\"outlinewidth\":0,\"ticks\":\"\"},\"colorscale\":[[0.0,\"#0d0887\"],[0.1111111111111111,\"#46039f\"],[0.2222222222222222,\"#7201a8\"],[0.3333333333333333,\"#9c179e\"],[0.4444444444444444,\"#bd3786\"],[0.5555555555555556,\"#d8576b\"],[0.6666666666666666,\"#ed7953\"],[0.7777777777777778,\"#fb9f3a\"],[0.8888888888888888,\"#fdca26\"],[1.0,\"#f0f921\"]]}],\"mesh3d\":[{\"type\":\"mesh3d\",\"colorbar\":{\"outlinewidth\":0,\"ticks\":\"\"}}],\"scatter\":[{\"fillpattern\":{\"fillmode\":\"overlay\",\"size\":10,\"solidity\":0.2},\"type\":\"scatter\"}],\"parcoords\":[{\"type\":\"parcoords\",\"line\":{\"colorbar\":{\"outlinewidth\":0,\"ticks\":\"\"}}}],\"scatterpolargl\":[{\"type\":\"scatterpolargl\",\"marker\":{\"colorbar\":{\"outlinewidth\":0,\"ticks\":\"\"}}}],\"bar\":[{\"error_x\":{\"color\":\"#2a3f5f\"},\"error_y\":{\"color\":\"#2a3f5f\"},\"marker\":{\"line\":{\"color\":\"#E5ECF6\",\"width\":0.5},\"pattern\":{\"fillmode\":\"overlay\",\"size\":10,\"solidity\":0.2}},\"type\":\"bar\"}],\"scattergeo\":[{\"type\":\"scattergeo\",\"marker\":{\"colorbar\":{\"outlinewidth\":0,\"ticks\":\"\"}}}],\"scatterpolar\":[{\"type\":\"scatterpolar\",\"marker\":{\"colorbar\":{\"outlinewidth\":0,\"ticks\":\"\"}}}],\"histogram\":[{\"marker\":{\"pattern\":{\"fillmode\":\"overlay\",\"size\":10,\"solidity\":0.2}},\"type\":\"histogram\"}],\"scattergl\":[{\"type\":\"scattergl\",\"marker\":{\"colorbar\":{\"outlinewidth\":0,\"ticks\":\"\"}}}],\"scatter3d\":[{\"type\":\"scatter3d\",\"line\":{\"colorbar\":{\"outlinewidth\":0,\"ticks\":\"\"}},\"marker\":{\"colorbar\":{\"outlinewidth\":0,\"ticks\":\"\"}}}],\"scattermapbox\":[{\"type\":\"scattermapbox\",\"marker\":{\"colorbar\":{\"outlinewidth\":0,\"ticks\":\"\"}}}],\"scatterternary\":[{\"type\":\"scatterternary\",\"marker\":{\"colorbar\":{\"outlinewidth\":0,\"ticks\":\"\"}}}],\"scattercarpet\":[{\"type\":\"scattercarpet\",\"marker\":{\"colorbar\":{\"outlinewidth\":0,\"ticks\":\"\"}}}],\"carpet\":[{\"aaxis\":{\"endlinecolor\":\"#2a3f5f\",\"gridcolor\":\"white\",\"linecolor\":\"white\",\"minorgridcolor\":\"white\",\"startlinecolor\":\"#2a3f5f\"},\"baxis\":{\"endlinecolor\":\"#2a3f5f\",\"gridcolor\":\"white\",\"linecolor\":\"white\",\"minorgridcolor\":\"white\",\"startlinecolor\":\"#2a3f5f\"},\"type\":\"carpet\"}],\"table\":[{\"cells\":{\"fill\":{\"color\":\"#EBF0F8\"},\"line\":{\"color\":\"white\"}},\"header\":{\"fill\":{\"color\":\"#C8D4E3\"},\"line\":{\"color\":\"white\"}},\"type\":\"table\"}],\"barpolar\":[{\"marker\":{\"line\":{\"color\":\"#E5ECF6\",\"width\":0.5},\"pattern\":{\"fillmode\":\"overlay\",\"size\":10,\"solidity\":0.2}},\"type\":\"barpolar\"}],\"pie\":[{\"automargin\":true,\"type\":\"pie\"}]},\"layout\":{\"autotypenumbers\":\"strict\",\"colorway\":[\"#636efa\",\"#EF553B\",\"#00cc96\",\"#ab63fa\",\"#FFA15A\",\"#19d3f3\",\"#FF6692\",\"#B6E880\",\"#FF97FF\",\"#FECB52\"],\"font\":{\"color\":\"#2a3f5f\"},\"hovermode\":\"closest\",\"hoverlabel\":{\"align\":\"left\"},\"paper_bgcolor\":\"white\",\"plot_bgcolor\":\"#E5ECF6\",\"polar\":{\"bgcolor\":\"#E5ECF6\",\"angularaxis\":{\"gridcolor\":\"white\",\"linecolor\":\"white\",\"ticks\":\"\"},\"radialaxis\":{\"gridcolor\":\"white\",\"linecolor\":\"white\",\"ticks\":\"\"}},\"ternary\":{\"bgcolor\":\"#E5ECF6\",\"aaxis\":{\"gridcolor\":\"white\",\"linecolor\":\"white\",\"ticks\":\"\"},\"baxis\":{\"gridcolor\":\"white\",\"linecolor\":\"white\",\"ticks\":\"\"},\"caxis\":{\"gridcolor\":\"white\",\"linecolor\":\"white\",\"ticks\":\"\"}},\"coloraxis\":{\"colorbar\":{\"outlinewidth\":0,\"ticks\":\"\"}},\"colorscale\":{\"sequential\":[[0.0,\"#0d0887\"],[0.1111111111111111,\"#46039f\"],[0.2222222222222222,\"#7201a8\"],[0.3333333333333333,\"#9c179e\"],[0.4444444444444444,\"#bd3786\"],[0.5555555555555556,\"#d8576b\"],[0.6666666666666666,\"#ed7953\"],[0.7777777777777778,\"#fb9f3a\"],[0.8888888888888888,\"#fdca26\"],[1.0,\"#f0f921\"]],\"sequentialminus\":[[0.0,\"#0d0887\"],[0.1111111111111111,\"#46039f\"],[0.2222222222222222,\"#7201a8\"],[0.3333333333333333,\"#9c179e\"],[0.4444444444444444,\"#bd3786\"],[0.5555555555555556,\"#d8576b\"],[0.6666666666666666,\"#ed7953\"],[0.7777777777777778,\"#fb9f3a\"],[0.8888888888888888,\"#fdca26\"],[1.0,\"#f0f921\"]],\"diverging\":[[0,\"#8e0152\"],[0.1,\"#c51b7d\"],[0.2,\"#de77ae\"],[0.3,\"#f1b6da\"],[0.4,\"#fde0ef\"],[0.5,\"#f7f7f7\"],[0.6,\"#e6f5d0\"],[0.7,\"#b8e186\"],[0.8,\"#7fbc41\"],[0.9,\"#4d9221\"],[1,\"#276419\"]]},\"xaxis\":{\"gridcolor\":\"white\",\"linecolor\":\"white\",\"ticks\":\"\",\"title\":{\"standoff\":15},\"zerolinecolor\":\"white\",\"automargin\":true,\"zerolinewidth\":2},\"yaxis\":{\"gridcolor\":\"white\",\"linecolor\":\"white\",\"ticks\":\"\",\"title\":{\"standoff\":15},\"zerolinecolor\":\"white\",\"automargin\":true,\"zerolinewidth\":2},\"scene\":{\"xaxis\":{\"backgroundcolor\":\"#E5ECF6\",\"gridcolor\":\"white\",\"linecolor\":\"white\",\"showbackground\":true,\"ticks\":\"\",\"zerolinecolor\":\"white\",\"gridwidth\":2},\"yaxis\":{\"backgroundcolor\":\"#E5ECF6\",\"gridcolor\":\"white\",\"linecolor\":\"white\",\"showbackground\":true,\"ticks\":\"\",\"zerolinecolor\":\"white\",\"gridwidth\":2},\"zaxis\":{\"backgroundcolor\":\"#E5ECF6\",\"gridcolor\":\"white\",\"linecolor\":\"white\",\"showbackground\":true,\"ticks\":\"\",\"zerolinecolor\":\"white\",\"gridwidth\":2}},\"shapedefaults\":{\"line\":{\"color\":\"#2a3f5f\"}},\"annotationdefaults\":{\"arrowcolor\":\"#2a3f5f\",\"arrowhead\":0,\"arrowwidth\":1},\"geo\":{\"bgcolor\":\"white\",\"landcolor\":\"#E5ECF6\",\"subunitcolor\":\"white\",\"showland\":true,\"showlakes\":true,\"lakecolor\":\"white\"},\"title\":{\"x\":0.05},\"mapbox\":{\"style\":\"light\"}}}},                        {\"responsive\": true}                    ).then(function(){\n",
              "                            \n",
              "var gd = document.getElementById('6b363182-96c6-4200-be39-2a972900eac1');\n",
              "var x = new MutationObserver(function (mutations, observer) {{\n",
              "        var display = window.getComputedStyle(gd).display;\n",
              "        if (!display || display === 'none') {{\n",
              "            console.log([gd, 'removed!']);\n",
              "            Plotly.purge(gd);\n",
              "            observer.disconnect();\n",
              "        }}\n",
              "}});\n",
              "\n",
              "// Listen for the removal of the full notebook cells\n",
              "var notebookContainer = gd.closest('#notebook-container');\n",
              "if (notebookContainer) {{\n",
              "    x.observe(notebookContainer, {childList: true});\n",
              "}}\n",
              "\n",
              "// Listen for the clearing of the current output cell\n",
              "var outputEl = gd.closest('.output');\n",
              "if (outputEl) {{\n",
              "    x.observe(outputEl, {childList: true});\n",
              "}}\n",
              "\n",
              "                        })                };                            </script>        </div>\n",
              "</body>\n",
              "</html>"
            ]
          },
          "metadata": {}
        },
        {
          "output_type": "display_data",
          "data": {
            "text/html": [
              "<html>\n",
              "<head><meta charset=\"utf-8\" /></head>\n",
              "<body>\n",
              "    <div>            <script src=\"https://cdnjs.cloudflare.com/ajax/libs/mathjax/2.7.5/MathJax.js?config=TeX-AMS-MML_SVG\"></script><script type=\"text/javascript\">if (window.MathJax && window.MathJax.Hub && window.MathJax.Hub.Config) {window.MathJax.Hub.Config({SVG: {font: \"STIX-Web\"}});}</script>                <script type=\"text/javascript\">window.PlotlyConfig = {MathJaxConfig: 'local'};</script>\n",
              "        <script charset=\"utf-8\" src=\"https://cdn.plot.ly/plotly-2.24.1.min.js\"></script>                <div id=\"2bc33cff-07cb-41e5-863d-7a1348b47eca\" class=\"plotly-graph-div\" style=\"height:525px; width:100%;\"></div>            <script type=\"text/javascript\">                                    window.PLOTLYENV=window.PLOTLYENV || {};                                    if (document.getElementById(\"2bc33cff-07cb-41e5-863d-7a1348b47eca\")) {                    Plotly.newPlot(                        \"2bc33cff-07cb-41e5-863d-7a1348b47eca\",                        [{\"dimensions\":[{\"label\":\"Objective Value\",\"range\":[5.63440736134847,56.99637985229492],\"values\":[14.097585678100586,9.009133656819662,10.353330294291178,8.116846243540445,18.08419895172119,15.028966585795084,7.393395741780599,8.406004905700684,16.45831235249837,9.440629641215006,7.786644617716472,8.288676897684732,11.715008099873861,7.471473375956218,5.63440736134847,8.206456820170084,7.004858493804932,19.068155606587727,17.20605246225993,11.088329156239828,15.856219609578451,11.720328330993652,7.926737467447917,11.230964660644531,6.883205413818359,11.21431271235148,6.647877216339111,11.442022959391275,8.772817293802897,8.20284334818522,7.904367764790853,12.10575040181478,8.017937024434408,9.227405865987143,18.300764083862305,22.10344950358073,9.491008281707764,9.62742805480957,7.385737260182698,15.009907404581705,7.938855171203613,9.995938936869303,6.854349295298259,12.964147249857584,7.632643858591716,12.819050153096518,8.395188808441162,13.458696842193604,8.671470165252686,9.002481937408447,10.103988965352377,12.565591017405191,14.45872942606608,12.271673520406088,8.458494186401367,12.55946413675944,17.062920252482098,7.754074573516846,11.26298999786377,7.480769316355388,11.264735698699951,56.70655186971029,10.132109006245932,14.353103319803873,12.307504971822103,12.370418548583984,12.215590159098307,10.876641432444254,12.060280799865723,21.01322301228841,9.048728624979654,12.806513468424479,6.930437723795573,10.433794975280762,8.480834484100342,10.182187875111898,11.544599056243896,19.213193734486897,9.252573013305664,11.024536609649658,12.482546329498291,28.253096103668213,7.971073627471924,15.610752582550049,12.081540584564209,11.185824871063232,9.784942150115967,10.854411125183105,7.991757392883301,9.348875045776367,10.2444429397583,11.213329315185547,56.99637985229492,9.756767272949219,55.31134033203125,51.119850158691406,16.319530487060547,40.6978759765625,34.17486572265625,8.572389602661133]},{\"label\":\"batch_size\",\"range\":[0,2],\"ticktext\":[\"16\",\"32\",\"64\"],\"tickvals\":[0,1,2],\"values\":[0,0,0,0,0,0,0,0,0,0,0,0,0,0,0,0,0,0,0,0,0,0,0,0,0,0,0,0,0,0,0,0,0,0,0,0,0,0,0,0,0,0,0,0,0,0,0,0,0,0,0,0,0,0,0,0,0,0,0,0,0,0,0,0,0,0,0,0,0,0,0,0,0,0,0,0,0,0,1,1,1,1,1,1,1,1,1,1,1,1,2,2,2,2,2,2,2,2,2,2]},{\"label\":\"hidden_dim\",\"range\":[0,3],\"ticktext\":[\"64\",\"128\",\"192\",\"256\"],\"tickvals\":[0,1,2,3],\"values\":[0,0,0,0,0,0,0,0,0,0,0,0,0,0,0,0,0,0,1,1,1,1,1,1,1,1,1,1,1,1,1,1,1,1,1,1,1,1,1,1,1,1,1,1,1,1,1,1,1,1,1,1,1,1,2,2,2,2,2,2,2,2,2,2,2,2,2,2,2,2,3,3,3,3,3,3,3,3,0,1,1,1,1,1,2,2,3,3,3,3,0,1,2,2,3,3,3,3,3,3]},{\"label\":\"latent_dim\",\"range\":[0,2],\"ticktext\":[\"32\",\"64\",\"128\"],\"tickvals\":[0,1,2],\"values\":[1,2,2,2,2,2,2,2,2,2,2,2,2,2,2,2,2,2,0,1,1,1,2,2,2,2,2,2,2,2,2,2,2,2,2,2,2,2,2,2,2,2,2,2,2,2,2,2,2,2,2,2,2,2,0,1,1,2,2,2,2,2,2,2,2,2,2,2,2,2,0,0,2,2,2,2,2,2,2,0,0,1,1,2,1,2,0,0,0,0,2,2,2,2,0,0,0,2,2,2]},{\"label\":\"learning_rate\",\"range\":[0.0002304739589721362,0.02979804163531125],\"values\":[0.00659564189050252,0.018586670863973982,0.013009053391725063,0.011346046167511607,0.010237237623448716,0.004778091063621769,0.008500304165590934,0.008454327266658585,0.023110276511753913,0.028588529687632175,0.008958437940736289,0.009108635189961222,0.010798584763970515,0.008730513092607231,0.007831007398929793,0.007905069844917326,0.01743791677780444,0.01911554162135102,0.003012884575691094,0.014182361623735588,0.01728993203182338,0.005074469839235423,0.009219805757145033,0.009428940946681248,0.009227328873539163,0.020061709966803024,0.016307516514369763,0.012955274676089028,0.008579020835064729,0.01595230086042655,0.007100208752580692,0.0071093945769723195,0.005847164478061738,0.007501937823581612,0.011646270081417559,0.015791479946871884,0.009082225148692639,0.010180646075224203,0.007970279319673224,0.00825804610296321,0.012083194016935018,0.004986003936664592,0.029506930891902906,0.025183963892567378,0.02870275700998785,0.027411581622640575,0.02979804163531125,0.029277177331904446,0.02219319536374435,0.026640899239454847,0.007812249629617412,0.006884701106411405,0.0015988743399172247,0.00987824931976604,0.004149283520457979,0.006594652138105663,0.011076141455081715,0.007038022438618605,0.006533728070326942,0.006434754765097648,0.0062642755383567885,0.0002304739589721362,0.01077180186103451,0.00848434196908138,0.007517692226449745,0.0019872578812657983,0.0055917539987468245,0.012169535193222595,0.014679929605310189,0.02603966564835628,0.014857368634090033,0.0031630150280276626,0.01160013367544872,0.027767731115805036,0.013310358355409297,0.00960694476362188,0.019718597248867074,0.02094369597419243,0.005842963703547461,0.02855853648429391,0.024283407498435237,0.016868860616862123,0.008051912875365407,0.028495996026546698,0.0040599197586244605,0.013454817224307677,0.026834336030833923,0.015216090353972386,0.021606159148382487,0.010491059970508143,0.011636352573691916,0.009181686290689321,0.0005699717735439284,0.014164322945227296,0.002446855819168861,0.002834704157157985,0.005589253407358913,0.023474321837125393,0.0038891351032645533,0.018436420399270178]},{\"label\":\"num_hidden_layers\",\"range\":[2,6],\"values\":[2,4,2,5,3,2,2,2,2,4,2,2,2,5,5,5,5,5,4,4,4,2,3,3,3,3,5,5,4,6,2,2,2,2,2,3,3,3,2,2,2,2,2,2,2,2,2,5,6,2,2,2,4,2,2,4,2,2,6,2,2,3,2,3,2,2,3,2,5,3,6,5,5,5,4,3,2,2,5,5,5,5,3,2,4,5,3,5,2,5,5,2,3,2,5,6,3,4,6,6]}],\"labelangle\":30,\"labelside\":\"bottom\",\"line\":{\"color\":[14.097585678100586,9.009133656819662,10.353330294291178,8.116846243540445,18.08419895172119,15.028966585795084,7.393395741780599,8.406004905700684,16.45831235249837,9.440629641215006,7.786644617716472,8.288676897684732,11.715008099873861,7.471473375956218,5.63440736134847,8.206456820170084,7.004858493804932,19.068155606587727,17.20605246225993,11.088329156239828,15.856219609578451,11.720328330993652,7.926737467447917,11.230964660644531,6.883205413818359,11.21431271235148,6.647877216339111,11.442022959391275,8.772817293802897,8.20284334818522,7.904367764790853,12.10575040181478,8.017937024434408,9.227405865987143,18.300764083862305,22.10344950358073,9.491008281707764,9.62742805480957,7.385737260182698,15.009907404581705,7.938855171203613,9.995938936869303,6.854349295298259,12.964147249857584,7.632643858591716,12.819050153096518,8.395188808441162,13.458696842193604,8.671470165252686,9.002481937408447,10.103988965352377,12.565591017405191,14.45872942606608,12.271673520406088,8.458494186401367,12.55946413675944,17.062920252482098,7.754074573516846,11.26298999786377,7.480769316355388,11.264735698699951,56.70655186971029,10.132109006245932,14.353103319803873,12.307504971822103,12.370418548583984,12.215590159098307,10.876641432444254,12.060280799865723,21.01322301228841,9.048728624979654,12.806513468424479,6.930437723795573,10.433794975280762,8.480834484100342,10.182187875111898,11.544599056243896,19.213193734486897,9.252573013305664,11.024536609649658,12.482546329498291,28.253096103668213,7.971073627471924,15.610752582550049,12.081540584564209,11.185824871063232,9.784942150115967,10.854411125183105,7.991757392883301,9.348875045776367,10.2444429397583,11.213329315185547,56.99637985229492,9.756767272949219,55.31134033203125,51.119850158691406,16.319530487060547,40.6978759765625,34.17486572265625,8.572389602661133],\"colorbar\":{\"title\":{\"text\":\"Objective Value\"}},\"colorscale\":[[0.0,\"rgb(247,251,255)\"],[0.125,\"rgb(222,235,247)\"],[0.25,\"rgb(198,219,239)\"],[0.375,\"rgb(158,202,225)\"],[0.5,\"rgb(107,174,214)\"],[0.625,\"rgb(66,146,198)\"],[0.75,\"rgb(33,113,181)\"],[0.875,\"rgb(8,81,156)\"],[1.0,\"rgb(8,48,107)\"]],\"reversescale\":true,\"showscale\":true},\"type\":\"parcoords\"}],                        {\"title\":{\"text\":\"Parallel Coordinate Plot\"},\"template\":{\"data\":{\"histogram2dcontour\":[{\"type\":\"histogram2dcontour\",\"colorbar\":{\"outlinewidth\":0,\"ticks\":\"\"},\"colorscale\":[[0.0,\"#0d0887\"],[0.1111111111111111,\"#46039f\"],[0.2222222222222222,\"#7201a8\"],[0.3333333333333333,\"#9c179e\"],[0.4444444444444444,\"#bd3786\"],[0.5555555555555556,\"#d8576b\"],[0.6666666666666666,\"#ed7953\"],[0.7777777777777778,\"#fb9f3a\"],[0.8888888888888888,\"#fdca26\"],[1.0,\"#f0f921\"]]}],\"choropleth\":[{\"type\":\"choropleth\",\"colorbar\":{\"outlinewidth\":0,\"ticks\":\"\"}}],\"histogram2d\":[{\"type\":\"histogram2d\",\"colorbar\":{\"outlinewidth\":0,\"ticks\":\"\"},\"colorscale\":[[0.0,\"#0d0887\"],[0.1111111111111111,\"#46039f\"],[0.2222222222222222,\"#7201a8\"],[0.3333333333333333,\"#9c179e\"],[0.4444444444444444,\"#bd3786\"],[0.5555555555555556,\"#d8576b\"],[0.6666666666666666,\"#ed7953\"],[0.7777777777777778,\"#fb9f3a\"],[0.8888888888888888,\"#fdca26\"],[1.0,\"#f0f921\"]]}],\"heatmap\":[{\"type\":\"heatmap\",\"colorbar\":{\"outlinewidth\":0,\"ticks\":\"\"},\"colorscale\":[[0.0,\"#0d0887\"],[0.1111111111111111,\"#46039f\"],[0.2222222222222222,\"#7201a8\"],[0.3333333333333333,\"#9c179e\"],[0.4444444444444444,\"#bd3786\"],[0.5555555555555556,\"#d8576b\"],[0.6666666666666666,\"#ed7953\"],[0.7777777777777778,\"#fb9f3a\"],[0.8888888888888888,\"#fdca26\"],[1.0,\"#f0f921\"]]}],\"heatmapgl\":[{\"type\":\"heatmapgl\",\"colorbar\":{\"outlinewidth\":0,\"ticks\":\"\"},\"colorscale\":[[0.0,\"#0d0887\"],[0.1111111111111111,\"#46039f\"],[0.2222222222222222,\"#7201a8\"],[0.3333333333333333,\"#9c179e\"],[0.4444444444444444,\"#bd3786\"],[0.5555555555555556,\"#d8576b\"],[0.6666666666666666,\"#ed7953\"],[0.7777777777777778,\"#fb9f3a\"],[0.8888888888888888,\"#fdca26\"],[1.0,\"#f0f921\"]]}],\"contourcarpet\":[{\"type\":\"contourcarpet\",\"colorbar\":{\"outlinewidth\":0,\"ticks\":\"\"}}],\"contour\":[{\"type\":\"contour\",\"colorbar\":{\"outlinewidth\":0,\"ticks\":\"\"},\"colorscale\":[[0.0,\"#0d0887\"],[0.1111111111111111,\"#46039f\"],[0.2222222222222222,\"#7201a8\"],[0.3333333333333333,\"#9c179e\"],[0.4444444444444444,\"#bd3786\"],[0.5555555555555556,\"#d8576b\"],[0.6666666666666666,\"#ed7953\"],[0.7777777777777778,\"#fb9f3a\"],[0.8888888888888888,\"#fdca26\"],[1.0,\"#f0f921\"]]}],\"surface\":[{\"type\":\"surface\",\"colorbar\":{\"outlinewidth\":0,\"ticks\":\"\"},\"colorscale\":[[0.0,\"#0d0887\"],[0.1111111111111111,\"#46039f\"],[0.2222222222222222,\"#7201a8\"],[0.3333333333333333,\"#9c179e\"],[0.4444444444444444,\"#bd3786\"],[0.5555555555555556,\"#d8576b\"],[0.6666666666666666,\"#ed7953\"],[0.7777777777777778,\"#fb9f3a\"],[0.8888888888888888,\"#fdca26\"],[1.0,\"#f0f921\"]]}],\"mesh3d\":[{\"type\":\"mesh3d\",\"colorbar\":{\"outlinewidth\":0,\"ticks\":\"\"}}],\"scatter\":[{\"fillpattern\":{\"fillmode\":\"overlay\",\"size\":10,\"solidity\":0.2},\"type\":\"scatter\"}],\"parcoords\":[{\"type\":\"parcoords\",\"line\":{\"colorbar\":{\"outlinewidth\":0,\"ticks\":\"\"}}}],\"scatterpolargl\":[{\"type\":\"scatterpolargl\",\"marker\":{\"colorbar\":{\"outlinewidth\":0,\"ticks\":\"\"}}}],\"bar\":[{\"error_x\":{\"color\":\"#2a3f5f\"},\"error_y\":{\"color\":\"#2a3f5f\"},\"marker\":{\"line\":{\"color\":\"#E5ECF6\",\"width\":0.5},\"pattern\":{\"fillmode\":\"overlay\",\"size\":10,\"solidity\":0.2}},\"type\":\"bar\"}],\"scattergeo\":[{\"type\":\"scattergeo\",\"marker\":{\"colorbar\":{\"outlinewidth\":0,\"ticks\":\"\"}}}],\"scatterpolar\":[{\"type\":\"scatterpolar\",\"marker\":{\"colorbar\":{\"outlinewidth\":0,\"ticks\":\"\"}}}],\"histogram\":[{\"marker\":{\"pattern\":{\"fillmode\":\"overlay\",\"size\":10,\"solidity\":0.2}},\"type\":\"histogram\"}],\"scattergl\":[{\"type\":\"scattergl\",\"marker\":{\"colorbar\":{\"outlinewidth\":0,\"ticks\":\"\"}}}],\"scatter3d\":[{\"type\":\"scatter3d\",\"line\":{\"colorbar\":{\"outlinewidth\":0,\"ticks\":\"\"}},\"marker\":{\"colorbar\":{\"outlinewidth\":0,\"ticks\":\"\"}}}],\"scattermapbox\":[{\"type\":\"scattermapbox\",\"marker\":{\"colorbar\":{\"outlinewidth\":0,\"ticks\":\"\"}}}],\"scatterternary\":[{\"type\":\"scatterternary\",\"marker\":{\"colorbar\":{\"outlinewidth\":0,\"ticks\":\"\"}}}],\"scattercarpet\":[{\"type\":\"scattercarpet\",\"marker\":{\"colorbar\":{\"outlinewidth\":0,\"ticks\":\"\"}}}],\"carpet\":[{\"aaxis\":{\"endlinecolor\":\"#2a3f5f\",\"gridcolor\":\"white\",\"linecolor\":\"white\",\"minorgridcolor\":\"white\",\"startlinecolor\":\"#2a3f5f\"},\"baxis\":{\"endlinecolor\":\"#2a3f5f\",\"gridcolor\":\"white\",\"linecolor\":\"white\",\"minorgridcolor\":\"white\",\"startlinecolor\":\"#2a3f5f\"},\"type\":\"carpet\"}],\"table\":[{\"cells\":{\"fill\":{\"color\":\"#EBF0F8\"},\"line\":{\"color\":\"white\"}},\"header\":{\"fill\":{\"color\":\"#C8D4E3\"},\"line\":{\"color\":\"white\"}},\"type\":\"table\"}],\"barpolar\":[{\"marker\":{\"line\":{\"color\":\"#E5ECF6\",\"width\":0.5},\"pattern\":{\"fillmode\":\"overlay\",\"size\":10,\"solidity\":0.2}},\"type\":\"barpolar\"}],\"pie\":[{\"automargin\":true,\"type\":\"pie\"}]},\"layout\":{\"autotypenumbers\":\"strict\",\"colorway\":[\"#636efa\",\"#EF553B\",\"#00cc96\",\"#ab63fa\",\"#FFA15A\",\"#19d3f3\",\"#FF6692\",\"#B6E880\",\"#FF97FF\",\"#FECB52\"],\"font\":{\"color\":\"#2a3f5f\"},\"hovermode\":\"closest\",\"hoverlabel\":{\"align\":\"left\"},\"paper_bgcolor\":\"white\",\"plot_bgcolor\":\"#E5ECF6\",\"polar\":{\"bgcolor\":\"#E5ECF6\",\"angularaxis\":{\"gridcolor\":\"white\",\"linecolor\":\"white\",\"ticks\":\"\"},\"radialaxis\":{\"gridcolor\":\"white\",\"linecolor\":\"white\",\"ticks\":\"\"}},\"ternary\":{\"bgcolor\":\"#E5ECF6\",\"aaxis\":{\"gridcolor\":\"white\",\"linecolor\":\"white\",\"ticks\":\"\"},\"baxis\":{\"gridcolor\":\"white\",\"linecolor\":\"white\",\"ticks\":\"\"},\"caxis\":{\"gridcolor\":\"white\",\"linecolor\":\"white\",\"ticks\":\"\"}},\"coloraxis\":{\"colorbar\":{\"outlinewidth\":0,\"ticks\":\"\"}},\"colorscale\":{\"sequential\":[[0.0,\"#0d0887\"],[0.1111111111111111,\"#46039f\"],[0.2222222222222222,\"#7201a8\"],[0.3333333333333333,\"#9c179e\"],[0.4444444444444444,\"#bd3786\"],[0.5555555555555556,\"#d8576b\"],[0.6666666666666666,\"#ed7953\"],[0.7777777777777778,\"#fb9f3a\"],[0.8888888888888888,\"#fdca26\"],[1.0,\"#f0f921\"]],\"sequentialminus\":[[0.0,\"#0d0887\"],[0.1111111111111111,\"#46039f\"],[0.2222222222222222,\"#7201a8\"],[0.3333333333333333,\"#9c179e\"],[0.4444444444444444,\"#bd3786\"],[0.5555555555555556,\"#d8576b\"],[0.6666666666666666,\"#ed7953\"],[0.7777777777777778,\"#fb9f3a\"],[0.8888888888888888,\"#fdca26\"],[1.0,\"#f0f921\"]],\"diverging\":[[0,\"#8e0152\"],[0.1,\"#c51b7d\"],[0.2,\"#de77ae\"],[0.3,\"#f1b6da\"],[0.4,\"#fde0ef\"],[0.5,\"#f7f7f7\"],[0.6,\"#e6f5d0\"],[0.7,\"#b8e186\"],[0.8,\"#7fbc41\"],[0.9,\"#4d9221\"],[1,\"#276419\"]]},\"xaxis\":{\"gridcolor\":\"white\",\"linecolor\":\"white\",\"ticks\":\"\",\"title\":{\"standoff\":15},\"zerolinecolor\":\"white\",\"automargin\":true,\"zerolinewidth\":2},\"yaxis\":{\"gridcolor\":\"white\",\"linecolor\":\"white\",\"ticks\":\"\",\"title\":{\"standoff\":15},\"zerolinecolor\":\"white\",\"automargin\":true,\"zerolinewidth\":2},\"scene\":{\"xaxis\":{\"backgroundcolor\":\"#E5ECF6\",\"gridcolor\":\"white\",\"linecolor\":\"white\",\"showbackground\":true,\"ticks\":\"\",\"zerolinecolor\":\"white\",\"gridwidth\":2},\"yaxis\":{\"backgroundcolor\":\"#E5ECF6\",\"gridcolor\":\"white\",\"linecolor\":\"white\",\"showbackground\":true,\"ticks\":\"\",\"zerolinecolor\":\"white\",\"gridwidth\":2},\"zaxis\":{\"backgroundcolor\":\"#E5ECF6\",\"gridcolor\":\"white\",\"linecolor\":\"white\",\"showbackground\":true,\"ticks\":\"\",\"zerolinecolor\":\"white\",\"gridwidth\":2}},\"shapedefaults\":{\"line\":{\"color\":\"#2a3f5f\"}},\"annotationdefaults\":{\"arrowcolor\":\"#2a3f5f\",\"arrowhead\":0,\"arrowwidth\":1},\"geo\":{\"bgcolor\":\"white\",\"landcolor\":\"#E5ECF6\",\"subunitcolor\":\"white\",\"showland\":true,\"showlakes\":true,\"lakecolor\":\"white\"},\"title\":{\"x\":0.05},\"mapbox\":{\"style\":\"light\"}}}},                        {\"responsive\": true}                    ).then(function(){\n",
              "                            \n",
              "var gd = document.getElementById('2bc33cff-07cb-41e5-863d-7a1348b47eca');\n",
              "var x = new MutationObserver(function (mutations, observer) {{\n",
              "        var display = window.getComputedStyle(gd).display;\n",
              "        if (!display || display === 'none') {{\n",
              "            console.log([gd, 'removed!']);\n",
              "            Plotly.purge(gd);\n",
              "            observer.disconnect();\n",
              "        }}\n",
              "}});\n",
              "\n",
              "// Listen for the removal of the full notebook cells\n",
              "var notebookContainer = gd.closest('#notebook-container');\n",
              "if (notebookContainer) {{\n",
              "    x.observe(notebookContainer, {childList: true});\n",
              "}}\n",
              "\n",
              "// Listen for the clearing of the current output cell\n",
              "var outputEl = gd.closest('.output');\n",
              "if (outputEl) {{\n",
              "    x.observe(outputEl, {childList: true});\n",
              "}}\n",
              "\n",
              "                        })                };                            </script>        </div>\n",
              "</body>\n",
              "</html>"
            ]
          },
          "metadata": {}
        }
      ]
    },
    {
      "cell_type": "markdown",
      "source": [
        "# Use optimized parameters"
      ],
      "metadata": {
        "id": "o87b4Lzt1QtD"
      }
    },
    {
      "cell_type": "code",
      "source": [
        "import torch\n",
        "import torch.nn as nn\n",
        "import torch.optim as optim\n",
        "import optuna\n",
        "from optuna.visualization import plot_optimization_history, plot_param_importances, plot_parallel_coordinate\n",
        "from rdkit import Chem\n",
        "from rdkit.Chem import AllChem\n",
        "import pandas as pd\n",
        "import numpy as np\n",
        "from torch_geometric.data import Data, DataLoader\n",
        "from torch_geometric.nn import GCNConv, global_mean_pool, global_max_pool\n",
        "from torch_geometric.utils import from_smiles, to_smiles\n",
        "\n",
        "# Function to convert SMILES to graph data\n",
        "def smiles_to_graph(smiles):\n",
        "    mol = Chem.MolFromSmiles(smiles)\n",
        "    if mol is None:\n",
        "        return None\n",
        "    atom_features = []\n",
        "    for atom in mol.GetAtoms():\n",
        "        atom_features.append([atom.GetAtomicNum()])\n",
        "    edge_index = []\n",
        "    for bond in mol.GetBonds():\n",
        "        i = bond.GetBeginAtomIdx()\n",
        "        j = bond.GetEndAtomIdx()\n",
        "        edge_index.append([i, j])\n",
        "        edge_index.append([j, i])\n",
        "    edge_index = torch.tensor(edge_index, dtype=torch.long).t().contiguous()\n",
        "    x = torch.tensor(atom_features, dtype=torch.float)\n",
        "    data = Data(x=x, edge_index=edge_index)\n",
        "    return data\n",
        "\n",
        "ifile = '/content/drive/My Drive/machine-learning/Data/fluoroether.csv'\n",
        "\n",
        "# Load your CSV file\n",
        "df = pd.read_csv(ifile)\n",
        "smiles_list = df[\"SMILES\"]\n",
        "\n",
        "graph_data = [smiles_to_graph(smiles) for smiles in smiles_list]\n",
        "graph_data = [data for data in graph_data if data is not None]\n",
        "\n",
        "class GraphVAE(nn.Module):\n",
        "    def __init__(self, node_feature_dim, hidden_dim, latent_dim, num_hidden_layers):\n",
        "        super(GraphVAE, self).__init__()\n",
        "        self.encoder_convs = nn.ModuleList([GCNConv(node_feature_dim if i == 0 else hidden_dim, hidden_dim) for i in range(num_hidden_layers)])\n",
        "        self.fc_mu = nn.Linear(hidden_dim * 2, latent_dim)\n",
        "        self.fc_logvar = nn.Linear(hidden_dim * 2, latent_dim)\n",
        "        self.decoder_fc1 = nn.Linear(latent_dim, hidden_dim)\n",
        "        self.decoder_conv1 = GCNConv(hidden_dim, hidden_dim)\n",
        "        self.decoder_conv2 = GCNConv(hidden_dim, node_feature_dim)\n",
        "\n",
        "    def encode(self, x, edge_index):\n",
        "        h = x\n",
        "        for conv in self.encoder_convs:\n",
        "            h = conv(h, edge_index)\n",
        "            h = torch.relu(h)\n",
        "        h_mean = global_mean_pool(h, torch.zeros(h.size(0), dtype=torch.long).to(h.device))\n",
        "        h_max = global_max_pool(h, torch.zeros(h.size(0), dtype=torch.long).to(h.device))\n",
        "        h_combined = torch.cat([h_mean, h_max], dim=1)\n",
        "        return self.fc_mu(h_combined), self.fc_logvar(h_combined)\n",
        "\n",
        "    def reparameterize(self, mu, logvar):\n",
        "        std = torch.exp(logvar * 0.5)\n",
        "        eps = torch.randn_like(std)\n",
        "        return mu + eps * std\n",
        "\n",
        "    def decode(self, z, num_nodes):\n",
        "        h = self.decoder_fc1(z)\n",
        "        h = torch.relu(h)\n",
        "        h = h.unsqueeze(1).repeat(1, num_nodes, 1).view(-1, h.size(-1))\n",
        "        return h\n",
        "\n",
        "    def forward(self, x, edge_index):\n",
        "        mu, logvar = self.encode(x, edge_index)\n",
        "        z = self.reparameterize(mu, logvar)\n",
        "        num_nodes = x.size(0)\n",
        "        return self.decode(z, num_nodes), mu, logvar\n",
        "\n",
        "def train_graphvae(model, data_loader, epochs, learning_rate):\n",
        "    optimizer = optim.Adam(model.parameters(), lr=learning_rate)\n",
        "    criterion = nn.MSELoss()\n",
        "    model.train()\n",
        "\n",
        "    for epoch in range(epochs):\n",
        "        epoch_loss = 0.0\n",
        "        for data in data_loader:\n",
        "            data = data.to(device)\n",
        "            optimizer.zero_grad()\n",
        "            x_recon, mu, logvar = model(data.x, data.edge_index)\n",
        "\n",
        "            recon_loss = criterion(x_recon, data.x)\n",
        "            kl_divergence = -0.5 * torch.sum(1 + logvar - mu.pow(2) - logvar.exp())\n",
        "            loss = recon_loss + kl_divergence\n",
        "            loss.backward()\n",
        "            optimizer.step()\n",
        "\n",
        "            epoch_loss += loss.item()\n",
        "\n",
        "        avg_loss = epoch_loss / len(data_loader)\n",
        "        if ((epoch+1) % 10 == 0 ) or (epoch==0):\n",
        "            print(f\"Epoch {epoch + 1}, Loss: {avg_loss}\")\n",
        "       # print(f\"Epoch {epoch + 1}, Loss: {avg_loss}\")\n",
        "\n",
        "    return avg_loss\n",
        "\n",
        "\n",
        "learning_rate =  0.008\n",
        "\n",
        "hidden_dim = 64\n",
        "latent_dim = 128\n",
        "batch_size = 16\n",
        "max_epochs = 2000\n",
        "num_hidden_layers = 5\n",
        "    # Create the model and data loader\n",
        "graphvae = GraphVAE(node_feature_dim=1, hidden_dim=hidden_dim, latent_dim=latent_dim, num_hidden_layers=num_hidden_layers).to(device)\n",
        "data_loader = DataLoader(graph_data, batch_size=batch_size, shuffle=True)\n",
        "\n",
        "    # Train the model\n",
        "avg_loss = train_graphvae(graphvae, data_loader, epochs=max_epochs, learning_rate=learning_rate)\n",
        "\n",
        "# Save the trained model\n",
        "torch.save(graphvae.state_dict(), '/content/drive/My Drive/machine-learning/generative/GraphVAE/best_graphvae_model.pth')"
      ],
      "metadata": {
        "colab": {
          "base_uri": "https://localhost:8080/"
        },
        "id": "mN5ij2zwmHQU",
        "outputId": "798af466-b277-42bd-e498-0d40ace19d51"
      },
      "execution_count": null,
      "outputs": [
        {
          "output_type": "stream",
          "name": "stderr",
          "text": [
            "/usr/local/lib/python3.10/dist-packages/torch_geometric/deprecation.py:26: UserWarning:\n",
            "\n",
            "'data.DataLoader' is deprecated, use 'loader.DataLoader' instead\n",
            "\n",
            "/usr/local/lib/python3.10/dist-packages/torch_geometric/warnings.py:11: UserWarning:\n",
            "\n",
            "The usage of `scatter(reduce='max')` can be accelerated via the 'torch-scatter' package, but it was not found\n",
            "\n",
            "/usr/local/lib/python3.10/dist-packages/torch/nn/modules/loss.py:535: UserWarning:\n",
            "\n",
            "Using a target size (torch.Size([212, 1])) that is different to the input size (torch.Size([212, 64])). This will likely lead to incorrect results due to broadcasting. Please ensure they have the same size.\n",
            "\n",
            "/usr/local/lib/python3.10/dist-packages/torch/nn/modules/loss.py:535: UserWarning:\n",
            "\n",
            "Using a target size (torch.Size([219, 1])) that is different to the input size (torch.Size([219, 64])). This will likely lead to incorrect results due to broadcasting. Please ensure they have the same size.\n",
            "\n",
            "/usr/local/lib/python3.10/dist-packages/torch/nn/modules/loss.py:535: UserWarning:\n",
            "\n",
            "Using a target size (torch.Size([46, 1])) that is different to the input size (torch.Size([46, 64])). This will likely lead to incorrect results due to broadcasting. Please ensure they have the same size.\n",
            "\n",
            "/usr/local/lib/python3.10/dist-packages/torch/nn/modules/loss.py:535: UserWarning:\n",
            "\n",
            "Using a target size (torch.Size([231, 1])) that is different to the input size (torch.Size([231, 64])). This will likely lead to incorrect results due to broadcasting. Please ensure they have the same size.\n",
            "\n",
            "/usr/local/lib/python3.10/dist-packages/torch/nn/modules/loss.py:535: UserWarning:\n",
            "\n",
            "Using a target size (torch.Size([225, 1])) that is different to the input size (torch.Size([225, 64])). This will likely lead to incorrect results due to broadcasting. Please ensure they have the same size.\n",
            "\n",
            "/usr/local/lib/python3.10/dist-packages/torch/nn/modules/loss.py:535: UserWarning:\n",
            "\n",
            "Using a target size (torch.Size([21, 1])) that is different to the input size (torch.Size([21, 64])). This will likely lead to incorrect results due to broadcasting. Please ensure they have the same size.\n",
            "\n",
            "/usr/local/lib/python3.10/dist-packages/torch/nn/modules/loss.py:535: UserWarning:\n",
            "\n",
            "Using a target size (torch.Size([244, 1])) that is different to the input size (torch.Size([244, 64])). This will likely lead to incorrect results due to broadcasting. Please ensure they have the same size.\n",
            "\n",
            "/usr/local/lib/python3.10/dist-packages/torch/nn/modules/loss.py:535: UserWarning:\n",
            "\n",
            "Using a target size (torch.Size([206, 1])) that is different to the input size (torch.Size([206, 64])). This will likely lead to incorrect results due to broadcasting. Please ensure they have the same size.\n",
            "\n",
            "/usr/local/lib/python3.10/dist-packages/torch/nn/modules/loss.py:535: UserWarning:\n",
            "\n",
            "Using a target size (torch.Size([233, 1])) that is different to the input size (torch.Size([233, 64])). This will likely lead to incorrect results due to broadcasting. Please ensure they have the same size.\n",
            "\n",
            "/usr/local/lib/python3.10/dist-packages/torch/nn/modules/loss.py:535: UserWarning:\n",
            "\n",
            "Using a target size (torch.Size([38, 1])) that is different to the input size (torch.Size([38, 64])). This will likely lead to incorrect results due to broadcasting. Please ensure they have the same size.\n",
            "\n",
            "/usr/local/lib/python3.10/dist-packages/torch/nn/modules/loss.py:535: UserWarning:\n",
            "\n",
            "Using a target size (torch.Size([237, 1])) that is different to the input size (torch.Size([237, 64])). This will likely lead to incorrect results due to broadcasting. Please ensure they have the same size.\n",
            "\n",
            "/usr/local/lib/python3.10/dist-packages/torch/nn/modules/loss.py:535: UserWarning:\n",
            "\n",
            "Using a target size (torch.Size([218, 1])) that is different to the input size (torch.Size([218, 64])). This will likely lead to incorrect results due to broadcasting. Please ensure they have the same size.\n",
            "\n",
            "/usr/local/lib/python3.10/dist-packages/torch/nn/modules/loss.py:535: UserWarning:\n",
            "\n",
            "Using a target size (torch.Size([22, 1])) that is different to the input size (torch.Size([22, 64])). This will likely lead to incorrect results due to broadcasting. Please ensure they have the same size.\n",
            "\n",
            "/usr/local/lib/python3.10/dist-packages/torch/nn/modules/loss.py:535: UserWarning:\n",
            "\n",
            "Using a target size (torch.Size([238, 1])) that is different to the input size (torch.Size([238, 64])). This will likely lead to incorrect results due to broadcasting. Please ensure they have the same size.\n",
            "\n",
            "/usr/local/lib/python3.10/dist-packages/torch/nn/modules/loss.py:535: UserWarning:\n",
            "\n",
            "Using a target size (torch.Size([215, 1])) that is different to the input size (torch.Size([215, 64])). This will likely lead to incorrect results due to broadcasting. Please ensure they have the same size.\n",
            "\n",
            "/usr/local/lib/python3.10/dist-packages/torch/nn/modules/loss.py:535: UserWarning:\n",
            "\n",
            "Using a target size (torch.Size([24, 1])) that is different to the input size (torch.Size([24, 64])). This will likely lead to incorrect results due to broadcasting. Please ensure they have the same size.\n",
            "\n",
            "/usr/local/lib/python3.10/dist-packages/torch/nn/modules/loss.py:535: UserWarning:\n",
            "\n",
            "Using a target size (torch.Size([228, 1])) that is different to the input size (torch.Size([228, 64])). This will likely lead to incorrect results due to broadcasting. Please ensure they have the same size.\n",
            "\n",
            "/usr/local/lib/python3.10/dist-packages/torch/nn/modules/loss.py:535: UserWarning:\n",
            "\n",
            "Using a target size (torch.Size([221, 1])) that is different to the input size (torch.Size([221, 64])). This will likely lead to incorrect results due to broadcasting. Please ensure they have the same size.\n",
            "\n",
            "/usr/local/lib/python3.10/dist-packages/torch/nn/modules/loss.py:535: UserWarning:\n",
            "\n",
            "Using a target size (torch.Size([28, 1])) that is different to the input size (torch.Size([28, 64])). This will likely lead to incorrect results due to broadcasting. Please ensure they have the same size.\n",
            "\n",
            "/usr/local/lib/python3.10/dist-packages/torch/nn/modules/loss.py:535: UserWarning:\n",
            "\n",
            "Using a target size (torch.Size([207, 1])) that is different to the input size (torch.Size([207, 64])). This will likely lead to incorrect results due to broadcasting. Please ensure they have the same size.\n",
            "\n"
          ]
        },
        {
          "output_type": "stream",
          "name": "stdout",
          "text": [
            "Epoch 1, Loss: 58.399725596110024\n"
          ]
        },
        {
          "output_type": "stream",
          "name": "stderr",
          "text": [
            "/usr/local/lib/python3.10/dist-packages/torch/nn/modules/loss.py:535: UserWarning:\n",
            "\n",
            "Using a target size (torch.Size([26, 1])) that is different to the input size (torch.Size([26, 64])). This will likely lead to incorrect results due to broadcasting. Please ensure they have the same size.\n",
            "\n",
            "/usr/local/lib/python3.10/dist-packages/torch/nn/modules/loss.py:535: UserWarning:\n",
            "\n",
            "Using a target size (torch.Size([243, 1])) that is different to the input size (torch.Size([243, 64])). This will likely lead to incorrect results due to broadcasting. Please ensure they have the same size.\n",
            "\n",
            "/usr/local/lib/python3.10/dist-packages/torch/nn/modules/loss.py:535: UserWarning:\n",
            "\n",
            "Using a target size (torch.Size([205, 1])) that is different to the input size (torch.Size([205, 64])). This will likely lead to incorrect results due to broadcasting. Please ensure they have the same size.\n",
            "\n",
            "/usr/local/lib/python3.10/dist-packages/torch/nn/modules/loss.py:535: UserWarning:\n",
            "\n",
            "Using a target size (torch.Size([29, 1])) that is different to the input size (torch.Size([29, 64])). This will likely lead to incorrect results due to broadcasting. Please ensure they have the same size.\n",
            "\n",
            "/usr/local/lib/python3.10/dist-packages/torch/nn/modules/loss.py:535: UserWarning:\n",
            "\n",
            "Using a target size (torch.Size([216, 1])) that is different to the input size (torch.Size([216, 64])). This will likely lead to incorrect results due to broadcasting. Please ensure they have the same size.\n",
            "\n",
            "/usr/local/lib/python3.10/dist-packages/torch/nn/modules/loss.py:535: UserWarning:\n",
            "\n",
            "Using a target size (torch.Size([241, 1])) that is different to the input size (torch.Size([241, 64])). This will likely lead to incorrect results due to broadcasting. Please ensure they have the same size.\n",
            "\n",
            "/usr/local/lib/python3.10/dist-packages/torch/nn/modules/loss.py:535: UserWarning:\n",
            "\n",
            "Using a target size (torch.Size([20, 1])) that is different to the input size (torch.Size([20, 64])). This will likely lead to incorrect results due to broadcasting. Please ensure they have the same size.\n",
            "\n",
            "/usr/local/lib/python3.10/dist-packages/torch/nn/modules/loss.py:535: UserWarning:\n",
            "\n",
            "Using a target size (torch.Size([222, 1])) that is different to the input size (torch.Size([222, 64])). This will likely lead to incorrect results due to broadcasting. Please ensure they have the same size.\n",
            "\n",
            "/usr/local/lib/python3.10/dist-packages/torch/nn/modules/loss.py:535: UserWarning:\n",
            "\n",
            "Using a target size (torch.Size([234, 1])) that is different to the input size (torch.Size([234, 64])). This will likely lead to incorrect results due to broadcasting. Please ensure they have the same size.\n",
            "\n",
            "/usr/local/lib/python3.10/dist-packages/torch/nn/modules/loss.py:535: UserWarning:\n",
            "\n",
            "Using a target size (torch.Size([18, 1])) that is different to the input size (torch.Size([18, 64])). This will likely lead to incorrect results due to broadcasting. Please ensure they have the same size.\n",
            "\n",
            "/usr/local/lib/python3.10/dist-packages/torch/nn/modules/loss.py:535: UserWarning:\n",
            "\n",
            "Using a target size (torch.Size([251, 1])) that is different to the input size (torch.Size([251, 64])). This will likely lead to incorrect results due to broadcasting. Please ensure they have the same size.\n",
            "\n"
          ]
        },
        {
          "output_type": "stream",
          "name": "stdout",
          "text": [
            "Epoch 10, Loss: 38.78242619832357\n"
          ]
        },
        {
          "output_type": "stream",
          "name": "stderr",
          "text": [
            "/usr/local/lib/python3.10/dist-packages/torch/nn/modules/loss.py:535: UserWarning:\n",
            "\n",
            "Using a target size (torch.Size([239, 1])) that is different to the input size (torch.Size([239, 64])). This will likely lead to incorrect results due to broadcasting. Please ensure they have the same size.\n",
            "\n",
            "/usr/local/lib/python3.10/dist-packages/torch/nn/modules/loss.py:535: UserWarning:\n",
            "\n",
            "Using a target size (torch.Size([211, 1])) that is different to the input size (torch.Size([211, 64])). This will likely lead to incorrect results due to broadcasting. Please ensure they have the same size.\n",
            "\n",
            "/usr/local/lib/python3.10/dist-packages/torch/nn/modules/loss.py:535: UserWarning:\n",
            "\n",
            "Using a target size (torch.Size([27, 1])) that is different to the input size (torch.Size([27, 64])). This will likely lead to incorrect results due to broadcasting. Please ensure they have the same size.\n",
            "\n",
            "/usr/local/lib/python3.10/dist-packages/torch/nn/modules/loss.py:535: UserWarning:\n",
            "\n",
            "Using a target size (torch.Size([31, 1])) that is different to the input size (torch.Size([31, 64])). This will likely lead to incorrect results due to broadcasting. Please ensure they have the same size.\n",
            "\n",
            "/usr/local/lib/python3.10/dist-packages/torch/nn/modules/loss.py:535: UserWarning:\n",
            "\n",
            "Using a target size (torch.Size([19, 1])) that is different to the input size (torch.Size([19, 64])). This will likely lead to incorrect results due to broadcasting. Please ensure they have the same size.\n",
            "\n",
            "/usr/local/lib/python3.10/dist-packages/torch/nn/modules/loss.py:535: UserWarning:\n",
            "\n",
            "Using a target size (torch.Size([240, 1])) that is different to the input size (torch.Size([240, 64])). This will likely lead to incorrect results due to broadcasting. Please ensure they have the same size.\n",
            "\n",
            "/usr/local/lib/python3.10/dist-packages/torch/nn/modules/loss.py:535: UserWarning:\n",
            "\n",
            "Using a target size (torch.Size([30, 1])) that is different to the input size (torch.Size([30, 64])). This will likely lead to incorrect results due to broadcasting. Please ensure they have the same size.\n",
            "\n",
            "/usr/local/lib/python3.10/dist-packages/torch/nn/modules/loss.py:535: UserWarning:\n",
            "\n",
            "Using a target size (torch.Size([201, 1])) that is different to the input size (torch.Size([201, 64])). This will likely lead to incorrect results due to broadcasting. Please ensure they have the same size.\n",
            "\n",
            "/usr/local/lib/python3.10/dist-packages/torch/nn/modules/loss.py:535: UserWarning:\n",
            "\n",
            "Using a target size (torch.Size([42, 1])) that is different to the input size (torch.Size([42, 64])). This will likely lead to incorrect results due to broadcasting. Please ensure they have the same size.\n",
            "\n",
            "/usr/local/lib/python3.10/dist-packages/torch/nn/modules/loss.py:535: UserWarning:\n",
            "\n",
            "Using a target size (torch.Size([217, 1])) that is different to the input size (torch.Size([217, 64])). This will likely lead to incorrect results due to broadcasting. Please ensure they have the same size.\n",
            "\n",
            "/usr/local/lib/python3.10/dist-packages/torch/nn/modules/loss.py:535: UserWarning:\n",
            "\n",
            "Using a target size (torch.Size([200, 1])) that is different to the input size (torch.Size([200, 64])). This will likely lead to incorrect results due to broadcasting. Please ensure they have the same size.\n",
            "\n",
            "/usr/local/lib/python3.10/dist-packages/torch/nn/modules/loss.py:535: UserWarning:\n",
            "\n",
            "Using a target size (torch.Size([257, 1])) that is different to the input size (torch.Size([257, 64])). This will likely lead to incorrect results due to broadcasting. Please ensure they have the same size.\n",
            "\n"
          ]
        },
        {
          "output_type": "stream",
          "name": "stdout",
          "text": [
            "Epoch 20, Loss: 15.579812367757162\n"
          ]
        },
        {
          "output_type": "stream",
          "name": "stderr",
          "text": [
            "/usr/local/lib/python3.10/dist-packages/torch/nn/modules/loss.py:535: UserWarning:\n",
            "\n",
            "Using a target size (torch.Size([23, 1])) that is different to the input size (torch.Size([23, 64])). This will likely lead to incorrect results due to broadcasting. Please ensure they have the same size.\n",
            "\n",
            "/usr/local/lib/python3.10/dist-packages/torch/nn/modules/loss.py:535: UserWarning:\n",
            "\n",
            "Using a target size (torch.Size([236, 1])) that is different to the input size (torch.Size([236, 64])). This will likely lead to incorrect results due to broadcasting. Please ensure they have the same size.\n",
            "\n",
            "/usr/local/lib/python3.10/dist-packages/torch/nn/modules/loss.py:535: UserWarning:\n",
            "\n",
            "Using a target size (torch.Size([220, 1])) that is different to the input size (torch.Size([220, 64])). This will likely lead to incorrect results due to broadcasting. Please ensure they have the same size.\n",
            "\n",
            "/usr/local/lib/python3.10/dist-packages/torch/nn/modules/loss.py:535: UserWarning:\n",
            "\n",
            "Using a target size (torch.Size([209, 1])) that is different to the input size (torch.Size([209, 64])). This will likely lead to incorrect results due to broadcasting. Please ensure they have the same size.\n",
            "\n",
            "/usr/local/lib/python3.10/dist-packages/torch/nn/modules/loss.py:535: UserWarning:\n",
            "\n",
            "Using a target size (torch.Size([235, 1])) that is different to the input size (torch.Size([235, 64])). This will likely lead to incorrect results due to broadcasting. Please ensure they have the same size.\n",
            "\n",
            "/usr/local/lib/python3.10/dist-packages/torch/nn/modules/loss.py:535: UserWarning:\n",
            "\n",
            "Using a target size (torch.Size([33, 1])) that is different to the input size (torch.Size([33, 64])). This will likely lead to incorrect results due to broadcasting. Please ensure they have the same size.\n",
            "\n",
            "/usr/local/lib/python3.10/dist-packages/torch/nn/modules/loss.py:535: UserWarning:\n",
            "\n",
            "Using a target size (torch.Size([51, 1])) that is different to the input size (torch.Size([51, 64])). This will likely lead to incorrect results due to broadcasting. Please ensure they have the same size.\n",
            "\n",
            "/usr/local/lib/python3.10/dist-packages/torch/nn/modules/loss.py:535: UserWarning:\n",
            "\n",
            "Using a target size (torch.Size([265, 1])) that is different to the input size (torch.Size([265, 64])). This will likely lead to incorrect results due to broadcasting. Please ensure they have the same size.\n",
            "\n",
            "/usr/local/lib/python3.10/dist-packages/torch/nn/modules/loss.py:535: UserWarning:\n",
            "\n",
            "Using a target size (torch.Size([190, 1])) that is different to the input size (torch.Size([190, 64])). This will likely lead to incorrect results due to broadcasting. Please ensure they have the same size.\n",
            "\n",
            "/usr/local/lib/python3.10/dist-packages/torch/nn/modules/loss.py:535: UserWarning:\n",
            "\n",
            "Using a target size (torch.Size([32, 1])) that is different to the input size (torch.Size([32, 64])). This will likely lead to incorrect results due to broadcasting. Please ensure they have the same size.\n",
            "\n",
            "/usr/local/lib/python3.10/dist-packages/torch/nn/modules/loss.py:535: UserWarning:\n",
            "\n",
            "Using a target size (torch.Size([204, 1])) that is different to the input size (torch.Size([204, 64])). This will likely lead to incorrect results due to broadcasting. Please ensure they have the same size.\n",
            "\n"
          ]
        },
        {
          "output_type": "stream",
          "name": "stdout",
          "text": [
            "Epoch 30, Loss: 22.607585906982422\n"
          ]
        },
        {
          "output_type": "stream",
          "name": "stderr",
          "text": [
            "/usr/local/lib/python3.10/dist-packages/torch/nn/modules/loss.py:535: UserWarning:\n",
            "\n",
            "Using a target size (torch.Size([37, 1])) that is different to the input size (torch.Size([37, 64])). This will likely lead to incorrect results due to broadcasting. Please ensure they have the same size.\n",
            "\n",
            "/usr/local/lib/python3.10/dist-packages/torch/nn/modules/loss.py:535: UserWarning:\n",
            "\n",
            "Using a target size (torch.Size([245, 1])) that is different to the input size (torch.Size([245, 64])). This will likely lead to incorrect results due to broadcasting. Please ensure they have the same size.\n",
            "\n",
            "/usr/local/lib/python3.10/dist-packages/torch/nn/modules/loss.py:535: UserWarning:\n",
            "\n",
            "Using a target size (torch.Size([214, 1])) that is different to the input size (torch.Size([214, 64])). This will likely lead to incorrect results due to broadcasting. Please ensure they have the same size.\n",
            "\n",
            "/usr/local/lib/python3.10/dist-packages/torch/nn/modules/loss.py:535: UserWarning:\n",
            "\n",
            "Using a target size (torch.Size([261, 1])) that is different to the input size (torch.Size([261, 64])). This will likely lead to incorrect results due to broadcasting. Please ensure they have the same size.\n",
            "\n",
            "/usr/local/lib/python3.10/dist-packages/torch/nn/modules/loss.py:535: UserWarning:\n",
            "\n",
            "Using a target size (torch.Size([196, 1])) that is different to the input size (torch.Size([196, 64])). This will likely lead to incorrect results due to broadcasting. Please ensure they have the same size.\n",
            "\n",
            "/usr/local/lib/python3.10/dist-packages/torch/nn/modules/loss.py:535: UserWarning:\n",
            "\n",
            "Using a target size (torch.Size([34, 1])) that is different to the input size (torch.Size([34, 64])). This will likely lead to incorrect results due to broadcasting. Please ensure they have the same size.\n",
            "\n"
          ]
        },
        {
          "output_type": "stream",
          "name": "stdout",
          "text": [
            "Epoch 40, Loss: 13.880255063374838\n"
          ]
        },
        {
          "output_type": "stream",
          "name": "stderr",
          "text": [
            "/usr/local/lib/python3.10/dist-packages/torch/nn/modules/loss.py:535: UserWarning:\n",
            "\n",
            "Using a target size (torch.Size([227, 1])) that is different to the input size (torch.Size([227, 64])). This will likely lead to incorrect results due to broadcasting. Please ensure they have the same size.\n",
            "\n",
            "/usr/local/lib/python3.10/dist-packages/torch/nn/modules/loss.py:535: UserWarning:\n",
            "\n",
            "Using a target size (torch.Size([25, 1])) that is different to the input size (torch.Size([25, 64])). This will likely lead to incorrect results due to broadcasting. Please ensure they have the same size.\n",
            "\n",
            "/usr/local/lib/python3.10/dist-packages/torch/nn/modules/loss.py:535: UserWarning:\n",
            "\n",
            "Using a target size (torch.Size([242, 1])) that is different to the input size (torch.Size([242, 64])). This will likely lead to incorrect results due to broadcasting. Please ensure they have the same size.\n",
            "\n",
            "/usr/local/lib/python3.10/dist-packages/torch/nn/modules/loss.py:535: UserWarning:\n",
            "\n",
            "Using a target size (torch.Size([213, 1])) that is different to the input size (torch.Size([213, 64])). This will likely lead to incorrect results due to broadcasting. Please ensure they have the same size.\n",
            "\n",
            "/usr/local/lib/python3.10/dist-packages/torch/nn/modules/loss.py:535: UserWarning:\n",
            "\n",
            "Using a target size (torch.Size([230, 1])) that is different to the input size (torch.Size([230, 64])). This will likely lead to incorrect results due to broadcasting. Please ensure they have the same size.\n",
            "\n",
            "/usr/local/lib/python3.10/dist-packages/torch/nn/modules/loss.py:535: UserWarning:\n",
            "\n",
            "Using a target size (torch.Size([223, 1])) that is different to the input size (torch.Size([223, 64])). This will likely lead to incorrect results due to broadcasting. Please ensure they have the same size.\n",
            "\n",
            "/usr/local/lib/python3.10/dist-packages/torch/nn/modules/loss.py:535: UserWarning:\n",
            "\n",
            "Using a target size (torch.Size([35, 1])) that is different to the input size (torch.Size([35, 64])). This will likely lead to incorrect results due to broadcasting. Please ensure they have the same size.\n",
            "\n",
            "/usr/local/lib/python3.10/dist-packages/torch/nn/modules/loss.py:535: UserWarning:\n",
            "\n",
            "Using a target size (torch.Size([208, 1])) that is different to the input size (torch.Size([208, 64])). This will likely lead to incorrect results due to broadcasting. Please ensure they have the same size.\n",
            "\n",
            "/usr/local/lib/python3.10/dist-packages/torch/nn/modules/loss.py:535: UserWarning:\n",
            "\n",
            "Using a target size (torch.Size([247, 1])) that is different to the input size (torch.Size([247, 64])). This will likely lead to incorrect results due to broadcasting. Please ensure they have the same size.\n",
            "\n"
          ]
        },
        {
          "output_type": "stream",
          "name": "stdout",
          "text": [
            "Epoch 50, Loss: 10.9449462890625\n"
          ]
        },
        {
          "output_type": "stream",
          "name": "stderr",
          "text": [
            "/usr/local/lib/python3.10/dist-packages/torch/nn/modules/loss.py:535: UserWarning:\n",
            "\n",
            "Using a target size (torch.Size([197, 1])) that is different to the input size (torch.Size([197, 64])). This will likely lead to incorrect results due to broadcasting. Please ensure they have the same size.\n",
            "\n",
            "/usr/local/lib/python3.10/dist-packages/torch/nn/modules/loss.py:535: UserWarning:\n",
            "\n",
            "Using a target size (torch.Size([252, 1])) that is different to the input size (torch.Size([252, 64])). This will likely lead to incorrect results due to broadcasting. Please ensure they have the same size.\n",
            "\n",
            "/usr/local/lib/python3.10/dist-packages/torch/nn/modules/loss.py:535: UserWarning:\n",
            "\n",
            "Using a target size (torch.Size([229, 1])) that is different to the input size (torch.Size([229, 64])). This will likely lead to incorrect results due to broadcasting. Please ensure they have the same size.\n",
            "\n",
            "/usr/local/lib/python3.10/dist-packages/torch/nn/modules/loss.py:535: UserWarning:\n",
            "\n",
            "Using a target size (torch.Size([224, 1])) that is different to the input size (torch.Size([224, 64])). This will likely lead to incorrect results due to broadcasting. Please ensure they have the same size.\n",
            "\n",
            "/usr/local/lib/python3.10/dist-packages/torch/nn/modules/loss.py:535: UserWarning:\n",
            "\n",
            "Using a target size (torch.Size([16, 1])) that is different to the input size (torch.Size([16, 64])). This will likely lead to incorrect results due to broadcasting. Please ensure they have the same size.\n",
            "\n",
            "/usr/local/lib/python3.10/dist-packages/torch/nn/modules/loss.py:535: UserWarning:\n",
            "\n",
            "Using a target size (torch.Size([44, 1])) that is different to the input size (torch.Size([44, 64])). This will likely lead to incorrect results due to broadcasting. Please ensure they have the same size.\n",
            "\n",
            "/usr/local/lib/python3.10/dist-packages/torch/nn/modules/loss.py:535: UserWarning:\n",
            "\n",
            "Using a target size (torch.Size([246, 1])) that is different to the input size (torch.Size([246, 64])). This will likely lead to incorrect results due to broadcasting. Please ensure they have the same size.\n",
            "\n",
            "/usr/local/lib/python3.10/dist-packages/torch/nn/modules/loss.py:535: UserWarning:\n",
            "\n",
            "Using a target size (torch.Size([250, 1])) that is different to the input size (torch.Size([250, 64])). This will likely lead to incorrect results due to broadcasting. Please ensure they have the same size.\n",
            "\n"
          ]
        },
        {
          "output_type": "stream",
          "name": "stdout",
          "text": [
            "Epoch 60, Loss: 10.09905513127645\n",
            "Epoch 70, Loss: 14.235661506652832\n"
          ]
        },
        {
          "output_type": "stream",
          "name": "stderr",
          "text": [
            "/usr/local/lib/python3.10/dist-packages/torch/nn/modules/loss.py:535: UserWarning:\n",
            "\n",
            "Using a target size (torch.Size([39, 1])) that is different to the input size (torch.Size([39, 64])). This will likely lead to incorrect results due to broadcasting. Please ensure they have the same size.\n",
            "\n",
            "/usr/local/lib/python3.10/dist-packages/torch/nn/modules/loss.py:535: UserWarning:\n",
            "\n",
            "Using a target size (torch.Size([226, 1])) that is different to the input size (torch.Size([226, 64])). This will likely lead to incorrect results due to broadcasting. Please ensure they have the same size.\n",
            "\n",
            "/usr/local/lib/python3.10/dist-packages/torch/nn/modules/loss.py:535: UserWarning:\n",
            "\n",
            "Using a target size (torch.Size([41, 1])) that is different to the input size (torch.Size([41, 64])). This will likely lead to incorrect results due to broadcasting. Please ensure they have the same size.\n",
            "\n",
            "/usr/local/lib/python3.10/dist-packages/torch/nn/modules/loss.py:535: UserWarning:\n",
            "\n",
            "Using a target size (torch.Size([203, 1])) that is different to the input size (torch.Size([203, 64])). This will likely lead to incorrect results due to broadcasting. Please ensure they have the same size.\n",
            "\n",
            "/usr/local/lib/python3.10/dist-packages/torch/nn/modules/loss.py:535: UserWarning:\n",
            "\n",
            "Using a target size (torch.Size([232, 1])) that is different to the input size (torch.Size([232, 64])). This will likely lead to incorrect results due to broadcasting. Please ensure they have the same size.\n",
            "\n",
            "/usr/local/lib/python3.10/dist-packages/torch/nn/modules/loss.py:535: UserWarning:\n",
            "\n",
            "Using a target size (torch.Size([17, 1])) that is different to the input size (torch.Size([17, 64])). This will likely lead to incorrect results due to broadcasting. Please ensure they have the same size.\n",
            "\n"
          ]
        },
        {
          "output_type": "stream",
          "name": "stdout",
          "text": [
            "Epoch 80, Loss: 8.70289675394694\n",
            "Epoch 90, Loss: 10.08708143234253\n"
          ]
        },
        {
          "output_type": "stream",
          "name": "stderr",
          "text": [
            "/usr/local/lib/python3.10/dist-packages/torch/nn/modules/loss.py:535: UserWarning:\n",
            "\n",
            "Using a target size (torch.Size([40, 1])) that is different to the input size (torch.Size([40, 64])). This will likely lead to incorrect results due to broadcasting. Please ensure they have the same size.\n",
            "\n",
            "/usr/local/lib/python3.10/dist-packages/torch/nn/modules/loss.py:535: UserWarning:\n",
            "\n",
            "Using a target size (torch.Size([262, 1])) that is different to the input size (torch.Size([262, 64])). This will likely lead to incorrect results due to broadcasting. Please ensure they have the same size.\n",
            "\n"
          ]
        },
        {
          "output_type": "stream",
          "name": "stdout",
          "text": [
            "Epoch 100, Loss: 10.77868382136027\n"
          ]
        },
        {
          "output_type": "stream",
          "name": "stderr",
          "text": [
            "/usr/local/lib/python3.10/dist-packages/torch/nn/modules/loss.py:535: UserWarning:\n",
            "\n",
            "Using a target size (torch.Size([202, 1])) that is different to the input size (torch.Size([202, 64])). This will likely lead to incorrect results due to broadcasting. Please ensure they have the same size.\n",
            "\n",
            "/usr/local/lib/python3.10/dist-packages/torch/nn/modules/loss.py:535: UserWarning:\n",
            "\n",
            "Using a target size (torch.Size([199, 1])) that is different to the input size (torch.Size([199, 64])). This will likely lead to incorrect results due to broadcasting. Please ensure they have the same size.\n",
            "\n",
            "/usr/local/lib/python3.10/dist-packages/torch/nn/modules/loss.py:535: UserWarning:\n",
            "\n",
            "Using a target size (torch.Size([194, 1])) that is different to the input size (torch.Size([194, 64])). This will likely lead to incorrect results due to broadcasting. Please ensure they have the same size.\n",
            "\n",
            "/usr/local/lib/python3.10/dist-packages/torch/nn/modules/loss.py:535: UserWarning:\n",
            "\n",
            "Using a target size (torch.Size([43, 1])) that is different to the input size (torch.Size([43, 64])). This will likely lead to incorrect results due to broadcasting. Please ensure they have the same size.\n",
            "\n"
          ]
        },
        {
          "output_type": "stream",
          "name": "stdout",
          "text": [
            "Epoch 110, Loss: 16.0076961517334\n"
          ]
        },
        {
          "output_type": "stream",
          "name": "stderr",
          "text": [
            "/usr/local/lib/python3.10/dist-packages/torch/nn/modules/loss.py:535: UserWarning:\n",
            "\n",
            "Using a target size (torch.Size([45, 1])) that is different to the input size (torch.Size([45, 64])). This will likely lead to incorrect results due to broadcasting. Please ensure they have the same size.\n",
            "\n",
            "/usr/local/lib/python3.10/dist-packages/torch/nn/modules/loss.py:535: UserWarning:\n",
            "\n",
            "Using a target size (torch.Size([193, 1])) that is different to the input size (torch.Size([193, 64])). This will likely lead to incorrect results due to broadcasting. Please ensure they have the same size.\n",
            "\n",
            "/usr/local/lib/python3.10/dist-packages/torch/nn/modules/loss.py:535: UserWarning:\n",
            "\n",
            "Using a target size (torch.Size([195, 1])) that is different to the input size (torch.Size([195, 64])). This will likely lead to incorrect results due to broadcasting. Please ensure they have the same size.\n",
            "\n"
          ]
        },
        {
          "output_type": "stream",
          "name": "stdout",
          "text": [
            "Epoch 120, Loss: 8.265514373779297\n"
          ]
        },
        {
          "output_type": "stream",
          "name": "stderr",
          "text": [
            "/usr/local/lib/python3.10/dist-packages/torch/nn/modules/loss.py:535: UserWarning:\n",
            "\n",
            "Using a target size (torch.Size([210, 1])) that is different to the input size (torch.Size([210, 64])). This will likely lead to incorrect results due to broadcasting. Please ensure they have the same size.\n",
            "\n",
            "/usr/local/lib/python3.10/dist-packages/torch/nn/modules/loss.py:535: UserWarning:\n",
            "\n",
            "Using a target size (torch.Size([266, 1])) that is different to the input size (torch.Size([266, 64])). This will likely lead to incorrect results due to broadcasting. Please ensure they have the same size.\n",
            "\n",
            "/usr/local/lib/python3.10/dist-packages/torch/nn/modules/loss.py:535: UserWarning:\n",
            "\n",
            "Using a target size (torch.Size([186, 1])) that is different to the input size (torch.Size([186, 64])). This will likely lead to incorrect results due to broadcasting. Please ensure they have the same size.\n",
            "\n",
            "/usr/local/lib/python3.10/dist-packages/torch/nn/modules/loss.py:535: UserWarning:\n",
            "\n",
            "Using a target size (torch.Size([249, 1])) that is different to the input size (torch.Size([249, 64])). This will likely lead to incorrect results due to broadcasting. Please ensure they have the same size.\n",
            "\n",
            "/usr/local/lib/python3.10/dist-packages/torch/nn/modules/loss.py:535: UserWarning:\n",
            "\n",
            "Using a target size (torch.Size([198, 1])) that is different to the input size (torch.Size([198, 64])). This will likely lead to incorrect results due to broadcasting. Please ensure they have the same size.\n",
            "\n"
          ]
        },
        {
          "output_type": "stream",
          "name": "stdout",
          "text": [
            "Epoch 130, Loss: 12.50420888264974\n"
          ]
        },
        {
          "output_type": "stream",
          "name": "stderr",
          "text": [
            "/usr/local/lib/python3.10/dist-packages/torch/nn/modules/loss.py:535: UserWarning:\n",
            "\n",
            "Using a target size (torch.Size([256, 1])) that is different to the input size (torch.Size([256, 64])). This will likely lead to incorrect results due to broadcasting. Please ensure they have the same size.\n",
            "\n",
            "/usr/local/lib/python3.10/dist-packages/torch/nn/modules/loss.py:535: UserWarning:\n",
            "\n",
            "Using a target size (torch.Size([192, 1])) that is different to the input size (torch.Size([192, 64])). This will likely lead to incorrect results due to broadcasting. Please ensure they have the same size.\n",
            "\n"
          ]
        },
        {
          "output_type": "stream",
          "name": "stdout",
          "text": [
            "Epoch 140, Loss: 8.127440293629965\n",
            "Epoch 150, Loss: 14.27219533920288\n"
          ]
        },
        {
          "output_type": "stream",
          "name": "stderr",
          "text": [
            "/usr/local/lib/python3.10/dist-packages/torch/nn/modules/loss.py:535: UserWarning:\n",
            "\n",
            "Using a target size (torch.Size([36, 1])) that is different to the input size (torch.Size([36, 64])). This will likely lead to incorrect results due to broadcasting. Please ensure they have the same size.\n",
            "\n",
            "/usr/local/lib/python3.10/dist-packages/torch/nn/modules/loss.py:535: UserWarning:\n",
            "\n",
            "Using a target size (torch.Size([253, 1])) that is different to the input size (torch.Size([253, 64])). This will likely lead to incorrect results due to broadcasting. Please ensure they have the same size.\n",
            "\n",
            "/usr/local/lib/python3.10/dist-packages/torch/nn/modules/loss.py:535: UserWarning:\n",
            "\n",
            "Using a target size (torch.Size([191, 1])) that is different to the input size (torch.Size([191, 64])). This will likely lead to incorrect results due to broadcasting. Please ensure they have the same size.\n",
            "\n"
          ]
        },
        {
          "output_type": "stream",
          "name": "stdout",
          "text": [
            "Epoch 160, Loss: 9.186612129211426\n"
          ]
        },
        {
          "output_type": "stream",
          "name": "stderr",
          "text": [
            "/usr/local/lib/python3.10/dist-packages/torch/nn/modules/loss.py:535: UserWarning:\n",
            "\n",
            "Using a target size (torch.Size([255, 1])) that is different to the input size (torch.Size([255, 64])). This will likely lead to incorrect results due to broadcasting. Please ensure they have the same size.\n",
            "\n"
          ]
        },
        {
          "output_type": "stream",
          "name": "stdout",
          "text": [
            "Epoch 170, Loss: 15.742724418640137\n",
            "Epoch 180, Loss: 13.369520823160807\n",
            "Epoch 190, Loss: 13.248814900716146\n"
          ]
        },
        {
          "output_type": "stream",
          "name": "stderr",
          "text": [
            "/usr/local/lib/python3.10/dist-packages/torch/nn/modules/loss.py:535: UserWarning:\n",
            "\n",
            "Using a target size (torch.Size([49, 1])) that is different to the input size (torch.Size([49, 64])). This will likely lead to incorrect results due to broadcasting. Please ensure they have the same size.\n",
            "\n",
            "/usr/local/lib/python3.10/dist-packages/torch/nn/modules/loss.py:535: UserWarning:\n",
            "\n",
            "Using a target size (torch.Size([258, 1])) that is different to the input size (torch.Size([258, 64])). This will likely lead to incorrect results due to broadcasting. Please ensure they have the same size.\n",
            "\n",
            "/usr/local/lib/python3.10/dist-packages/torch/nn/modules/loss.py:535: UserWarning:\n",
            "\n",
            "Using a target size (torch.Size([187, 1])) that is different to the input size (torch.Size([187, 64])). This will likely lead to incorrect results due to broadcasting. Please ensure they have the same size.\n",
            "\n",
            "/usr/local/lib/python3.10/dist-packages/torch/nn/modules/loss.py:535: UserWarning:\n",
            "\n",
            "Using a target size (torch.Size([254, 1])) that is different to the input size (torch.Size([254, 64])). This will likely lead to incorrect results due to broadcasting. Please ensure they have the same size.\n",
            "\n"
          ]
        },
        {
          "output_type": "stream",
          "name": "stdout",
          "text": [
            "Epoch 200, Loss: 7.225000063578288\n",
            "Epoch 210, Loss: 11.148325602213541\n",
            "Epoch 220, Loss: 14.97766399383545\n"
          ]
        },
        {
          "output_type": "stream",
          "name": "stderr",
          "text": [
            "/usr/local/lib/python3.10/dist-packages/torch/nn/modules/loss.py:535: UserWarning:\n",
            "\n",
            "Using a target size (torch.Size([55, 1])) that is different to the input size (torch.Size([55, 64])). This will likely lead to incorrect results due to broadcasting. Please ensure they have the same size.\n",
            "\n"
          ]
        },
        {
          "output_type": "stream",
          "name": "stdout",
          "text": [
            "Epoch 230, Loss: 12.728734016418457\n",
            "Epoch 240, Loss: 8.596135139465332\n",
            "Epoch 250, Loss: 8.08429479598999\n",
            "Epoch 260, Loss: 5.8129456837972\n",
            "Epoch 270, Loss: 6.152946313222249\n",
            "Epoch 280, Loss: 6.262173652648926\n"
          ]
        },
        {
          "output_type": "stream",
          "name": "stderr",
          "text": [
            "/usr/local/lib/python3.10/dist-packages/torch/nn/modules/loss.py:535: UserWarning:\n",
            "\n",
            "Using a target size (torch.Size([263, 1])) that is different to the input size (torch.Size([263, 64])). This will likely lead to incorrect results due to broadcasting. Please ensure they have the same size.\n",
            "\n"
          ]
        },
        {
          "output_type": "stream",
          "name": "stdout",
          "text": [
            "Epoch 290, Loss: 13.34219249089559\n",
            "Epoch 300, Loss: 7.785292307535808\n",
            "Epoch 310, Loss: 7.63705317179362\n"
          ]
        },
        {
          "output_type": "stream",
          "name": "stderr",
          "text": [
            "/usr/local/lib/python3.10/dist-packages/torch/nn/modules/loss.py:535: UserWarning:\n",
            "\n",
            "Using a target size (torch.Size([264, 1])) that is different to the input size (torch.Size([264, 64])). This will likely lead to incorrect results due to broadcasting. Please ensure they have the same size.\n",
            "\n"
          ]
        },
        {
          "output_type": "stream",
          "name": "stdout",
          "text": [
            "Epoch 320, Loss: 17.22378969192505\n"
          ]
        },
        {
          "output_type": "stream",
          "name": "stderr",
          "text": [
            "/usr/local/lib/python3.10/dist-packages/torch/nn/modules/loss.py:535: UserWarning:\n",
            "\n",
            "Using a target size (torch.Size([185, 1])) that is different to the input size (torch.Size([185, 64])). This will likely lead to incorrect results due to broadcasting. Please ensure they have the same size.\n",
            "\n"
          ]
        },
        {
          "output_type": "stream",
          "name": "stdout",
          "text": [
            "Epoch 330, Loss: 16.745800971984863\n"
          ]
        },
        {
          "output_type": "stream",
          "name": "stderr",
          "text": [
            "/usr/local/lib/python3.10/dist-packages/torch/nn/modules/loss.py:535: UserWarning:\n",
            "\n",
            "Using a target size (torch.Size([181, 1])) that is different to the input size (torch.Size([181, 64])). This will likely lead to incorrect results due to broadcasting. Please ensure they have the same size.\n",
            "\n"
          ]
        },
        {
          "output_type": "stream",
          "name": "stdout",
          "text": [
            "Epoch 340, Loss: 17.966298421223957\n"
          ]
        },
        {
          "output_type": "stream",
          "name": "stderr",
          "text": [
            "/usr/local/lib/python3.10/dist-packages/torch/nn/modules/loss.py:535: UserWarning:\n",
            "\n",
            "Using a target size (torch.Size([50, 1])) that is different to the input size (torch.Size([50, 64])). This will likely lead to incorrect results due to broadcasting. Please ensure they have the same size.\n",
            "\n"
          ]
        },
        {
          "output_type": "stream",
          "name": "stdout",
          "text": [
            "Epoch 350, Loss: 7.386780738830566\n",
            "Epoch 360, Loss: 8.293287913004557\n",
            "Epoch 370, Loss: 6.789941469828288\n",
            "Epoch 380, Loss: 8.69987424214681\n",
            "Epoch 390, Loss: 5.102884928385417\n",
            "Epoch 400, Loss: 6.919582684834798\n"
          ]
        },
        {
          "output_type": "stream",
          "name": "stderr",
          "text": [
            "/usr/local/lib/python3.10/dist-packages/torch/nn/modules/loss.py:535: UserWarning:\n",
            "\n",
            "Using a target size (torch.Size([188, 1])) that is different to the input size (torch.Size([188, 64])). This will likely lead to incorrect results due to broadcasting. Please ensure they have the same size.\n",
            "\n"
          ]
        },
        {
          "output_type": "stream",
          "name": "stdout",
          "text": [
            "Epoch 410, Loss: 9.197216669718424\n",
            "Epoch 420, Loss: 6.0203291575113935\n"
          ]
        },
        {
          "output_type": "stream",
          "name": "stderr",
          "text": [
            "/usr/local/lib/python3.10/dist-packages/torch/nn/modules/loss.py:535: UserWarning:\n",
            "\n",
            "Using a target size (torch.Size([248, 1])) that is different to the input size (torch.Size([248, 64])). This will likely lead to incorrect results due to broadcasting. Please ensure they have the same size.\n",
            "\n",
            "/usr/local/lib/python3.10/dist-packages/torch/nn/modules/loss.py:535: UserWarning:\n",
            "\n",
            "Using a target size (torch.Size([259, 1])) that is different to the input size (torch.Size([259, 64])). This will likely lead to incorrect results due to broadcasting. Please ensure they have the same size.\n",
            "\n"
          ]
        },
        {
          "output_type": "stream",
          "name": "stdout",
          "text": [
            "Epoch 430, Loss: 12.054628054300943\n",
            "Epoch 440, Loss: 5.929083824157715\n"
          ]
        },
        {
          "output_type": "stream",
          "name": "stderr",
          "text": [
            "/usr/local/lib/python3.10/dist-packages/torch/nn/modules/loss.py:535: UserWarning:\n",
            "\n",
            "Using a target size (torch.Size([48, 1])) that is different to the input size (torch.Size([48, 64])). This will likely lead to incorrect results due to broadcasting. Please ensure they have the same size.\n",
            "\n"
          ]
        },
        {
          "output_type": "stream",
          "name": "stdout",
          "text": [
            "Epoch 450, Loss: 5.732085386912028\n",
            "Epoch 460, Loss: 8.964176019032797\n",
            "Epoch 470, Loss: 5.561441898345947\n",
            "Epoch 480, Loss: 5.579523245493571\n",
            "Epoch 490, Loss: 9.327970504760742\n"
          ]
        },
        {
          "output_type": "stream",
          "name": "stderr",
          "text": [
            "/usr/local/lib/python3.10/dist-packages/torch/nn/modules/loss.py:535: UserWarning:\n",
            "\n",
            "Using a target size (torch.Size([189, 1])) that is different to the input size (torch.Size([189, 64])). This will likely lead to incorrect results due to broadcasting. Please ensure they have the same size.\n",
            "\n"
          ]
        },
        {
          "output_type": "stream",
          "name": "stdout",
          "text": [
            "Epoch 500, Loss: 7.141731262207031\n",
            "Epoch 510, Loss: 6.858026504516602\n"
          ]
        },
        {
          "output_type": "stream",
          "name": "stderr",
          "text": [
            "/usr/local/lib/python3.10/dist-packages/torch/nn/modules/loss.py:535: UserWarning:\n",
            "\n",
            "Using a target size (torch.Size([260, 1])) that is different to the input size (torch.Size([260, 64])). This will likely lead to incorrect results due to broadcasting. Please ensure they have the same size.\n",
            "\n"
          ]
        },
        {
          "output_type": "stream",
          "name": "stdout",
          "text": [
            "Epoch 520, Loss: 5.524126688639323\n",
            "Epoch 530, Loss: 6.79522705078125\n"
          ]
        },
        {
          "output_type": "stream",
          "name": "stderr",
          "text": [
            "/usr/local/lib/python3.10/dist-packages/torch/nn/modules/loss.py:535: UserWarning:\n",
            "\n",
            "Using a target size (torch.Size([274, 1])) that is different to the input size (torch.Size([274, 64])). This will likely lead to incorrect results due to broadcasting. Please ensure they have the same size.\n",
            "\n",
            "/usr/local/lib/python3.10/dist-packages/torch/nn/modules/loss.py:535: UserWarning:\n",
            "\n",
            "Using a target size (torch.Size([179, 1])) that is different to the input size (torch.Size([179, 64])). This will likely lead to incorrect results due to broadcasting. Please ensure they have the same size.\n",
            "\n"
          ]
        },
        {
          "output_type": "stream",
          "name": "stdout",
          "text": [
            "Epoch 540, Loss: 10.655912240346273\n",
            "Epoch 550, Loss: 7.133974075317383\n",
            "Epoch 560, Loss: 4.816296259562175\n",
            "Epoch 570, Loss: 8.616084893544516\n",
            "Epoch 580, Loss: 5.527446587880452\n",
            "Epoch 590, Loss: 5.377522945404053\n",
            "Epoch 600, Loss: 12.363898913065592\n",
            "Epoch 610, Loss: 6.481583913167317\n",
            "Epoch 620, Loss: 4.6118753751118975\n",
            "Epoch 630, Loss: 5.587503115336101\n",
            "Epoch 640, Loss: 6.063945293426514\n",
            "Epoch 650, Loss: 10.700006167093912\n",
            "Epoch 660, Loss: 4.52450172106425\n",
            "Epoch 670, Loss: 6.5533435344696045\n",
            "Epoch 680, Loss: 4.113288799921672\n"
          ]
        },
        {
          "output_type": "stream",
          "name": "stderr",
          "text": [
            "/usr/local/lib/python3.10/dist-packages/torch/nn/modules/loss.py:535: UserWarning:\n",
            "\n",
            "Using a target size (torch.Size([269, 1])) that is different to the input size (torch.Size([269, 64])). This will likely lead to incorrect results due to broadcasting. Please ensure they have the same size.\n",
            "\n"
          ]
        },
        {
          "output_type": "stream",
          "name": "stdout",
          "text": [
            "Epoch 690, Loss: 7.579016049702962\n",
            "Epoch 700, Loss: 6.425912698109944\n",
            "Epoch 710, Loss: 5.073516686757405\n",
            "Epoch 720, Loss: 4.467288096745809\n",
            "Epoch 730, Loss: 5.240255514780681\n"
          ]
        },
        {
          "output_type": "stream",
          "name": "stderr",
          "text": [
            "/usr/local/lib/python3.10/dist-packages/torch/nn/modules/loss.py:535: UserWarning:\n",
            "\n",
            "Using a target size (torch.Size([268, 1])) that is different to the input size (torch.Size([268, 64])). This will likely lead to incorrect results due to broadcasting. Please ensure they have the same size.\n",
            "\n"
          ]
        },
        {
          "output_type": "stream",
          "name": "stdout",
          "text": [
            "Epoch 740, Loss: 6.486390431722005\n",
            "Epoch 750, Loss: 3.9456178347269693\n",
            "Epoch 760, Loss: 4.841179529825847\n",
            "Epoch 770, Loss: 5.165695031483968\n",
            "Epoch 780, Loss: 4.88743782043457\n",
            "Epoch 790, Loss: 9.611780246098837\n",
            "Epoch 800, Loss: 3.460081179936727\n",
            "Epoch 810, Loss: 5.0440296332041425\n",
            "Epoch 820, Loss: 5.2108809153238935\n",
            "Epoch 830, Loss: 3.6464993953704834\n",
            "Epoch 840, Loss: 3.8342676162719727\n",
            "Epoch 850, Loss: 3.347464402516683\n",
            "Epoch 860, Loss: 4.1963339646657305\n",
            "Epoch 870, Loss: 3.929246505101522\n",
            "Epoch 880, Loss: 4.445120811462402\n",
            "Epoch 890, Loss: 4.012089729309082\n",
            "Epoch 900, Loss: 3.628962993621826\n",
            "Epoch 910, Loss: 5.0979814529418945\n"
          ]
        },
        {
          "output_type": "stream",
          "name": "stderr",
          "text": [
            "/usr/local/lib/python3.10/dist-packages/torch/nn/modules/loss.py:535: UserWarning:\n",
            "\n",
            "Using a target size (torch.Size([53, 1])) that is different to the input size (torch.Size([53, 64])). This will likely lead to incorrect results due to broadcasting. Please ensure they have the same size.\n",
            "\n"
          ]
        },
        {
          "output_type": "stream",
          "name": "stdout",
          "text": [
            "Epoch 920, Loss: 4.2762627601623535\n",
            "Epoch 930, Loss: 2.814828316370646\n"
          ]
        },
        {
          "output_type": "stream",
          "name": "stderr",
          "text": [
            "/usr/local/lib/python3.10/dist-packages/torch/nn/modules/loss.py:535: UserWarning:\n",
            "\n",
            "Using a target size (torch.Size([272, 1])) that is different to the input size (torch.Size([272, 64])). This will likely lead to incorrect results due to broadcasting. Please ensure they have the same size.\n",
            "\n"
          ]
        },
        {
          "output_type": "stream",
          "name": "stdout",
          "text": [
            "Epoch 940, Loss: 2.6185452938079834\n",
            "Epoch 950, Loss: 4.053299347559611\n",
            "Epoch 960, Loss: 2.831301291783651\n",
            "Epoch 970, Loss: 3.7148247559865317\n",
            "Epoch 980, Loss: 3.1352707544962564\n",
            "Epoch 990, Loss: 2.829050143559774\n",
            "Epoch 1000, Loss: 3.081733226776123\n",
            "Epoch 1010, Loss: 2.253883202870687\n",
            "Epoch 1020, Loss: 2.2308369477589927\n",
            "Epoch 1030, Loss: 3.287049929300944\n",
            "Epoch 1040, Loss: 2.887331247329712\n",
            "Epoch 1050, Loss: 2.6878906885782876\n",
            "Epoch 1060, Loss: 2.748896519343058\n"
          ]
        },
        {
          "output_type": "stream",
          "name": "stderr",
          "text": [
            "/usr/local/lib/python3.10/dist-packages/torch/nn/modules/loss.py:535: UserWarning:\n",
            "\n",
            "Using a target size (torch.Size([183, 1])) that is different to the input size (torch.Size([183, 64])). This will likely lead to incorrect results due to broadcasting. Please ensure they have the same size.\n",
            "\n"
          ]
        },
        {
          "output_type": "stream",
          "name": "stdout",
          "text": [
            "Epoch 1070, Loss: 2.4814990361531577\n",
            "Epoch 1080, Loss: 2.1563851038614907\n",
            "Epoch 1090, Loss: 2.5296533902486167\n",
            "Epoch 1100, Loss: 2.282858371734619\n",
            "Epoch 1110, Loss: 2.1524195671081543\n",
            "Epoch 1120, Loss: 2.490468184153239\n",
            "Epoch 1130, Loss: 2.222184975941976\n",
            "Epoch 1140, Loss: 2.1606273651123047\n",
            "Epoch 1150, Loss: 2.2985075314839682\n",
            "Epoch 1160, Loss: 2.060397227605184\n",
            "Epoch 1170, Loss: 2.1418632666269937\n",
            "Epoch 1180, Loss: 2.114960193634033\n",
            "Epoch 1190, Loss: 2.059791167577108\n",
            "Epoch 1200, Loss: 2.074927568435669\n",
            "Epoch 1210, Loss: 2.0255820751190186\n",
            "Epoch 1220, Loss: 1.9968716700871785\n",
            "Epoch 1230, Loss: 2.071328639984131\n",
            "Epoch 1240, Loss: 2.008789340655009\n",
            "Epoch 1250, Loss: 1.9942965507507324\n",
            "Epoch 1260, Loss: 2.01377534866333\n",
            "Epoch 1270, Loss: 2.0529563426971436\n",
            "Epoch 1280, Loss: 2.040154973665873\n",
            "Epoch 1290, Loss: 2.044823169708252\n",
            "Epoch 1300, Loss: 2.0231420596440635\n",
            "Epoch 1310, Loss: 2.035458962122599\n",
            "Epoch 1320, Loss: 2.0459084510803223\n",
            "Epoch 1330, Loss: 2.0346455176671348\n",
            "Epoch 1340, Loss: 2.0870256423950195\n",
            "Epoch 1350, Loss: 2.0249209801355996\n",
            "Epoch 1360, Loss: 2.0304556687672934\n",
            "Epoch 1370, Loss: 2.0108087062835693\n",
            "Epoch 1380, Loss: 2.064825971921285\n",
            "Epoch 1390, Loss: 2.0246028900146484\n",
            "Epoch 1400, Loss: 2.0255349477132163\n",
            "Epoch 1410, Loss: 2.0369144280751548\n",
            "Epoch 1420, Loss: 2.1243139108022056\n",
            "Epoch 1430, Loss: 2.1270463466644287\n",
            "Epoch 1440, Loss: 2.058937748273214\n",
            "Epoch 1450, Loss: 2.099694530169169\n",
            "Epoch 1460, Loss: 2.058716615041097\n",
            "Epoch 1470, Loss: 1.9844645261764526\n",
            "Epoch 1480, Loss: 2.022263288497925\n",
            "Epoch 1490, Loss: 2.0099788506825766\n",
            "Epoch 1500, Loss: 2.0356831550598145\n"
          ]
        },
        {
          "output_type": "stream",
          "name": "stderr",
          "text": [
            "/usr/local/lib/python3.10/dist-packages/torch/nn/modules/loss.py:535: UserWarning:\n",
            "\n",
            "Using a target size (torch.Size([175, 1])) that is different to the input size (torch.Size([175, 64])). This will likely lead to incorrect results due to broadcasting. Please ensure they have the same size.\n",
            "\n",
            "/usr/local/lib/python3.10/dist-packages/torch/nn/modules/loss.py:535: UserWarning:\n",
            "\n",
            "Using a target size (torch.Size([172, 1])) that is different to the input size (torch.Size([172, 64])). This will likely lead to incorrect results due to broadcasting. Please ensure they have the same size.\n",
            "\n",
            "/usr/local/lib/python3.10/dist-packages/torch/nn/modules/loss.py:535: UserWarning:\n",
            "\n",
            "Using a target size (torch.Size([271, 1])) that is different to the input size (torch.Size([271, 64])). This will likely lead to incorrect results due to broadcasting. Please ensure they have the same size.\n",
            "\n"
          ]
        },
        {
          "output_type": "stream",
          "name": "stdout",
          "text": [
            "Epoch 1510, Loss: 2.0870211124420166\n",
            "Epoch 1520, Loss: 2.014110525449117\n",
            "Epoch 1530, Loss: 2.0216628313064575\n",
            "Epoch 1540, Loss: 2.0259200731913247\n",
            "Epoch 1550, Loss: 2.048696994781494\n",
            "Epoch 1560, Loss: 2.1818774143854776\n",
            "Epoch 1570, Loss: 1.9896570841471355\n",
            "Epoch 1580, Loss: 2.136410633722941\n",
            "Epoch 1590, Loss: 2.233964681625366\n",
            "Epoch 1600, Loss: 2.078770637512207\n",
            "Epoch 1610, Loss: 2.0411442120869956\n",
            "Epoch 1620, Loss: 2.0878215630849204\n",
            "Epoch 1630, Loss: 2.0446290969848633\n",
            "Epoch 1640, Loss: 2.339623212814331\n",
            "Epoch 1650, Loss: 2.158522129058838\n",
            "Epoch 1660, Loss: 2.111853917439779\n",
            "Epoch 1670, Loss: 2.165721575419108\n",
            "Epoch 1680, Loss: 2.03033447265625\n",
            "Epoch 1690, Loss: 2.06772788365682\n",
            "Epoch 1700, Loss: 2.103665590286255\n",
            "Epoch 1710, Loss: 1.9725677172342937\n",
            "Epoch 1720, Loss: 2.063175360361735\n",
            "Epoch 1730, Loss: 2.433592120806376\n",
            "Epoch 1740, Loss: 2.1427489121754966\n",
            "Epoch 1750, Loss: 2.045745611190796\n",
            "Epoch 1760, Loss: 2.543100039164225\n",
            "Epoch 1770, Loss: 2.4124279022216797\n",
            "Epoch 1780, Loss: 2.1328208446502686\n",
            "Epoch 1790, Loss: 2.1131710211435952\n",
            "Epoch 1800, Loss: 2.18668802579244\n",
            "Epoch 1810, Loss: 2.2139475345611572\n",
            "Epoch 1820, Loss: 2.160569508870443\n",
            "Epoch 1830, Loss: 2.152449607849121\n",
            "Epoch 1840, Loss: 1.980030616124471\n",
            "Epoch 1850, Loss: 2.142732620239258\n",
            "Epoch 1860, Loss: 2.1356253623962402\n",
            "Epoch 1870, Loss: 2.2102845509847007\n",
            "Epoch 1880, Loss: 2.264800786972046\n",
            "Epoch 1890, Loss: 2.3578165769577026\n",
            "Epoch 1900, Loss: 2.48321000734965\n",
            "Epoch 1910, Loss: 2.205435276031494\n",
            "Epoch 1920, Loss: 2.7297259171803794\n",
            "Epoch 1930, Loss: 2.176798423131307\n",
            "Epoch 1940, Loss: 2.0489402612050376\n",
            "Epoch 1950, Loss: 2.0366437435150146\n",
            "Epoch 1960, Loss: 2.0904887517293296\n",
            "Epoch 1970, Loss: 2.061830202738444\n",
            "Epoch 1980, Loss: 2.5524118741353354\n",
            "Epoch 1990, Loss: 2.489458958307902\n",
            "Epoch 2000, Loss: 2.2807153860727944\n"
          ]
        }
      ]
    },
    {
      "cell_type": "code",
      "source": [
        "graphvae\n"
      ],
      "metadata": {
        "id": "8nL2o594mgMw",
        "outputId": "1682e528-defd-4e93-c2ed-970e2efc7763",
        "colab": {
          "base_uri": "https://localhost:8080/"
        }
      },
      "execution_count": null,
      "outputs": [
        {
          "output_type": "execute_result",
          "data": {
            "text/plain": [
              "GraphVAE(\n",
              "  (encoder_convs): ModuleList(\n",
              "    (0): GCNConv(1, 64)\n",
              "    (1-4): 4 x GCNConv(64, 64)\n",
              "  )\n",
              "  (fc_mu): Linear(in_features=128, out_features=128, bias=True)\n",
              "  (fc_logvar): Linear(in_features=128, out_features=128, bias=True)\n",
              "  (decoder_fc1): Linear(in_features=128, out_features=64, bias=True)\n",
              "  (decoder_conv1): GCNConv(64, 64)\n",
              "  (decoder_conv2): GCNConv(64, 1)\n",
              ")"
            ]
          },
          "metadata": {},
          "execution_count": 11
        }
      ]
    },
    {
      "cell_type": "markdown",
      "source": [],
      "metadata": {
        "id": "k78OuJi-mfKx"
      }
    },
    {
      "cell_type": "code",
      "source": [
        "# Load the trained model\n",
        "def load_model(file_path, node_feature_dim, hidden_dim, latent_dim, num_hidden_layers):\n",
        "    model = GraphVAE(node_feature_dim=node_feature_dim, hidden_dim=hidden_dim, latent_dim=latent_dim, num_hidden_layers=num_hidden_layers)\n",
        "    model.load_state_dict(torch.load(file_path))\n",
        "    model.eval()\n",
        "    return model\n",
        "\n",
        "# Function to generate new molecules\n",
        "def generate_molecules(model, num_samples=10):\n",
        "    model.eval()\n",
        "    generated_smiles = []\n",
        "\n",
        "    with torch.no_grad():\n",
        "        for _ in range(num_samples):\n",
        "            z = torch.randn(1, model.fc_mu.out_features).to(device)\n",
        "            # Assuming a fixed number of nodes for simplicity\n",
        "            num_nodes = 30  # Adjust based on your data\n",
        "            edge_index = torch.tensor([[i, i+1] for i in range(num_nodes-1)] + [[i+1, i] for i in range(num_nodes-1)], dtype=torch.long).t().contiguous().to(device)\n",
        "            h = model.decode(z, num_nodes)\n",
        "            smiles = to_smiles(Data(x=h, edge_index=edge_index))\n",
        "            if Chem.MolFromSmiles(smiles):  # Validate SMILES\n",
        "                generated_smiles.append(smiles)\n",
        "\n",
        "    return generated_smiles\n",
        "\n",
        "# Load the trained model\n",
        "trained_model = load_model('best_graphvae_model.pth', node_feature_dim=1, hidden_dim=best_params['hidden_dim'], latent_dim=best_params['latent_dim'], num_hidden_layers=best_params['num_hidden_layers']).to(device)\n",
        "\n",
        "# Generate new molecules\n",
        "new_smiles = generate_molecules(trained_model)\n",
        "print(\"Generated SMILES:\")\n",
        "for smiles in new_smiles:\n",
        "    print(smiles)\n",
        "\n",
        "# Write the generated SMILES to a new file\n",
        "output_file = 'generated_smiles.txt'\n",
        "with open(output_file, 'w') as f:\n",
        "    for smiles in new_smiles:\n",
        "        f.write(smiles + '\\n')\n"
      ],
      "metadata": {
        "id": "ifPq3Q94U1vC"
      },
      "execution_count": null,
      "outputs": []
    },
    {
      "cell_type": "markdown",
      "source": [
        "Generate new molecules"
      ],
      "metadata": {
        "id": "JH4a2qdt2Zl6"
      }
    }
  ]
}